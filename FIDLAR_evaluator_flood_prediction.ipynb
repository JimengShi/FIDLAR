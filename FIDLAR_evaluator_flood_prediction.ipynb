{
 "cells": [
  {
   "cell_type": "code",
   "execution_count": 28,
   "id": "3f47fa9d",
   "metadata": {},
   "outputs": [],
   "source": [
    "import pandas as pd\n",
    "import numpy as np\n",
    "import matplotlib.pyplot as plt\n",
    "\n",
    "from spektral.layers import GCNConv\n",
    "from math import sqrt\n",
    "from tensorflow import keras\n",
    "from sklearn.metrics import mean_squared_error as mse\n",
    "from sklearn.metrics import mean_absolute_error as mae\n",
    "from tensorflow.keras.models import load_model\n",
    "from tensorflow.keras.layers import *\n",
    "from tensorflow.keras.models import *\n",
    "from tensorflow.keras.optimizers import *\n",
    "from tensorflow.keras.callbacks import *\n",
    "\n",
    "from postprocess.threshold import flood_threshold, drought_threshold, flood_threshold_t1, drought_threshold_t1\n",
    "from preprocess.GraphTransformerPrerocess import graph_water_transformer_cov_process_1\n",
    "from preprocess.graph import graph_topology_5_1"
   ]
  },
  {
   "cell_type": "code",
   "execution_count": 17,
   "id": "0092be29",
   "metadata": {},
   "outputs": [],
   "source": [
    "import os\n",
    "os.environ[\"CUDA_VISIBLE_DEVICES\"] = \"0\""
   ]
  },
  {
   "cell_type": "markdown",
   "id": "f9b08072",
   "metadata": {},
   "source": [
    "### Parameters"
   ]
  },
  {
   "cell_type": "code",
   "execution_count": 18,
   "id": "c1e14ca0",
   "metadata": {},
   "outputs": [],
   "source": [
    "# ====== preprocessing parameters ======\n",
    "n_hours = 72\n",
    "K = 24 \n",
    "masked_value = 1e-10\n",
    "split_1 = 0.8\n",
    "split_2 = 0.9\n",
    "sigma2 = 0.1\n",
    "epsilon = 0.5"
   ]
  },
  {
   "cell_type": "markdown",
   "id": "62b6b865",
   "metadata": {},
   "source": [
    "### Preprocess"
   ]
  },
  {
   "cell_type": "code",
   "execution_count": 19,
   "id": "b444521c",
   "metadata": {},
   "outputs": [
    {
     "name": "stdout",
     "output_type": "stream",
     "text": [
      "Index(['WS_S1', 'WS_S4', 'FLOW_S25A', 'GATE_S25A', 'HWS_S25A', 'TWS_S25A',\n",
      "       'FLOW_S25B', 'GATE_S25B', 'GATE_S25B2', 'HWS_S25B', 'TWS_S25B',\n",
      "       'PUMP_S25B', 'FLOW_S26', 'GATE_S26_1', 'GATE_S26_2', 'HWS_S26',\n",
      "       'TWS_S26', 'PUMP_S26', 'MEAN_RAIN'],\n",
      "      dtype='object')\n"
     ]
    }
   ],
   "source": [
    "train_cov, val_cov, test_cov, \\\n",
    "train_tws_reshape, val_tws_reshape, test_tws_reshape, \\\n",
    "train_ws_y, val_ws_y, test_ws_y, \\\n",
    "scaler, ws_scaler = graph_water_transformer_cov_process_1(n_hours, K, masked_value, split_1, split_2)"
   ]
  },
  {
   "cell_type": "code",
   "execution_count": 20,
   "id": "85e89a86",
   "metadata": {},
   "outputs": [
    {
     "name": "stdout",
     "output_type": "stream",
     "text": [
      "(77069, 96, 12) (9634, 96, 12) (19268, 96, 12) (77069, 5, 72) (9634, 5, 72) (19268, 5, 72) (77069, 96) (9634, 96) (19268, 96)\n"
     ]
    }
   ],
   "source": [
    "print(train_cov.shape, val_cov.shape, test_cov.shape, \n",
    "train_tws_reshape.shape, val_tws_reshape.shape, test_tws_reshape.shape, \\\n",
    "train_ws_y.shape, val_ws_y.shape, test_ws_y.shape)"
   ]
  },
  {
   "cell_type": "markdown",
   "id": "90b73f97",
   "metadata": {},
   "source": [
    "### Graph topology"
   ]
  },
  {
   "cell_type": "code",
   "execution_count": 21,
   "id": "3d8a9706",
   "metadata": {},
   "outputs": [
    {
     "name": "stdout",
     "output_type": "stream",
     "text": [
      "node_indices: [0 0 0 0 1 1 2 2 3 3 4 4] \n",
      "neighbor_indices: [1 2 3 4 0 2 0 1 0 4 0 3]\n",
      "number of nodes: 5, number of edges: 12\n"
     ]
    }
   ],
   "source": [
    "train_adj_mat, val_adj_mat, test_adj_mat = graph_topology_5_1(n_hours, K, sigma2, epsilon, len(train_ws_y), len(val_ws_y), len(test_ws_y))"
   ]
  },
  {
   "cell_type": "markdown",
   "id": "8003a2dc",
   "metadata": {},
   "source": [
    "### Model"
   ]
  },
  {
   "cell_type": "code",
   "execution_count": 36,
   "id": "c60c3dba",
   "metadata": {
    "scrolled": true
   },
   "outputs": [
    {
     "name": "stdout",
     "output_type": "stream",
     "text": [
      "WARNING:tensorflow:Layer LSTM will not use cuDNN kernels since it doesn't meet the criteria. It will use a generic GPU kernel as fallback when running on GPU.\n",
      "603/603 [==============================] - 2s 3ms/step\n",
      "inv_y.shape, inv_yhat.shape (19268, 96) (19268, 96)\n",
      "inv_y_reshape.shape, inv_yhat_reshape.shape (19268, 24, 4) (19268, 24, 4)\n"
     ]
    }
   ],
   "source": [
    "saved_model = load_model('saved_models/WaLeF_gtn_p.h5', custom_objects={'GCNConv': GCNConv})\n",
    "\n",
    "yhat = saved_model.predict([test_cov, test_tws_reshape, test_adj_mat])\n",
    "\n",
    "inv_yhat = ws_scaler.inverse_transform(yhat)\n",
    "inv_y = ws_scaler.inverse_transform(test_ws_y)\n",
    "print(\"inv_y.shape, inv_yhat.shape\", inv_y.shape, inv_yhat.shape)\n",
    "\n",
    "\n",
    "# compute time steps and areas over and under thresholds\n",
    "inv_yhat_reshape = inv_yhat.reshape((-1, 24, 4))\n",
    "inv_y_reshape = inv_y.reshape((-1, 24, 4))\n",
    "print(\"inv_y_reshape.shape, inv_yhat_reshape.shape\", inv_y_reshape.shape, inv_yhat_reshape.shape)"
   ]
  },
  {
   "cell_type": "markdown",
   "id": "4db95949",
   "metadata": {},
   "source": [
    "### Performance"
   ]
  },
  {
   "cell_type": "code",
   "execution_count": 37,
   "id": "f1710994",
   "metadata": {},
   "outputs": [
    {
     "name": "stdout",
     "output_type": "stream",
     "text": [
      "MAE = 0.0373\n",
      "RMSE = 0.0533\n",
      "S1, S25A, S25B, S26 time steps: 89, 93, 111, 133\n",
      "S1, S25A, S25B, S26 areas: 12.6076, 13.8272, 17, 22.523\n",
      "TOTAL time steps: 426; TOTAL areas: 65.6809\n",
      "--------------------------------------------------\n",
      "Over thresholds: None\n",
      "S1, S25A, S25B, S26 time steps: 1354, 1359, 1238, 1417\n",
      "S1, S25A, S25B, S26 areas: -390.4474, -376.9404, -339.7464, -416.1338:\n",
      "TOTAL time steps: 5368; TOTAL areas: -1523.2681\n",
      "--------------------------------------------------\n",
      "Under thresholds: None\n"
     ]
    }
   ],
   "source": [
    "print('MAE = {}'.format(float(\"{:.4f}\".format(mae(inv_y[:, 0], inv_yhat[:, 0])))))\n",
    "print('RMSE = {}'.format(float(\"{:.4f}\".format(sqrt(mse(inv_y[:, 0], inv_yhat[:, 0]))))))\n",
    "\n",
    "\n",
    "t1 = 1\n",
    "upper_threshold = 3.5\n",
    "lower_threshold = 0\n",
    "print(\"Over thresholds:\", flood_threshold_t1(inv_yhat_reshape, t1, upper_threshold))\n",
    "print(\"Under thresholds:\", drought_threshold_t1(inv_yhat_reshape, t1, lower_threshold))"
   ]
  },
  {
   "cell_type": "code",
   "execution_count": null,
   "id": "a774152c",
   "metadata": {},
   "outputs": [],
   "source": []
  },
  {
   "cell_type": "code",
   "execution_count": null,
   "id": "6c9d0f80",
   "metadata": {},
   "outputs": [],
   "source": []
  }
 ],
 "metadata": {
  "kernelspec": {
   "display_name": "Python 3 (ipykernel)",
   "language": "python",
   "name": "python3"
  },
  "language_info": {
   "codemirror_mode": {
    "name": "ipython",
    "version": 3
   },
   "file_extension": ".py",
   "mimetype": "text/x-python",
   "name": "python",
   "nbconvert_exporter": "python",
   "pygments_lexer": "ipython3",
   "version": "3.10.12"
  }
 },
 "nbformat": 4,
 "nbformat_minor": 5
}
