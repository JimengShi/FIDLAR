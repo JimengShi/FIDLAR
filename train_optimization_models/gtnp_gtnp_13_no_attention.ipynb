{
 "cells": [
  {
   "cell_type": "code",
   "execution_count": 1,
   "id": "efa98cb4",
   "metadata": {},
   "outputs": [
    {
     "name": "stderr",
     "output_type": "stream",
     "text": [
      "2023-08-12 12:35:18.331722: I tensorflow/core/platform/cpu_feature_guard.cc:182] This TensorFlow binary is optimized to use available CPU instructions in performance-critical operations.\n",
      "To enable the following instructions: AVX2 FMA, in other operations, rebuild TensorFlow with the appropriate compiler flags.\n",
      "2023-08-12 12:35:19.872327: W tensorflow/compiler/tf2tensorrt/utils/py_utils.cc:38] TF-TRT Warning: Could not find TensorRT\n"
     ]
    },
    {
     "name": "stdout",
     "output_type": "stream",
     "text": [
      "0.5714025946899135\n"
     ]
    }
   ],
   "source": [
    "import sys\n",
    "import os\n",
    "\n",
    "current_directory = os.getcwd()        \n",
    "parent_directory = os.path.dirname(current_directory)\n",
    "sys.path.append(parent_directory)\n",
    "\n",
    "\n",
    "from preprocess.graph import graph_topology_5\n",
    "from preprocess.GraphTransformerPrerocess import graph_water_transformer_cov_process_for_gate_predictor\n",
    "from models.graph_water_transformer_cov_no_attention import graph_water_transformer_cov_gate_predictor_no_attention\n",
    "\n",
    "from losses.loss import gate_loss, water_level_threshold\n",
    "from tensorflow.keras.models import load_model\n",
    "from tensorflow import keras\n",
    "from tensorflow.keras import Input, Model\n",
    "from tensorflow.keras import layers\n",
    "from tensorflow.keras.optimizers import Adam\n",
    "from tensorflow.keras.callbacks import EarlyStopping\n",
    "from tensorflow.keras.callbacks import ModelCheckpoint\n",
    "\n",
    "import matplotlib.pyplot as plt\n",
    "import pandas as pd\n",
    "import numpy as np\n",
    "\n",
    "from postprocess.threshold import flood_threshold, drought_threshold, flood_threshold_t1, drought_threshold_t1\n",
    "\n",
    "\n",
    "import random\n",
    "\n",
    "random.seed(10)\n",
    "print(random.random())"
   ]
  },
  {
   "cell_type": "code",
   "execution_count": 2,
   "id": "0092be29",
   "metadata": {},
   "outputs": [],
   "source": [
    "os.environ[\"CUDA_VISIBLE_DEVICES\"] = \"4\""
   ]
  },
  {
   "cell_type": "code",
   "execution_count": 3,
   "id": "04b8077a",
   "metadata": {},
   "outputs": [],
   "source": [
    "n_hours = 72\n",
    "K = 24 \n",
    "masked_value = 1e-10\n",
    "split_1 = 0.8\n",
    "split_2 = 0.9\n",
    "sigma2 = 0.1\n",
    "epsilon = 0.5"
   ]
  },
  {
   "cell_type": "code",
   "execution_count": 4,
   "id": "d43bd0cd",
   "metadata": {},
   "outputs": [
    {
     "name": "stdout",
     "output_type": "stream",
     "text": [
      "Index(['WS_S1', 'WS_S4', 'FLOW_S25A', 'GATE_S25A', 'HWS_S25A', 'TWS_S25A',\n",
      "       'FLOW_S25B', 'GATE_S25B', 'GATE_S25B2', 'HWS_S25B', 'TWS_S25B',\n",
      "       'PUMP_S25B', 'FLOW_S26', 'GATE_S26_1', 'GATE_S26_2', 'HWS_S26',\n",
      "       'TWS_S26', 'PUMP_S26', 'MEAN_RAIN'],\n",
      "      dtype='object')\n",
      "train_tws/val_tws/test_tws: (77069, 5, 72) (9634, 5, 72) (19268, 5, 72) \n",
      " train_cov/val_cov/test_cov: (77069, 96, 12) (9634, 96, 12) (19268, 96, 12) \n",
      " train_ws_y/val_ws_y/test_ws_y: (77069, 96) (9634, 96) (19268, 96) \n",
      "  train_gate_pump_y/val_gate_pump_y/test_gate_pump_y: (77069, 24, 7) (9634, 24, 7) (19268, 24, 7)\n"
     ]
    }
   ],
   "source": [
    "train_cov, val_cov, test_cov, \\\n",
    "train_tws_reshape, val_tws_reshape, test_tws_reshape, \\\n",
    "train_gate_pump_y, val_gate_pump_y, test_gate_pump_y, \\\n",
    "train_ws_y, val_ws_y, test_ws_y, \\\n",
    "scaler, ws_scaler, gate_scalar = graph_water_transformer_cov_process_for_gate_predictor(n_hours, K, masked_value, split_1, split_2)"
   ]
  },
  {
   "cell_type": "markdown",
   "id": "265ed7ff",
   "metadata": {},
   "source": [
    "### Graph topology"
   ]
  },
  {
   "cell_type": "code",
   "execution_count": 5,
   "id": "98e803d1",
   "metadata": {},
   "outputs": [
    {
     "name": "stdout",
     "output_type": "stream",
     "text": [
      "node_indices: [0 0 0 0 1 1 2 2 3 3 4 4] \n",
      "neighbor_indices: [1 2 3 4 0 2 0 1 0 4 0 3]\n",
      "number of nodes: 5, number of edges: 12\n"
     ]
    }
   ],
   "source": [
    "train_adj_mat, val_adj_mat, test_adj_mat = graph_topology_5(n_hours, K, sigma2, epsilon, len(train_ws_y), len(val_ws_y), len(test_ws_y))"
   ]
  },
  {
   "cell_type": "markdown",
   "id": "8003a2dc",
   "metadata": {},
   "source": [
    "### Model"
   ]
  },
  {
   "cell_type": "markdown",
   "id": "4861afcd",
   "metadata": {},
   "source": [
    "#### Gate & pump predictor"
   ]
  },
  {
   "cell_type": "code",
   "execution_count": 6,
   "id": "cdfb0ee5",
   "metadata": {},
   "outputs": [],
   "source": [
    "# ===== model parameters ======\n",
    "head_size = 96*2\n",
    "num_heads = 3\n",
    "ff_dim = 96\n",
    "num_transformer_blocks = 1\n",
    "dropout = 0.5\n",
    "atte_reg = 1e-2\n",
    "l1_reg = 1e-5\n",
    "l2_reg = 1e-5\n",
    "gcn_unit1 = 32\n",
    "gcn_unit2 = 16\n",
    "lstm_units = 32\n",
    "gate_min = 0.0\n",
    "gate_max = 1.0\n",
    "\n",
    "learning_rate = 3e-3\n",
    "decay_steps = 10000\n",
    "decay_rate = 0.95\n",
    "PATIENCE = 100\n",
    "EPOCHS = 700\n",
    "BATCH = 512"
   ]
  },
  {
   "cell_type": "code",
   "execution_count": 7,
   "id": "9ace5898",
   "metadata": {},
   "outputs": [],
   "source": [
    "input_shape = train_cov.shape[1:]"
   ]
  },
  {
   "cell_type": "code",
   "execution_count": 11,
   "id": "109abeeb",
   "metadata": {
    "scrolled": false
   },
   "outputs": [
    {
     "name": "stdout",
     "output_type": "stream",
     "text": [
      "WARNING:tensorflow:Layer LSTM will not use cuDNN kernels since it doesn't meet the criteria. It will use a generic GPU kernel as fallback when running on GPU.\n"
     ]
    }
   ],
   "source": [
    "gate_predictor, GCNConv = graph_water_transformer_cov_gate_predictor_no_attention(input_shape=input_shape,\n",
    "                                                                       gcn1=gcn_unit1,\n",
    "                                                                       gcn2=gcn_unit2,\n",
    "                                                                       lstm_unit=lstm_units, \n",
    "                                                                       num_transformer_blocks=num_transformer_blocks,\n",
    "                                                                       head_size=head_size,\n",
    "                                                                       num_heads=num_heads,\n",
    "                                                                       ff_dim=ff_dim, \n",
    "                                                                       atte_reg=atte_reg, \n",
    "                                                                       l1_reg=l1_reg, \n",
    "                                                                       l2_reg=l2_reg, \n",
    "                                                                       dropout=dropout,\n",
    "                                                                       masked_value=masked_value,\n",
    "                                                                       gate_min=gate_min,\n",
    "                                                                       gate_max=gate_max\n",
    "                                                                      )\n",
    "gate_predictor._name = \"gate_predictor\"\n",
    "# gate_predictor.summary()"
   ]
  },
  {
   "cell_type": "code",
   "execution_count": 12,
   "id": "7023c4a6",
   "metadata": {},
   "outputs": [],
   "source": [
    "gate_predictor.compile(optimizer='adam', loss='mse')"
   ]
  },
  {
   "cell_type": "markdown",
   "id": "1fab7c93",
   "metadata": {},
   "source": [
    "#### water stage predictor"
   ]
  },
  {
   "cell_type": "code",
   "execution_count": 13,
   "id": "c8002ff9",
   "metadata": {
    "scrolled": true
   },
   "outputs": [
    {
     "name": "stdout",
     "output_type": "stream",
     "text": [
      "WARNING:tensorflow:Layer LSTM will not use cuDNN kernels since it doesn't meet the criteria. It will use a generic GPU kernel as fallback when running on GPU.\n"
     ]
    }
   ],
   "source": [
    "ws_predictor = load_model('../saved_models/WaLeF_gtn_p.h5', custom_objects={'GCNConv': GCNConv})\n",
    "\n",
    "for layer in ws_predictor.layers:\n",
    "    layer.trainable = False\n",
    "\n",
    "ws_predictor._name = 'ws_predictor'    \n",
    "# ws_predictor.summary()"
   ]
  },
  {
   "cell_type": "markdown",
   "id": "733bce1a",
   "metadata": {},
   "source": [
    "#### Combine gate_predictor and trained ws_predictor"
   ]
  },
  {
   "cell_type": "code",
   "execution_count": 14,
   "id": "850a59ca",
   "metadata": {
    "scrolled": false
   },
   "outputs": [],
   "source": [
    "inputs_cov = Input(shape=(96, 12), name='input_cov')\n",
    "inputs_tws = Input(shape=(5, 72), name='input_tws')\n",
    "inputs_adj = Input(shape=(5, 5), name='input_adj')\n",
    "\n",
    "# ================ gate_predictor ================\n",
    "gate_predictor_output = gate_predictor([inputs_cov, inputs_tws, inputs_adj])  # 24*7\n",
    "\n",
    "\n",
    "# ============  future inputs with replaced gate & pump prediction ============\n",
    "replaced_future_gate_pump = layers.Concatenate(axis=-1)([inputs_cov[:, n_hours:, :2], \n",
    "                                                         gate_predictor_output, \n",
    "                                                         inputs_cov[:, n_hours:, 9:]\n",
    "                                                        ]\n",
    "                                                       )\n",
    "\n",
    "# ============ original past inputs + future inputs with replaced gate & pump prediction ============\n",
    "merged_inputs_cov = layers.Concatenate(axis=1)([inputs_cov[:, :n_hours, :], replaced_future_gate_pump])\n",
    "\n",
    "ws_predictor_output = ws_predictor([merged_inputs_cov, inputs_tws, inputs_adj])\n",
    "\n",
    "filda = Model(inputs=[inputs_cov, inputs_tws, inputs_adj], outputs=[gate_predictor_output, ws_predictor_output], name='filda')\n",
    "# filda.summary()"
   ]
  },
  {
   "cell_type": "code",
   "execution_count": 15,
   "id": "cf907f2c",
   "metadata": {
    "scrolled": true
   },
   "outputs": [
    {
     "name": "stdout",
     "output_type": "stream",
     "text": [
      "Epoch 1/700\n"
     ]
    },
    {
     "name": "stderr",
     "output_type": "stream",
     "text": [
      "2023-08-12 12:36:06.720853: I tensorflow/compiler/xla/stream_executor/cuda/cuda_dnn.cc:432] Loaded cuDNN version 8600\n",
      "2023-08-12 12:36:08.149786: I tensorflow/compiler/xla/service/service.cc:168] XLA service 0x7f8a21ee07c0 initialized for platform CUDA (this does not guarantee that XLA will be used). Devices:\n",
      "2023-08-12 12:36:08.149841: I tensorflow/compiler/xla/service/service.cc:176]   StreamExecutor device (0): NVIDIA GeForce GTX 1080 Ti, Compute Capability 6.1\n",
      "2023-08-12 12:36:08.159508: I tensorflow/compiler/mlir/tensorflow/utils/dump_mlir_util.cc:255] disabling MLIR crash reproducer, set env var `MLIR_CRASH_REPRODUCER_DIRECTORY` to enable.\n",
      "2023-08-12 12:36:08.572168: I ./tensorflow/compiler/jit/device_compiler.h:186] Compiled cluster using XLA!  This line is logged at most once for the lifetime of the process.\n"
     ]
    },
    {
     "name": "stdout",
     "output_type": "stream",
     "text": [
      "\n",
      "Epoch 1: val_ws_predictor_loss improved from inf to 2.28132, saving model to ../saved_models/gtnp_gtnp_13_no_attention.h5\n",
      "151/151 - 33s - loss: 0.4829 - gate_predictor_loss: 0.0000e+00 - ws_predictor_loss: 0.2288 - val_loss: 4.5662 - val_gate_predictor_loss: 0.0000e+00 - val_ws_predictor_loss: 2.2813 - 33s/epoch - 216ms/step\n",
      "Epoch 2/700\n"
     ]
    },
    {
     "name": "stderr",
     "output_type": "stream",
     "text": [
      "/aul/homes/jshi008/miniconda3/envs/tf213/lib/python3.10/site-packages/keras/src/engine/training.py:3000: UserWarning: You are saving your model as an HDF5 file via `model.save()`. This file format is considered legacy. We recommend using instead the native Keras format, e.g. `model.save('my_model.keras')`.\n",
      "  saving_api.save_model(\n"
     ]
    },
    {
     "name": "stdout",
     "output_type": "stream",
     "text": [
      "\n",
      "Epoch 2: val_ws_predictor_loss improved from 2.28132 to 2.03864, saving model to ../saved_models/gtnp_gtnp_13_no_attention.h5\n",
      "151/151 - 13s - loss: 0.4414 - gate_predictor_loss: 0.0000e+00 - ws_predictor_loss: 0.2191 - val_loss: 4.0801 - val_gate_predictor_loss: 0.0000e+00 - val_ws_predictor_loss: 2.0386 - 13s/epoch - 89ms/step\n",
      "Epoch 3/700\n",
      "\n",
      "Epoch 3: val_ws_predictor_loss improved from 2.03864 to 1.86218, saving model to ../saved_models/gtnp_gtnp_13_no_attention.h5\n",
      "151/151 - 13s - loss: 0.4196 - gate_predictor_loss: 0.0000e+00 - ws_predictor_loss: 0.2084 - val_loss: 3.7268 - val_gate_predictor_loss: 0.0000e+00 - val_ws_predictor_loss: 1.8622 - 13s/epoch - 89ms/step\n",
      "Epoch 4/700\n",
      "\n",
      "Epoch 4: val_ws_predictor_loss improved from 1.86218 to 1.73252, saving model to ../saved_models/gtnp_gtnp_13_no_attention.h5\n",
      "151/151 - 13s - loss: 0.4087 - gate_predictor_loss: 0.0000e+00 - ws_predictor_loss: 0.2032 - val_loss: 3.4671 - val_gate_predictor_loss: 0.0000e+00 - val_ws_predictor_loss: 1.7325 - 13s/epoch - 89ms/step\n",
      "Epoch 5/700\n",
      "\n",
      "Epoch 5: val_ws_predictor_loss improved from 1.73252 to 1.61278, saving model to ../saved_models/gtnp_gtnp_13_no_attention.h5\n",
      "151/151 - 13s - loss: 0.4021 - gate_predictor_loss: 0.0000e+00 - ws_predictor_loss: 0.2001 - val_loss: 3.2273 - val_gate_predictor_loss: 0.0000e+00 - val_ws_predictor_loss: 1.6128 - 13s/epoch - 89ms/step\n",
      "Epoch 6/700\n",
      "\n",
      "Epoch 6: val_ws_predictor_loss improved from 1.61278 to 1.54554, saving model to ../saved_models/gtnp_gtnp_13_no_attention.h5\n",
      "151/151 - 13s - loss: 0.3971 - gate_predictor_loss: 0.0000e+00 - ws_predictor_loss: 0.1977 - val_loss: 3.0926 - val_gate_predictor_loss: 0.0000e+00 - val_ws_predictor_loss: 1.5455 - 13s/epoch - 88ms/step\n",
      "Epoch 7/700\n",
      "\n",
      "Epoch 7: val_ws_predictor_loss improved from 1.54554 to 1.52365, saving model to ../saved_models/gtnp_gtnp_13_no_attention.h5\n",
      "151/151 - 13s - loss: 0.3934 - gate_predictor_loss: 0.0000e+00 - ws_predictor_loss: 0.1960 - val_loss: 3.0486 - val_gate_predictor_loss: 0.0000e+00 - val_ws_predictor_loss: 1.5237 - 13s/epoch - 89ms/step\n",
      "Epoch 8/700\n",
      "\n",
      "Epoch 8: val_ws_predictor_loss improved from 1.52365 to 1.51533, saving model to ../saved_models/gtnp_gtnp_13_no_attention.h5\n",
      "151/151 - 13s - loss: 0.3917 - gate_predictor_loss: 0.0000e+00 - ws_predictor_loss: 0.1952 - val_loss: 3.0318 - val_gate_predictor_loss: 0.0000e+00 - val_ws_predictor_loss: 1.5153 - 13s/epoch - 89ms/step\n",
      "Epoch 9/700\n",
      "\n",
      "Epoch 9: val_ws_predictor_loss did not improve from 1.51533\n",
      "151/151 - 13s - loss: 0.3910 - gate_predictor_loss: 0.0000e+00 - ws_predictor_loss: 0.1950 - val_loss: 3.0490 - val_gate_predictor_loss: 0.0000e+00 - val_ws_predictor_loss: 1.5240 - 13s/epoch - 88ms/step\n",
      "Epoch 10/700\n",
      "\n",
      "Epoch 10: val_ws_predictor_loss improved from 1.51533 to 1.51197, saving model to ../saved_models/gtnp_gtnp_13_no_attention.h5\n",
      "151/151 - 13s - loss: 0.3903 - gate_predictor_loss: 0.0000e+00 - ws_predictor_loss: 0.1947 - val_loss: 3.0248 - val_gate_predictor_loss: 0.0000e+00 - val_ws_predictor_loss: 1.5120 - 13s/epoch - 88ms/step\n",
      "Epoch 11/700\n",
      "\n",
      "Epoch 11: val_ws_predictor_loss improved from 1.51197 to 1.50601, saving model to ../saved_models/gtnp_gtnp_13_no_attention.h5\n",
      "151/151 - 13s - loss: 0.3897 - gate_predictor_loss: 0.0000e+00 - ws_predictor_loss: 0.1944 - val_loss: 3.0128 - val_gate_predictor_loss: 0.0000e+00 - val_ws_predictor_loss: 1.5060 - 13s/epoch - 88ms/step\n",
      "Epoch 12/700\n",
      "\n",
      "Epoch 12: val_ws_predictor_loss improved from 1.50601 to 1.50351, saving model to ../saved_models/gtnp_gtnp_13_no_attention.h5\n",
      "151/151 - 13s - loss: 0.3893 - gate_predictor_loss: 0.0000e+00 - ws_predictor_loss: 0.1943 - val_loss: 3.0077 - val_gate_predictor_loss: 0.0000e+00 - val_ws_predictor_loss: 1.5035 - 13s/epoch - 89ms/step\n",
      "Epoch 13/700\n",
      "\n",
      "Epoch 13: val_ws_predictor_loss improved from 1.50351 to 1.50257, saving model to ../saved_models/gtnp_gtnp_13_no_attention.h5\n",
      "151/151 - 13s - loss: 0.3892 - gate_predictor_loss: 0.0000e+00 - ws_predictor_loss: 0.1943 - val_loss: 3.0057 - val_gate_predictor_loss: 0.0000e+00 - val_ws_predictor_loss: 1.5026 - 13s/epoch - 88ms/step\n",
      "Epoch 14/700\n",
      "\n",
      "Epoch 14: val_ws_predictor_loss did not improve from 1.50257\n",
      "151/151 - 13s - loss: 0.3888 - gate_predictor_loss: 0.0000e+00 - ws_predictor_loss: 0.1941 - val_loss: 3.0122 - val_gate_predictor_loss: 0.0000e+00 - val_ws_predictor_loss: 1.5058 - 13s/epoch - 87ms/step\n",
      "Epoch 15/700\n",
      "\n",
      "Epoch 15: val_ws_predictor_loss did not improve from 1.50257\n",
      "151/151 - 13s - loss: 0.3886 - gate_predictor_loss: 0.0000e+00 - ws_predictor_loss: 0.1940 - val_loss: 3.0205 - val_gate_predictor_loss: 0.0000e+00 - val_ws_predictor_loss: 1.5100 - 13s/epoch - 87ms/step\n",
      "Epoch 16/700\n",
      "\n",
      "Epoch 16: val_ws_predictor_loss did not improve from 1.50257\n",
      "151/151 - 13s - loss: 0.3885 - gate_predictor_loss: 0.0000e+00 - ws_predictor_loss: 0.1940 - val_loss: 3.0087 - val_gate_predictor_loss: 0.0000e+00 - val_ws_predictor_loss: 1.5041 - 13s/epoch - 88ms/step\n",
      "Epoch 17/700\n",
      "\n",
      "Epoch 17: val_ws_predictor_loss improved from 1.50257 to 1.50091, saving model to ../saved_models/gtnp_gtnp_13_no_attention.h5\n",
      "151/151 - 13s - loss: 0.3882 - gate_predictor_loss: 0.0000e+00 - ws_predictor_loss: 0.1939 - val_loss: 3.0022 - val_gate_predictor_loss: 0.0000e+00 - val_ws_predictor_loss: 1.5009 - 13s/epoch - 89ms/step\n",
      "Epoch 18/700\n",
      "\n",
      "Epoch 18: val_ws_predictor_loss improved from 1.50091 to 1.50077, saving model to ../saved_models/gtnp_gtnp_13_no_attention.h5\n",
      "151/151 - 13s - loss: 0.3880 - gate_predictor_loss: 0.0000e+00 - ws_predictor_loss: 0.1938 - val_loss: 3.0019 - val_gate_predictor_loss: 0.0000e+00 - val_ws_predictor_loss: 1.5008 - 13s/epoch - 88ms/step\n",
      "Epoch 19/700\n",
      "\n",
      "Epoch 19: val_ws_predictor_loss improved from 1.50077 to 1.49623, saving model to ../saved_models/gtnp_gtnp_13_no_attention.h5\n",
      "151/151 - 13s - loss: 0.3881 - gate_predictor_loss: 0.0000e+00 - ws_predictor_loss: 0.1939 - val_loss: 2.9928 - val_gate_predictor_loss: 0.0000e+00 - val_ws_predictor_loss: 1.4962 - 13s/epoch - 88ms/step\n",
      "Epoch 20/700\n",
      "\n",
      "Epoch 20: val_ws_predictor_loss did not improve from 1.49623\n",
      "151/151 - 13s - loss: 0.3878 - gate_predictor_loss: 0.0000e+00 - ws_predictor_loss: 0.1937 - val_loss: 3.0008 - val_gate_predictor_loss: 0.0000e+00 - val_ws_predictor_loss: 1.5003 - 13s/epoch - 87ms/step\n",
      "Epoch 21/700\n",
      "\n",
      "Epoch 21: val_ws_predictor_loss improved from 1.49623 to 1.48849, saving model to ../saved_models/gtnp_gtnp_13_no_attention.h5\n",
      "151/151 - 13s - loss: 0.3877 - gate_predictor_loss: 0.0000e+00 - ws_predictor_loss: 0.1937 - val_loss: 2.9772 - val_gate_predictor_loss: 0.0000e+00 - val_ws_predictor_loss: 1.4885 - 13s/epoch - 88ms/step\n",
      "Epoch 22/700\n",
      "\n",
      "Epoch 22: val_ws_predictor_loss did not improve from 1.48849\n",
      "151/151 - 13s - loss: 0.3950 - gate_predictor_loss: 0.0000e+00 - ws_predictor_loss: 0.1968 - val_loss: 3.0640 - val_gate_predictor_loss: 0.0000e+00 - val_ws_predictor_loss: 1.5317 - 13s/epoch - 87ms/step\n",
      "Epoch 23/700\n",
      "\n",
      "Epoch 23: val_ws_predictor_loss did not improve from 1.48849\n",
      "151/151 - 13s - loss: 0.3856 - gate_predictor_loss: 0.0000e+00 - ws_predictor_loss: 0.1925 - val_loss: 3.0095 - val_gate_predictor_loss: 0.0000e+00 - val_ws_predictor_loss: 1.5045 - 13s/epoch - 87ms/step\n",
      "Epoch 24/700\n",
      "\n",
      "Epoch 24: val_ws_predictor_loss improved from 1.48849 to 1.48422, saving model to ../saved_models/gtnp_gtnp_13_no_attention.h5\n",
      "151/151 - 13s - loss: 0.3848 - gate_predictor_loss: 0.0000e+00 - ws_predictor_loss: 0.1922 - val_loss: 2.9688 - val_gate_predictor_loss: 0.0000e+00 - val_ws_predictor_loss: 1.4842 - 13s/epoch - 88ms/step\n",
      "Epoch 25/700\n",
      "\n",
      "Epoch 25: val_ws_predictor_loss improved from 1.48422 to 1.48340, saving model to ../saved_models/gtnp_gtnp_13_no_attention.h5\n",
      "151/151 - 13s - loss: 0.3916 - gate_predictor_loss: 0.0000e+00 - ws_predictor_loss: 0.1948 - val_loss: 2.9673 - val_gate_predictor_loss: 0.0000e+00 - val_ws_predictor_loss: 1.4834 - 13s/epoch - 88ms/step\n",
      "Epoch 26/700\n",
      "\n",
      "Epoch 26: val_ws_predictor_loss improved from 1.48340 to 1.47478, saving model to ../saved_models/gtnp_gtnp_13_no_attention.h5\n",
      "151/151 - 13s - loss: 0.3848 - gate_predictor_loss: 0.0000e+00 - ws_predictor_loss: 0.1922 - val_loss: 2.9499 - val_gate_predictor_loss: 0.0000e+00 - val_ws_predictor_loss: 1.4748 - 13s/epoch - 88ms/step\n",
      "Epoch 27/700\n",
      "\n",
      "Epoch 27: val_ws_predictor_loss improved from 1.47478 to 1.47115, saving model to ../saved_models/gtnp_gtnp_13_no_attention.h5\n"
     ]
    },
    {
     "name": "stdout",
     "output_type": "stream",
     "text": [
      "151/151 - 13s - loss: 0.3845 - gate_predictor_loss: 0.0000e+00 - ws_predictor_loss: 0.1921 - val_loss: 2.9426 - val_gate_predictor_loss: 0.0000e+00 - val_ws_predictor_loss: 1.4712 - 13s/epoch - 88ms/step\n",
      "Epoch 28/700\n",
      "\n",
      "Epoch 28: val_ws_predictor_loss did not improve from 1.47115\n",
      "151/151 - 13s - loss: 0.3843 - gate_predictor_loss: 0.0000e+00 - ws_predictor_loss: 0.1920 - val_loss: 2.9497 - val_gate_predictor_loss: 0.0000e+00 - val_ws_predictor_loss: 1.4747 - 13s/epoch - 87ms/step\n",
      "Epoch 29/700\n",
      "\n",
      "Epoch 29: val_ws_predictor_loss improved from 1.47115 to 1.47043, saving model to ../saved_models/gtnp_gtnp_13_no_attention.h5\n",
      "151/151 - 13s - loss: 0.3842 - gate_predictor_loss: 0.0000e+00 - ws_predictor_loss: 0.1920 - val_loss: 2.9411 - val_gate_predictor_loss: 0.0000e+00 - val_ws_predictor_loss: 1.4704 - 13s/epoch - 88ms/step\n",
      "Epoch 30/700\n",
      "\n",
      "Epoch 30: val_ws_predictor_loss did not improve from 1.47043\n",
      "151/151 - 13s - loss: 0.3842 - gate_predictor_loss: 0.0000e+00 - ws_predictor_loss: 0.1920 - val_loss: 2.9608 - val_gate_predictor_loss: 0.0000e+00 - val_ws_predictor_loss: 1.4803 - 13s/epoch - 87ms/step\n",
      "Epoch 31/700\n",
      "\n",
      "Epoch 31: val_ws_predictor_loss did not improve from 1.47043\n",
      "151/151 - 13s - loss: 0.3841 - gate_predictor_loss: 0.0000e+00 - ws_predictor_loss: 0.1919 - val_loss: 2.9440 - val_gate_predictor_loss: 0.0000e+00 - val_ws_predictor_loss: 1.4719 - 13s/epoch - 87ms/step\n",
      "Epoch 32/700\n",
      "\n",
      "Epoch 32: val_ws_predictor_loss did not improve from 1.47043\n",
      "151/151 - 13s - loss: 0.3841 - gate_predictor_loss: 0.0000e+00 - ws_predictor_loss: 0.1919 - val_loss: 2.9548 - val_gate_predictor_loss: 0.0000e+00 - val_ws_predictor_loss: 1.4773 - 13s/epoch - 87ms/step\n",
      "Epoch 33/700\n",
      "\n",
      "Epoch 33: val_ws_predictor_loss did not improve from 1.47043\n",
      "151/151 - 13s - loss: 0.3841 - gate_predictor_loss: 0.0000e+00 - ws_predictor_loss: 0.1919 - val_loss: 2.9477 - val_gate_predictor_loss: 0.0000e+00 - val_ws_predictor_loss: 1.4738 - 13s/epoch - 87ms/step\n",
      "Epoch 34/700\n",
      "\n",
      "Epoch 34: val_ws_predictor_loss did not improve from 1.47043\n",
      "151/151 - 13s - loss: 0.3840 - gate_predictor_loss: 0.0000e+00 - ws_predictor_loss: 0.1919 - val_loss: 2.9485 - val_gate_predictor_loss: 0.0000e+00 - val_ws_predictor_loss: 1.4742 - 13s/epoch - 87ms/step\n",
      "Epoch 35/700\n",
      "\n",
      "Epoch 35: val_ws_predictor_loss did not improve from 1.47043\n",
      "151/151 - 13s - loss: 0.3840 - gate_predictor_loss: 0.0000e+00 - ws_predictor_loss: 0.1919 - val_loss: 2.9483 - val_gate_predictor_loss: 0.0000e+00 - val_ws_predictor_loss: 1.4740 - 13s/epoch - 87ms/step\n",
      "Epoch 36/700\n",
      "\n",
      "Epoch 36: val_ws_predictor_loss did not improve from 1.47043\n",
      "151/151 - 13s - loss: 0.3840 - gate_predictor_loss: 0.0000e+00 - ws_predictor_loss: 0.1919 - val_loss: 2.9505 - val_gate_predictor_loss: 0.0000e+00 - val_ws_predictor_loss: 1.4751 - 13s/epoch - 87ms/step\n",
      "Epoch 37/700\n",
      "\n",
      "Epoch 37: val_ws_predictor_loss did not improve from 1.47043\n",
      "151/151 - 13s - loss: 0.3858 - gate_predictor_loss: 0.0000e+00 - ws_predictor_loss: 0.1927 - val_loss: 3.0837 - val_gate_predictor_loss: 0.0000e+00 - val_ws_predictor_loss: 1.5414 - 13s/epoch - 87ms/step\n",
      "Epoch 38/700\n",
      "\n",
      "Epoch 38: val_ws_predictor_loss did not improve from 1.47043\n",
      "151/151 - 13s - loss: 0.3837 - gate_predictor_loss: 0.0000e+00 - ws_predictor_loss: 0.1917 - val_loss: 2.9683 - val_gate_predictor_loss: 0.0000e+00 - val_ws_predictor_loss: 1.4840 - 13s/epoch - 87ms/step\n",
      "Epoch 39/700\n",
      "\n",
      "Epoch 39: val_ws_predictor_loss did not improve from 1.47043\n",
      "151/151 - 13s - loss: 0.3808 - gate_predictor_loss: 0.0000e+00 - ws_predictor_loss: 0.1903 - val_loss: 2.9736 - val_gate_predictor_loss: 0.0000e+00 - val_ws_predictor_loss: 1.4867 - 13s/epoch - 87ms/step\n",
      "Epoch 40/700\n",
      "\n",
      "Epoch 40: val_ws_predictor_loss did not improve from 1.47043\n",
      "151/151 - 13s - loss: 0.3806 - gate_predictor_loss: 0.0000e+00 - ws_predictor_loss: 0.1902 - val_loss: 2.9548 - val_gate_predictor_loss: 0.0000e+00 - val_ws_predictor_loss: 1.4773 - 13s/epoch - 87ms/step\n",
      "Epoch 41/700\n",
      "\n",
      "Epoch 41: val_ws_predictor_loss did not improve from 1.47043\n",
      "151/151 - 13s - loss: 0.3805 - gate_predictor_loss: 0.0000e+00 - ws_predictor_loss: 0.1902 - val_loss: 2.9538 - val_gate_predictor_loss: 0.0000e+00 - val_ws_predictor_loss: 1.4768 - 13s/epoch - 87ms/step\n",
      "Epoch 42/700\n",
      "\n",
      "Epoch 42: val_ws_predictor_loss improved from 1.47043 to 1.46770, saving model to ../saved_models/gtnp_gtnp_13_no_attention.h5\n",
      "151/151 - 13s - loss: 0.3805 - gate_predictor_loss: 0.0000e+00 - ws_predictor_loss: 0.1902 - val_loss: 2.9356 - val_gate_predictor_loss: 0.0000e+00 - val_ws_predictor_loss: 1.4677 - 13s/epoch - 89ms/step\n",
      "Epoch 43/700\n",
      "\n",
      "Epoch 43: val_ws_predictor_loss did not improve from 1.46770\n",
      "151/151 - 13s - loss: 0.3805 - gate_predictor_loss: 0.0000e+00 - ws_predictor_loss: 0.1902 - val_loss: 2.9569 - val_gate_predictor_loss: 0.0000e+00 - val_ws_predictor_loss: 1.4784 - 13s/epoch - 88ms/step\n",
      "Epoch 44/700\n",
      "\n",
      "Epoch 44: val_ws_predictor_loss did not improve from 1.46770\n",
      "151/151 - 13s - loss: 0.3805 - gate_predictor_loss: 0.0000e+00 - ws_predictor_loss: 0.1902 - val_loss: 2.9443 - val_gate_predictor_loss: 0.0000e+00 - val_ws_predictor_loss: 1.4721 - 13s/epoch - 87ms/step\n",
      "Epoch 45/700\n",
      "\n",
      "Epoch 45: val_ws_predictor_loss did not improve from 1.46770\n",
      "151/151 - 13s - loss: 0.3804 - gate_predictor_loss: 0.0000e+00 - ws_predictor_loss: 0.1901 - val_loss: 2.9619 - val_gate_predictor_loss: 0.0000e+00 - val_ws_predictor_loss: 1.4809 - 13s/epoch - 87ms/step\n",
      "Epoch 46/700\n",
      "\n",
      "Epoch 46: val_ws_predictor_loss did not improve from 1.46770\n",
      "151/151 - 13s - loss: 0.3804 - gate_predictor_loss: 0.0000e+00 - ws_predictor_loss: 0.1901 - val_loss: 2.9476 - val_gate_predictor_loss: 0.0000e+00 - val_ws_predictor_loss: 1.4737 - 13s/epoch - 88ms/step\n",
      "Epoch 47/700\n",
      "\n",
      "Epoch 47: val_ws_predictor_loss did not improve from 1.46770\n",
      "151/151 - 13s - loss: 0.3804 - gate_predictor_loss: 0.0000e+00 - ws_predictor_loss: 0.1901 - val_loss: 2.9475 - val_gate_predictor_loss: 0.0000e+00 - val_ws_predictor_loss: 1.4737 - 13s/epoch - 88ms/step\n",
      "Epoch 48/700\n",
      "\n",
      "Epoch 48: val_ws_predictor_loss did not improve from 1.46770\n",
      "151/151 - 13s - loss: 0.3804 - gate_predictor_loss: 0.0000e+00 - ws_predictor_loss: 0.1901 - val_loss: 2.9459 - val_gate_predictor_loss: 0.0000e+00 - val_ws_predictor_loss: 1.4729 - 13s/epoch - 87ms/step\n",
      "Epoch 49/700\n",
      "\n",
      "Epoch 49: val_ws_predictor_loss did not improve from 1.46770\n",
      "151/151 - 13s - loss: 0.3803 - gate_predictor_loss: 0.0000e+00 - ws_predictor_loss: 0.1901 - val_loss: 2.9490 - val_gate_predictor_loss: 0.0000e+00 - val_ws_predictor_loss: 1.4744 - 13s/epoch - 87ms/step\n",
      "Epoch 50/700\n",
      "\n",
      "Epoch 50: val_ws_predictor_loss did not improve from 1.46770\n",
      "151/151 - 13s - loss: 0.3803 - gate_predictor_loss: 0.0000e+00 - ws_predictor_loss: 0.1901 - val_loss: 2.9563 - val_gate_predictor_loss: 0.0000e+00 - val_ws_predictor_loss: 1.4781 - 13s/epoch - 87ms/step\n",
      "Epoch 51/700\n",
      "\n",
      "Epoch 51: val_ws_predictor_loss did not improve from 1.46770\n",
      "151/151 - 13s - loss: 0.3803 - gate_predictor_loss: 0.0000e+00 - ws_predictor_loss: 0.1901 - val_loss: 2.9434 - val_gate_predictor_loss: 0.0000e+00 - val_ws_predictor_loss: 1.4717 - 13s/epoch - 87ms/step\n",
      "Epoch 52/700\n",
      "\n",
      "Epoch 52: val_ws_predictor_loss did not improve from 1.46770\n",
      "151/151 - 13s - loss: 0.3802 - gate_predictor_loss: 0.0000e+00 - ws_predictor_loss: 0.1900 - val_loss: 2.9503 - val_gate_predictor_loss: 0.0000e+00 - val_ws_predictor_loss: 1.4751 - 13s/epoch - 87ms/step\n",
      "Epoch 53/700\n",
      "\n",
      "Epoch 53: val_ws_predictor_loss did not improve from 1.46770\n",
      "151/151 - 13s - loss: 0.3878 - gate_predictor_loss: 0.0000e+00 - ws_predictor_loss: 0.1932 - val_loss: 3.0027 - val_gate_predictor_loss: 0.0000e+00 - val_ws_predictor_loss: 1.5011 - 13s/epoch - 87ms/step\n",
      "Epoch 54/700\n",
      "\n",
      "Epoch 54: val_ws_predictor_loss did not improve from 1.46770\n",
      "151/151 - 13s - loss: 0.3810 - gate_predictor_loss: 0.0000e+00 - ws_predictor_loss: 0.1903 - val_loss: 2.9524 - val_gate_predictor_loss: 0.0000e+00 - val_ws_predictor_loss: 1.4761 - 13s/epoch - 87ms/step\n",
      "Epoch 55/700\n",
      "\n",
      "Epoch 55: val_ws_predictor_loss improved from 1.46770 to 1.46618, saving model to ../saved_models/gtnp_gtnp_13_no_attention.h5\n",
      "151/151 - 13s - loss: 0.3805 - gate_predictor_loss: 0.0000e+00 - ws_predictor_loss: 0.1901 - val_loss: 2.9325 - val_gate_predictor_loss: 0.0000e+00 - val_ws_predictor_loss: 1.4662 - 13s/epoch - 88ms/step\n"
     ]
    },
    {
     "name": "stdout",
     "output_type": "stream",
     "text": [
      "Epoch 56/700\n",
      "\n",
      "Epoch 56: val_ws_predictor_loss did not improve from 1.46618\n",
      "151/151 - 13s - loss: 0.3804 - gate_predictor_loss: 0.0000e+00 - ws_predictor_loss: 0.1901 - val_loss: 2.9356 - val_gate_predictor_loss: 0.0000e+00 - val_ws_predictor_loss: 1.4677 - 13s/epoch - 87ms/step\n",
      "Epoch 57/700\n",
      "\n",
      "Epoch 57: val_ws_predictor_loss did not improve from 1.46618\n",
      "151/151 - 13s - loss: 0.3803 - gate_predictor_loss: 0.0000e+00 - ws_predictor_loss: 0.1901 - val_loss: 2.9345 - val_gate_predictor_loss: 0.0000e+00 - val_ws_predictor_loss: 1.4672 - 13s/epoch - 87ms/step\n",
      "Epoch 58/700\n",
      "\n",
      "Epoch 58: val_ws_predictor_loss did not improve from 1.46618\n",
      "151/151 - 13s - loss: 0.3802 - gate_predictor_loss: 0.0000e+00 - ws_predictor_loss: 0.1900 - val_loss: 2.9364 - val_gate_predictor_loss: 0.0000e+00 - val_ws_predictor_loss: 1.4681 - 13s/epoch - 87ms/step\n",
      "Epoch 59/700\n",
      "\n",
      "Epoch 59: val_ws_predictor_loss improved from 1.46618 to 1.46551, saving model to ../saved_models/gtnp_gtnp_13_no_attention.h5\n",
      "151/151 - 13s - loss: 0.3802 - gate_predictor_loss: 0.0000e+00 - ws_predictor_loss: 0.1900 - val_loss: 2.9312 - val_gate_predictor_loss: 0.0000e+00 - val_ws_predictor_loss: 1.4655 - 13s/epoch - 88ms/step\n",
      "Epoch 60/700\n",
      "\n",
      "Epoch 60: val_ws_predictor_loss improved from 1.46551 to 1.46387, saving model to ../saved_models/gtnp_gtnp_13_no_attention.h5\n",
      "151/151 - 13s - loss: 0.3802 - gate_predictor_loss: 0.0000e+00 - ws_predictor_loss: 0.1900 - val_loss: 2.9279 - val_gate_predictor_loss: 0.0000e+00 - val_ws_predictor_loss: 1.4639 - 13s/epoch - 88ms/step\n",
      "Epoch 61/700\n",
      "\n",
      "Epoch 61: val_ws_predictor_loss improved from 1.46387 to 1.46378, saving model to ../saved_models/gtnp_gtnp_13_no_attention.h5\n",
      "151/151 - 13s - loss: 0.3801 - gate_predictor_loss: 0.0000e+00 - ws_predictor_loss: 0.1900 - val_loss: 2.9277 - val_gate_predictor_loss: 0.0000e+00 - val_ws_predictor_loss: 1.4638 - 13s/epoch - 88ms/step\n",
      "Epoch 62/700\n",
      "\n",
      "Epoch 62: val_ws_predictor_loss did not improve from 1.46378\n",
      "151/151 - 13s - loss: 0.3802 - gate_predictor_loss: 0.0000e+00 - ws_predictor_loss: 0.1900 - val_loss: 2.9286 - val_gate_predictor_loss: 0.0000e+00 - val_ws_predictor_loss: 1.4642 - 13s/epoch - 87ms/step\n",
      "Epoch 63/700\n",
      "\n",
      "Epoch 63: val_ws_predictor_loss did not improve from 1.46378\n",
      "151/151 - 13s - loss: 0.3801 - gate_predictor_loss: 0.0000e+00 - ws_predictor_loss: 0.1900 - val_loss: 2.9334 - val_gate_predictor_loss: 0.0000e+00 - val_ws_predictor_loss: 1.4667 - 13s/epoch - 87ms/step\n",
      "Epoch 64/700\n",
      "\n",
      "Epoch 64: val_ws_predictor_loss did not improve from 1.46378\n",
      "151/151 - 13s - loss: 0.3801 - gate_predictor_loss: 0.0000e+00 - ws_predictor_loss: 0.1900 - val_loss: 2.9319 - val_gate_predictor_loss: 0.0000e+00 - val_ws_predictor_loss: 1.4659 - 13s/epoch - 87ms/step\n",
      "Epoch 65/700\n",
      "\n",
      "Epoch 65: val_ws_predictor_loss did not improve from 1.46378\n",
      "151/151 - 13s - loss: 0.3800 - gate_predictor_loss: 0.0000e+00 - ws_predictor_loss: 0.1900 - val_loss: 2.9322 - val_gate_predictor_loss: 0.0000e+00 - val_ws_predictor_loss: 1.4660 - 13s/epoch - 87ms/step\n",
      "Epoch 66/700\n",
      "\n",
      "Epoch 66: val_ws_predictor_loss improved from 1.46378 to 1.46186, saving model to ../saved_models/gtnp_gtnp_13_no_attention.h5\n",
      "151/151 - 13s - loss: 0.3801 - gate_predictor_loss: 0.0000e+00 - ws_predictor_loss: 0.1900 - val_loss: 2.9238 - val_gate_predictor_loss: 0.0000e+00 - val_ws_predictor_loss: 1.4619 - 13s/epoch - 88ms/step\n",
      "Epoch 67/700\n",
      "\n",
      "Epoch 67: val_ws_predictor_loss improved from 1.46186 to 1.46159, saving model to ../saved_models/gtnp_gtnp_13_no_attention.h5\n",
      "151/151 - 13s - loss: 0.3800 - gate_predictor_loss: 0.0000e+00 - ws_predictor_loss: 0.1900 - val_loss: 2.9233 - val_gate_predictor_loss: 0.0000e+00 - val_ws_predictor_loss: 1.4616 - 13s/epoch - 88ms/step\n",
      "Epoch 68/700\n",
      "\n",
      "Epoch 68: val_ws_predictor_loss did not improve from 1.46159\n",
      "151/151 - 13s - loss: 0.3884 - gate_predictor_loss: 0.0000e+00 - ws_predictor_loss: 0.1932 - val_loss: 2.9662 - val_gate_predictor_loss: 0.0000e+00 - val_ws_predictor_loss: 1.4829 - 13s/epoch - 87ms/step\n",
      "Epoch 69/700\n",
      "\n",
      "Epoch 69: val_ws_predictor_loss did not improve from 1.46159\n",
      "151/151 - 13s - loss: 0.3809 - gate_predictor_loss: 0.0000e+00 - ws_predictor_loss: 0.1903 - val_loss: 2.9510 - val_gate_predictor_loss: 0.0000e+00 - val_ws_predictor_loss: 1.4753 - 13s/epoch - 87ms/step\n",
      "Epoch 70/700\n",
      "\n",
      "Epoch 70: val_ws_predictor_loss did not improve from 1.46159\n",
      "151/151 - 13s - loss: 0.3804 - gate_predictor_loss: 0.0000e+00 - ws_predictor_loss: 0.1901 - val_loss: 2.9424 - val_gate_predictor_loss: 0.0000e+00 - val_ws_predictor_loss: 1.4711 - 13s/epoch - 87ms/step\n",
      "Epoch 71/700\n",
      "\n",
      "Epoch 71: val_ws_predictor_loss did not improve from 1.46159\n",
      "151/151 - 13s - loss: 0.3803 - gate_predictor_loss: 0.0000e+00 - ws_predictor_loss: 0.1900 - val_loss: 2.9359 - val_gate_predictor_loss: 0.0000e+00 - val_ws_predictor_loss: 1.4678 - 13s/epoch - 87ms/step\n",
      "Epoch 72/700\n",
      "\n",
      "Epoch 72: val_ws_predictor_loss did not improve from 1.46159\n",
      "151/151 - 13s - loss: 0.3801 - gate_predictor_loss: 0.0000e+00 - ws_predictor_loss: 0.1900 - val_loss: 2.9315 - val_gate_predictor_loss: 0.0000e+00 - val_ws_predictor_loss: 1.4657 - 13s/epoch - 87ms/step\n",
      "Epoch 73/700\n",
      "\n",
      "Epoch 73: val_ws_predictor_loss improved from 1.46159 to 1.46123, saving model to ../saved_models/gtnp_gtnp_13_no_attention.h5\n",
      "151/151 - 13s - loss: 0.3801 - gate_predictor_loss: 0.0000e+00 - ws_predictor_loss: 0.1900 - val_loss: 2.9226 - val_gate_predictor_loss: 0.0000e+00 - val_ws_predictor_loss: 1.4612 - 13s/epoch - 88ms/step\n",
      "Epoch 74/700\n",
      "\n",
      "Epoch 74: val_ws_predictor_loss did not improve from 1.46123\n",
      "151/151 - 13s - loss: 0.3800 - gate_predictor_loss: 0.0000e+00 - ws_predictor_loss: 0.1899 - val_loss: 2.9286 - val_gate_predictor_loss: 0.0000e+00 - val_ws_predictor_loss: 1.4642 - 13s/epoch - 87ms/step\n",
      "Epoch 75/700\n",
      "\n",
      "Epoch 75: val_ws_predictor_loss did not improve from 1.46123\n",
      "151/151 - 13s - loss: 0.3800 - gate_predictor_loss: 0.0000e+00 - ws_predictor_loss: 0.1899 - val_loss: 2.9254 - val_gate_predictor_loss: 0.0000e+00 - val_ws_predictor_loss: 1.4626 - 13s/epoch - 87ms/step\n",
      "Epoch 76/700\n",
      "\n",
      "Epoch 76: val_ws_predictor_loss did not improve from 1.46123\n",
      "151/151 - 13s - loss: 0.3800 - gate_predictor_loss: 0.0000e+00 - ws_predictor_loss: 0.1899 - val_loss: 2.9284 - val_gate_predictor_loss: 0.0000e+00 - val_ws_predictor_loss: 1.4642 - 13s/epoch - 87ms/step\n",
      "Epoch 77/700\n",
      "\n",
      "Epoch 77: val_ws_predictor_loss improved from 1.46123 to 1.45991, saving model to ../saved_models/gtnp_gtnp_13_no_attention.h5\n",
      "151/151 - 13s - loss: 0.3802 - gate_predictor_loss: 0.0000e+00 - ws_predictor_loss: 0.1900 - val_loss: 2.9199 - val_gate_predictor_loss: 0.0000e+00 - val_ws_predictor_loss: 1.4599 - 13s/epoch - 87ms/step\n",
      "Epoch 78/700\n",
      "\n",
      "Epoch 78: val_ws_predictor_loss did not improve from 1.45991\n",
      "151/151 - 13s - loss: 0.3799 - gate_predictor_loss: 0.0000e+00 - ws_predictor_loss: 0.1899 - val_loss: 2.9268 - val_gate_predictor_loss: 0.0000e+00 - val_ws_predictor_loss: 1.4634 - 13s/epoch - 86ms/step\n",
      "Epoch 79/700\n",
      "\n",
      "Epoch 79: val_ws_predictor_loss did not improve from 1.45991\n",
      "151/151 - 13s - loss: 0.3800 - gate_predictor_loss: 0.0000e+00 - ws_predictor_loss: 0.1899 - val_loss: 2.9224 - val_gate_predictor_loss: 0.0000e+00 - val_ws_predictor_loss: 1.4612 - 13s/epoch - 86ms/step\n",
      "Epoch 80/700\n",
      "\n",
      "Epoch 80: val_ws_predictor_loss improved from 1.45991 to 1.45857, saving model to ../saved_models/gtnp_gtnp_13_no_attention.h5\n",
      "151/151 - 13s - loss: 0.3799 - gate_predictor_loss: 0.0000e+00 - ws_predictor_loss: 0.1899 - val_loss: 2.9172 - val_gate_predictor_loss: 0.0000e+00 - val_ws_predictor_loss: 1.4586 - 13s/epoch - 87ms/step\n",
      "Epoch 81/700\n",
      "\n",
      "Epoch 81: val_ws_predictor_loss did not improve from 1.45857\n",
      "151/151 - 13s - loss: 0.3799 - gate_predictor_loss: 0.0000e+00 - ws_predictor_loss: 0.1899 - val_loss: 2.9256 - val_gate_predictor_loss: 0.0000e+00 - val_ws_predictor_loss: 1.4627 - 13s/epoch - 86ms/step\n",
      "Epoch 82/700\n",
      "\n",
      "Epoch 82: val_ws_predictor_loss did not improve from 1.45857\n",
      "151/151 - 13s - loss: 0.3799 - gate_predictor_loss: 0.0000e+00 - ws_predictor_loss: 0.1899 - val_loss: 2.9357 - val_gate_predictor_loss: 0.0000e+00 - val_ws_predictor_loss: 1.4678 - 13s/epoch - 87ms/step\n",
      "Epoch 83/700\n",
      "\n",
      "Epoch 83: val_ws_predictor_loss did not improve from 1.45857\n",
      "151/151 - 13s - loss: 0.3799 - gate_predictor_loss: 0.0000e+00 - ws_predictor_loss: 0.1899 - val_loss: 2.9404 - val_gate_predictor_loss: 0.0000e+00 - val_ws_predictor_loss: 1.4702 - 13s/epoch - 87ms/step\n"
     ]
    },
    {
     "name": "stdout",
     "output_type": "stream",
     "text": [
      "Epoch 84/700\n",
      "\n",
      "Epoch 84: val_ws_predictor_loss did not improve from 1.45857\n",
      "151/151 - 13s - loss: 0.3799 - gate_predictor_loss: 0.0000e+00 - ws_predictor_loss: 0.1899 - val_loss: 2.9265 - val_gate_predictor_loss: 0.0000e+00 - val_ws_predictor_loss: 1.4632 - 13s/epoch - 86ms/step\n",
      "Epoch 85/700\n",
      "\n",
      "Epoch 85: val_ws_predictor_loss did not improve from 1.45857\n",
      "151/151 - 13s - loss: 0.3799 - gate_predictor_loss: 0.0000e+00 - ws_predictor_loss: 0.1899 - val_loss: 2.9249 - val_gate_predictor_loss: 0.0000e+00 - val_ws_predictor_loss: 1.4624 - 13s/epoch - 86ms/step\n",
      "Epoch 86/700\n",
      "\n",
      "Epoch 86: val_ws_predictor_loss did not improve from 1.45857\n",
      "151/151 - 13s - loss: 0.3799 - gate_predictor_loss: 0.0000e+00 - ws_predictor_loss: 0.1899 - val_loss: 2.9286 - val_gate_predictor_loss: 0.0000e+00 - val_ws_predictor_loss: 1.4643 - 13s/epoch - 86ms/step\n",
      "Epoch 87/700\n",
      "\n",
      "Epoch 87: val_ws_predictor_loss did not improve from 1.45857\n",
      "151/151 - 13s - loss: 0.3842 - gate_predictor_loss: 0.0000e+00 - ws_predictor_loss: 0.1916 - val_loss: 3.0229 - val_gate_predictor_loss: 0.0000e+00 - val_ws_predictor_loss: 1.5112 - 13s/epoch - 87ms/step\n",
      "Epoch 88/700\n",
      "\n",
      "Epoch 88: val_ws_predictor_loss did not improve from 1.45857\n",
      "151/151 - 13s - loss: 0.3806 - gate_predictor_loss: 0.0000e+00 - ws_predictor_loss: 0.1902 - val_loss: 2.9334 - val_gate_predictor_loss: 0.0000e+00 - val_ws_predictor_loss: 1.4666 - 13s/epoch - 86ms/step\n",
      "Epoch 89/700\n",
      "\n",
      "Epoch 89: val_ws_predictor_loss did not improve from 1.45857\n",
      "151/151 - 13s - loss: 0.3800 - gate_predictor_loss: 0.0000e+00 - ws_predictor_loss: 0.1899 - val_loss: 2.9374 - val_gate_predictor_loss: 0.0000e+00 - val_ws_predictor_loss: 1.4686 - 13s/epoch - 86ms/step\n",
      "Epoch 90/700\n",
      "\n",
      "Epoch 90: val_ws_predictor_loss did not improve from 1.45857\n",
      "151/151 - 13s - loss: 0.3799 - gate_predictor_loss: 0.0000e+00 - ws_predictor_loss: 0.1899 - val_loss: 2.9315 - val_gate_predictor_loss: 0.0000e+00 - val_ws_predictor_loss: 1.4657 - 13s/epoch - 86ms/step\n",
      "Epoch 91/700\n",
      "\n",
      "Epoch 91: val_ws_predictor_loss did not improve from 1.45857\n",
      "151/151 - 13s - loss: 0.3799 - gate_predictor_loss: 0.0000e+00 - ws_predictor_loss: 0.1899 - val_loss: 2.9235 - val_gate_predictor_loss: 0.0000e+00 - val_ws_predictor_loss: 1.4617 - 13s/epoch - 86ms/step\n",
      "Epoch 92/700\n",
      "\n",
      "Epoch 92: val_ws_predictor_loss did not improve from 1.45857\n",
      "151/151 - 13s - loss: 0.3798 - gate_predictor_loss: 0.0000e+00 - ws_predictor_loss: 0.1899 - val_loss: 2.9244 - val_gate_predictor_loss: 0.0000e+00 - val_ws_predictor_loss: 1.4622 - 13s/epoch - 86ms/step\n",
      "Epoch 93/700\n",
      "\n",
      "Epoch 93: val_ws_predictor_loss did not improve from 1.45857\n",
      "151/151 - 13s - loss: 0.3798 - gate_predictor_loss: 0.0000e+00 - ws_predictor_loss: 0.1899 - val_loss: 2.9204 - val_gate_predictor_loss: 0.0000e+00 - val_ws_predictor_loss: 1.4602 - 13s/epoch - 87ms/step\n",
      "Epoch 94/700\n",
      "\n",
      "Epoch 94: val_ws_predictor_loss did not improve from 1.45857\n",
      "151/151 - 13s - loss: 0.3799 - gate_predictor_loss: 0.0000e+00 - ws_predictor_loss: 0.1899 - val_loss: 2.9259 - val_gate_predictor_loss: 0.0000e+00 - val_ws_predictor_loss: 1.4629 - 13s/epoch - 87ms/step\n",
      "Epoch 95/700\n",
      "\n",
      "Epoch 95: val_ws_predictor_loss did not improve from 1.45857\n",
      "151/151 - 13s - loss: 0.3798 - gate_predictor_loss: 0.0000e+00 - ws_predictor_loss: 0.1899 - val_loss: 2.9234 - val_gate_predictor_loss: 0.0000e+00 - val_ws_predictor_loss: 1.4617 - 13s/epoch - 86ms/step\n",
      "Epoch 96/700\n",
      "\n",
      "Epoch 96: val_ws_predictor_loss did not improve from 1.45857\n",
      "151/151 - 13s - loss: 0.3798 - gate_predictor_loss: 0.0000e+00 - ws_predictor_loss: 0.1899 - val_loss: 2.9293 - val_gate_predictor_loss: 0.0000e+00 - val_ws_predictor_loss: 1.4646 - 13s/epoch - 86ms/step\n",
      "Epoch 97/700\n",
      "\n",
      "Epoch 97: val_ws_predictor_loss did not improve from 1.45857\n",
      "151/151 - 13s - loss: 0.3798 - gate_predictor_loss: 0.0000e+00 - ws_predictor_loss: 0.1899 - val_loss: 2.9177 - val_gate_predictor_loss: 0.0000e+00 - val_ws_predictor_loss: 1.4588 - 13s/epoch - 87ms/step\n",
      "Epoch 98/700\n",
      "\n",
      "Epoch 98: val_ws_predictor_loss did not improve from 1.45857\n",
      "151/151 - 13s - loss: 0.3798 - gate_predictor_loss: 0.0000e+00 - ws_predictor_loss: 0.1899 - val_loss: 2.9305 - val_gate_predictor_loss: 0.0000e+00 - val_ws_predictor_loss: 1.4652 - 13s/epoch - 87ms/step\n",
      "Epoch 99/700\n",
      "\n",
      "Epoch 99: val_ws_predictor_loss did not improve from 1.45857\n",
      "151/151 - 13s - loss: 0.3899 - gate_predictor_loss: 0.0000e+00 - ws_predictor_loss: 0.1939 - val_loss: 2.9947 - val_gate_predictor_loss: 0.0000e+00 - val_ws_predictor_loss: 1.4972 - 13s/epoch - 87ms/step\n",
      "Epoch 100/700\n",
      "\n",
      "Epoch 100: val_ws_predictor_loss did not improve from 1.45857\n",
      "151/151 - 13s - loss: 0.3812 - gate_predictor_loss: 0.0000e+00 - ws_predictor_loss: 0.1905 - val_loss: 2.9485 - val_gate_predictor_loss: 0.0000e+00 - val_ws_predictor_loss: 1.4742 - 13s/epoch - 87ms/step\n",
      "Epoch 101/700\n",
      "\n",
      "Epoch 101: val_ws_predictor_loss did not improve from 1.45857\n",
      "151/151 - 13s - loss: 0.3804 - gate_predictor_loss: 0.0000e+00 - ws_predictor_loss: 0.1901 - val_loss: 2.9550 - val_gate_predictor_loss: 0.0000e+00 - val_ws_predictor_loss: 1.4774 - 13s/epoch - 86ms/step\n",
      "Epoch 102/700\n",
      "\n",
      "Epoch 102: val_ws_predictor_loss did not improve from 1.45857\n",
      "151/151 - 13s - loss: 0.3802 - gate_predictor_loss: 0.0000e+00 - ws_predictor_loss: 0.1900 - val_loss: 2.9481 - val_gate_predictor_loss: 0.0000e+00 - val_ws_predictor_loss: 1.4740 - 13s/epoch - 86ms/step\n",
      "Epoch 103/700\n",
      "\n",
      "Epoch 103: val_ws_predictor_loss did not improve from 1.45857\n",
      "151/151 - 13s - loss: 0.3801 - gate_predictor_loss: 0.0000e+00 - ws_predictor_loss: 0.1900 - val_loss: 2.9461 - val_gate_predictor_loss: 0.0000e+00 - val_ws_predictor_loss: 1.4730 - 13s/epoch - 86ms/step\n",
      "Epoch 104/700\n",
      "\n",
      "Epoch 104: val_ws_predictor_loss did not improve from 1.45857\n",
      "151/151 - 13s - loss: 0.3800 - gate_predictor_loss: 0.0000e+00 - ws_predictor_loss: 0.1899 - val_loss: 2.9384 - val_gate_predictor_loss: 0.0000e+00 - val_ws_predictor_loss: 1.4691 - 13s/epoch - 86ms/step\n",
      "Epoch 105/700\n",
      "\n",
      "Epoch 105: val_ws_predictor_loss did not improve from 1.45857\n",
      "151/151 - 13s - loss: 0.3800 - gate_predictor_loss: 0.0000e+00 - ws_predictor_loss: 0.1899 - val_loss: 2.9387 - val_gate_predictor_loss: 0.0000e+00 - val_ws_predictor_loss: 1.4693 - 13s/epoch - 86ms/step\n",
      "Epoch 106/700\n",
      "\n",
      "Epoch 106: val_ws_predictor_loss did not improve from 1.45857\n",
      "151/151 - 13s - loss: 0.3799 - gate_predictor_loss: 0.0000e+00 - ws_predictor_loss: 0.1899 - val_loss: 2.9279 - val_gate_predictor_loss: 0.0000e+00 - val_ws_predictor_loss: 1.4639 - 13s/epoch - 87ms/step\n",
      "Epoch 107/700\n",
      "\n",
      "Epoch 107: val_ws_predictor_loss did not improve from 1.45857\n",
      "151/151 - 13s - loss: 0.3799 - gate_predictor_loss: 0.0000e+00 - ws_predictor_loss: 0.1899 - val_loss: 2.9205 - val_gate_predictor_loss: 0.0000e+00 - val_ws_predictor_loss: 1.4602 - 13s/epoch - 86ms/step\n",
      "Epoch 108/700\n",
      "\n",
      "Epoch 108: val_ws_predictor_loss did not improve from 1.45857\n",
      "151/151 - 13s - loss: 0.3799 - gate_predictor_loss: 0.0000e+00 - ws_predictor_loss: 0.1899 - val_loss: 2.9303 - val_gate_predictor_loss: 0.0000e+00 - val_ws_predictor_loss: 1.4651 - 13s/epoch - 86ms/step\n",
      "Epoch 109/700\n",
      "\n",
      "Epoch 109: val_ws_predictor_loss did not improve from 1.45857\n",
      "151/151 - 13s - loss: 0.3798 - gate_predictor_loss: 0.0000e+00 - ws_predictor_loss: 0.1899 - val_loss: 2.9334 - val_gate_predictor_loss: 0.0000e+00 - val_ws_predictor_loss: 1.4667 - 13s/epoch - 86ms/step\n",
      "Epoch 110/700\n",
      "\n",
      "Epoch 110: val_ws_predictor_loss did not improve from 1.45857\n",
      "151/151 - 13s - loss: 0.3798 - gate_predictor_loss: 0.0000e+00 - ws_predictor_loss: 0.1899 - val_loss: 2.9258 - val_gate_predictor_loss: 0.0000e+00 - val_ws_predictor_loss: 1.4629 - 13s/epoch - 86ms/step\n",
      "Epoch 111/700\n",
      "\n",
      "Epoch 111: val_ws_predictor_loss did not improve from 1.45857\n",
      "151/151 - 13s - loss: 0.3798 - gate_predictor_loss: 0.0000e+00 - ws_predictor_loss: 0.1899 - val_loss: 2.9321 - val_gate_predictor_loss: 0.0000e+00 - val_ws_predictor_loss: 1.4660 - 13s/epoch - 86ms/step\n",
      "Epoch 112/700\n",
      "\n",
      "Epoch 112: val_ws_predictor_loss did not improve from 1.45857\n",
      "151/151 - 13s - loss: 0.3798 - gate_predictor_loss: 0.0000e+00 - ws_predictor_loss: 0.1898 - val_loss: 2.9372 - val_gate_predictor_loss: 0.0000e+00 - val_ws_predictor_loss: 1.4686 - 13s/epoch - 86ms/step\n",
      "Epoch 113/700\n",
      "\n",
      "Epoch 113: val_ws_predictor_loss did not improve from 1.45857\n"
     ]
    },
    {
     "name": "stdout",
     "output_type": "stream",
     "text": [
      "151/151 - 13s - loss: 0.3798 - gate_predictor_loss: 0.0000e+00 - ws_predictor_loss: 0.1898 - val_loss: 2.9267 - val_gate_predictor_loss: 0.0000e+00 - val_ws_predictor_loss: 1.4633 - 13s/epoch - 86ms/step\n",
      "Epoch 114/700\n",
      "\n",
      "Epoch 114: val_ws_predictor_loss did not improve from 1.45857\n",
      "151/151 - 13s - loss: 0.3798 - gate_predictor_loss: 0.0000e+00 - ws_predictor_loss: 0.1898 - val_loss: 2.9296 - val_gate_predictor_loss: 0.0000e+00 - val_ws_predictor_loss: 1.4648 - 13s/epoch - 86ms/step\n",
      "Epoch 115/700\n",
      "\n",
      "Epoch 115: val_ws_predictor_loss did not improve from 1.45857\n",
      "151/151 - 13s - loss: 0.3798 - gate_predictor_loss: 0.0000e+00 - ws_predictor_loss: 0.1898 - val_loss: 2.9303 - val_gate_predictor_loss: 0.0000e+00 - val_ws_predictor_loss: 1.4651 - 13s/epoch - 86ms/step\n",
      "Epoch 116/700\n",
      "\n",
      "Epoch 116: val_ws_predictor_loss did not improve from 1.45857\n",
      "151/151 - 13s - loss: 0.3844 - gate_predictor_loss: 0.0000e+00 - ws_predictor_loss: 0.1917 - val_loss: 3.0535 - val_gate_predictor_loss: 0.0000e+00 - val_ws_predictor_loss: 1.5265 - 13s/epoch - 86ms/step\n",
      "Epoch 117/700\n",
      "\n",
      "Epoch 117: val_ws_predictor_loss did not improve from 1.45857\n",
      "151/151 - 13s - loss: 0.3807 - gate_predictor_loss: 0.0000e+00 - ws_predictor_loss: 0.1902 - val_loss: 2.9529 - val_gate_predictor_loss: 0.0000e+00 - val_ws_predictor_loss: 1.4764 - 13s/epoch - 86ms/step\n",
      "Epoch 118/700\n",
      "\n",
      "Epoch 118: val_ws_predictor_loss did not improve from 1.45857\n",
      "151/151 - 13s - loss: 0.3799 - gate_predictor_loss: 0.0000e+00 - ws_predictor_loss: 0.1899 - val_loss: 2.9352 - val_gate_predictor_loss: 0.0000e+00 - val_ws_predictor_loss: 1.4675 - 13s/epoch - 86ms/step\n",
      "Epoch 119/700\n",
      "\n",
      "Epoch 119: val_ws_predictor_loss did not improve from 1.45857\n",
      "151/151 - 13s - loss: 0.3798 - gate_predictor_loss: 0.0000e+00 - ws_predictor_loss: 0.1898 - val_loss: 2.9278 - val_gate_predictor_loss: 0.0000e+00 - val_ws_predictor_loss: 1.4638 - 13s/epoch - 86ms/step\n",
      "Epoch 120/700\n",
      "\n",
      "Epoch 120: val_ws_predictor_loss did not improve from 1.45857\n",
      "151/151 - 13s - loss: 0.3797 - gate_predictor_loss: 0.0000e+00 - ws_predictor_loss: 0.1898 - val_loss: 2.9328 - val_gate_predictor_loss: 0.0000e+00 - val_ws_predictor_loss: 1.4663 - 13s/epoch - 86ms/step\n",
      "Epoch 121/700\n",
      "\n",
      "Epoch 121: val_ws_predictor_loss did not improve from 1.45857\n",
      "151/151 - 13s - loss: 0.3797 - gate_predictor_loss: 0.0000e+00 - ws_predictor_loss: 0.1898 - val_loss: 2.9314 - val_gate_predictor_loss: 0.0000e+00 - val_ws_predictor_loss: 1.4657 - 13s/epoch - 86ms/step\n",
      "Epoch 122/700\n",
      "\n",
      "Epoch 122: val_ws_predictor_loss did not improve from 1.45857\n",
      "151/151 - 13s - loss: 0.3797 - gate_predictor_loss: 0.0000e+00 - ws_predictor_loss: 0.1898 - val_loss: 2.9270 - val_gate_predictor_loss: 0.0000e+00 - val_ws_predictor_loss: 1.4635 - 13s/epoch - 86ms/step\n",
      "Epoch 123/700\n",
      "\n",
      "Epoch 123: val_ws_predictor_loss did not improve from 1.45857\n",
      "151/151 - 13s - loss: 0.3797 - gate_predictor_loss: 0.0000e+00 - ws_predictor_loss: 0.1898 - val_loss: 2.9338 - val_gate_predictor_loss: 0.0000e+00 - val_ws_predictor_loss: 1.4669 - 13s/epoch - 86ms/step\n",
      "Epoch 124/700\n",
      "\n",
      "Epoch 124: val_ws_predictor_loss did not improve from 1.45857\n",
      "151/151 - 13s - loss: 0.3797 - gate_predictor_loss: 0.0000e+00 - ws_predictor_loss: 0.1898 - val_loss: 2.9280 - val_gate_predictor_loss: 0.0000e+00 - val_ws_predictor_loss: 1.4640 - 13s/epoch - 86ms/step\n",
      "Epoch 125/700\n",
      "\n",
      "Epoch 125: val_ws_predictor_loss did not improve from 1.45857\n",
      "151/151 - 13s - loss: 0.3797 - gate_predictor_loss: 0.0000e+00 - ws_predictor_loss: 0.1898 - val_loss: 2.9287 - val_gate_predictor_loss: 0.0000e+00 - val_ws_predictor_loss: 1.4643 - 13s/epoch - 86ms/step\n",
      "Epoch 126/700\n",
      "\n",
      "Epoch 126: val_ws_predictor_loss did not improve from 1.45857\n",
      "151/151 - 13s - loss: 0.3797 - gate_predictor_loss: 0.0000e+00 - ws_predictor_loss: 0.1898 - val_loss: 2.9344 - val_gate_predictor_loss: 0.0000e+00 - val_ws_predictor_loss: 1.4672 - 13s/epoch - 86ms/step\n",
      "Epoch 127/700\n",
      "\n",
      "Epoch 127: val_ws_predictor_loss did not improve from 1.45857\n",
      "151/151 - 13s - loss: 0.3797 - gate_predictor_loss: 0.0000e+00 - ws_predictor_loss: 0.1898 - val_loss: 2.9331 - val_gate_predictor_loss: 0.0000e+00 - val_ws_predictor_loss: 1.4665 - 13s/epoch - 86ms/step\n",
      "Epoch 128/700\n",
      "\n",
      "Epoch 128: val_ws_predictor_loss did not improve from 1.45857\n",
      "151/151 - 13s - loss: 0.3797 - gate_predictor_loss: 0.0000e+00 - ws_predictor_loss: 0.1898 - val_loss: 2.9336 - val_gate_predictor_loss: 0.0000e+00 - val_ws_predictor_loss: 1.4667 - 13s/epoch - 86ms/step\n",
      "Epoch 129/700\n",
      "\n",
      "Epoch 129: val_ws_predictor_loss did not improve from 1.45857\n",
      "151/151 - 13s - loss: 0.3797 - gate_predictor_loss: 0.0000e+00 - ws_predictor_loss: 0.1898 - val_loss: 2.9283 - val_gate_predictor_loss: 0.0000e+00 - val_ws_predictor_loss: 1.4641 - 13s/epoch - 87ms/step\n",
      "Epoch 130/700\n",
      "\n",
      "Epoch 130: val_ws_predictor_loss did not improve from 1.45857\n",
      "151/151 - 13s - loss: 0.3797 - gate_predictor_loss: 0.0000e+00 - ws_predictor_loss: 0.1898 - val_loss: 2.9344 - val_gate_predictor_loss: 0.0000e+00 - val_ws_predictor_loss: 1.4672 - 13s/epoch - 86ms/step\n",
      "Epoch 131/700\n",
      "\n",
      "Epoch 131: val_ws_predictor_loss did not improve from 1.45857\n",
      "151/151 - 13s - loss: 0.3797 - gate_predictor_loss: 0.0000e+00 - ws_predictor_loss: 0.1898 - val_loss: 2.9291 - val_gate_predictor_loss: 0.0000e+00 - val_ws_predictor_loss: 1.4645 - 13s/epoch - 86ms/step\n",
      "Epoch 132/700\n",
      "\n",
      "Epoch 132: val_ws_predictor_loss did not improve from 1.45857\n",
      "151/151 - 13s - loss: 0.3857 - gate_predictor_loss: 0.0000e+00 - ws_predictor_loss: 0.1921 - val_loss: 3.0316 - val_gate_predictor_loss: 0.0000e+00 - val_ws_predictor_loss: 1.5155 - 13s/epoch - 86ms/step\n",
      "Epoch 133/700\n",
      "\n",
      "Epoch 133: val_ws_predictor_loss did not improve from 1.45857\n",
      "151/151 - 13s - loss: 0.3806 - gate_predictor_loss: 0.0000e+00 - ws_predictor_loss: 0.1902 - val_loss: 2.9480 - val_gate_predictor_loss: 0.0000e+00 - val_ws_predictor_loss: 1.4739 - 13s/epoch - 86ms/step\n",
      "Epoch 134/700\n",
      "\n",
      "Epoch 134: val_ws_predictor_loss did not improve from 1.45857\n",
      "151/151 - 13s - loss: 0.3799 - gate_predictor_loss: 0.0000e+00 - ws_predictor_loss: 0.1899 - val_loss: 2.9473 - val_gate_predictor_loss: 0.0000e+00 - val_ws_predictor_loss: 1.4736 - 13s/epoch - 86ms/step\n",
      "Epoch 135/700\n",
      "\n",
      "Epoch 135: val_ws_predictor_loss did not improve from 1.45857\n",
      "151/151 - 13s - loss: 0.3797 - gate_predictor_loss: 0.0000e+00 - ws_predictor_loss: 0.1898 - val_loss: 2.9450 - val_gate_predictor_loss: 0.0000e+00 - val_ws_predictor_loss: 1.4724 - 13s/epoch - 86ms/step\n",
      "Epoch 136/700\n",
      "\n",
      "Epoch 136: val_ws_predictor_loss did not improve from 1.45857\n",
      "151/151 - 13s - loss: 0.3797 - gate_predictor_loss: 0.0000e+00 - ws_predictor_loss: 0.1898 - val_loss: 2.9377 - val_gate_predictor_loss: 0.0000e+00 - val_ws_predictor_loss: 1.4688 - 13s/epoch - 87ms/step\n",
      "Epoch 137/700\n",
      "\n",
      "Epoch 137: val_ws_predictor_loss did not improve from 1.45857\n",
      "151/151 - 13s - loss: 0.3797 - gate_predictor_loss: 0.0000e+00 - ws_predictor_loss: 0.1898 - val_loss: 2.9327 - val_gate_predictor_loss: 0.0000e+00 - val_ws_predictor_loss: 1.4663 - 13s/epoch - 86ms/step\n",
      "Epoch 138/700\n",
      "\n",
      "Epoch 138: val_ws_predictor_loss did not improve from 1.45857\n",
      "151/151 - 13s - loss: 0.3797 - gate_predictor_loss: 0.0000e+00 - ws_predictor_loss: 0.1898 - val_loss: 2.9371 - val_gate_predictor_loss: 0.0000e+00 - val_ws_predictor_loss: 1.4685 - 13s/epoch - 86ms/step\n",
      "Epoch 139/700\n",
      "\n",
      "Epoch 139: val_ws_predictor_loss did not improve from 1.45857\n",
      "151/151 - 13s - loss: 0.3796 - gate_predictor_loss: 0.0000e+00 - ws_predictor_loss: 0.1898 - val_loss: 2.9358 - val_gate_predictor_loss: 0.0000e+00 - val_ws_predictor_loss: 1.4679 - 13s/epoch - 86ms/step\n",
      "Epoch 140/700\n",
      "\n",
      "Epoch 140: val_ws_predictor_loss did not improve from 1.45857\n",
      "151/151 - 13s - loss: 0.3796 - gate_predictor_loss: 0.0000e+00 - ws_predictor_loss: 0.1898 - val_loss: 2.9395 - val_gate_predictor_loss: 0.0000e+00 - val_ws_predictor_loss: 1.4697 - 13s/epoch - 86ms/step\n",
      "Epoch 141/700\n",
      "\n",
      "Epoch 141: val_ws_predictor_loss did not improve from 1.45857\n",
      "151/151 - 13s - loss: 0.3796 - gate_predictor_loss: 0.0000e+00 - ws_predictor_loss: 0.1898 - val_loss: 2.9402 - val_gate_predictor_loss: 0.0000e+00 - val_ws_predictor_loss: 1.4701 - 13s/epoch - 86ms/step\n",
      "Epoch 142/700\n",
      "\n",
      "Epoch 142: val_ws_predictor_loss did not improve from 1.45857\n",
      "151/151 - 13s - loss: 0.3796 - gate_predictor_loss: 0.0000e+00 - ws_predictor_loss: 0.1898 - val_loss: 2.9375 - val_gate_predictor_loss: 0.0000e+00 - val_ws_predictor_loss: 1.4687 - 13s/epoch - 87ms/step\n"
     ]
    },
    {
     "name": "stdout",
     "output_type": "stream",
     "text": [
      "Epoch 143/700\n",
      "\n",
      "Epoch 143: val_ws_predictor_loss did not improve from 1.45857\n",
      "151/151 - 13s - loss: 0.3796 - gate_predictor_loss: 0.0000e+00 - ws_predictor_loss: 0.1898 - val_loss: 2.9292 - val_gate_predictor_loss: 0.0000e+00 - val_ws_predictor_loss: 1.4646 - 13s/epoch - 87ms/step\n",
      "Epoch 144/700\n",
      "\n",
      "Epoch 144: val_ws_predictor_loss did not improve from 1.45857\n",
      "151/151 - 13s - loss: 0.3796 - gate_predictor_loss: 0.0000e+00 - ws_predictor_loss: 0.1898 - val_loss: 2.9337 - val_gate_predictor_loss: 0.0000e+00 - val_ws_predictor_loss: 1.4668 - 13s/epoch - 86ms/step\n",
      "Epoch 145/700\n",
      "\n",
      "Epoch 145: val_ws_predictor_loss did not improve from 1.45857\n",
      "151/151 - 13s - loss: 0.3837 - gate_predictor_loss: 0.0000e+00 - ws_predictor_loss: 0.1913 - val_loss: 3.0576 - val_gate_predictor_loss: 0.0000e+00 - val_ws_predictor_loss: 1.5283 - 13s/epoch - 86ms/step\n",
      "Epoch 146/700\n",
      "\n",
      "Epoch 146: val_ws_predictor_loss did not improve from 1.45857\n",
      "151/151 - 13s - loss: 0.3805 - gate_predictor_loss: 0.0000e+00 - ws_predictor_loss: 0.1901 - val_loss: 2.9752 - val_gate_predictor_loss: 0.0000e+00 - val_ws_predictor_loss: 1.4875 - 13s/epoch - 87ms/step\n",
      "Epoch 147/700\n",
      "\n",
      "Epoch 147: val_ws_predictor_loss did not improve from 1.45857\n",
      "151/151 - 13s - loss: 0.3797 - gate_predictor_loss: 0.0000e+00 - ws_predictor_loss: 0.1898 - val_loss: 2.9469 - val_gate_predictor_loss: 0.0000e+00 - val_ws_predictor_loss: 1.4734 - 13s/epoch - 86ms/step\n",
      "Epoch 148/700\n",
      "\n",
      "Epoch 148: val_ws_predictor_loss did not improve from 1.45857\n",
      "151/151 - 13s - loss: 0.3796 - gate_predictor_loss: 0.0000e+00 - ws_predictor_loss: 0.1898 - val_loss: 2.9410 - val_gate_predictor_loss: 0.0000e+00 - val_ws_predictor_loss: 1.4705 - 13s/epoch - 86ms/step\n",
      "Epoch 149/700\n",
      "\n",
      "Epoch 149: val_ws_predictor_loss did not improve from 1.45857\n",
      "151/151 - 13s - loss: 0.3797 - gate_predictor_loss: 0.0000e+00 - ws_predictor_loss: 0.1898 - val_loss: 2.9353 - val_gate_predictor_loss: 0.0000e+00 - val_ws_predictor_loss: 1.4676 - 13s/epoch - 86ms/step\n",
      "Epoch 150/700\n",
      "\n",
      "Epoch 150: val_ws_predictor_loss did not improve from 1.45857\n",
      "151/151 - 13s - loss: 0.3796 - gate_predictor_loss: 0.0000e+00 - ws_predictor_loss: 0.1898 - val_loss: 2.9484 - val_gate_predictor_loss: 0.0000e+00 - val_ws_predictor_loss: 1.4741 - 13s/epoch - 86ms/step\n",
      "Epoch 151/700\n",
      "\n",
      "Epoch 151: val_ws_predictor_loss did not improve from 1.45857\n",
      "151/151 - 13s - loss: 0.3796 - gate_predictor_loss: 0.0000e+00 - ws_predictor_loss: 0.1898 - val_loss: 2.9381 - val_gate_predictor_loss: 0.0000e+00 - val_ws_predictor_loss: 1.4690 - 13s/epoch - 86ms/step\n",
      "Epoch 152/700\n",
      "\n",
      "Epoch 152: val_ws_predictor_loss did not improve from 1.45857\n",
      "151/151 - 13s - loss: 0.3796 - gate_predictor_loss: 0.0000e+00 - ws_predictor_loss: 0.1898 - val_loss: 2.9438 - val_gate_predictor_loss: 0.0000e+00 - val_ws_predictor_loss: 1.4719 - 13s/epoch - 86ms/step\n",
      "Epoch 153/700\n",
      "\n",
      "Epoch 153: val_ws_predictor_loss did not improve from 1.45857\n",
      "151/151 - 13s - loss: 0.3796 - gate_predictor_loss: 0.0000e+00 - ws_predictor_loss: 0.1898 - val_loss: 2.9382 - val_gate_predictor_loss: 0.0000e+00 - val_ws_predictor_loss: 1.4691 - 13s/epoch - 86ms/step\n",
      "Epoch 154/700\n",
      "\n",
      "Epoch 154: val_ws_predictor_loss did not improve from 1.45857\n",
      "151/151 - 13s - loss: 0.3796 - gate_predictor_loss: 0.0000e+00 - ws_predictor_loss: 0.1898 - val_loss: 2.9461 - val_gate_predictor_loss: 0.0000e+00 - val_ws_predictor_loss: 1.4730 - 13s/epoch - 86ms/step\n",
      "Epoch 155/700\n",
      "\n",
      "Epoch 155: val_ws_predictor_loss did not improve from 1.45857\n",
      "151/151 - 13s - loss: 0.3796 - gate_predictor_loss: 0.0000e+00 - ws_predictor_loss: 0.1898 - val_loss: 2.9533 - val_gate_predictor_loss: 0.0000e+00 - val_ws_predictor_loss: 1.4766 - 13s/epoch - 86ms/step\n",
      "Epoch 156/700\n",
      "\n",
      "Epoch 156: val_ws_predictor_loss did not improve from 1.45857\n",
      "151/151 - 13s - loss: 0.3796 - gate_predictor_loss: 0.0000e+00 - ws_predictor_loss: 0.1898 - val_loss: 2.9461 - val_gate_predictor_loss: 0.0000e+00 - val_ws_predictor_loss: 1.4730 - 13s/epoch - 86ms/step\n",
      "Epoch 157/700\n",
      "\n",
      "Epoch 157: val_ws_predictor_loss did not improve from 1.45857\n",
      "151/151 - 13s - loss: 0.3796 - gate_predictor_loss: 0.0000e+00 - ws_predictor_loss: 0.1898 - val_loss: 2.9490 - val_gate_predictor_loss: 0.0000e+00 - val_ws_predictor_loss: 1.4745 - 13s/epoch - 86ms/step\n",
      "Epoch 158/700\n",
      "\n",
      "Epoch 158: val_ws_predictor_loss did not improve from 1.45857\n",
      "151/151 - 13s - loss: 0.3796 - gate_predictor_loss: 0.0000e+00 - ws_predictor_loss: 0.1898 - val_loss: 2.9331 - val_gate_predictor_loss: 0.0000e+00 - val_ws_predictor_loss: 1.4665 - 13s/epoch - 86ms/step\n",
      "Epoch 159/700\n",
      "\n",
      "Epoch 159: val_ws_predictor_loss did not improve from 1.45857\n",
      "151/151 - 13s - loss: 0.3796 - gate_predictor_loss: 0.0000e+00 - ws_predictor_loss: 0.1898 - val_loss: 2.9381 - val_gate_predictor_loss: 0.0000e+00 - val_ws_predictor_loss: 1.4690 - 13s/epoch - 86ms/step\n",
      "Epoch 160/700\n",
      "\n",
      "Epoch 160: val_ws_predictor_loss did not improve from 1.45857\n",
      "151/151 - 13s - loss: 0.3812 - gate_predictor_loss: 0.0000e+00 - ws_predictor_loss: 0.1904 - val_loss: 2.9352 - val_gate_predictor_loss: 0.0000e+00 - val_ws_predictor_loss: 1.4660 - 13s/epoch - 86ms/step\n",
      "Epoch 161/700\n",
      "\n",
      "Epoch 161: val_ws_predictor_loss did not improve from 1.45857\n",
      "151/151 - 13s - loss: 0.3835 - gate_predictor_loss: 0.0000e+00 - ws_predictor_loss: 0.1912 - val_loss: 2.9498 - val_gate_predictor_loss: 0.0000e+00 - val_ws_predictor_loss: 1.4748 - 13s/epoch - 86ms/step\n",
      "Epoch 162/700\n",
      "\n",
      "Epoch 162: val_ws_predictor_loss did not improve from 1.45857\n",
      "151/151 - 13s - loss: 0.3797 - gate_predictor_loss: 0.0000e+00 - ws_predictor_loss: 0.1898 - val_loss: 2.9426 - val_gate_predictor_loss: 0.0000e+00 - val_ws_predictor_loss: 1.4712 - 13s/epoch - 86ms/step\n",
      "Epoch 163/700\n",
      "\n",
      "Epoch 163: val_ws_predictor_loss did not improve from 1.45857\n",
      "151/151 - 13s - loss: 0.3796 - gate_predictor_loss: 0.0000e+00 - ws_predictor_loss: 0.1898 - val_loss: 2.9477 - val_gate_predictor_loss: 0.0000e+00 - val_ws_predictor_loss: 1.4738 - 13s/epoch - 86ms/step\n",
      "Epoch 164/700\n",
      "\n",
      "Epoch 164: val_ws_predictor_loss did not improve from 1.45857\n",
      "151/151 - 13s - loss: 0.3796 - gate_predictor_loss: 0.0000e+00 - ws_predictor_loss: 0.1898 - val_loss: 2.9363 - val_gate_predictor_loss: 0.0000e+00 - val_ws_predictor_loss: 1.4681 - 13s/epoch - 86ms/step\n",
      "Epoch 165/700\n",
      "\n",
      "Epoch 165: val_ws_predictor_loss did not improve from 1.45857\n",
      "151/151 - 13s - loss: 0.3796 - gate_predictor_loss: 0.0000e+00 - ws_predictor_loss: 0.1897 - val_loss: 2.9508 - val_gate_predictor_loss: 0.0000e+00 - val_ws_predictor_loss: 1.4754 - 13s/epoch - 86ms/step\n",
      "Epoch 166/700\n",
      "\n",
      "Epoch 166: val_ws_predictor_loss did not improve from 1.45857\n",
      "151/151 - 13s - loss: 0.3795 - gate_predictor_loss: 0.0000e+00 - ws_predictor_loss: 0.1897 - val_loss: 2.9439 - val_gate_predictor_loss: 0.0000e+00 - val_ws_predictor_loss: 1.4719 - 13s/epoch - 86ms/step\n",
      "Epoch 167/700\n",
      "\n",
      "Epoch 167: val_ws_predictor_loss did not improve from 1.45857\n",
      "151/151 - 13s - loss: 0.3795 - gate_predictor_loss: 0.0000e+00 - ws_predictor_loss: 0.1897 - val_loss: 2.9537 - val_gate_predictor_loss: 0.0000e+00 - val_ws_predictor_loss: 1.4768 - 13s/epoch - 86ms/step\n",
      "Epoch 168/700\n",
      "\n",
      "Epoch 168: val_ws_predictor_loss did not improve from 1.45857\n",
      "151/151 - 13s - loss: 0.3795 - gate_predictor_loss: 0.0000e+00 - ws_predictor_loss: 0.1897 - val_loss: 2.9497 - val_gate_predictor_loss: 0.0000e+00 - val_ws_predictor_loss: 1.4748 - 13s/epoch - 86ms/step\n",
      "Epoch 169/700\n",
      "\n",
      "Epoch 169: val_ws_predictor_loss did not improve from 1.45857\n",
      "151/151 - 13s - loss: 0.3795 - gate_predictor_loss: 0.0000e+00 - ws_predictor_loss: 0.1897 - val_loss: 2.9471 - val_gate_predictor_loss: 0.0000e+00 - val_ws_predictor_loss: 1.4735 - 13s/epoch - 87ms/step\n",
      "Epoch 170/700\n",
      "\n",
      "Epoch 170: val_ws_predictor_loss did not improve from 1.45857\n",
      "151/151 - 13s - loss: 0.3795 - gate_predictor_loss: 0.0000e+00 - ws_predictor_loss: 0.1897 - val_loss: 2.9497 - val_gate_predictor_loss: 0.0000e+00 - val_ws_predictor_loss: 1.4748 - 13s/epoch - 87ms/step\n",
      "Epoch 171/700\n",
      "\n",
      "Epoch 171: val_ws_predictor_loss did not improve from 1.45857\n",
      "151/151 - 13s - loss: 0.3795 - gate_predictor_loss: 0.0000e+00 - ws_predictor_loss: 0.1897 - val_loss: 2.9413 - val_gate_predictor_loss: 0.0000e+00 - val_ws_predictor_loss: 1.4706 - 13s/epoch - 87ms/step\n",
      "Epoch 172/700\n",
      "\n",
      "Epoch 172: val_ws_predictor_loss did not improve from 1.45857\n"
     ]
    },
    {
     "name": "stdout",
     "output_type": "stream",
     "text": [
      "151/151 - 13s - loss: 0.3795 - gate_predictor_loss: 0.0000e+00 - ws_predictor_loss: 0.1897 - val_loss: 2.9459 - val_gate_predictor_loss: 0.0000e+00 - val_ws_predictor_loss: 1.4729 - 13s/epoch - 87ms/step\n",
      "Epoch 173/700\n",
      "\n",
      "Epoch 173: val_ws_predictor_loss did not improve from 1.45857\n",
      "151/151 - 13s - loss: 0.3795 - gate_predictor_loss: 0.0000e+00 - ws_predictor_loss: 0.1897 - val_loss: 2.9394 - val_gate_predictor_loss: 0.0000e+00 - val_ws_predictor_loss: 1.4697 - 13s/epoch - 86ms/step\n",
      "Epoch 174/700\n",
      "\n",
      "Epoch 174: val_ws_predictor_loss did not improve from 1.45857\n",
      "151/151 - 13s - loss: 0.3796 - gate_predictor_loss: 0.0000e+00 - ws_predictor_loss: 0.1897 - val_loss: 2.9566 - val_gate_predictor_loss: 0.0000e+00 - val_ws_predictor_loss: 1.4783 - 13s/epoch - 86ms/step\n",
      "Epoch 175/700\n",
      "\n",
      "Epoch 175: val_ws_predictor_loss did not improve from 1.45857\n",
      "151/151 - 13s - loss: 0.3795 - gate_predictor_loss: 0.0000e+00 - ws_predictor_loss: 0.1897 - val_loss: 2.9449 - val_gate_predictor_loss: 0.0000e+00 - val_ws_predictor_loss: 1.4724 - 13s/epoch - 87ms/step\n",
      "Epoch 176/700\n",
      "\n",
      "Epoch 176: val_ws_predictor_loss did not improve from 1.45857\n",
      "151/151 - 13s - loss: 0.3795 - gate_predictor_loss: 0.0000e+00 - ws_predictor_loss: 0.1897 - val_loss: 2.9436 - val_gate_predictor_loss: 0.0000e+00 - val_ws_predictor_loss: 1.4718 - 13s/epoch - 87ms/step\n",
      "Epoch 177/700\n",
      "\n",
      "Epoch 177: val_ws_predictor_loss did not improve from 1.45857\n",
      "151/151 - 13s - loss: 0.3795 - gate_predictor_loss: 0.0000e+00 - ws_predictor_loss: 0.1897 - val_loss: 2.9429 - val_gate_predictor_loss: 0.0000e+00 - val_ws_predictor_loss: 1.4714 - 13s/epoch - 87ms/step\n",
      "Epoch 178/700\n",
      "\n",
      "Epoch 178: val_ws_predictor_loss did not improve from 1.45857\n",
      "151/151 - 13s - loss: 0.3795 - gate_predictor_loss: 0.0000e+00 - ws_predictor_loss: 0.1897 - val_loss: 2.9439 - val_gate_predictor_loss: 0.0000e+00 - val_ws_predictor_loss: 1.4719 - 13s/epoch - 86ms/step\n",
      "Epoch 179/700\n",
      "\n",
      "Epoch 179: val_ws_predictor_loss did not improve from 1.45857\n",
      "151/151 - 13s - loss: 0.3796 - gate_predictor_loss: 0.0000e+00 - ws_predictor_loss: 0.1898 - val_loss: 2.9445 - val_gate_predictor_loss: 0.0000e+00 - val_ws_predictor_loss: 1.4722 - 13s/epoch - 86ms/step\n",
      "Epoch 180/700\n",
      "\n",
      "Epoch 180: val_ws_predictor_loss did not improve from 1.45857\n",
      "151/151 - 13s - loss: 0.3795 - gate_predictor_loss: 0.0000e+00 - ws_predictor_loss: 0.1897 - val_loss: 2.9515 - val_gate_predictor_loss: 0.0000e+00 - val_ws_predictor_loss: 1.4757 - 13s/epoch - 87ms/step\n",
      "Epoch 180: early stopping\n"
     ]
    },
    {
     "data": {
      "image/png": "[encoded data removed]",
      "text/plain": [
       "<Figure size 800x600 with 1 Axes>"
      ]
     },
     "metadata": {},
     "output_type": "display_data"
    }
   ],
   "source": [
    "lr_schedule = keras.optimizers.schedules.ExponentialDecay(initial_learning_rate=learning_rate, \n",
    "                                                          decay_steps=decay_steps,\n",
    "                                                          decay_rate=decay_rate)\n",
    "\n",
    "filda.compile(optimizer=Adam(learning_rate=lr_schedule),\n",
    "             loss=[gate_loss, water_level_threshold], \n",
    "             loss_weights=[0.0, 2.0]\n",
    "            )\n",
    "\n",
    "\n",
    "es = EarlyStopping(monitor='val_loss', mode='min', verbose=2, patience=100)\n",
    "mc = ModelCheckpoint('../saved_models/gtnp_gtnp_13_no_attention.h5'.format(n_hours, K),\n",
    "                     monitor='val_ws_predictor_loss',\n",
    "                     mode='min',\n",
    "                     verbose=2, \n",
    "                     custom_objects={'gate_loss':gate_loss, 'water_level_threshold':water_level_threshold}, \n",
    "                     save_best_only=True)\n",
    "\n",
    "\n",
    "history = filda.fit([train_cov, train_tws_reshape, train_adj_mat], [train_gate_pump_y, train_ws_y],\n",
    "                   validation_data=([val_cov, val_tws_reshape, val_adj_mat], [val_gate_pump_y, val_ws_y]),\n",
    "                   batch_size=BATCH, \n",
    "                   epochs=EPOCHS, \n",
    "                   verbose=2, \n",
    "                   callbacks=[es, mc],\n",
    "                   shuffle=True,\n",
    "                  )\n",
    "\n",
    "\n",
    "plt.rcParams[\"figure.figsize\"] = (8, 6)\n",
    "plt.plot(history.history['loss'], label='train')\n",
    "plt.plot(history.history['val_loss'], label='val')\n",
    "plt.xticks(fontsize=14)\n",
    "plt.yticks(fontsize=14)\n",
    "plt.xlabel('Epoch', fontsize=16)\n",
    "plt.ylabel('Loss', fontsize=16)\n",
    "plt.legend(fontsize=14)\n",
    "plt.title(\"Training loss vs Testing loss\", fontsize=18)\n",
    "# plt.savefig('graph/rnn_loss.png', dpi=300)\n",
    "plt.show()"
   ]
  },
  {
   "cell_type": "markdown",
   "id": "274afc23",
   "metadata": {},
   "source": [
    "### Performance"
   ]
  },
  {
   "cell_type": "code",
   "execution_count": 16,
   "id": "c761507a",
   "metadata": {
    "scrolled": true
   },
   "outputs": [
    {
     "name": "stdout",
     "output_type": "stream",
     "text": [
      "WARNING:tensorflow:Layer LSTM will not use cuDNN kernels since it doesn't meet the criteria. It will use a generic GPU kernel as fallback when running on GPU.\n",
      "WARNING:tensorflow:Layer LSTM will not use cuDNN kernels since it doesn't meet the criteria. It will use a generic GPU kernel as fallback when running on GPU.\n"
     ]
    }
   ],
   "source": [
    "saved_model = load_model('../saved_models/gtnp_gtnp_13_no_attention.h5',\n",
    "                         custom_objects={'gate_loss':gate_loss, \n",
    "                                         'water_level_threshold':water_level_threshold,\n",
    "                                         'GCNConv': GCNConv\n",
    "                                        }\n",
    "                        )"
   ]
  },
  {
   "cell_type": "code",
   "execution_count": 17,
   "id": "437232bc",
   "metadata": {},
   "outputs": [
    {
     "name": "stdout",
     "output_type": "stream",
     "text": [
      "603/603 [==============================] - 5s 6ms/step\n",
      "(19268, 24, 7)\n",
      "(19268, 96)\n"
     ]
    }
   ],
   "source": [
    "gate_pump_pred, ws_pred = saved_model.predict([test_cov, test_tws_reshape, test_adj_mat])\n",
    "\n",
    "print(gate_pump_pred.shape)\n",
    "print(ws_pred.shape)"
   ]
  },
  {
   "cell_type": "markdown",
   "id": "37fd7424",
   "metadata": {},
   "source": [
    "#### ws pred, gate pred"
   ]
  },
  {
   "cell_type": "code",
   "execution_count": 18,
   "id": "73063d86",
   "metadata": {},
   "outputs": [
    {
     "data": {
      "text/plain": [
       "(19268, 24, 4)"
      ]
     },
     "execution_count": 18,
     "metadata": {},
     "output_type": "execute_result"
    }
   ],
   "source": [
    "ws_pred_gate_pred_inv = ws_scaler.inverse_transform(ws_pred)\n",
    "ws_pred_gate_pred_inv = ws_pred_gate_pred_inv.reshape((-1, K, 4))\n",
    "ws_pred_gate_pred_inv.shape"
   ]
  },
  {
   "cell_type": "markdown",
   "id": "181b7677",
   "metadata": {},
   "source": [
    "#### ws true, gate true"
   ]
  },
  {
   "cell_type": "code",
   "execution_count": 19,
   "id": "fc62a508",
   "metadata": {},
   "outputs": [
    {
     "data": {
      "text/plain": [
       "(19268, 24, 4)"
      ]
     },
     "execution_count": 19,
     "metadata": {},
     "output_type": "execute_result"
    }
   ],
   "source": [
    "ws_true_gate_true = test_ws_y\n",
    "ws_true_gate_true_inv = ws_scaler.inverse_transform(ws_true_gate_true)\n",
    "ws_true_gate_true_inv = ws_true_gate_true_inv.reshape((-1, K, 4))\n",
    "ws_true_gate_true_inv.shape"
   ]
  },
  {
   "cell_type": "markdown",
   "id": "ffa81cf7",
   "metadata": {},
   "source": [
    "#### ws pred, gate true"
   ]
  },
  {
   "cell_type": "code",
   "execution_count": 20,
   "id": "bb27e44e",
   "metadata": {},
   "outputs": [
    {
     "name": "stdout",
     "output_type": "stream",
     "text": [
      "WARNING:tensorflow:Layer LSTM will not use cuDNN kernels since it doesn't meet the criteria. It will use a generic GPU kernel as fallback when running on GPU.\n",
      "603/603 [==============================] - 2s 3ms/step\n"
     ]
    },
    {
     "data": {
      "text/plain": [
       "(19268, 24, 4)"
      ]
     },
     "execution_count": 20,
     "metadata": {},
     "output_type": "execute_result"
    }
   ],
   "source": [
    "ws_predictor = load_model('../saved_models/WaLeF_gtn_p.h5', custom_objects={'GCNConv': GCNConv})\n",
    "\n",
    "ws_pred_gate_true = ws_predictor.predict([test_cov, test_tws_reshape, test_adj_mat])\n",
    "ws_pred_gate_true_inv = ws_scaler.inverse_transform(ws_pred_gate_true)\n",
    "ws_pred_gate_true_inv = ws_pred_gate_true_inv.reshape((-1, 24, 4))\n",
    "ws_pred_gate_true_inv.shape"
   ]
  },
  {
   "cell_type": "markdown",
   "id": "ad36fbd5",
   "metadata": {},
   "source": [
    "### Upper threshould"
   ]
  },
  {
   "cell_type": "code",
   "execution_count": 21,
   "id": "056279a8",
   "metadata": {},
   "outputs": [
    {
     "name": "stdout",
     "output_type": "stream",
     "text": [
      "S1, S25A, S25B, S26 time steps: 96, 96, 118, 117\n",
      "S1, S25A, S25B, S26 areas: 14.82, 15.22, 18, 20.13\n",
      "TOTAL time steps: 427; TOTAL areas: 68.61\n",
      "--------------------------------------------------\n",
      "S1, S25A, S25B, S26 time steps: 85, 85, 96, 108\n",
      "S1, S25A, S25B, S26 areas: 11.5466, 12.1773, 13, 17.2181\n",
      "TOTAL time steps: 374; TOTAL areas: 54.3063\n",
      "--------------------------------------------------\n",
      "S1, S25A, S25B, S26 time steps: 32, 27, 40, 61\n",
      "S1, S25A, S25B, S26 areas: 3.5937, 3.1912, 4, 8.513\n",
      "TOTAL time steps: 160; TOTAL areas: 19.5877\n",
      "--------------------------------------------------\n"
     ]
    }
   ],
   "source": [
    "upper_threshold = 3.5\n",
    "t1 = 1\n",
    "\n",
    "flood_threshold_t1(ws_true_gate_true_inv, t1, upper_threshold)\n",
    "flood_threshold_t1(ws_pred_gate_true_inv, t1, upper_threshold)\n",
    "flood_threshold_t1(ws_pred_gate_pred_inv, t1, upper_threshold)"
   ]
  },
  {
   "cell_type": "code",
   "execution_count": 22,
   "id": "9c7bbcf1",
   "metadata": {},
   "outputs": [
    {
     "name": "stdout",
     "output_type": "stream",
     "text": [
      "S1, S25A, S25B, S26 time steps: 6, 5, 6, 6\n",
      "S1, S25A, S25B, S26 areas: 0.84, 0.72, 1, 1.0\n",
      "TOTAL time steps: 23; TOTAL areas: 3.62\n",
      "--------------------------------------------------\n",
      "S1, S25A, S25B, S26 time steps: 6, 6, 5, 5\n",
      "S1, S25A, S25B, S26 areas: 0.6148, 0.6425, 1, 0.8663\n",
      "TOTAL time steps: 22; TOTAL areas: 3.0018\n",
      "--------------------------------------------------\n",
      "S1, S25A, S25B, S26 time steps: 2, 1, 3, 3\n",
      "S1, S25A, S25B, S26 areas: 0.1148, 0.0691, 0, 0.3399\n",
      "TOTAL time steps: 9; TOTAL areas: 0.7518\n",
      "--------------------------------------------------\n"
     ]
    }
   ],
   "source": [
    "flood_threshold_t1(ws_true_gate_true_inv[7640-23:7680-23], t1, upper_threshold)\n",
    "flood_threshold_t1(ws_pred_gate_true_inv[7640-23:7680-23], t1, upper_threshold)\n",
    "flood_threshold_t1(ws_pred_gate_pred_inv[7640-23:7680-23], t1, upper_threshold)"
   ]
  },
  {
   "cell_type": "code",
   "execution_count": 23,
   "id": "b8b3581c",
   "metadata": {},
   "outputs": [
    {
     "name": "stdout",
     "output_type": "stream",
     "text": [
      "time steps: 10248, areas: 1646.6399002075195\n",
      "time steps: 12130, areas: 2088.0380942821503\n",
      "time steps: 8140, areas: 1308.1216714382172\n"
     ]
    }
   ],
   "source": [
    "flood_threshold(ws_true_gate_true_inv, upper_threshold)\n",
    "flood_threshold(ws_pred_gate_true_inv, upper_threshold)\n",
    "flood_threshold(ws_pred_gate_pred_inv, upper_threshold)"
   ]
  },
  {
   "cell_type": "markdown",
   "id": "5b5e11a6",
   "metadata": {},
   "source": [
    "### Lower threshold"
   ]
  },
  {
   "cell_type": "code",
   "execution_count": 24,
   "id": "e9c7d7f2",
   "metadata": {},
   "outputs": [
    {
     "name": "stdout",
     "output_type": "stream",
     "text": [
      "S1, S25A, S25B, S26 time steps: 1346, 1341, 1229, 1250\n",
      "S1, S25A, S25B, S26 areas: -385.8, -383.38, -345.08, -350.84:\n",
      "TOTAL time steps: 5166; TOTAL areas: -1465.1\n",
      "--------------------------------------------------\n",
      "S1, S25A, S25B, S26 time steps: 1390, 1427, 1282, 1476\n",
      "S1, S25A, S25B, S26 areas: -398.849, -392.0414, -350.2885, -429.5386:\n",
      "TOTAL time steps: 5575; TOTAL areas: -1570.7176\n",
      "--------------------------------------------------\n",
      "S1, S25A, S25B, S26 time steps: 341, 149, 40, 144\n",
      "S1, S25A, S25B, S26 areas: -60.4825, -23.0314, -4.2482, -21.1427:\n",
      "TOTAL time steps: 674; TOTAL areas: -108.9048\n",
      "--------------------------------------------------\n"
     ]
    }
   ],
   "source": [
    "lower_threshold = 0\n",
    "t1 = 1\n",
    "\n",
    "drought_threshold_t1(ws_true_gate_true_inv, t1, lower_threshold)\n",
    "drought_threshold_t1(ws_pred_gate_true_inv, t1, lower_threshold)\n",
    "drought_threshold_t1(ws_pred_gate_pred_inv, t1, lower_threshold)"
   ]
  },
  {
   "cell_type": "code",
   "execution_count": 25,
   "id": "9d114156",
   "metadata": {},
   "outputs": [
    {
     "name": "stdout",
     "output_type": "stream",
     "text": [
      "S1, S25A, S25B, S26 time steps: 0, 0, 0, 0\n",
      "S1, S25A, S25B, S26 areas: 0, 0, 0, 0:\n",
      "TOTAL time steps: 0; TOTAL areas: 0\n",
      "--------------------------------------------------\n",
      "S1, S25A, S25B, S26 time steps: 0, 0, 0, 0\n",
      "S1, S25A, S25B, S26 areas: 0, 0, 0, 0:\n",
      "TOTAL time steps: 0; TOTAL areas: 0\n",
      "--------------------------------------------------\n",
      "S1, S25A, S25B, S26 time steps: 0, 0, 0, 0\n",
      "S1, S25A, S25B, S26 areas: 0, 0, 0, 0:\n",
      "TOTAL time steps: 0; TOTAL areas: 0\n",
      "--------------------------------------------------\n"
     ]
    }
   ],
   "source": [
    "drought_threshold_t1(ws_true_gate_true_inv[7640-23:7680-23], t1, lower_threshold)\n",
    "drought_threshold_t1(ws_pred_gate_true_inv[7640-23:7680-23], t1, lower_threshold)\n",
    "drought_threshold_t1(ws_pred_gate_pred_inv[7640-23:7680-23], t1, lower_threshold)"
   ]
  },
  {
   "cell_type": "code",
   "execution_count": 26,
   "id": "880f11bf",
   "metadata": {},
   "outputs": [
    {
     "name": "stdout",
     "output_type": "stream",
     "text": [
      "time steps: 124148, areas: 35182.6098122485\n",
      "time steps: 127126, areas: 34960.07284716559\n",
      "time steps: 13308, areas: 2259.202274329076\n"
     ]
    }
   ],
   "source": [
    "drought_threshold(ws_true_gate_true_inv, lower_threshold)\n",
    "drought_threshold(ws_pred_gate_true_inv, lower_threshold)\n",
    "drought_threshold(ws_pred_gate_pred_inv, lower_threshold)"
   ]
  },
  {
   "cell_type": "code",
   "execution_count": 27,
   "id": "f2c3007c",
   "metadata": {},
   "outputs": [
    {
     "name": "stdout",
     "output_type": "stream",
     "text": [
      "time steps: 5166, areas: 1465.099992136471\n",
      "time steps: 5575, areas: 1570.7175889443388\n",
      "time steps: 674, areas: 108.90482664119918\n"
     ]
    }
   ],
   "source": [
    "ws_true_gate_true_inv_24 = ws_true_gate_true_inv[:, t1, :]\n",
    "ws_pred_gate_true_inv_24 = ws_pred_gate_true_inv[:, t1, :]\n",
    "ws_pred_gate_pred_inv_24 = ws_pred_gate_pred_inv[:, t1, :]\n",
    "\n",
    "ws_true_gate_true_inv_24 = ws_true_gate_true_inv_24.reshape((-1, 1, 4))\n",
    "ws_pred_gate_true_inv_24 = ws_pred_gate_true_inv_24.reshape((-1, 1, 4))\n",
    "ws_pred_gate_pred_inv_24 = ws_pred_gate_pred_inv_24.reshape((-1, 1, 4))\n",
    "\n",
    "drought_threshold(ws_true_gate_true_inv_24, lower_threshold)\n",
    "drought_threshold(ws_pred_gate_true_inv_24, lower_threshold)\n",
    "drought_threshold(ws_pred_gate_pred_inv_24, lower_threshold)"
   ]
  },
  {
   "cell_type": "code",
   "execution_count": null,
   "id": "89bdb658",
   "metadata": {},
   "outputs": [],
   "source": []
  },
  {
   "cell_type": "code",
   "execution_count": null,
   "id": "dcd573a7",
   "metadata": {},
   "outputs": [],
   "source": []
  },
  {
   "cell_type": "code",
   "execution_count": null,
   "id": "57f83142",
   "metadata": {},
   "outputs": [],
   "source": []
  }
 ],
 "metadata": {
  "kernelspec": {
   "display_name": "Python 3 (ipykernel)",
   "language": "python",
   "name": "python3"
  },
  "language_info": {
   "codemirror_mode": {
    "name": "ipython",
    "version": 3
   },
   "file_extension": ".py",
   "mimetype": "text/x-python",
   "name": "python",
   "nbconvert_exporter": "python",
   "pygments_lexer": "ipython3",
   "version": "3.10.12"
  }
 },
 "nbformat": 4,
 "nbformat_minor": 5
}
