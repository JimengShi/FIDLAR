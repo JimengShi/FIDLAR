{
 "cells": [
  {
   "cell_type": "code",
   "execution_count": 2,
   "id": "efa98cb4",
   "metadata": {},
   "outputs": [],
   "source": [
    "import sys\n",
    "import os\n",
    "\n",
    "current_directory = os.getcwd()        \n",
    "parent_directory = os.path.dirname(current_directory)\n",
    "sys.path.append(parent_directory)\n",
    "\n",
    "\n",
    "from preprocess.graph import graph_topology_5\n",
    "from preprocess.BaselinePrerocess import baseline_process, baseline_process_for_gate_predictor\n",
    "from preprocess.GraphTransformerPrerocess import graph_water_transformer_cov_process_for_gate_predictor\n",
    "from baselines.tcn import TCN\n",
    "from models.graph_water_transformer_cov import graph_water_transformer_cov_gate_predictor\n",
    "\n",
    "from losses.loss import gate_loss, water_level_threshold\n",
    "from tensorflow.keras.models import load_model\n",
    "from tensorflow import keras\n",
    "from tensorflow.keras import Input, Model\n",
    "from tensorflow.keras import layers\n",
    "from tensorflow.keras.optimizers import Adam\n",
    "from tensorflow.keras.callbacks import EarlyStopping\n",
    "from tensorflow.keras.callbacks import ModelCheckpoint\n",
    "from tensorflow.keras import backend as KB\n",
    "import matplotlib.pyplot as plt\n",
    "import pandas as pd\n",
    "import numpy as np\n",
    "import time\n",
    "from postprocess.threshold import flood_threshold, drought_threshold, flood_threshold_t1, drought_threshold_t1\n",
    "from spektral.layers import GCNConv"
   ]
  },
  {
   "cell_type": "code",
   "execution_count": 3,
   "id": "0092be29",
   "metadata": {},
   "outputs": [],
   "source": [
    "os.environ[\"CUDA_VISIBLE_DEVICES\"] = \"6\""
   ]
  },
  {
   "cell_type": "code",
   "execution_count": 4,
   "id": "04b8077a",
   "metadata": {},
   "outputs": [],
   "source": [
    "n_hours = 72\n",
    "K = 24 \n",
    "masked_value = 1e-10\n",
    "split_1 = 0.8\n",
    "split_2 = 0.9\n",
    "sigma2 = 0.1\n",
    "epsilon = 0.5"
   ]
  },
  {
   "cell_type": "code",
   "execution_count": 5,
   "id": "d8184307",
   "metadata": {},
   "outputs": [
    {
     "name": "stdout",
     "output_type": "stream",
     "text": [
      "Index(['WS_S1', 'WS_S4', 'FLOW_S25A', 'GATE_S25A', 'HWS_S25A', 'TWS_S25A',\n",
      "       'FLOW_S25B', 'GATE_S25B', 'GATE_S25B2', 'HWS_S25B', 'TWS_S25B',\n",
      "       'PUMP_S25B', 'FLOW_S26', 'GATE_S26_1', 'GATE_S26_2', 'HWS_S26',\n",
      "       'TWS_S26', 'PUMP_S26', 'MEAN_RAIN'],\n",
      "      dtype='object')\n"
     ]
    }
   ],
   "source": [
    "train_X_mask, val_X_mask, test_X_mask, \\\n",
    "train_ws_y, val_ws_y, test_ws_y, \\\n",
    "scaler, ws_scaler = baseline_process(n_hours, K, masked_value, split_1, split_2)"
   ]
  },
  {
   "cell_type": "code",
   "execution_count": 6,
   "id": "dd97ac81",
   "metadata": {},
   "outputs": [
    {
     "name": "stdout",
     "output_type": "stream",
     "text": [
      "Index(['WS_S1', 'WS_S4', 'FLOW_S25A', 'GATE_S25A', 'HWS_S25A', 'TWS_S25A',\n",
      "       'FLOW_S25B', 'GATE_S25B', 'GATE_S25B2', 'HWS_S25B', 'TWS_S25B',\n",
      "       'PUMP_S25B', 'FLOW_S26', 'GATE_S26_1', 'GATE_S26_2', 'HWS_S26',\n",
      "       'TWS_S26', 'PUMP_S26', 'MEAN_RAIN'],\n",
      "      dtype='object')\n",
      "train_tws/val_tws/test_tws: (77069, 5, 72) (9634, 5, 72) (19268, 5, 72) \n",
      " train_cov/val_cov/test_cov: (77069, 96, 12) (9634, 96, 12) (19268, 96, 12) \n",
      " train_ws_y/val_ws_y/test_ws_y: (77069, 96) (9634, 96) (19268, 96) \n",
      "  train_gate_pump_y/val_gate_pump_y/test_gate_pump_y: (77069, 24, 7) (9634, 24, 7) (19268, 24, 7)\n"
     ]
    }
   ],
   "source": [
    "train_cov, val_cov, test_cov, \\\n",
    "train_tws_reshape, val_tws_reshape, test_tws_reshape, \\\n",
    "train_gate_pump_y, val_gate_pump_y, test_gate_pump_y, \\\n",
    "train_ws_y, val_ws_y, test_ws_y, \\\n",
    "scaler, ws_scaler, gate_scalar = graph_water_transformer_cov_process_for_gate_predictor(n_hours, K, masked_value, split_1, split_2)"
   ]
  },
  {
   "cell_type": "markdown",
   "id": "265ed7ff",
   "metadata": {},
   "source": [
    "### Graph topology"
   ]
  },
  {
   "cell_type": "code",
   "execution_count": 7,
   "id": "98e803d1",
   "metadata": {},
   "outputs": [
    {
     "name": "stdout",
     "output_type": "stream",
     "text": [
      "node_indices: [0 0 0 0 1 1 2 2 3 3 4 4] \n",
      "neighbor_indices: [1 2 3 4 0 2 0 1 0 4 0 3]\n",
      "number of nodes: 5, number of edges: 12\n"
     ]
    }
   ],
   "source": [
    "train_adj_mat, val_adj_mat, test_adj_mat = graph_topology_5(n_hours, K, sigma2, epsilon, len(train_ws_y), len(val_ws_y), len(test_ws_y))"
   ]
  },
  {
   "cell_type": "markdown",
   "id": "8003a2dc",
   "metadata": {},
   "source": [
    "### Model"
   ]
  },
  {
   "cell_type": "markdown",
   "id": "4861afcd",
   "metadata": {},
   "source": [
    "#### Gate & pump predictor"
   ]
  },
  {
   "cell_type": "code",
   "execution_count": 8,
   "id": "cdfb0ee5",
   "metadata": {},
   "outputs": [],
   "source": [
    "# ====== preprocessing parameters ======\n",
    "n_hours = 72\n",
    "K = 24 \n",
    "masked_value = 1e-10\n",
    "split_1 = 0.8\n",
    "split_2 = 0.9\n",
    "\n",
    "\n",
    "# ===== model parameters ======\n",
    "nb_filters = 64\n",
    "kernel_size = 2\n",
    "pool_size = 4\n",
    "dropout = 0.0\n",
    "dense_units1 = 64\n",
    "dense_units2 = 32\n",
    "gate_min = 0.0\n",
    "gate_max = 1.0\n",
    "\n",
    "\n",
    "# ===== training parameters ======\n",
    "learning_rate = 1e-3\n",
    "decay_steps = 10000\n",
    "decay_rate = 0.9\n",
    "PATIENCE = 100\n",
    "EPOCHS = 700\n",
    "BATCH = 512\n",
    "input_shape = train_X_mask.shape[1:]"
   ]
  },
  {
   "cell_type": "code",
   "execution_count": 9,
   "id": "109abeeb",
   "metadata": {
    "scrolled": false
   },
   "outputs": [
    {
     "name": "stderr",
     "output_type": "stream",
     "text": [
      "2023-08-12 17:22:36.078000: I tensorflow/core/common_runtime/gpu/gpu_device.cc:1639] Created device /job:localhost/replica:0/task:0/device:GPU:0 with 10402 MB memory:  -> device: 0, name: NVIDIA GeForce GTX 1080 Ti, pci bus id: 0000:88:00.0, compute capability: 6.1\n"
     ]
    },
    {
     "name": "stdout",
     "output_type": "stream",
     "text": [
      "Model: \"gate_predictor\"\n",
      "_________________________________________________________________\n",
      " Layer (type)                Output Shape              Param #   \n",
      "=================================================================\n",
      " input_1 (InputLayer)        [(None, 96, 16)]          0         \n",
      "                                                                 \n",
      " masking (Masking)           (None, 96, 16)            0         \n",
      "                                                                 \n",
      " tcn (TCN)                   (None, 96, 64)            95552     \n",
      "                                                                 \n",
      " dense (Dense)               (None, 96, 32)            2080      \n",
      "                                                                 \n",
      " max_pooling1d (MaxPooling1  (None, 24, 32)            0         \n",
      " D)                                                              \n",
      "                                                                 \n",
      " dense_1 (Dense)             (None, 24, 7)             231       \n",
      "                                                                 \n",
      " tf.math.maximum (TFOpLambd  (None, 24, 7)             0         \n",
      " a)                                                              \n",
      "                                                                 \n",
      " tf.math.minimum (TFOpLambd  (None, 24, 7)             0         \n",
      " a)                                                              \n",
      "                                                                 \n",
      "=================================================================\n",
      "Total params: 97863 (382.28 KB)\n",
      "Trainable params: 97863 (382.28 KB)\n",
      "Non-trainable params: 0 (0.00 Byte)\n",
      "_________________________________________________________________\n"
     ]
    }
   ],
   "source": [
    "inputs = Input(shape=(train_X_mask.shape[1], train_X_mask.shape[2]))\n",
    "masked_inputs = layers.Masking(mask_value=masked_value)(inputs)\n",
    "\n",
    "gate_predictor = TCN(nb_filters=nb_filters,\n",
    "                     kernel_size=kernel_size,\n",
    "                     use_batch_norm=False,\n",
    "                     use_weight_norm=False,\n",
    "                     use_layer_norm=True,\n",
    "                     return_sequences=True,\n",
    "                     dropout_rate=dropout,\n",
    "                     activation='relu', \n",
    "                     input_shape=(train_X_mask.shape[1], train_X_mask.shape[2])\n",
    "                    )(masked_inputs)\n",
    "x = layers.Dense(32)(gate_predictor)\n",
    "x = layers.MaxPooling1D(pool_size)(x)\n",
    "x = layers.Dense(7)(x)\n",
    "out = KB.minimum(KB.maximum(x, gate_min), gate_max)\n",
    "\n",
    "\n",
    "gate_predictor = Model(inputs=inputs, outputs=out)\n",
    "gate_predictor._name = \"gate_predictor\"\n",
    "gate_predictor.summary()"
   ]
  },
  {
   "cell_type": "code",
   "execution_count": 10,
   "id": "7023c4a6",
   "metadata": {},
   "outputs": [],
   "source": [
    "gate_predictor.compile(optimizer='adam', loss='mse')"
   ]
  },
  {
   "cell_type": "markdown",
   "id": "1fab7c93",
   "metadata": {},
   "source": [
    "#### water stage predictor"
   ]
  },
  {
   "cell_type": "code",
   "execution_count": 11,
   "id": "c8002ff9",
   "metadata": {
    "scrolled": false
   },
   "outputs": [
    {
     "name": "stdout",
     "output_type": "stream",
     "text": [
      "WARNING:tensorflow:Layer LSTM will not use cuDNN kernels since it doesn't meet the criteria. It will use a generic GPU kernel as fallback when running on GPU.\n"
     ]
    }
   ],
   "source": [
    "ws_predictor = load_model('../saved_models/WaLeF_gtn_p.h5', custom_objects={'GCNConv': GCNConv})\n",
    "\n",
    "for layer in ws_predictor.layers:\n",
    "    layer.trainable = False\n",
    "\n",
    "ws_predictor._name = 'ws_predictor'    \n",
    "# ws_predictor.summary()"
   ]
  },
  {
   "cell_type": "markdown",
   "id": "733bce1a",
   "metadata": {},
   "source": [
    "#### Combine gate_predictor and trained ws_predictor"
   ]
  },
  {
   "cell_type": "code",
   "execution_count": 12,
   "id": "850a59ca",
   "metadata": {
    "scrolled": false
   },
   "outputs": [],
   "source": [
    "inputs_feat = Input(shape=(96, 16), name='inputs_feat')\n",
    "inputs_tws = Input(shape=(5, 72), name='input_tws')\n",
    "inputs_adj = Input(shape=(5, 5), name='input_adj')\n",
    "\n",
    "# ================ gate_predictor ================\n",
    "gate_predictor_output = gate_predictor(inputs_feat)  # 24*7\n",
    "\n",
    "\n",
    "# ============  future inputs with replaced gate & pump prediction ============\n",
    "replaced_future_gate_pump = layers.Concatenate(axis=-1)([inputs_feat[:, n_hours:, :2], \n",
    "                                                         gate_predictor_output, \n",
    "                                                         inputs_feat[:, n_hours:, 9:]\n",
    "                                                        ]\n",
    "                                                       )\n",
    "\n",
    "# ============ original past inputs + future inputs with replaced gate & pump prediction ============\n",
    "merged_inputs = layers.Concatenate(axis=1)([inputs_feat[:, :n_hours, :], replaced_future_gate_pump])\n",
    "merged_inputs_cov = merged_inputs[:, :, :12]\n",
    "\n",
    "ws_predictor_output = ws_predictor([merged_inputs_cov, inputs_tws, inputs_adj])\n",
    "\n",
    "filda = Model(inputs=[inputs_feat, inputs_tws, inputs_adj], outputs=[gate_predictor_output, ws_predictor_output], name='filda')\n",
    "# filda.summary()"
   ]
  },
  {
   "cell_type": "code",
   "execution_count": 14,
   "id": "cf907f2c",
   "metadata": {
    "scrolled": true
   },
   "outputs": [
    {
     "name": "stdout",
     "output_type": "stream",
     "text": [
      "Epoch 1/700\n"
     ]
    },
    {
     "name": "stderr",
     "output_type": "stream",
     "text": [
      "2023-08-10 12:04:09.504513: I tensorflow/compiler/xla/stream_executor/cuda/cuda_dnn.cc:432] Loaded cuDNN version 8600\n",
      "2023-08-10 12:04:11.189845: I tensorflow/compiler/xla/service/service.cc:168] XLA service 0x7f3fdc07fc80 initialized for platform CUDA (this does not guarantee that XLA will be used). Devices:\n",
      "2023-08-10 12:04:11.189913: I tensorflow/compiler/xla/service/service.cc:176]   StreamExecutor device (0): NVIDIA GeForce GTX 1080 Ti, Compute Capability 6.1\n",
      "2023-08-10 12:04:11.200659: I tensorflow/compiler/mlir/tensorflow/utils/dump_mlir_util.cc:255] disabling MLIR crash reproducer, set env var `MLIR_CRASH_REPRODUCER_DIRECTORY` to enable.\n",
      "2023-08-10 12:04:11.609246: I ./tensorflow/compiler/jit/device_compiler.h:186] Compiled cluster using XLA!  This line is logged at most once for the lifetime of the process.\n"
     ]
    },
    {
     "name": "stdout",
     "output_type": "stream",
     "text": [
      "\n",
      "Epoch 1: val_ws_predictor_loss improved from inf to 3.04273, saving model to ../saved_models/tcn_gtnp_1.h5\n"
     ]
    },
    {
     "name": "stderr",
     "output_type": "stream",
     "text": [
      "/aul/homes/jshi008/miniconda3/envs/tf213/lib/python3.10/site-packages/keras/src/engine/training.py:3000: UserWarning: You are saving your model as an HDF5 file via `model.save()`. This file format is considered legacy. We recommend using instead the native Keras format, e.g. `model.save('my_model.keras')`.\n",
      "  saving_api.save_model(\n"
     ]
    },
    {
     "name": "stdout",
     "output_type": "stream",
     "text": [
      "151/151 - 45s - loss: 0.5041 - gate_predictor_loss: 0.0000e+00 - ws_predictor_loss: 0.2521 - val_loss: 6.0855 - val_gate_predictor_loss: 0.0000e+00 - val_ws_predictor_loss: 3.0427 - 45s/epoch - 299ms/step\n",
      "Epoch 2/700\n",
      "\n",
      "Epoch 2: val_ws_predictor_loss did not improve from 3.04273\n",
      "151/151 - 19s - loss: 0.4988 - gate_predictor_loss: 0.0000e+00 - ws_predictor_loss: 0.2494 - val_loss: 6.0958 - val_gate_predictor_loss: 0.0000e+00 - val_ws_predictor_loss: 3.0479 - 19s/epoch - 127ms/step\n",
      "Epoch 3/700\n",
      "\n",
      "Epoch 3: val_ws_predictor_loss did not improve from 3.04273\n",
      "151/151 - 19s - loss: 0.4949 - gate_predictor_loss: 0.0000e+00 - ws_predictor_loss: 0.2474 - val_loss: 6.1033 - val_gate_predictor_loss: 0.0000e+00 - val_ws_predictor_loss: 3.0517 - 19s/epoch - 126ms/step\n",
      "Epoch 4/700\n",
      "\n",
      "Epoch 4: val_ws_predictor_loss improved from 3.04273 to 3.03715, saving model to ../saved_models/tcn_gtnp_1.h5\n",
      "151/151 - 19s - loss: 0.4939 - gate_predictor_loss: 0.0000e+00 - ws_predictor_loss: 0.2469 - val_loss: 6.0743 - val_gate_predictor_loss: 0.0000e+00 - val_ws_predictor_loss: 3.0372 - 19s/epoch - 127ms/step\n",
      "Epoch 5/700\n",
      "\n",
      "Epoch 5: val_ws_predictor_loss improved from 3.03715 to 3.02466, saving model to ../saved_models/tcn_gtnp_1.h5\n",
      "151/151 - 19s - loss: 0.4934 - gate_predictor_loss: 0.0000e+00 - ws_predictor_loss: 0.2467 - val_loss: 6.0493 - val_gate_predictor_loss: 0.0000e+00 - val_ws_predictor_loss: 3.0247 - 19s/epoch - 128ms/step\n",
      "Epoch 6/700\n",
      "\n",
      "Epoch 6: val_ws_predictor_loss improved from 3.02466 to 3.01981, saving model to ../saved_models/tcn_gtnp_1.h5\n",
      "151/151 - 20s - loss: 0.4933 - gate_predictor_loss: 0.0000e+00 - ws_predictor_loss: 0.2467 - val_loss: 6.0396 - val_gate_predictor_loss: 0.0000e+00 - val_ws_predictor_loss: 3.0198 - 20s/epoch - 130ms/step\n",
      "Epoch 7/700\n",
      "\n",
      "Epoch 7: val_ws_predictor_loss did not improve from 3.01981\n",
      "151/151 - 19s - loss: 0.4932 - gate_predictor_loss: 0.0000e+00 - ws_predictor_loss: 0.2466 - val_loss: 6.0447 - val_gate_predictor_loss: 0.0000e+00 - val_ws_predictor_loss: 3.0223 - 19s/epoch - 128ms/step\n",
      "Epoch 8/700\n",
      "\n",
      "Epoch 8: val_ws_predictor_loss improved from 3.01981 to 3.00867, saving model to ../saved_models/tcn_gtnp_1.h5\n",
      "151/151 - 20s - loss: 0.4931 - gate_predictor_loss: 0.0000e+00 - ws_predictor_loss: 0.2466 - val_loss: 6.0173 - val_gate_predictor_loss: 0.0000e+00 - val_ws_predictor_loss: 3.0087 - 20s/epoch - 129ms/step\n",
      "Epoch 9/700\n",
      "\n",
      "Epoch 9: val_ws_predictor_loss did not improve from 3.00867\n",
      "151/151 - 19s - loss: 0.4930 - gate_predictor_loss: 0.0000e+00 - ws_predictor_loss: 0.2465 - val_loss: 6.0883 - val_gate_predictor_loss: 0.0000e+00 - val_ws_predictor_loss: 3.0441 - 19s/epoch - 128ms/step\n",
      "Epoch 10/700\n",
      "\n",
      "Epoch 10: val_ws_predictor_loss did not improve from 3.00867\n",
      "151/151 - 19s - loss: 0.4927 - gate_predictor_loss: 0.0000e+00 - ws_predictor_loss: 0.2464 - val_loss: 6.0281 - val_gate_predictor_loss: 0.0000e+00 - val_ws_predictor_loss: 3.0141 - 19s/epoch - 128ms/step\n",
      "Epoch 11/700\n",
      "\n",
      "Epoch 11: val_ws_predictor_loss did not improve from 3.00867\n",
      "151/151 - 19s - loss: 0.4926 - gate_predictor_loss: 0.0000e+00 - ws_predictor_loss: 0.2463 - val_loss: 6.0268 - val_gate_predictor_loss: 0.0000e+00 - val_ws_predictor_loss: 3.0134 - 19s/epoch - 128ms/step\n",
      "Epoch 12/700\n",
      "\n",
      "Epoch 12: val_ws_predictor_loss did not improve from 3.00867\n",
      "151/151 - 19s - loss: 0.4926 - gate_predictor_loss: 0.0000e+00 - ws_predictor_loss: 0.2463 - val_loss: 6.0307 - val_gate_predictor_loss: 0.0000e+00 - val_ws_predictor_loss: 3.0154 - 19s/epoch - 128ms/step\n",
      "Epoch 13/700\n",
      "\n",
      "Epoch 13: val_ws_predictor_loss did not improve from 3.00867\n",
      "151/151 - 19s - loss: 0.4926 - gate_predictor_loss: 0.0000e+00 - ws_predictor_loss: 0.2463 - val_loss: 6.0355 - val_gate_predictor_loss: 0.0000e+00 - val_ws_predictor_loss: 3.0178 - 19s/epoch - 128ms/step\n",
      "Epoch 14/700\n",
      "\n",
      "Epoch 14: val_ws_predictor_loss did not improve from 3.00867\n",
      "151/151 - 19s - loss: 0.4925 - gate_predictor_loss: 0.0000e+00 - ws_predictor_loss: 0.2462 - val_loss: 6.0339 - val_gate_predictor_loss: 0.0000e+00 - val_ws_predictor_loss: 3.0169 - 19s/epoch - 127ms/step\n",
      "Epoch 15/700\n",
      "\n",
      "Epoch 15: val_ws_predictor_loss improved from 3.00867 to 2.38343, saving model to ../saved_models/tcn_gtnp_1.h5\n",
      "151/151 - 19s - loss: 0.4817 - gate_predictor_loss: 0.0000e+00 - ws_predictor_loss: 0.2409 - val_loss: 4.7669 - val_gate_predictor_loss: 0.0000e+00 - val_ws_predictor_loss: 2.3834 - 19s/epoch - 128ms/step\n",
      "Epoch 16/700\n",
      "\n",
      "Epoch 16: val_ws_predictor_loss improved from 2.38343 to 2.23496, saving model to ../saved_models/tcn_gtnp_1.h5\n",
      "151/151 - 19s - loss: 0.4614 - gate_predictor_loss: 0.0000e+00 - ws_predictor_loss: 0.2307 - val_loss: 4.4699 - val_gate_predictor_loss: 0.0000e+00 - val_ws_predictor_loss: 2.2350 - 19s/epoch - 128ms/step\n",
      "Epoch 17/700\n",
      "\n",
      "Epoch 17: val_ws_predictor_loss improved from 2.23496 to 1.61407, saving model to ../saved_models/tcn_gtnp_1.h5\n",
      "151/151 - 19s - loss: 0.4588 - gate_predictor_loss: 0.0000e+00 - ws_predictor_loss: 0.2294 - val_loss: 3.2281 - val_gate_predictor_loss: 0.0000e+00 - val_ws_predictor_loss: 1.6141 - 19s/epoch - 128ms/step\n",
      "Epoch 18/700\n",
      "\n",
      "Epoch 18: val_ws_predictor_loss did not improve from 1.61407\n",
      "151/151 - 19s - loss: 0.4298 - gate_predictor_loss: 0.0000e+00 - ws_predictor_loss: 0.2149 - val_loss: 3.2734 - val_gate_predictor_loss: 0.0000e+00 - val_ws_predictor_loss: 1.6367 - 19s/epoch - 127ms/step\n",
      "Epoch 19/700\n",
      "\n",
      "Epoch 19: val_ws_predictor_loss did not improve from 1.61407\n",
      "151/151 - 19s - loss: 0.4206 - gate_predictor_loss: 0.0000e+00 - ws_predictor_loss: 0.2103 - val_loss: 3.2673 - val_gate_predictor_loss: 0.0000e+00 - val_ws_predictor_loss: 1.6336 - 19s/epoch - 127ms/step\n",
      "Epoch 20/700\n",
      "\n",
      "Epoch 20: val_ws_predictor_loss did not improve from 1.61407\n",
      "151/151 - 19s - loss: 0.4194 - gate_predictor_loss: 0.0000e+00 - ws_predictor_loss: 0.2097 - val_loss: 3.2493 - val_gate_predictor_loss: 0.0000e+00 - val_ws_predictor_loss: 1.6247 - 19s/epoch - 127ms/step\n",
      "Epoch 21/700\n",
      "\n",
      "Epoch 21: val_ws_predictor_loss improved from 1.61407 to 1.60224, saving model to ../saved_models/tcn_gtnp_1.h5\n",
      "151/151 - 19s - loss: 0.4188 - gate_predictor_loss: 0.0000e+00 - ws_predictor_loss: 0.2094 - val_loss: 3.2045 - val_gate_predictor_loss: 0.0000e+00 - val_ws_predictor_loss: 1.6022 - 19s/epoch - 129ms/step\n",
      "Epoch 22/700\n",
      "\n",
      "Epoch 22: val_ws_predictor_loss improved from 1.60224 to 1.59342, saving model to ../saved_models/tcn_gtnp_1.h5\n",
      "151/151 - 19s - loss: 0.4178 - gate_predictor_loss: 0.0000e+00 - ws_predictor_loss: 0.2089 - val_loss: 3.1868 - val_gate_predictor_loss: 0.0000e+00 - val_ws_predictor_loss: 1.5934 - 19s/epoch - 128ms/step\n",
      "Epoch 23/700\n",
      "\n",
      "Epoch 23: val_ws_predictor_loss did not improve from 1.59342\n",
      "151/151 - 19s - loss: 0.4175 - gate_predictor_loss: 0.0000e+00 - ws_predictor_loss: 0.2088 - val_loss: 3.1925 - val_gate_predictor_loss: 0.0000e+00 - val_ws_predictor_loss: 1.5963 - 19s/epoch - 127ms/step\n",
      "Epoch 24/700\n",
      "\n",
      "Epoch 24: val_ws_predictor_loss did not improve from 1.59342\n",
      "151/151 - 19s - loss: 0.4176 - gate_predictor_loss: 0.0000e+00 - ws_predictor_loss: 0.2088 - val_loss: 3.2456 - val_gate_predictor_loss: 0.0000e+00 - val_ws_predictor_loss: 1.6228 - 19s/epoch - 127ms/step\n",
      "Epoch 25/700\n",
      "\n",
      "Epoch 25: val_ws_predictor_loss did not improve from 1.59342\n",
      "151/151 - 19s - loss: 0.4170 - gate_predictor_loss: 0.0000e+00 - ws_predictor_loss: 0.2085 - val_loss: 3.1911 - val_gate_predictor_loss: 0.0000e+00 - val_ws_predictor_loss: 1.5955 - 19s/epoch - 127ms/step\n",
      "Epoch 26/700\n",
      "\n",
      "Epoch 26: val_ws_predictor_loss did not improve from 1.59342\n",
      "151/151 - 19s - loss: 0.4167 - gate_predictor_loss: 0.0000e+00 - ws_predictor_loss: 0.2083 - val_loss: 3.2014 - val_gate_predictor_loss: 0.0000e+00 - val_ws_predictor_loss: 1.6007 - 19s/epoch - 127ms/step\n",
      "Epoch 27/700\n",
      "\n",
      "Epoch 27: val_ws_predictor_loss did not improve from 1.59342\n",
      "151/151 - 19s - loss: 0.4165 - gate_predictor_loss: 0.0000e+00 - ws_predictor_loss: 0.2082 - val_loss: 3.2015 - val_gate_predictor_loss: 0.0000e+00 - val_ws_predictor_loss: 1.6007 - 19s/epoch - 127ms/step\n",
      "Epoch 28/700\n",
      "\n",
      "Epoch 28: val_ws_predictor_loss improved from 1.59342 to 1.57548, saving model to ../saved_models/tcn_gtnp_1.h5\n",
      "151/151 - 19s - loss: 0.4161 - gate_predictor_loss: 0.0000e+00 - ws_predictor_loss: 0.2080 - val_loss: 3.1510 - val_gate_predictor_loss: 0.0000e+00 - val_ws_predictor_loss: 1.5755 - 19s/epoch - 128ms/step\n"
     ]
    },
    {
     "name": "stdout",
     "output_type": "stream",
     "text": [
      "Epoch 29/700\n",
      "\n",
      "Epoch 29: val_ws_predictor_loss improved from 1.57548 to 1.56016, saving model to ../saved_models/tcn_gtnp_1.h5\n",
      "151/151 - 19s - loss: 0.4011 - gate_predictor_loss: 0.0000e+00 - ws_predictor_loss: 0.2005 - val_loss: 3.1203 - val_gate_predictor_loss: 0.0000e+00 - val_ws_predictor_loss: 1.5602 - 19s/epoch - 128ms/step\n",
      "Epoch 30/700\n",
      "\n",
      "Epoch 30: val_ws_predictor_loss did not improve from 1.56016\n",
      "151/151 - 19s - loss: 0.3912 - gate_predictor_loss: 0.0000e+00 - ws_predictor_loss: 0.1956 - val_loss: 3.1281 - val_gate_predictor_loss: 0.0000e+00 - val_ws_predictor_loss: 1.5640 - 19s/epoch - 127ms/step\n",
      "Epoch 31/700\n",
      "\n",
      "Epoch 31: val_ws_predictor_loss did not improve from 1.56016\n",
      "151/151 - 19s - loss: 0.3904 - gate_predictor_loss: 0.0000e+00 - ws_predictor_loss: 0.1952 - val_loss: 3.1260 - val_gate_predictor_loss: 0.0000e+00 - val_ws_predictor_loss: 1.5630 - 19s/epoch - 127ms/step\n",
      "Epoch 32/700\n",
      "\n",
      "Epoch 32: val_ws_predictor_loss improved from 1.56016 to 1.53187, saving model to ../saved_models/tcn_gtnp_1.h5\n",
      "151/151 - 19s - loss: 0.3899 - gate_predictor_loss: 0.0000e+00 - ws_predictor_loss: 0.1949 - val_loss: 3.0637 - val_gate_predictor_loss: 0.0000e+00 - val_ws_predictor_loss: 1.5319 - 19s/epoch - 129ms/step\n",
      "Epoch 33/700\n",
      "\n",
      "Epoch 33: val_ws_predictor_loss did not improve from 1.53187\n",
      "151/151 - 19s - loss: 0.3897 - gate_predictor_loss: 0.0000e+00 - ws_predictor_loss: 0.1948 - val_loss: 3.1700 - val_gate_predictor_loss: 0.0000e+00 - val_ws_predictor_loss: 1.5850 - 19s/epoch - 127ms/step\n",
      "Epoch 34/700\n",
      "\n",
      "Epoch 34: val_ws_predictor_loss did not improve from 1.53187\n",
      "151/151 - 19s - loss: 0.3893 - gate_predictor_loss: 0.0000e+00 - ws_predictor_loss: 0.1947 - val_loss: 3.0732 - val_gate_predictor_loss: 0.0000e+00 - val_ws_predictor_loss: 1.5366 - 19s/epoch - 127ms/step\n",
      "Epoch 35/700\n",
      "\n",
      "Epoch 35: val_ws_predictor_loss did not improve from 1.53187\n",
      "151/151 - 19s - loss: 0.3889 - gate_predictor_loss: 0.0000e+00 - ws_predictor_loss: 0.1945 - val_loss: 3.1593 - val_gate_predictor_loss: 0.0000e+00 - val_ws_predictor_loss: 1.5797 - 19s/epoch - 127ms/step\n",
      "Epoch 36/700\n",
      "\n",
      "Epoch 36: val_ws_predictor_loss did not improve from 1.53187\n",
      "151/151 - 19s - loss: 0.3887 - gate_predictor_loss: 0.0000e+00 - ws_predictor_loss: 0.1944 - val_loss: 3.0973 - val_gate_predictor_loss: 0.0000e+00 - val_ws_predictor_loss: 1.5486 - 19s/epoch - 127ms/step\n",
      "Epoch 37/700\n",
      "\n",
      "Epoch 37: val_ws_predictor_loss did not improve from 1.53187\n",
      "151/151 - 19s - loss: 0.3885 - gate_predictor_loss: 0.0000e+00 - ws_predictor_loss: 0.1943 - val_loss: 3.0864 - val_gate_predictor_loss: 0.0000e+00 - val_ws_predictor_loss: 1.5432 - 19s/epoch - 127ms/step\n",
      "Epoch 38/700\n",
      "\n",
      "Epoch 38: val_ws_predictor_loss did not improve from 1.53187\n",
      "151/151 - 19s - loss: 0.3884 - gate_predictor_loss: 0.0000e+00 - ws_predictor_loss: 0.1942 - val_loss: 3.0694 - val_gate_predictor_loss: 0.0000e+00 - val_ws_predictor_loss: 1.5347 - 19s/epoch - 127ms/step\n",
      "Epoch 39/700\n",
      "\n",
      "Epoch 39: val_ws_predictor_loss did not improve from 1.53187\n",
      "151/151 - 19s - loss: 0.3884 - gate_predictor_loss: 0.0000e+00 - ws_predictor_loss: 0.1942 - val_loss: 3.1016 - val_gate_predictor_loss: 0.0000e+00 - val_ws_predictor_loss: 1.5508 - 19s/epoch - 127ms/step\n",
      "Epoch 40/700\n",
      "\n",
      "Epoch 40: val_ws_predictor_loss did not improve from 1.53187\n",
      "151/151 - 19s - loss: 0.3881 - gate_predictor_loss: 0.0000e+00 - ws_predictor_loss: 0.1940 - val_loss: 3.0773 - val_gate_predictor_loss: 0.0000e+00 - val_ws_predictor_loss: 1.5386 - 19s/epoch - 127ms/step\n",
      "Epoch 41/700\n",
      "\n",
      "Epoch 41: val_ws_predictor_loss did not improve from 1.53187\n",
      "151/151 - 19s - loss: 0.3878 - gate_predictor_loss: 0.0000e+00 - ws_predictor_loss: 0.1939 - val_loss: 3.1117 - val_gate_predictor_loss: 0.0000e+00 - val_ws_predictor_loss: 1.5558 - 19s/epoch - 127ms/step\n",
      "Epoch 42/700\n",
      "\n",
      "Epoch 42: val_ws_predictor_loss did not improve from 1.53187\n",
      "151/151 - 19s - loss: 0.3877 - gate_predictor_loss: 0.0000e+00 - ws_predictor_loss: 0.1938 - val_loss: 3.1452 - val_gate_predictor_loss: 0.0000e+00 - val_ws_predictor_loss: 1.5726 - 19s/epoch - 127ms/step\n",
      "Epoch 43/700\n",
      "\n",
      "Epoch 43: val_ws_predictor_loss improved from 1.53187 to 1.53064, saving model to ../saved_models/tcn_gtnp_1.h5\n",
      "151/151 - 19s - loss: 0.3877 - gate_predictor_loss: 0.0000e+00 - ws_predictor_loss: 0.1938 - val_loss: 3.0613 - val_gate_predictor_loss: 0.0000e+00 - val_ws_predictor_loss: 1.5306 - 19s/epoch - 128ms/step\n",
      "Epoch 44/700\n",
      "\n",
      "Epoch 44: val_ws_predictor_loss improved from 1.53064 to 1.52954, saving model to ../saved_models/tcn_gtnp_1.h5\n",
      "151/151 - 19s - loss: 0.3875 - gate_predictor_loss: 0.0000e+00 - ws_predictor_loss: 0.1937 - val_loss: 3.0591 - val_gate_predictor_loss: 0.0000e+00 - val_ws_predictor_loss: 1.5295 - 19s/epoch - 128ms/step\n",
      "Epoch 45/700\n",
      "\n",
      "Epoch 45: val_ws_predictor_loss did not improve from 1.52954\n",
      "151/151 - 19s - loss: 0.3875 - gate_predictor_loss: 0.0000e+00 - ws_predictor_loss: 0.1937 - val_loss: 3.0633 - val_gate_predictor_loss: 0.0000e+00 - val_ws_predictor_loss: 1.5316 - 19s/epoch - 127ms/step\n",
      "Epoch 46/700\n",
      "\n",
      "Epoch 46: val_ws_predictor_loss did not improve from 1.52954\n",
      "151/151 - 19s - loss: 0.3872 - gate_predictor_loss: 0.0000e+00 - ws_predictor_loss: 0.1936 - val_loss: 3.0782 - val_gate_predictor_loss: 0.0000e+00 - val_ws_predictor_loss: 1.5391 - 19s/epoch - 126ms/step\n",
      "Epoch 47/700\n",
      "\n",
      "Epoch 47: val_ws_predictor_loss did not improve from 1.52954\n",
      "151/151 - 19s - loss: 0.3870 - gate_predictor_loss: 0.0000e+00 - ws_predictor_loss: 0.1935 - val_loss: 3.0909 - val_gate_predictor_loss: 0.0000e+00 - val_ws_predictor_loss: 1.5455 - 19s/epoch - 126ms/step\n",
      "Epoch 48/700\n",
      "\n",
      "Epoch 48: val_ws_predictor_loss did not improve from 1.52954\n",
      "151/151 - 19s - loss: 0.3869 - gate_predictor_loss: 0.0000e+00 - ws_predictor_loss: 0.1935 - val_loss: 3.1025 - val_gate_predictor_loss: 0.0000e+00 - val_ws_predictor_loss: 1.5513 - 19s/epoch - 126ms/step\n",
      "Epoch 49/700\n",
      "\n",
      "Epoch 49: val_ws_predictor_loss did not improve from 1.52954\n",
      "151/151 - 19s - loss: 0.3869 - gate_predictor_loss: 0.0000e+00 - ws_predictor_loss: 0.1935 - val_loss: 3.1086 - val_gate_predictor_loss: 0.0000e+00 - val_ws_predictor_loss: 1.5543 - 19s/epoch - 126ms/step\n",
      "Epoch 50/700\n",
      "\n",
      "Epoch 50: val_ws_predictor_loss did not improve from 1.52954\n",
      "151/151 - 19s - loss: 0.3867 - gate_predictor_loss: 0.0000e+00 - ws_predictor_loss: 0.1933 - val_loss: 3.0707 - val_gate_predictor_loss: 0.0000e+00 - val_ws_predictor_loss: 1.5354 - 19s/epoch - 126ms/step\n",
      "Epoch 51/700\n",
      "\n",
      "Epoch 51: val_ws_predictor_loss did not improve from 1.52954\n",
      "151/151 - 19s - loss: 0.3866 - gate_predictor_loss: 0.0000e+00 - ws_predictor_loss: 0.1933 - val_loss: 3.0707 - val_gate_predictor_loss: 0.0000e+00 - val_ws_predictor_loss: 1.5353 - 19s/epoch - 126ms/step\n",
      "Epoch 52/700\n",
      "\n",
      "Epoch 52: val_ws_predictor_loss did not improve from 1.52954\n",
      "151/151 - 19s - loss: 0.3865 - gate_predictor_loss: 0.0000e+00 - ws_predictor_loss: 0.1933 - val_loss: 3.1000 - val_gate_predictor_loss: 0.0000e+00 - val_ws_predictor_loss: 1.5500 - 19s/epoch - 126ms/step\n",
      "Epoch 53/700\n",
      "\n",
      "Epoch 53: val_ws_predictor_loss did not improve from 1.52954\n",
      "151/151 - 19s - loss: 0.3867 - gate_predictor_loss: 0.0000e+00 - ws_predictor_loss: 0.1934 - val_loss: 3.1166 - val_gate_predictor_loss: 0.0000e+00 - val_ws_predictor_loss: 1.5583 - 19s/epoch - 126ms/step\n",
      "Epoch 54/700\n",
      "\n",
      "Epoch 54: val_ws_predictor_loss did not improve from 1.52954\n",
      "151/151 - 19s - loss: 0.3865 - gate_predictor_loss: 0.0000e+00 - ws_predictor_loss: 0.1932 - val_loss: 3.0953 - val_gate_predictor_loss: 0.0000e+00 - val_ws_predictor_loss: 1.5476 - 19s/epoch - 126ms/step\n",
      "Epoch 55/700\n",
      "\n",
      "Epoch 55: val_ws_predictor_loss did not improve from 1.52954\n",
      "151/151 - 19s - loss: 0.3865 - gate_predictor_loss: 0.0000e+00 - ws_predictor_loss: 0.1932 - val_loss: 3.1232 - val_gate_predictor_loss: 0.0000e+00 - val_ws_predictor_loss: 1.5616 - 19s/epoch - 127ms/step\n",
      "Epoch 56/700\n",
      "\n",
      "Epoch 56: val_ws_predictor_loss did not improve from 1.52954\n",
      "151/151 - 19s - loss: 0.3862 - gate_predictor_loss: 0.0000e+00 - ws_predictor_loss: 0.1931 - val_loss: 3.1444 - val_gate_predictor_loss: 0.0000e+00 - val_ws_predictor_loss: 1.5722 - 19s/epoch - 126ms/step\n",
      "Epoch 57/700\n",
      "\n",
      "Epoch 57: val_ws_predictor_loss did not improve from 1.52954\n",
      "151/151 - 19s - loss: 0.3860 - gate_predictor_loss: 0.0000e+00 - ws_predictor_loss: 0.1930 - val_loss: 3.1219 - val_gate_predictor_loss: 0.0000e+00 - val_ws_predictor_loss: 1.5609 - 19s/epoch - 126ms/step\n"
     ]
    },
    {
     "name": "stdout",
     "output_type": "stream",
     "text": [
      "Epoch 58/700\n",
      "\n",
      "Epoch 58: val_ws_predictor_loss did not improve from 1.52954\n",
      "151/151 - 19s - loss: 0.3859 - gate_predictor_loss: 0.0000e+00 - ws_predictor_loss: 0.1930 - val_loss: 3.1219 - val_gate_predictor_loss: 0.0000e+00 - val_ws_predictor_loss: 1.5610 - 19s/epoch - 125ms/step\n",
      "Epoch 59/700\n",
      "\n",
      "Epoch 59: val_ws_predictor_loss did not improve from 1.52954\n",
      "151/151 - 19s - loss: 0.3859 - gate_predictor_loss: 0.0000e+00 - ws_predictor_loss: 0.1929 - val_loss: 3.1527 - val_gate_predictor_loss: 0.0000e+00 - val_ws_predictor_loss: 1.5764 - 19s/epoch - 126ms/step\n",
      "Epoch 60/700\n",
      "\n",
      "Epoch 60: val_ws_predictor_loss did not improve from 1.52954\n",
      "151/151 - 19s - loss: 0.3862 - gate_predictor_loss: 0.0000e+00 - ws_predictor_loss: 0.1931 - val_loss: 3.0990 - val_gate_predictor_loss: 0.0000e+00 - val_ws_predictor_loss: 1.5495 - 19s/epoch - 125ms/step\n",
      "Epoch 61/700\n",
      "\n",
      "Epoch 61: val_ws_predictor_loss did not improve from 1.52954\n",
      "151/151 - 19s - loss: 0.3858 - gate_predictor_loss: 0.0000e+00 - ws_predictor_loss: 0.1929 - val_loss: 3.1310 - val_gate_predictor_loss: 0.0000e+00 - val_ws_predictor_loss: 1.5655 - 19s/epoch - 126ms/step\n",
      "Epoch 62/700\n",
      "\n",
      "Epoch 62: val_ws_predictor_loss did not improve from 1.52954\n",
      "151/151 - 19s - loss: 0.3858 - gate_predictor_loss: 0.0000e+00 - ws_predictor_loss: 0.1929 - val_loss: 3.1758 - val_gate_predictor_loss: 0.0000e+00 - val_ws_predictor_loss: 1.5879 - 19s/epoch - 125ms/step\n",
      "Epoch 63/700\n",
      "\n",
      "Epoch 63: val_ws_predictor_loss did not improve from 1.52954\n",
      "151/151 - 19s - loss: 0.3855 - gate_predictor_loss: 0.0000e+00 - ws_predictor_loss: 0.1928 - val_loss: 3.1389 - val_gate_predictor_loss: 0.0000e+00 - val_ws_predictor_loss: 1.5695 - 19s/epoch - 126ms/step\n",
      "Epoch 64/700\n",
      "\n",
      "Epoch 64: val_ws_predictor_loss did not improve from 1.52954\n",
      "151/151 - 19s - loss: 0.3855 - gate_predictor_loss: 0.0000e+00 - ws_predictor_loss: 0.1927 - val_loss: 3.1468 - val_gate_predictor_loss: 0.0000e+00 - val_ws_predictor_loss: 1.5734 - 19s/epoch - 127ms/step\n",
      "Epoch 65/700\n",
      "\n",
      "Epoch 65: val_ws_predictor_loss did not improve from 1.52954\n",
      "151/151 - 19s - loss: 0.3855 - gate_predictor_loss: 0.0000e+00 - ws_predictor_loss: 0.1927 - val_loss: 3.1353 - val_gate_predictor_loss: 0.0000e+00 - val_ws_predictor_loss: 1.5677 - 19s/epoch - 126ms/step\n",
      "Epoch 66/700\n",
      "\n",
      "Epoch 66: val_ws_predictor_loss did not improve from 1.52954\n",
      "151/151 - 19s - loss: 0.3853 - gate_predictor_loss: 0.0000e+00 - ws_predictor_loss: 0.1926 - val_loss: 3.1974 - val_gate_predictor_loss: 0.0000e+00 - val_ws_predictor_loss: 1.5987 - 19s/epoch - 126ms/step\n",
      "Epoch 67/700\n",
      "\n",
      "Epoch 67: val_ws_predictor_loss did not improve from 1.52954\n",
      "151/151 - 19s - loss: 0.3854 - gate_predictor_loss: 0.0000e+00 - ws_predictor_loss: 0.1927 - val_loss: 3.1355 - val_gate_predictor_loss: 0.0000e+00 - val_ws_predictor_loss: 1.5678 - 19s/epoch - 126ms/step\n",
      "Epoch 68/700\n",
      "\n",
      "Epoch 68: val_ws_predictor_loss did not improve from 1.52954\n",
      "151/151 - 19s - loss: 0.3851 - gate_predictor_loss: 0.0000e+00 - ws_predictor_loss: 0.1925 - val_loss: 3.1809 - val_gate_predictor_loss: 0.0000e+00 - val_ws_predictor_loss: 1.5904 - 19s/epoch - 126ms/step\n",
      "Epoch 69/700\n",
      "\n",
      "Epoch 69: val_ws_predictor_loss did not improve from 1.52954\n",
      "151/151 - 19s - loss: 0.3855 - gate_predictor_loss: 0.0000e+00 - ws_predictor_loss: 0.1927 - val_loss: 3.1408 - val_gate_predictor_loss: 0.0000e+00 - val_ws_predictor_loss: 1.5704 - 19s/epoch - 126ms/step\n",
      "Epoch 70/700\n",
      "\n",
      "Epoch 70: val_ws_predictor_loss did not improve from 1.52954\n",
      "151/151 - 19s - loss: 0.3853 - gate_predictor_loss: 0.0000e+00 - ws_predictor_loss: 0.1926 - val_loss: 3.1272 - val_gate_predictor_loss: 0.0000e+00 - val_ws_predictor_loss: 1.5636 - 19s/epoch - 125ms/step\n",
      "Epoch 71/700\n",
      "\n",
      "Epoch 71: val_ws_predictor_loss did not improve from 1.52954\n",
      "151/151 - 19s - loss: 0.3850 - gate_predictor_loss: 0.0000e+00 - ws_predictor_loss: 0.1925 - val_loss: 3.1789 - val_gate_predictor_loss: 0.0000e+00 - val_ws_predictor_loss: 1.5894 - 19s/epoch - 125ms/step\n",
      "Epoch 72/700\n",
      "\n",
      "Epoch 72: val_ws_predictor_loss did not improve from 1.52954\n",
      "151/151 - 19s - loss: 0.3849 - gate_predictor_loss: 0.0000e+00 - ws_predictor_loss: 0.1924 - val_loss: 3.1183 - val_gate_predictor_loss: 0.0000e+00 - val_ws_predictor_loss: 1.5592 - 19s/epoch - 126ms/step\n",
      "Epoch 73/700\n",
      "\n",
      "Epoch 73: val_ws_predictor_loss did not improve from 1.52954\n",
      "151/151 - 19s - loss: 0.3848 - gate_predictor_loss: 0.0000e+00 - ws_predictor_loss: 0.1924 - val_loss: 3.1993 - val_gate_predictor_loss: 0.0000e+00 - val_ws_predictor_loss: 1.5997 - 19s/epoch - 126ms/step\n",
      "Epoch 74/700\n",
      "\n",
      "Epoch 74: val_ws_predictor_loss did not improve from 1.52954\n",
      "151/151 - 19s - loss: 0.3848 - gate_predictor_loss: 0.0000e+00 - ws_predictor_loss: 0.1924 - val_loss: 3.2861 - val_gate_predictor_loss: 0.0000e+00 - val_ws_predictor_loss: 1.6431 - 19s/epoch - 126ms/step\n",
      "Epoch 75/700\n",
      "\n",
      "Epoch 75: val_ws_predictor_loss did not improve from 1.52954\n",
      "151/151 - 19s - loss: 0.3846 - gate_predictor_loss: 0.0000e+00 - ws_predictor_loss: 0.1923 - val_loss: 3.1790 - val_gate_predictor_loss: 0.0000e+00 - val_ws_predictor_loss: 1.5895 - 19s/epoch - 125ms/step\n",
      "Epoch 76/700\n",
      "\n",
      "Epoch 76: val_ws_predictor_loss did not improve from 1.52954\n",
      "151/151 - 19s - loss: 0.3848 - gate_predictor_loss: 0.0000e+00 - ws_predictor_loss: 0.1924 - val_loss: 3.2260 - val_gate_predictor_loss: 0.0000e+00 - val_ws_predictor_loss: 1.6130 - 19s/epoch - 125ms/step\n",
      "Epoch 77/700\n",
      "\n",
      "Epoch 77: val_ws_predictor_loss did not improve from 1.52954\n",
      "151/151 - 19s - loss: 0.3847 - gate_predictor_loss: 0.0000e+00 - ws_predictor_loss: 0.1923 - val_loss: 3.2811 - val_gate_predictor_loss: 0.0000e+00 - val_ws_predictor_loss: 1.6406 - 19s/epoch - 125ms/step\n",
      "Epoch 78/700\n",
      "\n",
      "Epoch 78: val_ws_predictor_loss did not improve from 1.52954\n",
      "151/151 - 19s - loss: 0.3845 - gate_predictor_loss: 0.0000e+00 - ws_predictor_loss: 0.1922 - val_loss: 3.2260 - val_gate_predictor_loss: 0.0000e+00 - val_ws_predictor_loss: 1.6130 - 19s/epoch - 125ms/step\n",
      "Epoch 79/700\n",
      "\n",
      "Epoch 79: val_ws_predictor_loss did not improve from 1.52954\n",
      "151/151 - 19s - loss: 0.3845 - gate_predictor_loss: 0.0000e+00 - ws_predictor_loss: 0.1923 - val_loss: 3.2512 - val_gate_predictor_loss: 0.0000e+00 - val_ws_predictor_loss: 1.6256 - 19s/epoch - 125ms/step\n",
      "Epoch 80/700\n",
      "\n",
      "Epoch 80: val_ws_predictor_loss did not improve from 1.52954\n",
      "151/151 - 19s - loss: 0.3845 - gate_predictor_loss: 0.0000e+00 - ws_predictor_loss: 0.1922 - val_loss: 3.2669 - val_gate_predictor_loss: 0.0000e+00 - val_ws_predictor_loss: 1.6335 - 19s/epoch - 125ms/step\n",
      "Epoch 81/700\n",
      "\n",
      "Epoch 81: val_ws_predictor_loss did not improve from 1.52954\n",
      "151/151 - 19s - loss: 0.3844 - gate_predictor_loss: 0.0000e+00 - ws_predictor_loss: 0.1922 - val_loss: 3.2695 - val_gate_predictor_loss: 0.0000e+00 - val_ws_predictor_loss: 1.6347 - 19s/epoch - 126ms/step\n",
      "Epoch 82/700\n",
      "\n",
      "Epoch 82: val_ws_predictor_loss did not improve from 1.52954\n",
      "151/151 - 19s - loss: 0.3845 - gate_predictor_loss: 0.0000e+00 - ws_predictor_loss: 0.1923 - val_loss: 3.1697 - val_gate_predictor_loss: 0.0000e+00 - val_ws_predictor_loss: 1.5849 - 19s/epoch - 126ms/step\n",
      "Epoch 83/700\n",
      "\n",
      "Epoch 83: val_ws_predictor_loss did not improve from 1.52954\n",
      "151/151 - 19s - loss: 0.3844 - gate_predictor_loss: 0.0000e+00 - ws_predictor_loss: 0.1922 - val_loss: 3.2862 - val_gate_predictor_loss: 0.0000e+00 - val_ws_predictor_loss: 1.6431 - 19s/epoch - 125ms/step\n",
      "Epoch 84/700\n",
      "\n",
      "Epoch 84: val_ws_predictor_loss did not improve from 1.52954\n",
      "151/151 - 19s - loss: 0.3844 - gate_predictor_loss: 0.0000e+00 - ws_predictor_loss: 0.1922 - val_loss: 3.2750 - val_gate_predictor_loss: 0.0000e+00 - val_ws_predictor_loss: 1.6375 - 19s/epoch - 125ms/step\n",
      "Epoch 85/700\n",
      "\n",
      "Epoch 85: val_ws_predictor_loss did not improve from 1.52954\n",
      "151/151 - 19s - loss: 0.3844 - gate_predictor_loss: 0.0000e+00 - ws_predictor_loss: 0.1922 - val_loss: 3.3242 - val_gate_predictor_loss: 0.0000e+00 - val_ws_predictor_loss: 1.6621 - 19s/epoch - 125ms/step\n",
      "Epoch 86/700\n",
      "\n",
      "Epoch 86: val_ws_predictor_loss did not improve from 1.52954\n",
      "151/151 - 19s - loss: 0.3842 - gate_predictor_loss: 0.0000e+00 - ws_predictor_loss: 0.1921 - val_loss: 3.3029 - val_gate_predictor_loss: 0.0000e+00 - val_ws_predictor_loss: 1.6514 - 19s/epoch - 125ms/step\n",
      "Epoch 87/700\n",
      "\n",
      "Epoch 87: val_ws_predictor_loss did not improve from 1.52954\n"
     ]
    },
    {
     "name": "stdout",
     "output_type": "stream",
     "text": [
      "151/151 - 19s - loss: 0.3841 - gate_predictor_loss: 0.0000e+00 - ws_predictor_loss: 0.1920 - val_loss: 3.2945 - val_gate_predictor_loss: 0.0000e+00 - val_ws_predictor_loss: 1.6473 - 19s/epoch - 125ms/step\n",
      "Epoch 88/700\n",
      "\n",
      "Epoch 88: val_ws_predictor_loss did not improve from 1.52954\n",
      "151/151 - 19s - loss: 0.3841 - gate_predictor_loss: 0.0000e+00 - ws_predictor_loss: 0.1921 - val_loss: 3.2971 - val_gate_predictor_loss: 0.0000e+00 - val_ws_predictor_loss: 1.6485 - 19s/epoch - 125ms/step\n",
      "Epoch 89/700\n",
      "\n",
      "Epoch 89: val_ws_predictor_loss did not improve from 1.52954\n",
      "151/151 - 19s - loss: 0.3839 - gate_predictor_loss: 0.0000e+00 - ws_predictor_loss: 0.1920 - val_loss: 3.2849 - val_gate_predictor_loss: 0.0000e+00 - val_ws_predictor_loss: 1.6424 - 19s/epoch - 125ms/step\n",
      "Epoch 90/700\n",
      "\n",
      "Epoch 90: val_ws_predictor_loss did not improve from 1.52954\n",
      "151/151 - 19s - loss: 0.3841 - gate_predictor_loss: 0.0000e+00 - ws_predictor_loss: 0.1921 - val_loss: 3.3089 - val_gate_predictor_loss: 0.0000e+00 - val_ws_predictor_loss: 1.6544 - 19s/epoch - 125ms/step\n",
      "Epoch 91/700\n",
      "\n",
      "Epoch 91: val_ws_predictor_loss did not improve from 1.52954\n",
      "151/151 - 19s - loss: 0.3839 - gate_predictor_loss: 0.0000e+00 - ws_predictor_loss: 0.1920 - val_loss: 3.3795 - val_gate_predictor_loss: 0.0000e+00 - val_ws_predictor_loss: 1.6898 - 19s/epoch - 125ms/step\n",
      "Epoch 92/700\n",
      "\n",
      "Epoch 92: val_ws_predictor_loss did not improve from 1.52954\n",
      "151/151 - 19s - loss: 0.3839 - gate_predictor_loss: 0.0000e+00 - ws_predictor_loss: 0.1919 - val_loss: 3.3119 - val_gate_predictor_loss: 0.0000e+00 - val_ws_predictor_loss: 1.6559 - 19s/epoch - 125ms/step\n",
      "Epoch 93/700\n",
      "\n",
      "Epoch 93: val_ws_predictor_loss did not improve from 1.52954\n",
      "151/151 - 19s - loss: 0.3840 - gate_predictor_loss: 0.0000e+00 - ws_predictor_loss: 0.1920 - val_loss: 3.3365 - val_gate_predictor_loss: 0.0000e+00 - val_ws_predictor_loss: 1.6683 - 19s/epoch - 125ms/step\n",
      "Epoch 94/700\n",
      "\n",
      "Epoch 94: val_ws_predictor_loss did not improve from 1.52954\n",
      "151/151 - 19s - loss: 0.3837 - gate_predictor_loss: 0.0000e+00 - ws_predictor_loss: 0.1919 - val_loss: 3.3199 - val_gate_predictor_loss: 0.0000e+00 - val_ws_predictor_loss: 1.6600 - 19s/epoch - 125ms/step\n",
      "Epoch 95/700\n",
      "\n",
      "Epoch 95: val_ws_predictor_loss did not improve from 1.52954\n",
      "151/151 - 19s - loss: 0.3838 - gate_predictor_loss: 0.0000e+00 - ws_predictor_loss: 0.1919 - val_loss: 3.3529 - val_gate_predictor_loss: 0.0000e+00 - val_ws_predictor_loss: 1.6765 - 19s/epoch - 126ms/step\n",
      "Epoch 96/700\n",
      "\n",
      "Epoch 96: val_ws_predictor_loss did not improve from 1.52954\n",
      "151/151 - 19s - loss: 0.3840 - gate_predictor_loss: 0.0000e+00 - ws_predictor_loss: 0.1920 - val_loss: 3.2759 - val_gate_predictor_loss: 0.0000e+00 - val_ws_predictor_loss: 1.6379 - 19s/epoch - 126ms/step\n",
      "Epoch 97/700\n",
      "\n",
      "Epoch 97: val_ws_predictor_loss did not improve from 1.52954\n",
      "151/151 - 19s - loss: 0.3840 - gate_predictor_loss: 0.0000e+00 - ws_predictor_loss: 0.1920 - val_loss: 3.2903 - val_gate_predictor_loss: 0.0000e+00 - val_ws_predictor_loss: 1.6452 - 19s/epoch - 125ms/step\n",
      "Epoch 98/700\n",
      "\n",
      "Epoch 98: val_ws_predictor_loss did not improve from 1.52954\n",
      "151/151 - 19s - loss: 0.3837 - gate_predictor_loss: 0.0000e+00 - ws_predictor_loss: 0.1918 - val_loss: 3.3599 - val_gate_predictor_loss: 0.0000e+00 - val_ws_predictor_loss: 1.6799 - 19s/epoch - 126ms/step\n",
      "Epoch 99/700\n",
      "\n",
      "Epoch 99: val_ws_predictor_loss did not improve from 1.52954\n",
      "151/151 - 19s - loss: 0.3837 - gate_predictor_loss: 0.0000e+00 - ws_predictor_loss: 0.1919 - val_loss: 3.3445 - val_gate_predictor_loss: 0.0000e+00 - val_ws_predictor_loss: 1.6722 - 19s/epoch - 125ms/step\n",
      "Epoch 100/700\n",
      "\n",
      "Epoch 100: val_ws_predictor_loss did not improve from 1.52954\n",
      "151/151 - 19s - loss: 0.3834 - gate_predictor_loss: 0.0000e+00 - ws_predictor_loss: 0.1917 - val_loss: 3.4302 - val_gate_predictor_loss: 0.0000e+00 - val_ws_predictor_loss: 1.7151 - 19s/epoch - 126ms/step\n",
      "Epoch 101/700\n",
      "\n",
      "Epoch 101: val_ws_predictor_loss did not improve from 1.52954\n",
      "151/151 - 19s - loss: 0.3835 - gate_predictor_loss: 0.0000e+00 - ws_predictor_loss: 0.1917 - val_loss: 3.3413 - val_gate_predictor_loss: 0.0000e+00 - val_ws_predictor_loss: 1.6706 - 19s/epoch - 126ms/step\n",
      "Epoch 102/700\n",
      "\n",
      "Epoch 102: val_ws_predictor_loss did not improve from 1.52954\n",
      "151/151 - 19s - loss: 0.3834 - gate_predictor_loss: 0.0000e+00 - ws_predictor_loss: 0.1917 - val_loss: 3.2826 - val_gate_predictor_loss: 0.0000e+00 - val_ws_predictor_loss: 1.6413 - 19s/epoch - 126ms/step\n",
      "Epoch 103/700\n",
      "\n",
      "Epoch 103: val_ws_predictor_loss did not improve from 1.52954\n",
      "151/151 - 19s - loss: 0.3834 - gate_predictor_loss: 0.0000e+00 - ws_predictor_loss: 0.1917 - val_loss: 3.2811 - val_gate_predictor_loss: 0.0000e+00 - val_ws_predictor_loss: 1.6405 - 19s/epoch - 125ms/step\n",
      "Epoch 104/700\n",
      "\n",
      "Epoch 104: val_ws_predictor_loss did not improve from 1.52954\n",
      "151/151 - 19s - loss: 0.3833 - gate_predictor_loss: 0.0000e+00 - ws_predictor_loss: 0.1916 - val_loss: 3.4448 - val_gate_predictor_loss: 0.0000e+00 - val_ws_predictor_loss: 1.7224 - 19s/epoch - 125ms/step\n",
      "Epoch 105/700\n",
      "\n",
      "Epoch 105: val_ws_predictor_loss did not improve from 1.52954\n",
      "151/151 - 19s - loss: 0.3836 - gate_predictor_loss: 0.0000e+00 - ws_predictor_loss: 0.1918 - val_loss: 3.4228 - val_gate_predictor_loss: 0.0000e+00 - val_ws_predictor_loss: 1.7114 - 19s/epoch - 126ms/step\n",
      "Epoch 106/700\n",
      "\n",
      "Epoch 106: val_ws_predictor_loss did not improve from 1.52954\n",
      "151/151 - 19s - loss: 0.3839 - gate_predictor_loss: 0.0000e+00 - ws_predictor_loss: 0.1919 - val_loss: 3.3674 - val_gate_predictor_loss: 0.0000e+00 - val_ws_predictor_loss: 1.6837 - 19s/epoch - 125ms/step\n",
      "Epoch 107/700\n",
      "\n",
      "Epoch 107: val_ws_predictor_loss did not improve from 1.52954\n",
      "151/151 - 19s - loss: 0.3834 - gate_predictor_loss: 0.0000e+00 - ws_predictor_loss: 0.1917 - val_loss: 3.4473 - val_gate_predictor_loss: 0.0000e+00 - val_ws_predictor_loss: 1.7237 - 19s/epoch - 125ms/step\n",
      "Epoch 108/700\n",
      "\n",
      "Epoch 108: val_ws_predictor_loss did not improve from 1.52954\n",
      "151/151 - 19s - loss: 0.3835 - gate_predictor_loss: 0.0000e+00 - ws_predictor_loss: 0.1918 - val_loss: 3.3561 - val_gate_predictor_loss: 0.0000e+00 - val_ws_predictor_loss: 1.6781 - 19s/epoch - 125ms/step\n",
      "Epoch 109/700\n",
      "\n",
      "Epoch 109: val_ws_predictor_loss did not improve from 1.52954\n",
      "151/151 - 19s - loss: 0.3832 - gate_predictor_loss: 0.0000e+00 - ws_predictor_loss: 0.1916 - val_loss: 3.3675 - val_gate_predictor_loss: 0.0000e+00 - val_ws_predictor_loss: 1.6837 - 19s/epoch - 125ms/step\n",
      "Epoch 110/700\n",
      "\n",
      "Epoch 110: val_ws_predictor_loss did not improve from 1.52954\n",
      "151/151 - 19s - loss: 0.3832 - gate_predictor_loss: 0.0000e+00 - ws_predictor_loss: 0.1916 - val_loss: 3.3947 - val_gate_predictor_loss: 0.0000e+00 - val_ws_predictor_loss: 1.6974 - 19s/epoch - 125ms/step\n",
      "Epoch 111/700\n",
      "\n",
      "Epoch 111: val_ws_predictor_loss did not improve from 1.52954\n",
      "151/151 - 19s - loss: 0.3834 - gate_predictor_loss: 0.0000e+00 - ws_predictor_loss: 0.1917 - val_loss: 3.5431 - val_gate_predictor_loss: 0.0000e+00 - val_ws_predictor_loss: 1.7716 - 19s/epoch - 125ms/step\n",
      "Epoch 112/700\n",
      "\n",
      "Epoch 112: val_ws_predictor_loss did not improve from 1.52954\n",
      "151/151 - 19s - loss: 0.3831 - gate_predictor_loss: 0.0000e+00 - ws_predictor_loss: 0.1915 - val_loss: 3.3731 - val_gate_predictor_loss: 0.0000e+00 - val_ws_predictor_loss: 1.6865 - 19s/epoch - 125ms/step\n",
      "Epoch 113/700\n",
      "\n",
      "Epoch 113: val_ws_predictor_loss did not improve from 1.52954\n",
      "151/151 - 19s - loss: 0.3835 - gate_predictor_loss: 0.0000e+00 - ws_predictor_loss: 0.1917 - val_loss: 3.3657 - val_gate_predictor_loss: 0.0000e+00 - val_ws_predictor_loss: 1.6829 - 19s/epoch - 126ms/step\n",
      "Epoch 114/700\n",
      "\n",
      "Epoch 114: val_ws_predictor_loss did not improve from 1.52954\n",
      "151/151 - 19s - loss: 0.3833 - gate_predictor_loss: 0.0000e+00 - ws_predictor_loss: 0.1916 - val_loss: 3.3793 - val_gate_predictor_loss: 0.0000e+00 - val_ws_predictor_loss: 1.6896 - 19s/epoch - 125ms/step\n",
      "Epoch 115/700\n",
      "\n",
      "Epoch 115: val_ws_predictor_loss did not improve from 1.52954\n",
      "151/151 - 19s - loss: 0.3830 - gate_predictor_loss: 0.0000e+00 - ws_predictor_loss: 0.1915 - val_loss: 3.4481 - val_gate_predictor_loss: 0.0000e+00 - val_ws_predictor_loss: 1.7241 - 19s/epoch - 126ms/step\n",
      "Epoch 116/700\n",
      "\n",
      "Epoch 116: val_ws_predictor_loss did not improve from 1.52954\n",
      "151/151 - 19s - loss: 0.3830 - gate_predictor_loss: 0.0000e+00 - ws_predictor_loss: 0.1915 - val_loss: 3.3891 - val_gate_predictor_loss: 0.0000e+00 - val_ws_predictor_loss: 1.6945 - 19s/epoch - 126ms/step\n"
     ]
    },
    {
     "name": "stdout",
     "output_type": "stream",
     "text": [
      "Epoch 117/700\n",
      "\n",
      "Epoch 117: val_ws_predictor_loss did not improve from 1.52954\n",
      "151/151 - 19s - loss: 0.3829 - gate_predictor_loss: 0.0000e+00 - ws_predictor_loss: 0.1915 - val_loss: 3.4611 - val_gate_predictor_loss: 0.0000e+00 - val_ws_predictor_loss: 1.7305 - 19s/epoch - 125ms/step\n",
      "Epoch 118/700\n",
      "\n",
      "Epoch 118: val_ws_predictor_loss did not improve from 1.52954\n",
      "151/151 - 19s - loss: 0.3829 - gate_predictor_loss: 0.0000e+00 - ws_predictor_loss: 0.1915 - val_loss: 3.4374 - val_gate_predictor_loss: 0.0000e+00 - val_ws_predictor_loss: 1.7187 - 19s/epoch - 125ms/step\n",
      "Epoch 119/700\n",
      "\n",
      "Epoch 119: val_ws_predictor_loss did not improve from 1.52954\n",
      "151/151 - 19s - loss: 0.3831 - gate_predictor_loss: 0.0000e+00 - ws_predictor_loss: 0.1915 - val_loss: 3.4524 - val_gate_predictor_loss: 0.0000e+00 - val_ws_predictor_loss: 1.7262 - 19s/epoch - 125ms/step\n",
      "Epoch 120/700\n",
      "\n",
      "Epoch 120: val_ws_predictor_loss did not improve from 1.52954\n",
      "151/151 - 19s - loss: 0.3834 - gate_predictor_loss: 0.0000e+00 - ws_predictor_loss: 0.1917 - val_loss: 3.7525 - val_gate_predictor_loss: 0.0000e+00 - val_ws_predictor_loss: 1.8763 - 19s/epoch - 125ms/step\n",
      "Epoch 121/700\n",
      "\n",
      "Epoch 121: val_ws_predictor_loss did not improve from 1.52954\n",
      "151/151 - 19s - loss: 0.3834 - gate_predictor_loss: 0.0000e+00 - ws_predictor_loss: 0.1917 - val_loss: 3.4128 - val_gate_predictor_loss: 0.0000e+00 - val_ws_predictor_loss: 1.7064 - 19s/epoch - 125ms/step\n",
      "Epoch 122/700\n",
      "\n",
      "Epoch 122: val_ws_predictor_loss did not improve from 1.52954\n",
      "151/151 - 19s - loss: 0.3828 - gate_predictor_loss: 0.0000e+00 - ws_predictor_loss: 0.1914 - val_loss: 3.4521 - val_gate_predictor_loss: 0.0000e+00 - val_ws_predictor_loss: 1.7260 - 19s/epoch - 125ms/step\n",
      "Epoch 123/700\n",
      "\n",
      "Epoch 123: val_ws_predictor_loss did not improve from 1.52954\n",
      "151/151 - 19s - loss: 0.3828 - gate_predictor_loss: 0.0000e+00 - ws_predictor_loss: 0.1914 - val_loss: 3.4520 - val_gate_predictor_loss: 0.0000e+00 - val_ws_predictor_loss: 1.7260 - 19s/epoch - 126ms/step\n",
      "Epoch 124/700\n",
      "\n",
      "Epoch 124: val_ws_predictor_loss did not improve from 1.52954\n",
      "151/151 - 19s - loss: 0.3827 - gate_predictor_loss: 0.0000e+00 - ws_predictor_loss: 0.1914 - val_loss: 3.4782 - val_gate_predictor_loss: 0.0000e+00 - val_ws_predictor_loss: 1.7391 - 19s/epoch - 126ms/step\n",
      "Epoch 125/700\n",
      "\n",
      "Epoch 125: val_ws_predictor_loss did not improve from 1.52954\n",
      "151/151 - 19s - loss: 0.3828 - gate_predictor_loss: 0.0000e+00 - ws_predictor_loss: 0.1914 - val_loss: 3.3833 - val_gate_predictor_loss: 0.0000e+00 - val_ws_predictor_loss: 1.6917 - 19s/epoch - 125ms/step\n",
      "Epoch 126/700\n",
      "\n",
      "Epoch 126: val_ws_predictor_loss did not improve from 1.52954\n",
      "151/151 - 19s - loss: 0.3828 - gate_predictor_loss: 0.0000e+00 - ws_predictor_loss: 0.1914 - val_loss: 3.5598 - val_gate_predictor_loss: 0.0000e+00 - val_ws_predictor_loss: 1.7799 - 19s/epoch - 126ms/step\n",
      "Epoch 127/700\n",
      "\n",
      "Epoch 127: val_ws_predictor_loss did not improve from 1.52954\n",
      "151/151 - 19s - loss: 0.3827 - gate_predictor_loss: 0.0000e+00 - ws_predictor_loss: 0.1914 - val_loss: 3.5007 - val_gate_predictor_loss: 0.0000e+00 - val_ws_predictor_loss: 1.7504 - 19s/epoch - 125ms/step\n",
      "Epoch 128/700\n",
      "\n",
      "Epoch 128: val_ws_predictor_loss did not improve from 1.52954\n",
      "151/151 - 19s - loss: 0.3827 - gate_predictor_loss: 0.0000e+00 - ws_predictor_loss: 0.1914 - val_loss: 3.4851 - val_gate_predictor_loss: 0.0000e+00 - val_ws_predictor_loss: 1.7426 - 19s/epoch - 125ms/step\n",
      "Epoch 129/700\n",
      "\n",
      "Epoch 129: val_ws_predictor_loss did not improve from 1.52954\n",
      "151/151 - 19s - loss: 0.3828 - gate_predictor_loss: 0.0000e+00 - ws_predictor_loss: 0.1914 - val_loss: 3.4497 - val_gate_predictor_loss: 0.0000e+00 - val_ws_predictor_loss: 1.7248 - 19s/epoch - 125ms/step\n",
      "Epoch 130/700\n",
      "\n",
      "Epoch 130: val_ws_predictor_loss did not improve from 1.52954\n",
      "151/151 - 19s - loss: 0.3826 - gate_predictor_loss: 0.0000e+00 - ws_predictor_loss: 0.1913 - val_loss: 3.5265 - val_gate_predictor_loss: 0.0000e+00 - val_ws_predictor_loss: 1.7633 - 19s/epoch - 125ms/step\n",
      "Epoch 131/700\n",
      "\n",
      "Epoch 131: val_ws_predictor_loss did not improve from 1.52954\n",
      "151/151 - 19s - loss: 0.3829 - gate_predictor_loss: 0.0000e+00 - ws_predictor_loss: 0.1915 - val_loss: 3.4543 - val_gate_predictor_loss: 0.0000e+00 - val_ws_predictor_loss: 1.7272 - 19s/epoch - 125ms/step\n",
      "Epoch 132/700\n",
      "\n",
      "Epoch 132: val_ws_predictor_loss did not improve from 1.52954\n",
      "151/151 - 19s - loss: 0.3827 - gate_predictor_loss: 0.0000e+00 - ws_predictor_loss: 0.1914 - val_loss: 3.4359 - val_gate_predictor_loss: 0.0000e+00 - val_ws_predictor_loss: 1.7179 - 19s/epoch - 126ms/step\n",
      "Epoch 133/700\n",
      "\n",
      "Epoch 138: val_ws_predictor_loss did not improve from 1.52954\n",
      "151/151 - 19s - loss: 0.3828 - gate_predictor_loss: 0.0000e+00 - ws_predictor_loss: 0.1914 - val_loss: 3.4747 - val_gate_predictor_loss: 0.0000e+00 - val_ws_predictor_loss: 1.7373 - 19s/epoch - 125ms/step\n",
      "Epoch 139/700\n",
      "\n",
      "Epoch 139: val_ws_predictor_loss did not improve from 1.52954\n",
      "151/151 - 19s - loss: 0.3826 - gate_predictor_loss: 0.0000e+00 - ws_predictor_loss: 0.1913 - val_loss: 3.5010 - val_gate_predictor_loss: 0.0000e+00 - val_ws_predictor_loss: 1.7505 - 19s/epoch - 125ms/step\n",
      "Epoch 140/700\n",
      "\n",
      "Epoch 140: val_ws_predictor_loss did not improve from 1.52954\n",
      "151/151 - 19s - loss: 0.3824 - gate_predictor_loss: 0.0000e+00 - ws_predictor_loss: 0.1912 - val_loss: 3.5156 - val_gate_predictor_loss: 0.0000e+00 - val_ws_predictor_loss: 1.7578 - 19s/epoch - 125ms/step\n",
      "Epoch 141/700\n",
      "\n",
      "Epoch 141: val_ws_predictor_loss did not improve from 1.52954\n",
      "151/151 - 19s - loss: 0.3827 - gate_predictor_loss: 0.0000e+00 - ws_predictor_loss: 0.1914 - val_loss: 3.5167 - val_gate_predictor_loss: 0.0000e+00 - val_ws_predictor_loss: 1.7583 - 19s/epoch - 126ms/step\n",
      "Epoch 142/700\n",
      "\n",
      "Epoch 142: val_ws_predictor_loss did not improve from 1.52954\n",
      "151/151 - 19s - loss: 0.3823 - gate_predictor_loss: 0.0000e+00 - ws_predictor_loss: 0.1912 - val_loss: 3.5207 - val_gate_predictor_loss: 0.0000e+00 - val_ws_predictor_loss: 1.7604 - 19s/epoch - 126ms/step\n",
      "Epoch 143/700\n",
      "\n",
      "Epoch 143: val_ws_predictor_loss did not improve from 1.52954\n",
      "151/151 - 19s - loss: 0.3825 - gate_predictor_loss: 0.0000e+00 - ws_predictor_loss: 0.1912 - val_loss: 3.4502 - val_gate_predictor_loss: 0.0000e+00 - val_ws_predictor_loss: 1.7251 - 19s/epoch - 125ms/step\n",
      "Epoch 144/700\n",
      "\n",
      "Epoch 144: val_ws_predictor_loss did not improve from 1.52954\n",
      "151/151 - 19s - loss: 0.3825 - gate_predictor_loss: 0.0000e+00 - ws_predictor_loss: 0.1912 - val_loss: 3.4931 - val_gate_predictor_loss: 0.0000e+00 - val_ws_predictor_loss: 1.7465 - 19s/epoch - 125ms/step\n",
      "Epoch 144: early stopping\n"
     ]
    },
    {
     "data": {
      "image/png": "[encoded data removed]",
      "text/plain": [
       "<Figure size 600x400 with 1 Axes>"
      ]
     },
     "metadata": {},
     "output_type": "display_data"
    }
   ],
   "source": [
    "lr_schedule = keras.optimizers.schedules.ExponentialDecay(initial_learning_rate=learning_rate, \n",
    "                                                          decay_steps=decay_steps,\n",
    "                                                          decay_rate=decay_rate)\n",
    "\n",
    "filda.compile(optimizer=Adam(learning_rate=lr_schedule),\n",
    "             loss=[gate_loss, water_level_threshold], \n",
    "             loss_weights=[0.0, 2.0]\n",
    "            )\n",
    "\n",
    "\n",
    "es = EarlyStopping(monitor='val_loss', mode='min', verbose=2, patience=100)\n",
    "mc = ModelCheckpoint('../saved_models/tcn_gtnp_1.h5'.format(n_hours, K),\n",
    "                     monitor='val_ws_predictor_loss',\n",
    "                     mode='min',\n",
    "                     verbose=2, \n",
    "                     custom_objects={'gate_loss':gate_loss, \n",
    "                                     'water_level_threshold':water_level_threshold,\n",
    "                                     'TCN': TCN\n",
    "                                    }, \n",
    "                     save_best_only=True)\n",
    "\n",
    "\n",
    "history = filda.fit([train_X_mask, train_tws_reshape, train_adj_mat], [train_gate_pump_y, train_ws_y],\n",
    "                   validation_data=([val_X_mask, val_tws_reshape, val_adj_mat], [val_gate_pump_y, val_ws_y]),\n",
    "                   batch_size=BATCH, \n",
    "                   epochs=EPOCHS, \n",
    "                   verbose=2, \n",
    "                   callbacks=[es, mc],\n",
    "                   shuffle=True,\n",
    "\n",
    "                  )\n",
    "\n",
    "\n",
    "plt.rcParams[\"figure.figsize\"] = (6, 4)\n",
    "plt.plot(history.history['ws_predictor_loss'], label='train')\n",
    "plt.plot(history.history['val_ws_predictor_loss'], label='val')\n",
    "plt.xticks(fontsize=14)\n",
    "plt.yticks(fontsize=14)\n",
    "plt.xlabel('Epoch', fontsize=16)\n",
    "plt.ylabel('Loss', fontsize=16)\n",
    "plt.legend(fontsize=14)\n",
    "plt.title(\"Training loss vs Testing loss\", fontsize=18)\n",
    "# plt.savefig('graph/rnn_loss.png', dpi=300)\n",
    "plt.show()"
   ]
  },
  {
   "cell_type": "markdown",
   "id": "274afc23",
   "metadata": {},
   "source": [
    "### Performance"
   ]
  },
  {
   "cell_type": "code",
   "execution_count": 13,
   "id": "c761507a",
   "metadata": {
    "scrolled": true
   },
   "outputs": [
    {
     "name": "stdout",
     "output_type": "stream",
     "text": [
      "WARNING:tensorflow:Layer LSTM will not use cuDNN kernels since it doesn't meet the criteria. It will use a generic GPU kernel as fallback when running on GPU.\n"
     ]
    }
   ],
   "source": [
    "saved_model = load_model('../saved_models/tcn_gtnp_1.h5',\n",
    "                         custom_objects={'gate_loss':gate_loss, \n",
    "                                         'water_level_threshold':water_level_threshold,\n",
    "                                         'GCNConv': GCNConv,\n",
    "                                         'TCN': TCN\n",
    "                                        }\n",
    "                        )"
   ]
  },
  {
   "cell_type": "code",
   "execution_count": 14,
   "id": "437232bc",
   "metadata": {},
   "outputs": [
    {
     "name": "stderr",
     "output_type": "stream",
     "text": [
      "2023-08-12 17:22:50.869002: I tensorflow/compiler/xla/stream_executor/cuda/cuda_dnn.cc:432] Loaded cuDNN version 8600\n"
     ]
    },
    {
     "name": "stdout",
     "output_type": "stream",
     "text": [
      "603/603 [==============================] - 8s 8ms/step\n",
      "(19268, 24, 7)\n",
      "(19268, 96)\n",
      "Usded time: 9.066439089830965 seconds\n"
     ]
    }
   ],
   "source": [
    "start_time = time.perf_counter()\n",
    "\n",
    "\n",
    "gate_pump_pred, ws_pred = saved_model.predict([test_X_mask, test_tws_reshape, test_adj_mat])\n",
    "\n",
    "print(gate_pump_pred.shape)\n",
    "print(ws_pred.shape)\n",
    "\n",
    "\n",
    "end_time = time.perf_counter()\n",
    "used_time = end_time - start_time\n",
    "print(f\"Usded time: {used_time} seconds\")"
   ]
  },
  {
   "cell_type": "markdown",
   "id": "37fd7424",
   "metadata": {},
   "source": [
    "#### ws pred, gate pred"
   ]
  },
  {
   "cell_type": "code",
   "execution_count": 14,
   "id": "73063d86",
   "metadata": {},
   "outputs": [
    {
     "data": {
      "text/plain": [
       "(19268, 24, 4)"
      ]
     },
     "execution_count": 14,
     "metadata": {},
     "output_type": "execute_result"
    }
   ],
   "source": [
    "ws_pred_gate_pred_inv = ws_scaler.inverse_transform(ws_pred)\n",
    "ws_pred_gate_pred_inv = ws_pred_gate_pred_inv.reshape((-1, K, 4))\n",
    "ws_pred_gate_pred_inv.shape"
   ]
  },
  {
   "cell_type": "markdown",
   "id": "181b7677",
   "metadata": {},
   "source": [
    "#### ws true, gate true"
   ]
  },
  {
   "cell_type": "code",
   "execution_count": 15,
   "id": "fc62a508",
   "metadata": {},
   "outputs": [
    {
     "data": {
      "text/plain": [
       "(19268, 24, 4)"
      ]
     },
     "execution_count": 15,
     "metadata": {},
     "output_type": "execute_result"
    }
   ],
   "source": [
    "ws_true_gate_true = test_ws_y\n",
    "ws_true_gate_true_inv = ws_scaler.inverse_transform(ws_true_gate_true)\n",
    "ws_true_gate_true_inv = ws_true_gate_true_inv.reshape((-1, K, 4))\n",
    "ws_true_gate_true_inv.shape"
   ]
  },
  {
   "cell_type": "markdown",
   "id": "ffa81cf7",
   "metadata": {},
   "source": [
    "#### ws pred, gate true"
   ]
  },
  {
   "cell_type": "code",
   "execution_count": 16,
   "id": "bb27e44e",
   "metadata": {},
   "outputs": [
    {
     "name": "stdout",
     "output_type": "stream",
     "text": [
      "WARNING:tensorflow:Layer LSTM will not use cuDNN kernels since it doesn't meet the criteria. It will use a generic GPU kernel as fallback when running on GPU.\n",
      "603/603 [==============================] - 3s 3ms/step\n"
     ]
    },
    {
     "data": {
      "text/plain": [
       "(19268, 24, 4)"
      ]
     },
     "execution_count": 16,
     "metadata": {},
     "output_type": "execute_result"
    }
   ],
   "source": [
    "ws_predictor = load_model('../saved_models/WaLeF_gtn_p.h5', custom_objects={'GCNConv': GCNConv})\n",
    "\n",
    "ws_pred_gate_true = ws_predictor.predict([test_cov, test_tws_reshape, test_adj_mat])\n",
    "ws_pred_gate_true_inv = ws_scaler.inverse_transform(ws_pred_gate_true)\n",
    "ws_pred_gate_true_inv = ws_pred_gate_true_inv.reshape((-1, 24, 4))\n",
    "ws_pred_gate_true_inv.shape"
   ]
  },
  {
   "cell_type": "markdown",
   "id": "ad36fbd5",
   "metadata": {},
   "source": [
    "### Upper threshould"
   ]
  },
  {
   "cell_type": "code",
   "execution_count": 17,
   "id": "85f5334b",
   "metadata": {},
   "outputs": [
    {
     "name": "stdout",
     "output_type": "stream",
     "text": [
      "S1, S25A, S25B, S26 time steps: 96, 96, 118, 117\n",
      "S1, S25A, S25B, S26 areas: 14.82, 15.22, 18, 20.13\n",
      "TOTAL time steps: 427; TOTAL areas: 68.61\n",
      "--------------------------------------------------\n",
      "S1, S25A, S25B, S26 time steps: 85, 85, 96, 108\n",
      "S1, S25A, S25B, S26 areas: 11.5466, 12.1773, 13, 17.2181\n",
      "TOTAL time steps: 374; TOTAL areas: 54.3063\n",
      "--------------------------------------------------\n",
      "S1, S25A, S25B, S26 time steps: 39, 35, 59, 91\n",
      "S1, S25A, S25B, S26 areas: 3.7708, 3.4564, 6, 12.1631\n",
      "TOTAL time steps: 224; TOTAL areas: 25.6188\n",
      "--------------------------------------------------\n"
     ]
    }
   ],
   "source": [
    "upper_threshold = 3.5\n",
    "t1 = 1    # t+1\n",
    "\n",
    "flood_threshold_t1(ws_true_gate_true_inv, t1, upper_threshold)\n",
    "flood_threshold_t1(ws_pred_gate_true_inv, t1, upper_threshold)\n",
    "flood_threshold_t1(ws_pred_gate_pred_inv, t1, upper_threshold)"
   ]
  },
  {
   "cell_type": "code",
   "execution_count": 23,
   "id": "59632c87",
   "metadata": {},
   "outputs": [
    {
     "name": "stdout",
     "output_type": "stream",
     "text": [
      "S1, S25A, S25B, S26 time steps: 6, 5, 6, 6\n",
      "S1, S25A, S25B, S26 areas: 0.84, 0.72, 1, 1.0\n",
      "TOTAL time steps: 23; TOTAL areas: 3.62\n",
      "--------------------------------------------------\n",
      "S1, S25A, S25B, S26 time steps: 6, 6, 5, 5\n",
      "S1, S25A, S25B, S26 areas: 0.6148, 0.6425, 1, 0.8663\n",
      "TOTAL time steps: 22; TOTAL areas: 3.0018\n",
      "--------------------------------------------------\n",
      "S1, S25A, S25B, S26 time steps: 1, 1, 2, 2\n",
      "S1, S25A, S25B, S26 areas: 0.0461, 0.0677, 0, 0.1935\n",
      "TOTAL time steps: 6; TOTAL areas: 0.3982\n",
      "--------------------------------------------------\n"
     ]
    }
   ],
   "source": [
    "flood_threshold_t1(ws_true_gate_true_inv[7640-23:7680-23], t1, upper_threshold)\n",
    "flood_threshold_t1(ws_pred_gate_true_inv[7640-23:7680-23], t1, upper_threshold)\n",
    "flood_threshold_t1(ws_pred_gate_pred_inv[7640-23:7680-23], t1, upper_threshold)"
   ]
  },
  {
   "cell_type": "code",
   "execution_count": 18,
   "id": "cae8935e",
   "metadata": {},
   "outputs": [
    {
     "name": "stdout",
     "output_type": "stream",
     "text": [
      "time steps: 10248, areas: 1646.6399002075195\n",
      "time steps: 12130, areas: 2088.0380942821503\n",
      "time steps: 9019, areas: 1460.8154134750366\n"
     ]
    }
   ],
   "source": [
    "flood_threshold(ws_true_gate_true_inv, upper_threshold)\n",
    "flood_threshold(ws_pred_gate_true_inv, upper_threshold)\n",
    "flood_threshold(ws_pred_gate_pred_inv, upper_threshold)"
   ]
  },
  {
   "cell_type": "markdown",
   "id": "5b5e11a6",
   "metadata": {},
   "source": [
    "### Lower threshold"
   ]
  },
  {
   "cell_type": "code",
   "execution_count": 20,
   "id": "f5158cbe",
   "metadata": {},
   "outputs": [
    {
     "name": "stdout",
     "output_type": "stream",
     "text": [
      "S1, S25A, S25B, S26 time steps: 1346, 1341, 1229, 1250\n",
      "S1, S25A, S25B, S26 areas: -385.8, -383.38, -345.08, -350.84:\n",
      "TOTAL time steps: 5166; TOTAL areas: -1465.1\n",
      "--------------------------------------------------\n",
      "S1, S25A, S25B, S26 time steps: 1390, 1427, 1282, 1476\n",
      "S1, S25A, S25B, S26 areas: -398.849, -392.0414, -350.2885, -429.5386:\n",
      "TOTAL time steps: 5575; TOTAL areas: -1570.7176\n",
      "--------------------------------------------------\n",
      "S1, S25A, S25B, S26 time steps: 306, 75, 44, 137\n",
      "S1, S25A, S25B, S26 areas: -55.1258, -9.6858, -4.9615, -22.3917:\n",
      "TOTAL time steps: 562; TOTAL areas: -92.1648\n",
      "--------------------------------------------------\n"
     ]
    }
   ],
   "source": [
    "lower_threshold = 0\n",
    "t1 = 1\n",
    "\n",
    "drought_threshold_t1(ws_true_gate_true_inv, t1, lower_threshold)\n",
    "drought_threshold_t1(ws_pred_gate_true_inv, t1, lower_threshold)\n",
    "drought_threshold_t1(ws_pred_gate_pred_inv, t1, lower_threshold)"
   ]
  },
  {
   "cell_type": "code",
   "execution_count": 21,
   "id": "4ef4a0fd",
   "metadata": {},
   "outputs": [
    {
     "name": "stdout",
     "output_type": "stream",
     "text": [
      "time steps: 124148, areas: 35182.6098122485\n",
      "time steps: 127126, areas: 34960.07284716559\n",
      "time steps: 11074, areas: 1785.1930859774839\n"
     ]
    }
   ],
   "source": [
    "drought_threshold(ws_true_gate_true_inv, lower_threshold)\n",
    "drought_threshold(ws_pred_gate_true_inv, lower_threshold)\n",
    "drought_threshold(ws_pred_gate_pred_inv, lower_threshold)"
   ]
  },
  {
   "cell_type": "code",
   "execution_count": null,
   "id": "af96ad68",
   "metadata": {},
   "outputs": [],
   "source": []
  },
  {
   "cell_type": "code",
   "execution_count": null,
   "id": "f098eb21",
   "metadata": {},
   "outputs": [],
   "source": []
  }
 ],
 "metadata": {
  "kernelspec": {
   "display_name": "Python 3 (ipykernel)",
   "language": "python",
   "name": "python3"
  },
  "language_info": {
   "codemirror_mode": {
    "name": "ipython",
    "version": 3
   },
   "file_extension": ".py",
   "mimetype": "text/x-python",
   "name": "python",
   "nbconvert_exporter": "python",
   "pygments_lexer": "ipython3",
   "version": "3.10.12"
  }
 },
 "nbformat": 4,
 "nbformat_minor": 5
}
