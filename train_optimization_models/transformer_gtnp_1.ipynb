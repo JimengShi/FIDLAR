{
 "cells": [
  {
   "cell_type": "code",
   "execution_count": 1,
   "id": "efa98cb4",
   "metadata": {},
   "outputs": [
    {
     "name": "stderr",
     "output_type": "stream",
     "text": [
      "2023-08-12 17:24:14.948193: I tensorflow/core/platform/cpu_feature_guard.cc:182] This TensorFlow binary is optimized to use available CPU instructions in performance-critical operations.\n",
      "To enable the following instructions: AVX2 FMA, in other operations, rebuild TensorFlow with the appropriate compiler flags.\n",
      "2023-08-12 17:24:16.235890: W tensorflow/compiler/tf2tensorrt/utils/py_utils.cc:38] TF-TRT Warning: Could not find TensorRT\n"
     ]
    }
   ],
   "source": [
    "import sys\n",
    "import os\n",
    "\n",
    "current_directory = os.getcwd()        \n",
    "parent_directory = os.path.dirname(current_directory)\n",
    "sys.path.append(parent_directory)\n",
    "\n",
    "\n",
    "from preprocess.graph import graph_topology_5\n",
    "from preprocess.BaselinePrerocess import baseline_process, baseline_process_for_gate_predictor\n",
    "from preprocess.GraphTransformerPrerocess import graph_water_transformer_cov_process_for_gate_predictor\n",
    "from baselines.transformer import transformer_gate_generator, transformer_gate_generator_1\n",
    "from models.graph_water_transformer_cov import graph_water_transformer_cov_gate_predictor\n",
    "\n",
    "from losses.loss import gate_loss, water_level_threshold\n",
    "from tensorflow.keras.models import load_model\n",
    "from tensorflow import keras\n",
    "from tensorflow.keras import Input, Model\n",
    "from tensorflow.keras import layers\n",
    "from tensorflow.keras.optimizers import Adam\n",
    "from tensorflow.keras.callbacks import EarlyStopping\n",
    "from tensorflow.keras.callbacks import ModelCheckpoint\n",
    "import time\n",
    "import matplotlib.pyplot as plt\n",
    "import pandas as pd\n",
    "import numpy as np\n",
    "\n",
    "from postprocess.threshold import flood_threshold, drought_threshold, flood_threshold_t1, drought_threshold_t1\n",
    "from spektral.layers import GCNConv"
   ]
  },
  {
   "cell_type": "code",
   "execution_count": 2,
   "id": "0092be29",
   "metadata": {},
   "outputs": [],
   "source": [
    "os.environ[\"CUDA_VISIBLE_DEVICES\"] = \"3\""
   ]
  },
  {
   "cell_type": "code",
   "execution_count": 3,
   "id": "04b8077a",
   "metadata": {},
   "outputs": [],
   "source": [
    "n_hours = 72\n",
    "K = 24 \n",
    "masked_value = 1e-10\n",
    "split_1 = 0.8\n",
    "split_2 = 0.9\n",
    "sigma2 = 0.1\n",
    "epsilon = 0.5"
   ]
  },
  {
   "cell_type": "code",
   "execution_count": 4,
   "id": "d8184307",
   "metadata": {},
   "outputs": [
    {
     "name": "stdout",
     "output_type": "stream",
     "text": [
      "Index(['WS_S1', 'WS_S4', 'FLOW_S25A', 'GATE_S25A', 'HWS_S25A', 'TWS_S25A',\n",
      "       'FLOW_S25B', 'GATE_S25B', 'GATE_S25B2', 'HWS_S25B', 'TWS_S25B',\n",
      "       'PUMP_S25B', 'FLOW_S26', 'GATE_S26_1', 'GATE_S26_2', 'HWS_S26',\n",
      "       'TWS_S26', 'PUMP_S26', 'MEAN_RAIN'],\n",
      "      dtype='object')\n"
     ]
    }
   ],
   "source": [
    "train_X_mask, val_X_mask, test_X_mask, \\\n",
    "train_ws_y, val_ws_y, test_ws_y, \\\n",
    "scaler, ws_scaler = baseline_process(n_hours, K, masked_value, split_1, split_2)"
   ]
  },
  {
   "cell_type": "code",
   "execution_count": 5,
   "id": "db413c6b",
   "metadata": {},
   "outputs": [
    {
     "name": "stdout",
     "output_type": "stream",
     "text": [
      "Index(['WS_S1', 'WS_S4', 'FLOW_S25A', 'GATE_S25A', 'HWS_S25A', 'TWS_S25A',\n",
      "       'FLOW_S25B', 'GATE_S25B', 'GATE_S25B2', 'HWS_S25B', 'TWS_S25B',\n",
      "       'PUMP_S25B', 'FLOW_S26', 'GATE_S26_1', 'GATE_S26_2', 'HWS_S26',\n",
      "       'TWS_S26', 'PUMP_S26', 'MEAN_RAIN'],\n",
      "      dtype='object')\n",
      "train_tws/val_tws/test_tws: (77069, 5, 72) (9634, 5, 72) (19268, 5, 72) \n",
      " train_cov/val_cov/test_cov: (77069, 96, 12) (9634, 96, 12) (19268, 96, 12) \n",
      " train_ws_y/val_ws_y/test_ws_y: (77069, 96) (9634, 96) (19268, 96) \n",
      "  train_gate_pump_y/val_gate_pump_y/test_gate_pump_y: (77069, 24, 7) (9634, 24, 7) (19268, 24, 7)\n"
     ]
    }
   ],
   "source": [
    "train_cov, val_cov, test_cov, \\\n",
    "train_tws_reshape, val_tws_reshape, test_tws_reshape, \\\n",
    "train_gate_pump_y, val_gate_pump_y, test_gate_pump_y, \\\n",
    "train_ws_y, val_ws_y, test_ws_y, \\\n",
    "scaler, ws_scaler, gate_scalar = graph_water_transformer_cov_process_for_gate_predictor(n_hours, K, masked_value, split_1, split_2)"
   ]
  },
  {
   "cell_type": "markdown",
   "id": "265ed7ff",
   "metadata": {},
   "source": [
    "### Graph topology"
   ]
  },
  {
   "cell_type": "code",
   "execution_count": 6,
   "id": "98e803d1",
   "metadata": {},
   "outputs": [
    {
     "name": "stdout",
     "output_type": "stream",
     "text": [
      "node_indices: [0 0 0 0 1 1 2 2 3 3 4 4] \n",
      "neighbor_indices: [1 2 3 4 0 2 0 1 0 4 0 3]\n",
      "number of nodes: 5, number of edges: 12\n"
     ]
    }
   ],
   "source": [
    "train_adj_mat, val_adj_mat, test_adj_mat = graph_topology_5(n_hours, K, sigma2, epsilon, len(train_ws_y), len(val_ws_y), len(test_ws_y))"
   ]
  },
  {
   "cell_type": "markdown",
   "id": "8003a2dc",
   "metadata": {},
   "source": [
    "### Model"
   ]
  },
  {
   "cell_type": "markdown",
   "id": "4861afcd",
   "metadata": {},
   "source": [
    "#### Gate & pump predictor"
   ]
  },
  {
   "cell_type": "code",
   "execution_count": 7,
   "id": "cdfb0ee5",
   "metadata": {},
   "outputs": [],
   "source": [
    "# ===== model parameters ======\n",
    "input_shape = train_X_mask.shape[1:]\n",
    "head_size = 64*2\n",
    "ff_dim = 64\n",
    "num_transformer_blocks = 1\n",
    "num_heads = 3\n",
    "mlp_units = 32\n",
    "dropout = 0.5\n",
    "mlp_dropout = 0.3\n",
    "masked_value = 1e-10\n",
    "gate_min = 0\n",
    "gate_max = 1\n",
    "\n",
    "\n",
    "learning_rate = 5e-4\n",
    "decay_steps = 10000\n",
    "decay_rate = 0.95\n",
    "PATIENCE = 100\n",
    "EPOCHS = 700\n",
    "BATCH = 512"
   ]
  },
  {
   "cell_type": "code",
   "execution_count": 8,
   "id": "109abeeb",
   "metadata": {
    "scrolled": false
   },
   "outputs": [
    {
     "name": "stderr",
     "output_type": "stream",
     "text": [
      "2023-08-12 17:24:29.185523: I tensorflow/core/common_runtime/gpu/gpu_device.cc:1639] Created device /job:localhost/replica:0/task:0/device:GPU:0 with 10402 MB memory:  -> device: 0, name: NVIDIA GeForce GTX 1080 Ti, pci bus id: 0000:09:00.0, compute capability: 6.1\n"
     ]
    }
   ],
   "source": [
    "gate_predictor = transformer_gate_generator_1(input_shape=input_shape,\n",
    "                                            head_size=head_size,\n",
    "                                            num_heads=num_heads,\n",
    "                                            ff_dim=ff_dim,\n",
    "                                            num_transformer_blocks=num_transformer_blocks,\n",
    "                                            mlp_units=mlp_units,\n",
    "                                            dropout=dropout,\n",
    "                                            mlp_dropout=mlp_dropout,\n",
    "                                            masked_value=masked_value,\n",
    "                                            gate_min=gate_min,\n",
    "                                            gate_max=gate_max\n",
    "                                           )\n",
    "gate_predictor._name = \"gate_predictor\"\n",
    "# gate_predictor.summary()"
   ]
  },
  {
   "cell_type": "code",
   "execution_count": 9,
   "id": "7023c4a6",
   "metadata": {},
   "outputs": [],
   "source": [
    "gate_predictor.compile(optimizer='adam', loss='mse')"
   ]
  },
  {
   "cell_type": "markdown",
   "id": "1fab7c93",
   "metadata": {},
   "source": [
    "#### water stage predictor"
   ]
  },
  {
   "cell_type": "code",
   "execution_count": 10,
   "id": "c8002ff9",
   "metadata": {
    "scrolled": false
   },
   "outputs": [
    {
     "name": "stdout",
     "output_type": "stream",
     "text": [
      "WARNING:tensorflow:Layer LSTM will not use cuDNN kernels since it doesn't meet the criteria. It will use a generic GPU kernel as fallback when running on GPU.\n"
     ]
    }
   ],
   "source": [
    "ws_predictor = load_model('../saved_models/WaLeF_gtn_p.h5', custom_objects={'GCNConv': GCNConv})\n",
    "\n",
    "for layer in ws_predictor.layers:\n",
    "    layer.trainable = False\n",
    "\n",
    "ws_predictor._name = 'ws_predictor'    \n",
    "# ws_predictor.summary()"
   ]
  },
  {
   "cell_type": "markdown",
   "id": "733bce1a",
   "metadata": {},
   "source": [
    "#### Combine gate_predictor and trained ws_predictor"
   ]
  },
  {
   "cell_type": "code",
   "execution_count": 11,
   "id": "850a59ca",
   "metadata": {
    "scrolled": false
   },
   "outputs": [],
   "source": [
    "inputs_feat = Input(shape=(96, 16), name='inputs_feat')\n",
    "inputs_tws = Input(shape=(5, 72), name='input_tws')\n",
    "inputs_adj = Input(shape=(5, 5), name='input_adj')\n",
    "\n",
    "# ================ gate_predictor ================\n",
    "gate_predictor_output = gate_predictor(inputs_feat)  # 24*7\n",
    "\n",
    "\n",
    "# ============  future inputs with replaced gate & pump prediction ============\n",
    "replaced_future_gate_pump = layers.Concatenate(axis=-1)([inputs_feat[:, n_hours:, :2], \n",
    "                                                         gate_predictor_output, \n",
    "                                                         inputs_feat[:, n_hours:, 9:]\n",
    "                                                        ]\n",
    "                                                       )\n",
    "\n",
    "# ============ original past inputs + future inputs with replaced gate & pump prediction ============\n",
    "merged_inputs = layers.Concatenate(axis=1)([inputs_feat[:, :n_hours, :], replaced_future_gate_pump])\n",
    "merged_inputs_cov = merged_inputs[:, :, :12]\n",
    "\n",
    "ws_predictor_output = ws_predictor([merged_inputs_cov, inputs_tws, inputs_adj])\n",
    "\n",
    "filda = Model(inputs=[inputs_feat, inputs_tws, inputs_adj], outputs=[gate_predictor_output, ws_predictor_output], name='filda')\n",
    "# filda.summary()"
   ]
  },
  {
   "cell_type": "code",
   "execution_count": 12,
   "id": "cf907f2c",
   "metadata": {
    "scrolled": true
   },
   "outputs": [
    {
     "name": "stdout",
     "output_type": "stream",
     "text": [
      "Epoch 1/700\n"
     ]
    },
    {
     "name": "stderr",
     "output_type": "stream",
     "text": [
      "2023-08-11 02:38:56.472425: I tensorflow/compiler/xla/stream_executor/cuda/cuda_dnn.cc:432] Loaded cuDNN version 8600\n",
      "2023-08-11 02:38:57.817411: I tensorflow/compiler/xla/service/service.cc:168] XLA service 0x7ef4694e61e0 initialized for platform CUDA (this does not guarantee that XLA will be used). Devices:\n",
      "2023-08-11 02:38:57.817466: I tensorflow/compiler/xla/service/service.cc:176]   StreamExecutor device (0): NVIDIA GeForce GTX 1080 Ti, Compute Capability 6.1\n",
      "2023-08-11 02:38:57.828070: I tensorflow/compiler/mlir/tensorflow/utils/dump_mlir_util.cc:255] disabling MLIR crash reproducer, set env var `MLIR_CRASH_REPRODUCER_DIRECTORY` to enable.\n",
      "2023-08-11 02:38:58.239184: I ./tensorflow/compiler/jit/device_compiler.h:186] Compiled cluster using XLA!  This line is logged at most once for the lifetime of the process.\n"
     ]
    },
    {
     "name": "stdout",
     "output_type": "stream",
     "text": [
      "\n",
      "Epoch 1: val_ws_predictor_loss improved from inf to 2.41495, saving model to ../saved_models/transformer_gtnp_1.h5\n",
      "151/151 - 25s - loss: 0.4866 - gate_predictor_loss: 0.0000e+00 - ws_predictor_loss: 0.2433 - val_loss: 4.8299 - val_gate_predictor_loss: 0.0000e+00 - val_ws_predictor_loss: 2.4149 - 25s/epoch - 164ms/step\n",
      "Epoch 2/700\n"
     ]
    },
    {
     "name": "stderr",
     "output_type": "stream",
     "text": [
      "/aul/homes/jshi008/miniconda3/envs/tf213/lib/python3.10/site-packages/keras/src/engine/training.py:3000: UserWarning: You are saving your model as an HDF5 file via `model.save()`. This file format is considered legacy. We recommend using instead the native Keras format, e.g. `model.save('my_model.keras')`.\n",
      "  saving_api.save_model(\n"
     ]
    },
    {
     "name": "stdout",
     "output_type": "stream",
     "text": [
      "\n",
      "Epoch 2: val_ws_predictor_loss improved from 2.41495 to 1.93656, saving model to ../saved_models/transformer_gtnp_1.h5\n",
      "151/151 - 11s - loss: 0.4618 - gate_predictor_loss: 0.0000e+00 - ws_predictor_loss: 0.2309 - val_loss: 3.8731 - val_gate_predictor_loss: 0.0000e+00 - val_ws_predictor_loss: 1.9366 - 11s/epoch - 75ms/step\n",
      "Epoch 3/700\n",
      "\n",
      "Epoch 3: val_ws_predictor_loss did not improve from 1.93656\n",
      "151/151 - 11s - loss: 0.4547 - gate_predictor_loss: 0.0000e+00 - ws_predictor_loss: 0.2274 - val_loss: 3.9675 - val_gate_predictor_loss: 0.0000e+00 - val_ws_predictor_loss: 1.9838 - 11s/epoch - 75ms/step\n",
      "Epoch 4/700\n",
      "\n",
      "Epoch 4: val_ws_predictor_loss improved from 1.93656 to 1.88610, saving model to ../saved_models/transformer_gtnp_1.h5\n",
      "151/151 - 11s - loss: 0.4525 - gate_predictor_loss: 0.0000e+00 - ws_predictor_loss: 0.2263 - val_loss: 3.7722 - val_gate_predictor_loss: 0.0000e+00 - val_ws_predictor_loss: 1.8861 - 11s/epoch - 75ms/step\n",
      "Epoch 5/700\n",
      "\n",
      "Epoch 5: val_ws_predictor_loss did not improve from 1.88610\n",
      "151/151 - 11s - loss: 0.4513 - gate_predictor_loss: 0.0000e+00 - ws_predictor_loss: 0.2256 - val_loss: 3.8057 - val_gate_predictor_loss: 0.0000e+00 - val_ws_predictor_loss: 1.9028 - 11s/epoch - 75ms/step\n",
      "Epoch 6/700\n",
      "\n",
      "Epoch 6: val_ws_predictor_loss did not improve from 1.88610\n",
      "151/151 - 11s - loss: 0.4503 - gate_predictor_loss: 0.0000e+00 - ws_predictor_loss: 0.2252 - val_loss: 3.9332 - val_gate_predictor_loss: 0.0000e+00 - val_ws_predictor_loss: 1.9666 - 11s/epoch - 76ms/step\n",
      "Epoch 7/700\n",
      "\n",
      "Epoch 7: val_ws_predictor_loss did not improve from 1.88610\n",
      "151/151 - 11s - loss: 0.4498 - gate_predictor_loss: 0.0000e+00 - ws_predictor_loss: 0.2249 - val_loss: 3.7782 - val_gate_predictor_loss: 0.0000e+00 - val_ws_predictor_loss: 1.8891 - 11s/epoch - 75ms/step\n",
      "Epoch 8/700\n",
      "\n",
      "Epoch 8: val_ws_predictor_loss did not improve from 1.88610\n",
      "151/151 - 11s - loss: 0.4488 - gate_predictor_loss: 0.0000e+00 - ws_predictor_loss: 0.2244 - val_loss: 3.8978 - val_gate_predictor_loss: 0.0000e+00 - val_ws_predictor_loss: 1.9489 - 11s/epoch - 75ms/step\n",
      "Epoch 9/700\n",
      "\n",
      "Epoch 9: val_ws_predictor_loss improved from 1.88610 to 1.88430, saving model to ../saved_models/transformer_gtnp_1.h5\n",
      "151/151 - 11s - loss: 0.4475 - gate_predictor_loss: 0.0000e+00 - ws_predictor_loss: 0.2238 - val_loss: 3.7686 - val_gate_predictor_loss: 0.0000e+00 - val_ws_predictor_loss: 1.8843 - 11s/epoch - 76ms/step\n",
      "Epoch 10/700\n",
      "\n",
      "Epoch 10: val_ws_predictor_loss improved from 1.88430 to 1.86427, saving model to ../saved_models/transformer_gtnp_1.h5\n",
      "151/151 - 11s - loss: 0.4466 - gate_predictor_loss: 0.0000e+00 - ws_predictor_loss: 0.2233 - val_loss: 3.7286 - val_gate_predictor_loss: 0.0000e+00 - val_ws_predictor_loss: 1.8643 - 11s/epoch - 75ms/step\n",
      "Epoch 11/700\n",
      "\n",
      "Epoch 11: val_ws_predictor_loss improved from 1.86427 to 1.83021, saving model to ../saved_models/transformer_gtnp_1.h5\n",
      "151/151 - 11s - loss: 0.4452 - gate_predictor_loss: 0.0000e+00 - ws_predictor_loss: 0.2226 - val_loss: 3.6604 - val_gate_predictor_loss: 0.0000e+00 - val_ws_predictor_loss: 1.8302 - 11s/epoch - 75ms/step\n",
      "Epoch 12/700\n",
      "\n",
      "Epoch 12: val_ws_predictor_loss improved from 1.83021 to 1.76199, saving model to ../saved_models/transformer_gtnp_1.h5\n",
      "151/151 - 11s - loss: 0.4437 - gate_predictor_loss: 0.0000e+00 - ws_predictor_loss: 0.2219 - val_loss: 3.5240 - val_gate_predictor_loss: 0.0000e+00 - val_ws_predictor_loss: 1.7620 - 11s/epoch - 75ms/step\n",
      "Epoch 13/700\n",
      "\n",
      "Epoch 13: val_ws_predictor_loss improved from 1.76199 to 1.75362, saving model to ../saved_models/transformer_gtnp_1.h5\n",
      "151/151 - 11s - loss: 0.4404 - gate_predictor_loss: 0.0000e+00 - ws_predictor_loss: 0.2202 - val_loss: 3.5073 - val_gate_predictor_loss: 0.0000e+00 - val_ws_predictor_loss: 1.7536 - 11s/epoch - 75ms/step\n",
      "Epoch 14/700\n",
      "\n",
      "Epoch 14: val_ws_predictor_loss did not improve from 1.75362\n",
      "151/151 - 11s - loss: 0.4395 - gate_predictor_loss: 0.0000e+00 - ws_predictor_loss: 0.2197 - val_loss: 3.5153 - val_gate_predictor_loss: 0.0000e+00 - val_ws_predictor_loss: 1.7577 - 11s/epoch - 75ms/step\n",
      "Epoch 15/700\n",
      "\n",
      "Epoch 15: val_ws_predictor_loss improved from 1.75362 to 1.75253, saving model to ../saved_models/transformer_gtnp_1.h5\n",
      "151/151 - 11s - loss: 0.4386 - gate_predictor_loss: 0.0000e+00 - ws_predictor_loss: 0.2193 - val_loss: 3.5051 - val_gate_predictor_loss: 0.0000e+00 - val_ws_predictor_loss: 1.7525 - 11s/epoch - 75ms/step\n",
      "Epoch 16/700\n",
      "\n",
      "Epoch 16: val_ws_predictor_loss did not improve from 1.75253\n",
      "151/151 - 11s - loss: 0.4376 - gate_predictor_loss: 0.0000e+00 - ws_predictor_loss: 0.2188 - val_loss: 3.5072 - val_gate_predictor_loss: 0.0000e+00 - val_ws_predictor_loss: 1.7536 - 11s/epoch - 75ms/step\n",
      "Epoch 17/700\n",
      "\n",
      "Epoch 17: val_ws_predictor_loss did not improve from 1.75253\n",
      "151/151 - 11s - loss: 0.4367 - gate_predictor_loss: 0.0000e+00 - ws_predictor_loss: 0.2184 - val_loss: 3.5076 - val_gate_predictor_loss: 0.0000e+00 - val_ws_predictor_loss: 1.7538 - 11s/epoch - 74ms/step\n",
      "Epoch 18/700\n",
      "\n",
      "Epoch 18: val_ws_predictor_loss did not improve from 1.75253\n",
      "151/151 - 11s - loss: 0.4362 - gate_predictor_loss: 0.0000e+00 - ws_predictor_loss: 0.2181 - val_loss: 3.5093 - val_gate_predictor_loss: 0.0000e+00 - val_ws_predictor_loss: 1.7547 - 11s/epoch - 74ms/step\n",
      "Epoch 19/700\n",
      "\n",
      "Epoch 19: val_ws_predictor_loss did not improve from 1.75253\n",
      "151/151 - 11s - loss: 0.4359 - gate_predictor_loss: 0.0000e+00 - ws_predictor_loss: 0.2180 - val_loss: 3.5055 - val_gate_predictor_loss: 0.0000e+00 - val_ws_predictor_loss: 1.7528 - 11s/epoch - 75ms/step\n",
      "Epoch 20/700\n",
      "\n",
      "Epoch 20: val_ws_predictor_loss improved from 1.75253 to 1.74974, saving model to ../saved_models/transformer_gtnp_1.h5\n",
      "151/151 - 11s - loss: 0.4350 - gate_predictor_loss: 0.0000e+00 - ws_predictor_loss: 0.2175 - val_loss: 3.4995 - val_gate_predictor_loss: 0.0000e+00 - val_ws_predictor_loss: 1.7497 - 11s/epoch - 75ms/step\n",
      "Epoch 21/700\n",
      "\n",
      "Epoch 21: val_ws_predictor_loss did not improve from 1.74974\n",
      "151/151 - 11s - loss: 0.4344 - gate_predictor_loss: 0.0000e+00 - ws_predictor_loss: 0.2172 - val_loss: 3.5017 - val_gate_predictor_loss: 0.0000e+00 - val_ws_predictor_loss: 1.7509 - 11s/epoch - 74ms/step\n",
      "Epoch 22/700\n",
      "\n",
      "Epoch 22: val_ws_predictor_loss improved from 1.74974 to 1.74921, saving model to ../saved_models/transformer_gtnp_1.h5\n",
      "151/151 - 11s - loss: 0.4340 - gate_predictor_loss: 0.0000e+00 - ws_predictor_loss: 0.2170 - val_loss: 3.4984 - val_gate_predictor_loss: 0.0000e+00 - val_ws_predictor_loss: 1.7492 - 11s/epoch - 75ms/step\n",
      "Epoch 23/700\n",
      "\n",
      "Epoch 23: val_ws_predictor_loss did not improve from 1.74921\n",
      "151/151 - 11s - loss: 0.4337 - gate_predictor_loss: 0.0000e+00 - ws_predictor_loss: 0.2169 - val_loss: 3.4998 - val_gate_predictor_loss: 0.0000e+00 - val_ws_predictor_loss: 1.7499 - 11s/epoch - 74ms/step\n",
      "Epoch 24/700\n",
      "\n",
      "Epoch 24: val_ws_predictor_loss did not improve from 1.74921\n",
      "151/151 - 11s - loss: 0.4336 - gate_predictor_loss: 0.0000e+00 - ws_predictor_loss: 0.2168 - val_loss: 3.4986 - val_gate_predictor_loss: 0.0000e+00 - val_ws_predictor_loss: 1.7493 - 11s/epoch - 74ms/step\n",
      "Epoch 25/700\n",
      "\n",
      "Epoch 25: val_ws_predictor_loss did not improve from 1.74921\n",
      "151/151 - 11s - loss: 0.4332 - gate_predictor_loss: 0.0000e+00 - ws_predictor_loss: 0.2166 - val_loss: 3.4998 - val_gate_predictor_loss: 0.0000e+00 - val_ws_predictor_loss: 1.7499 - 11s/epoch - 74ms/step\n",
      "Epoch 26/700\n",
      "\n",
      "Epoch 26: val_ws_predictor_loss improved from 1.74921 to 1.74856, saving model to ../saved_models/transformer_gtnp_1.h5\n",
      "151/151 - 11s - loss: 0.4333 - gate_predictor_loss: 0.0000e+00 - ws_predictor_loss: 0.2167 - val_loss: 3.4971 - val_gate_predictor_loss: 0.0000e+00 - val_ws_predictor_loss: 1.7486 - 11s/epoch - 75ms/step\n",
      "Epoch 27/700\n",
      "\n",
      "Epoch 27: val_ws_predictor_loss did not improve from 1.74856\n",
      "151/151 - 11s - loss: 0.4330 - gate_predictor_loss: 0.0000e+00 - ws_predictor_loss: 0.2165 - val_loss: 3.4981 - val_gate_predictor_loss: 0.0000e+00 - val_ws_predictor_loss: 1.7491 - 11s/epoch - 74ms/step\n",
      "Epoch 28/700\n",
      "\n",
      "Epoch 28: val_ws_predictor_loss did not improve from 1.74856\n",
      "151/151 - 11s - loss: 0.4330 - gate_predictor_loss: 0.0000e+00 - ws_predictor_loss: 0.2165 - val_loss: 3.4994 - val_gate_predictor_loss: 0.0000e+00 - val_ws_predictor_loss: 1.7497 - 11s/epoch - 74ms/step\n",
      "Epoch 29/700\n",
      "\n",
      "Epoch 29: val_ws_predictor_loss did not improve from 1.74856\n"
     ]
    },
    {
     "name": "stdout",
     "output_type": "stream",
     "text": [
      "151/151 - 11s - loss: 0.4329 - gate_predictor_loss: 0.0000e+00 - ws_predictor_loss: 0.2164 - val_loss: 3.5012 - val_gate_predictor_loss: 0.0000e+00 - val_ws_predictor_loss: 1.7506 - 11s/epoch - 74ms/step\n",
      "Epoch 30/700\n",
      "\n",
      "Epoch 30: val_ws_predictor_loss did not improve from 1.74856\n",
      "151/151 - 11s - loss: 0.4329 - gate_predictor_loss: 0.0000e+00 - ws_predictor_loss: 0.2164 - val_loss: 3.5005 - val_gate_predictor_loss: 0.0000e+00 - val_ws_predictor_loss: 1.7502 - 11s/epoch - 74ms/step\n",
      "Epoch 31/700\n",
      "\n",
      "Epoch 31: val_ws_predictor_loss did not improve from 1.74856\n",
      "151/151 - 11s - loss: 0.4327 - gate_predictor_loss: 0.0000e+00 - ws_predictor_loss: 0.2163 - val_loss: 3.5001 - val_gate_predictor_loss: 0.0000e+00 - val_ws_predictor_loss: 1.7501 - 11s/epoch - 74ms/step\n",
      "Epoch 32/700\n",
      "\n",
      "Epoch 32: val_ws_predictor_loss did not improve from 1.74856\n",
      "151/151 - 11s - loss: 0.4326 - gate_predictor_loss: 0.0000e+00 - ws_predictor_loss: 0.2163 - val_loss: 3.4999 - val_gate_predictor_loss: 0.0000e+00 - val_ws_predictor_loss: 1.7500 - 11s/epoch - 74ms/step\n",
      "Epoch 33/700\n",
      "\n",
      "Epoch 33: val_ws_predictor_loss did not improve from 1.74856\n",
      "151/151 - 11s - loss: 0.4325 - gate_predictor_loss: 0.0000e+00 - ws_predictor_loss: 0.2162 - val_loss: 3.5028 - val_gate_predictor_loss: 0.0000e+00 - val_ws_predictor_loss: 1.7514 - 11s/epoch - 74ms/step\n",
      "Epoch 34/700\n",
      "\n",
      "Epoch 34: val_ws_predictor_loss did not improve from 1.74856\n",
      "151/151 - 11s - loss: 0.4325 - gate_predictor_loss: 0.0000e+00 - ws_predictor_loss: 0.2163 - val_loss: 3.5001 - val_gate_predictor_loss: 0.0000e+00 - val_ws_predictor_loss: 1.7501 - 11s/epoch - 74ms/step\n",
      "Epoch 35/700\n",
      "\n",
      "Epoch 35: val_ws_predictor_loss did not improve from 1.74856\n",
      "151/151 - 11s - loss: 0.4323 - gate_predictor_loss: 0.0000e+00 - ws_predictor_loss: 0.2161 - val_loss: 3.4992 - val_gate_predictor_loss: 0.0000e+00 - val_ws_predictor_loss: 1.7496 - 11s/epoch - 74ms/step\n",
      "Epoch 36/700\n",
      "\n",
      "Epoch 36: val_ws_predictor_loss did not improve from 1.74856\n",
      "151/151 - 11s - loss: 0.4324 - gate_predictor_loss: 0.0000e+00 - ws_predictor_loss: 0.2162 - val_loss: 3.4977 - val_gate_predictor_loss: 0.0000e+00 - val_ws_predictor_loss: 1.7488 - 11s/epoch - 74ms/step\n",
      "Epoch 37/700\n",
      "\n",
      "Epoch 37: val_ws_predictor_loss did not improve from 1.74856\n",
      "151/151 - 11s - loss: 0.4323 - gate_predictor_loss: 0.0000e+00 - ws_predictor_loss: 0.2162 - val_loss: 3.5031 - val_gate_predictor_loss: 0.0000e+00 - val_ws_predictor_loss: 1.7516 - 11s/epoch - 74ms/step\n",
      "Epoch 38/700\n",
      "\n",
      "Epoch 38: val_ws_predictor_loss did not improve from 1.74856\n",
      "151/151 - 11s - loss: 0.4321 - gate_predictor_loss: 0.0000e+00 - ws_predictor_loss: 0.2161 - val_loss: 3.5030 - val_gate_predictor_loss: 0.0000e+00 - val_ws_predictor_loss: 1.7515 - 11s/epoch - 75ms/step\n",
      "Epoch 39/700\n",
      "\n",
      "Epoch 39: val_ws_predictor_loss did not improve from 1.74856\n",
      "151/151 - 11s - loss: 0.4321 - gate_predictor_loss: 0.0000e+00 - ws_predictor_loss: 0.2160 - val_loss: 3.5037 - val_gate_predictor_loss: 0.0000e+00 - val_ws_predictor_loss: 1.7519 - 11s/epoch - 75ms/step\n",
      "Epoch 40/700\n",
      "\n",
      "Epoch 40: val_ws_predictor_loss did not improve from 1.74856\n",
      "151/151 - 11s - loss: 0.4321 - gate_predictor_loss: 0.0000e+00 - ws_predictor_loss: 0.2160 - val_loss: 3.5110 - val_gate_predictor_loss: 0.0000e+00 - val_ws_predictor_loss: 1.7555 - 11s/epoch - 74ms/step\n",
      "Epoch 41/700\n",
      "\n",
      "Epoch 41: val_ws_predictor_loss did not improve from 1.74856\n",
      "151/151 - 11s - loss: 0.4320 - gate_predictor_loss: 0.0000e+00 - ws_predictor_loss: 0.2160 - val_loss: 3.5042 - val_gate_predictor_loss: 0.0000e+00 - val_ws_predictor_loss: 1.7521 - 11s/epoch - 74ms/step\n",
      "Epoch 42/700\n",
      "\n",
      "Epoch 42: val_ws_predictor_loss did not improve from 1.74856\n",
      "151/151 - 11s - loss: 0.4321 - gate_predictor_loss: 0.0000e+00 - ws_predictor_loss: 0.2161 - val_loss: 3.5049 - val_gate_predictor_loss: 0.0000e+00 - val_ws_predictor_loss: 1.7524 - 11s/epoch - 74ms/step\n",
      "Epoch 43/700\n",
      "\n",
      "Epoch 43: val_ws_predictor_loss did not improve from 1.74856\n",
      "151/151 - 11s - loss: 0.4320 - gate_predictor_loss: 0.0000e+00 - ws_predictor_loss: 0.2160 - val_loss: 3.5047 - val_gate_predictor_loss: 0.0000e+00 - val_ws_predictor_loss: 1.7524 - 11s/epoch - 74ms/step\n",
      "Epoch 44/700\n",
      "\n",
      "Epoch 44: val_ws_predictor_loss did not improve from 1.74856\n",
      "151/151 - 11s - loss: 0.4318 - gate_predictor_loss: 0.0000e+00 - ws_predictor_loss: 0.2159 - val_loss: 3.5040 - val_gate_predictor_loss: 0.0000e+00 - val_ws_predictor_loss: 1.7520 - 11s/epoch - 74ms/step\n",
      "Epoch 45/700\n",
      "\n",
      "Epoch 45: val_ws_predictor_loss did not improve from 1.74856\n",
      "151/151 - 11s - loss: 0.4318 - gate_predictor_loss: 0.0000e+00 - ws_predictor_loss: 0.2159 - val_loss: 3.5038 - val_gate_predictor_loss: 0.0000e+00 - val_ws_predictor_loss: 1.7519 - 11s/epoch - 74ms/step\n",
      "Epoch 46/700\n",
      "\n",
      "Epoch 46: val_ws_predictor_loss did not improve from 1.74856\n",
      "151/151 - 11s - loss: 0.4318 - gate_predictor_loss: 0.0000e+00 - ws_predictor_loss: 0.2159 - val_loss: 3.5010 - val_gate_predictor_loss: 0.0000e+00 - val_ws_predictor_loss: 1.7505 - 11s/epoch - 74ms/step\n",
      "Epoch 47/700\n",
      "\n",
      "Epoch 47: val_ws_predictor_loss did not improve from 1.74856\n",
      "151/151 - 11s - loss: 0.4317 - gate_predictor_loss: 0.0000e+00 - ws_predictor_loss: 0.2159 - val_loss: 3.5046 - val_gate_predictor_loss: 0.0000e+00 - val_ws_predictor_loss: 1.7523 - 11s/epoch - 74ms/step\n",
      "Epoch 48/700\n",
      "\n",
      "Epoch 48: val_ws_predictor_loss did not improve from 1.74856\n",
      "151/151 - 11s - loss: 0.4318 - gate_predictor_loss: 0.0000e+00 - ws_predictor_loss: 0.2159 - val_loss: 3.5025 - val_gate_predictor_loss: 0.0000e+00 - val_ws_predictor_loss: 1.7512 - 11s/epoch - 74ms/step\n",
      "Epoch 49/700\n",
      "\n",
      "Epoch 49: val_ws_predictor_loss did not improve from 1.74856\n",
      "151/151 - 11s - loss: 0.4318 - gate_predictor_loss: 0.0000e+00 - ws_predictor_loss: 0.2159 - val_loss: 3.5112 - val_gate_predictor_loss: 0.0000e+00 - val_ws_predictor_loss: 1.7556 - 11s/epoch - 74ms/step\n",
      "Epoch 50/700\n",
      "\n",
      "Epoch 50: val_ws_predictor_loss did not improve from 1.74856\n",
      "151/151 - 11s - loss: 0.4316 - gate_predictor_loss: 0.0000e+00 - ws_predictor_loss: 0.2158 - val_loss: 3.5062 - val_gate_predictor_loss: 0.0000e+00 - val_ws_predictor_loss: 1.7531 - 11s/epoch - 74ms/step\n",
      "Epoch 51/700\n",
      "\n",
      "Epoch 51: val_ws_predictor_loss did not improve from 1.74856\n",
      "151/151 - 11s - loss: 0.4316 - gate_predictor_loss: 0.0000e+00 - ws_predictor_loss: 0.2158 - val_loss: 3.5010 - val_gate_predictor_loss: 0.0000e+00 - val_ws_predictor_loss: 1.7505 - 11s/epoch - 74ms/step\n",
      "Epoch 52/700\n",
      "\n",
      "Epoch 52: val_ws_predictor_loss did not improve from 1.74856\n",
      "151/151 - 11s - loss: 0.4316 - gate_predictor_loss: 0.0000e+00 - ws_predictor_loss: 0.2158 - val_loss: 3.5045 - val_gate_predictor_loss: 0.0000e+00 - val_ws_predictor_loss: 1.7523 - 11s/epoch - 74ms/step\n",
      "Epoch 53/700\n",
      "\n",
      "Epoch 53: val_ws_predictor_loss did not improve from 1.74856\n",
      "151/151 - 11s - loss: 0.4316 - gate_predictor_loss: 0.0000e+00 - ws_predictor_loss: 0.2158 - val_loss: 3.5056 - val_gate_predictor_loss: 0.0000e+00 - val_ws_predictor_loss: 1.7528 - 11s/epoch - 74ms/step\n",
      "Epoch 54/700\n",
      "\n",
      "Epoch 54: val_ws_predictor_loss did not improve from 1.74856\n",
      "151/151 - 11s - loss: 0.4315 - gate_predictor_loss: 0.0000e+00 - ws_predictor_loss: 0.2157 - val_loss: 3.5098 - val_gate_predictor_loss: 0.0000e+00 - val_ws_predictor_loss: 1.7549 - 11s/epoch - 74ms/step\n",
      "Epoch 55/700\n",
      "\n",
      "Epoch 55: val_ws_predictor_loss did not improve from 1.74856\n",
      "151/151 - 11s - loss: 0.4315 - gate_predictor_loss: 0.0000e+00 - ws_predictor_loss: 0.2158 - val_loss: 3.5027 - val_gate_predictor_loss: 0.0000e+00 - val_ws_predictor_loss: 1.7514 - 11s/epoch - 74ms/step\n",
      "Epoch 56/700\n",
      "\n",
      "Epoch 56: val_ws_predictor_loss did not improve from 1.74856\n",
      "151/151 - 11s - loss: 0.4315 - gate_predictor_loss: 0.0000e+00 - ws_predictor_loss: 0.2158 - val_loss: 3.5015 - val_gate_predictor_loss: 0.0000e+00 - val_ws_predictor_loss: 1.7507 - 11s/epoch - 74ms/step\n",
      "Epoch 57/700\n",
      "\n",
      "Epoch 57: val_ws_predictor_loss did not improve from 1.74856\n",
      "151/151 - 11s - loss: 0.4315 - gate_predictor_loss: 0.0000e+00 - ws_predictor_loss: 0.2158 - val_loss: 3.5039 - val_gate_predictor_loss: 0.0000e+00 - val_ws_predictor_loss: 1.7520 - 11s/epoch - 74ms/step\n",
      "Epoch 58/700\n",
      "\n",
      "Epoch 58: val_ws_predictor_loss did not improve from 1.74856\n",
      "151/151 - 11s - loss: 0.4313 - gate_predictor_loss: 0.0000e+00 - ws_predictor_loss: 0.2157 - val_loss: 3.5066 - val_gate_predictor_loss: 0.0000e+00 - val_ws_predictor_loss: 1.7533 - 11s/epoch - 74ms/step\n"
     ]
    },
    {
     "name": "stdout",
     "output_type": "stream",
     "text": [
      "Epoch 59/700\n",
      "\n",
      "Epoch 59: val_ws_predictor_loss did not improve from 1.74856\n",
      "151/151 - 11s - loss: 0.4314 - gate_predictor_loss: 0.0000e+00 - ws_predictor_loss: 0.2157 - val_loss: 3.5012 - val_gate_predictor_loss: 0.0000e+00 - val_ws_predictor_loss: 1.7506 - 11s/epoch - 74ms/step\n",
      "Epoch 60/700\n",
      "\n",
      "Epoch 60: val_ws_predictor_loss did not improve from 1.74856\n",
      "151/151 - 11s - loss: 0.4314 - gate_predictor_loss: 0.0000e+00 - ws_predictor_loss: 0.2157 - val_loss: 3.5049 - val_gate_predictor_loss: 0.0000e+00 - val_ws_predictor_loss: 1.7524 - 11s/epoch - 74ms/step\n",
      "Epoch 61/700\n",
      "\n",
      "Epoch 61: val_ws_predictor_loss did not improve from 1.74856\n",
      "151/151 - 11s - loss: 0.4314 - gate_predictor_loss: 0.0000e+00 - ws_predictor_loss: 0.2157 - val_loss: 3.5069 - val_gate_predictor_loss: 0.0000e+00 - val_ws_predictor_loss: 1.7535 - 11s/epoch - 74ms/step\n",
      "Epoch 62/700\n",
      "\n",
      "Epoch 62: val_ws_predictor_loss did not improve from 1.74856\n",
      "151/151 - 11s - loss: 0.4314 - gate_predictor_loss: 0.0000e+00 - ws_predictor_loss: 0.2157 - val_loss: 3.5188 - val_gate_predictor_loss: 0.0000e+00 - val_ws_predictor_loss: 1.7594 - 11s/epoch - 74ms/step\n",
      "Epoch 63/700\n",
      "\n",
      "Epoch 63: val_ws_predictor_loss did not improve from 1.74856\n",
      "151/151 - 11s - loss: 0.4314 - gate_predictor_loss: 0.0000e+00 - ws_predictor_loss: 0.2157 - val_loss: 3.5028 - val_gate_predictor_loss: 0.0000e+00 - val_ws_predictor_loss: 1.7514 - 11s/epoch - 74ms/step\n",
      "Epoch 64/700\n",
      "\n",
      "Epoch 64: val_ws_predictor_loss did not improve from 1.74856\n",
      "151/151 - 11s - loss: 0.4313 - gate_predictor_loss: 0.0000e+00 - ws_predictor_loss: 0.2157 - val_loss: 3.5022 - val_gate_predictor_loss: 0.0000e+00 - val_ws_predictor_loss: 1.7511 - 11s/epoch - 74ms/step\n",
      "Epoch 65/700\n",
      "\n",
      "Epoch 65: val_ws_predictor_loss did not improve from 1.74856\n",
      "151/151 - 11s - loss: 0.4314 - gate_predictor_loss: 0.0000e+00 - ws_predictor_loss: 0.2157 - val_loss: 3.5110 - val_gate_predictor_loss: 0.0000e+00 - val_ws_predictor_loss: 1.7555 - 11s/epoch - 74ms/step\n",
      "Epoch 66/700\n",
      "\n",
      "Epoch 66: val_ws_predictor_loss did not improve from 1.74856\n",
      "151/151 - 11s - loss: 0.4313 - gate_predictor_loss: 0.0000e+00 - ws_predictor_loss: 0.2156 - val_loss: 3.5047 - val_gate_predictor_loss: 0.0000e+00 - val_ws_predictor_loss: 1.7524 - 11s/epoch - 75ms/step\n",
      "Epoch 67/700\n",
      "\n",
      "Epoch 67: val_ws_predictor_loss did not improve from 1.74856\n",
      "151/151 - 11s - loss: 0.4312 - gate_predictor_loss: 0.0000e+00 - ws_predictor_loss: 0.2156 - val_loss: 3.4995 - val_gate_predictor_loss: 0.0000e+00 - val_ws_predictor_loss: 1.7498 - 11s/epoch - 74ms/step\n",
      "Epoch 68/700\n",
      "\n",
      "Epoch 68: val_ws_predictor_loss did not improve from 1.74856\n",
      "151/151 - 11s - loss: 0.4313 - gate_predictor_loss: 0.0000e+00 - ws_predictor_loss: 0.2156 - val_loss: 3.5058 - val_gate_predictor_loss: 0.0000e+00 - val_ws_predictor_loss: 1.7529 - 11s/epoch - 74ms/step\n",
      "Epoch 69/700\n",
      "\n",
      "Epoch 69: val_ws_predictor_loss did not improve from 1.74856\n",
      "151/151 - 11s - loss: 0.4313 - gate_predictor_loss: 0.0000e+00 - ws_predictor_loss: 0.2156 - val_loss: 3.5030 - val_gate_predictor_loss: 0.0000e+00 - val_ws_predictor_loss: 1.7515 - 11s/epoch - 74ms/step\n",
      "Epoch 70/700\n",
      "\n",
      "Epoch 70: val_ws_predictor_loss did not improve from 1.74856\n",
      "151/151 - 11s - loss: 0.4313 - gate_predictor_loss: 0.0000e+00 - ws_predictor_loss: 0.2157 - val_loss: 3.5018 - val_gate_predictor_loss: 0.0000e+00 - val_ws_predictor_loss: 1.7509 - 11s/epoch - 74ms/step\n",
      "Epoch 71/700\n",
      "\n",
      "Epoch 71: val_ws_predictor_loss did not improve from 1.74856\n",
      "151/151 - 11s - loss: 0.4313 - gate_predictor_loss: 0.0000e+00 - ws_predictor_loss: 0.2156 - val_loss: 3.5049 - val_gate_predictor_loss: 0.0000e+00 - val_ws_predictor_loss: 1.7525 - 11s/epoch - 74ms/step\n",
      "Epoch 72/700\n",
      "\n",
      "Epoch 72: val_ws_predictor_loss did not improve from 1.74856\n",
      "151/151 - 11s - loss: 0.4312 - gate_predictor_loss: 0.0000e+00 - ws_predictor_loss: 0.2156 - val_loss: 3.5078 - val_gate_predictor_loss: 0.0000e+00 - val_ws_predictor_loss: 1.7539 - 11s/epoch - 74ms/step\n",
      "Epoch 73/700\n",
      "\n",
      "Epoch 73: val_ws_predictor_loss did not improve from 1.74856\n",
      "151/151 - 11s - loss: 0.4312 - gate_predictor_loss: 0.0000e+00 - ws_predictor_loss: 0.2156 - val_loss: 3.5084 - val_gate_predictor_loss: 0.0000e+00 - val_ws_predictor_loss: 1.7542 - 11s/epoch - 74ms/step\n",
      "Epoch 74/700\n",
      "\n",
      "Epoch 74: val_ws_predictor_loss did not improve from 1.74856\n",
      "151/151 - 11s - loss: 0.4312 - gate_predictor_loss: 0.0000e+00 - ws_predictor_loss: 0.2156 - val_loss: 3.5072 - val_gate_predictor_loss: 0.0000e+00 - val_ws_predictor_loss: 1.7536 - 11s/epoch - 74ms/step\n",
      "Epoch 75/700\n",
      "\n",
      "Epoch 75: val_ws_predictor_loss did not improve from 1.74856\n",
      "151/151 - 11s - loss: 0.4311 - gate_predictor_loss: 0.0000e+00 - ws_predictor_loss: 0.2156 - val_loss: 3.5072 - val_gate_predictor_loss: 0.0000e+00 - val_ws_predictor_loss: 1.7536 - 11s/epoch - 74ms/step\n",
      "Epoch 76/700\n",
      "\n",
      "Epoch 76: val_ws_predictor_loss did not improve from 1.74856\n",
      "151/151 - 11s - loss: 0.4312 - gate_predictor_loss: 0.0000e+00 - ws_predictor_loss: 0.2156 - val_loss: 3.5027 - val_gate_predictor_loss: 0.0000e+00 - val_ws_predictor_loss: 1.7513 - 11s/epoch - 74ms/step\n",
      "Epoch 77/700\n",
      "\n",
      "Epoch 77: val_ws_predictor_loss did not improve from 1.74856\n",
      "151/151 - 11s - loss: 0.4313 - gate_predictor_loss: 0.0000e+00 - ws_predictor_loss: 0.2156 - val_loss: 3.5069 - val_gate_predictor_loss: 0.0000e+00 - val_ws_predictor_loss: 1.7535 - 11s/epoch - 74ms/step\n",
      "Epoch 78/700\n",
      "\n",
      "Epoch 78: val_ws_predictor_loss did not improve from 1.74856\n",
      "151/151 - 11s - loss: 0.4312 - gate_predictor_loss: 0.0000e+00 - ws_predictor_loss: 0.2156 - val_loss: 3.5025 - val_gate_predictor_loss: 0.0000e+00 - val_ws_predictor_loss: 1.7512 - 11s/epoch - 74ms/step\n",
      "Epoch 79/700\n",
      "\n",
      "Epoch 79: val_ws_predictor_loss did not improve from 1.74856\n",
      "151/151 - 11s - loss: 0.4313 - gate_predictor_loss: 0.0000e+00 - ws_predictor_loss: 0.2156 - val_loss: 3.5127 - val_gate_predictor_loss: 0.0000e+00 - val_ws_predictor_loss: 1.7563 - 11s/epoch - 74ms/step\n",
      "Epoch 80/700\n",
      "\n",
      "Epoch 80: val_ws_predictor_loss did not improve from 1.74856\n",
      "151/151 - 11s - loss: 0.4312 - gate_predictor_loss: 0.0000e+00 - ws_predictor_loss: 0.2156 - val_loss: 3.5064 - val_gate_predictor_loss: 0.0000e+00 - val_ws_predictor_loss: 1.7532 - 11s/epoch - 74ms/step\n",
      "Epoch 81/700\n",
      "\n",
      "Epoch 81: val_ws_predictor_loss did not improve from 1.74856\n",
      "151/151 - 11s - loss: 0.4311 - gate_predictor_loss: 0.0000e+00 - ws_predictor_loss: 0.2156 - val_loss: 3.5094 - val_gate_predictor_loss: 0.0000e+00 - val_ws_predictor_loss: 1.7547 - 11s/epoch - 74ms/step\n",
      "Epoch 82/700\n",
      "\n",
      "Epoch 82: val_ws_predictor_loss did not improve from 1.74856\n",
      "151/151 - 11s - loss: 0.4310 - gate_predictor_loss: 0.0000e+00 - ws_predictor_loss: 0.2155 - val_loss: 3.5078 - val_gate_predictor_loss: 0.0000e+00 - val_ws_predictor_loss: 1.7539 - 11s/epoch - 74ms/step\n",
      "Epoch 83/700\n",
      "\n",
      "Epoch 83: val_ws_predictor_loss did not improve from 1.74856\n",
      "151/151 - 11s - loss: 0.4311 - gate_predictor_loss: 0.0000e+00 - ws_predictor_loss: 0.2155 - val_loss: 3.5023 - val_gate_predictor_loss: 0.0000e+00 - val_ws_predictor_loss: 1.7512 - 11s/epoch - 75ms/step\n",
      "Epoch 84/700\n",
      "\n",
      "Epoch 84: val_ws_predictor_loss did not improve from 1.74856\n",
      "151/151 - 11s - loss: 0.4311 - gate_predictor_loss: 0.0000e+00 - ws_predictor_loss: 0.2155 - val_loss: 3.5030 - val_gate_predictor_loss: 0.0000e+00 - val_ws_predictor_loss: 1.7515 - 11s/epoch - 74ms/step\n",
      "Epoch 85/700\n",
      "\n",
      "Epoch 85: val_ws_predictor_loss did not improve from 1.74856\n",
      "151/151 - 11s - loss: 0.4311 - gate_predictor_loss: 0.0000e+00 - ws_predictor_loss: 0.2155 - val_loss: 3.5099 - val_gate_predictor_loss: 0.0000e+00 - val_ws_predictor_loss: 1.7550 - 11s/epoch - 74ms/step\n",
      "Epoch 86/700\n",
      "\n",
      "Epoch 86: val_ws_predictor_loss did not improve from 1.74856\n",
      "151/151 - 11s - loss: 0.4312 - gate_predictor_loss: 0.0000e+00 - ws_predictor_loss: 0.2156 - val_loss: 3.5055 - val_gate_predictor_loss: 0.0000e+00 - val_ws_predictor_loss: 1.7528 - 11s/epoch - 74ms/step\n",
      "Epoch 87/700\n",
      "\n",
      "Epoch 87: val_ws_predictor_loss did not improve from 1.74856\n",
      "151/151 - 11s - loss: 0.4312 - gate_predictor_loss: 0.0000e+00 - ws_predictor_loss: 0.2156 - val_loss: 3.5089 - val_gate_predictor_loss: 0.0000e+00 - val_ws_predictor_loss: 1.7545 - 11s/epoch - 74ms/step\n",
      "Epoch 88/700\n",
      "\n",
      "Epoch 88: val_ws_predictor_loss did not improve from 1.74856\n",
      "151/151 - 11s - loss: 0.4310 - gate_predictor_loss: 0.0000e+00 - ws_predictor_loss: 0.2155 - val_loss: 3.5017 - val_gate_predictor_loss: 0.0000e+00 - val_ws_predictor_loss: 1.7508 - 11s/epoch - 75ms/step\n"
     ]
    },
    {
     "name": "stdout",
     "output_type": "stream",
     "text": [
      "Epoch 89/700\n",
      "\n",
      "Epoch 89: val_ws_predictor_loss did not improve from 1.74856\n",
      "151/151 - 11s - loss: 0.4313 - gate_predictor_loss: 0.0000e+00 - ws_predictor_loss: 0.2156 - val_loss: 3.5018 - val_gate_predictor_loss: 0.0000e+00 - val_ws_predictor_loss: 1.7509 - 11s/epoch - 74ms/step\n",
      "Epoch 90/700\n",
      "\n",
      "Epoch 90: val_ws_predictor_loss did not improve from 1.74856\n",
      "151/151 - 11s - loss: 0.4312 - gate_predictor_loss: 0.0000e+00 - ws_predictor_loss: 0.2156 - val_loss: 3.5098 - val_gate_predictor_loss: 0.0000e+00 - val_ws_predictor_loss: 1.7549 - 11s/epoch - 74ms/step\n",
      "Epoch 91/700\n",
      "\n",
      "Epoch 91: val_ws_predictor_loss did not improve from 1.74856\n",
      "151/151 - 11s - loss: 0.4312 - gate_predictor_loss: 0.0000e+00 - ws_predictor_loss: 0.2156 - val_loss: 3.5072 - val_gate_predictor_loss: 0.0000e+00 - val_ws_predictor_loss: 1.7536 - 11s/epoch - 74ms/step\n",
      "Epoch 92/700\n",
      "\n",
      "Epoch 92: val_ws_predictor_loss did not improve from 1.74856\n",
      "151/151 - 11s - loss: 0.4309 - gate_predictor_loss: 0.0000e+00 - ws_predictor_loss: 0.2155 - val_loss: 3.5080 - val_gate_predictor_loss: 0.0000e+00 - val_ws_predictor_loss: 1.7540 - 11s/epoch - 74ms/step\n",
      "Epoch 93/700\n",
      "\n",
      "Epoch 93: val_ws_predictor_loss did not improve from 1.74856\n",
      "151/151 - 11s - loss: 0.4310 - gate_predictor_loss: 0.0000e+00 - ws_predictor_loss: 0.2155 - val_loss: 3.5042 - val_gate_predictor_loss: 0.0000e+00 - val_ws_predictor_loss: 1.7521 - 11s/epoch - 74ms/step\n",
      "Epoch 94/700\n",
      "\n",
      "Epoch 94: val_ws_predictor_loss did not improve from 1.74856\n",
      "151/151 - 11s - loss: 0.4310 - gate_predictor_loss: 0.0000e+00 - ws_predictor_loss: 0.2155 - val_loss: 3.5068 - val_gate_predictor_loss: 0.0000e+00 - val_ws_predictor_loss: 1.7534 - 11s/epoch - 74ms/step\n",
      "Epoch 95/700\n",
      "\n",
      "Epoch 95: val_ws_predictor_loss did not improve from 1.74856\n",
      "151/151 - 11s - loss: 0.4310 - gate_predictor_loss: 0.0000e+00 - ws_predictor_loss: 0.2155 - val_loss: 3.5024 - val_gate_predictor_loss: 0.0000e+00 - val_ws_predictor_loss: 1.7512 - 11s/epoch - 74ms/step\n",
      "Epoch 96/700\n",
      "\n",
      "Epoch 96: val_ws_predictor_loss did not improve from 1.74856\n",
      "151/151 - 11s - loss: 0.4310 - gate_predictor_loss: 0.0000e+00 - ws_predictor_loss: 0.2155 - val_loss: 3.5069 - val_gate_predictor_loss: 0.0000e+00 - val_ws_predictor_loss: 1.7534 - 11s/epoch - 74ms/step\n",
      "Epoch 97/700\n",
      "\n",
      "Epoch 97: val_ws_predictor_loss did not improve from 1.74856\n",
      "151/151 - 11s - loss: 0.4310 - gate_predictor_loss: 0.0000e+00 - ws_predictor_loss: 0.2155 - val_loss: 3.5018 - val_gate_predictor_loss: 0.0000e+00 - val_ws_predictor_loss: 1.7509 - 11s/epoch - 74ms/step\n",
      "Epoch 98/700\n",
      "\n",
      "Epoch 98: val_ws_predictor_loss did not improve from 1.74856\n",
      "151/151 - 11s - loss: 0.4310 - gate_predictor_loss: 0.0000e+00 - ws_predictor_loss: 0.2155 - val_loss: 3.5027 - val_gate_predictor_loss: 0.0000e+00 - val_ws_predictor_loss: 1.7514 - 11s/epoch - 74ms/step\n",
      "Epoch 99/700\n",
      "\n",
      "Epoch 99: val_ws_predictor_loss did not improve from 1.74856\n",
      "151/151 - 11s - loss: 0.4310 - gate_predictor_loss: 0.0000e+00 - ws_predictor_loss: 0.2155 - val_loss: 3.5128 - val_gate_predictor_loss: 0.0000e+00 - val_ws_predictor_loss: 1.7564 - 11s/epoch - 75ms/step\n",
      "Epoch 100/700\n",
      "\n",
      "Epoch 100: val_ws_predictor_loss did not improve from 1.74856\n",
      "151/151 - 11s - loss: 0.4312 - gate_predictor_loss: 0.0000e+00 - ws_predictor_loss: 0.2156 - val_loss: 3.5066 - val_gate_predictor_loss: 0.0000e+00 - val_ws_predictor_loss: 1.7533 - 11s/epoch - 75ms/step\n",
      "Epoch 101/700\n",
      "\n",
      "Epoch 101: val_ws_predictor_loss did not improve from 1.74856\n",
      "151/151 - 11s - loss: 0.4311 - gate_predictor_loss: 0.0000e+00 - ws_predictor_loss: 0.2155 - val_loss: 3.5059 - val_gate_predictor_loss: 0.0000e+00 - val_ws_predictor_loss: 1.7529 - 11s/epoch - 74ms/step\n",
      "Epoch 102/700\n",
      "\n",
      "Epoch 102: val_ws_predictor_loss did not improve from 1.74856\n",
      "151/151 - 11s - loss: 0.4312 - gate_predictor_loss: 0.0000e+00 - ws_predictor_loss: 0.2156 - val_loss: 3.5030 - val_gate_predictor_loss: 0.0000e+00 - val_ws_predictor_loss: 1.7515 - 11s/epoch - 74ms/step\n",
      "Epoch 103/700\n",
      "\n",
      "Epoch 103: val_ws_predictor_loss did not improve from 1.74856\n",
      "151/151 - 11s - loss: 0.4311 - gate_predictor_loss: 0.0000e+00 - ws_predictor_loss: 0.2155 - val_loss: 3.5064 - val_gate_predictor_loss: 0.0000e+00 - val_ws_predictor_loss: 1.7532 - 11s/epoch - 75ms/step\n",
      "Epoch 104/700\n",
      "\n",
      "Epoch 104: val_ws_predictor_loss did not improve from 1.74856\n",
      "151/151 - 11s - loss: 0.4310 - gate_predictor_loss: 0.0000e+00 - ws_predictor_loss: 0.2155 - val_loss: 3.5080 - val_gate_predictor_loss: 0.0000e+00 - val_ws_predictor_loss: 1.7540 - 11s/epoch - 75ms/step\n",
      "Epoch 105/700\n",
      "\n",
      "Epoch 105: val_ws_predictor_loss did not improve from 1.74856\n",
      "151/151 - 11s - loss: 0.4309 - gate_predictor_loss: 0.0000e+00 - ws_predictor_loss: 0.2155 - val_loss: 3.5081 - val_gate_predictor_loss: 0.0000e+00 - val_ws_predictor_loss: 1.7541 - 11s/epoch - 75ms/step\n",
      "Epoch 106/700\n",
      "\n",
      "Epoch 106: val_ws_predictor_loss did not improve from 1.74856\n",
      "151/151 - 11s - loss: 0.4309 - gate_predictor_loss: 0.0000e+00 - ws_predictor_loss: 0.2155 - val_loss: 3.5107 - val_gate_predictor_loss: 0.0000e+00 - val_ws_predictor_loss: 1.7554 - 11s/epoch - 74ms/step\n",
      "Epoch 107/700\n",
      "\n",
      "Epoch 107: val_ws_predictor_loss did not improve from 1.74856\n",
      "151/151 - 11s - loss: 0.4309 - gate_predictor_loss: 0.0000e+00 - ws_predictor_loss: 0.2154 - val_loss: 3.5043 - val_gate_predictor_loss: 0.0000e+00 - val_ws_predictor_loss: 1.7521 - 11s/epoch - 74ms/step\n",
      "Epoch 108/700\n",
      "\n",
      "Epoch 108: val_ws_predictor_loss did not improve from 1.74856\n",
      "151/151 - 11s - loss: 0.4309 - gate_predictor_loss: 0.0000e+00 - ws_predictor_loss: 0.2154 - val_loss: 3.5067 - val_gate_predictor_loss: 0.0000e+00 - val_ws_predictor_loss: 1.7533 - 11s/epoch - 75ms/step\n",
      "Epoch 109/700\n",
      "\n",
      "Epoch 109: val_ws_predictor_loss did not improve from 1.74856\n",
      "151/151 - 11s - loss: 0.4309 - gate_predictor_loss: 0.0000e+00 - ws_predictor_loss: 0.2155 - val_loss: 3.5017 - val_gate_predictor_loss: 0.0000e+00 - val_ws_predictor_loss: 1.7508 - 11s/epoch - 74ms/step\n",
      "Epoch 110/700\n",
      "\n",
      "Epoch 110: val_ws_predictor_loss did not improve from 1.74856\n",
      "151/151 - 11s - loss: 0.4309 - gate_predictor_loss: 0.0000e+00 - ws_predictor_loss: 0.2155 - val_loss: 3.5077 - val_gate_predictor_loss: 0.0000e+00 - val_ws_predictor_loss: 1.7538 - 11s/epoch - 74ms/step\n",
      "Epoch 111/700\n",
      "\n",
      "Epoch 111: val_ws_predictor_loss did not improve from 1.74856\n",
      "151/151 - 11s - loss: 0.4310 - gate_predictor_loss: 0.0000e+00 - ws_predictor_loss: 0.2155 - val_loss: 3.5048 - val_gate_predictor_loss: 0.0000e+00 - val_ws_predictor_loss: 1.7524 - 11s/epoch - 74ms/step\n",
      "Epoch 112/700\n",
      "\n",
      "Epoch 112: val_ws_predictor_loss did not improve from 1.74856\n",
      "151/151 - 11s - loss: 0.4310 - gate_predictor_loss: 0.0000e+00 - ws_predictor_loss: 0.2155 - val_loss: 3.5073 - val_gate_predictor_loss: 0.0000e+00 - val_ws_predictor_loss: 1.7536 - 11s/epoch - 74ms/step\n",
      "Epoch 113/700\n",
      "\n",
      "Epoch 113: val_ws_predictor_loss did not improve from 1.74856\n",
      "151/151 - 11s - loss: 0.4309 - gate_predictor_loss: 0.0000e+00 - ws_predictor_loss: 0.2155 - val_loss: 3.5054 - val_gate_predictor_loss: 0.0000e+00 - val_ws_predictor_loss: 1.7527 - 11s/epoch - 74ms/step\n",
      "Epoch 114/700\n",
      "\n",
      "Epoch 114: val_ws_predictor_loss did not improve from 1.74856\n",
      "151/151 - 11s - loss: 0.4309 - gate_predictor_loss: 0.0000e+00 - ws_predictor_loss: 0.2155 - val_loss: 3.5038 - val_gate_predictor_loss: 0.0000e+00 - val_ws_predictor_loss: 1.7519 - 11s/epoch - 74ms/step\n",
      "Epoch 115/700\n",
      "\n",
      "Epoch 115: val_ws_predictor_loss did not improve from 1.74856\n",
      "151/151 - 11s - loss: 0.4309 - gate_predictor_loss: 0.0000e+00 - ws_predictor_loss: 0.2154 - val_loss: 3.5116 - val_gate_predictor_loss: 0.0000e+00 - val_ws_predictor_loss: 1.7558 - 11s/epoch - 74ms/step\n",
      "Epoch 116/700\n",
      "\n",
      "Epoch 116: val_ws_predictor_loss did not improve from 1.74856\n",
      "151/151 - 11s - loss: 0.4310 - gate_predictor_loss: 0.0000e+00 - ws_predictor_loss: 0.2155 - val_loss: 3.5039 - val_gate_predictor_loss: 0.0000e+00 - val_ws_predictor_loss: 1.7519 - 11s/epoch - 74ms/step\n",
      "Epoch 117/700\n",
      "\n",
      "Epoch 117: val_ws_predictor_loss did not improve from 1.74856\n",
      "151/151 - 11s - loss: 0.4309 - gate_predictor_loss: 0.0000e+00 - ws_predictor_loss: 0.2155 - val_loss: 3.5046 - val_gate_predictor_loss: 0.0000e+00 - val_ws_predictor_loss: 1.7523 - 11s/epoch - 74ms/step\n",
      "Epoch 118/700\n",
      "\n",
      "Epoch 118: val_ws_predictor_loss did not improve from 1.74856\n"
     ]
    },
    {
     "name": "stdout",
     "output_type": "stream",
     "text": [
      "151/151 - 11s - loss: 0.4309 - gate_predictor_loss: 0.0000e+00 - ws_predictor_loss: 0.2155 - val_loss: 3.5084 - val_gate_predictor_loss: 0.0000e+00 - val_ws_predictor_loss: 1.7542 - 11s/epoch - 74ms/step\n",
      "Epoch 119/700\n",
      "\n",
      "Epoch 119: val_ws_predictor_loss did not improve from 1.74856\n",
      "151/151 - 11s - loss: 0.4309 - gate_predictor_loss: 0.0000e+00 - ws_predictor_loss: 0.2155 - val_loss: 3.5033 - val_gate_predictor_loss: 0.0000e+00 - val_ws_predictor_loss: 1.7516 - 11s/epoch - 74ms/step\n",
      "Epoch 120/700\n",
      "\n",
      "Epoch 120: val_ws_predictor_loss did not improve from 1.74856\n",
      "151/151 - 11s - loss: 0.4309 - gate_predictor_loss: 0.0000e+00 - ws_predictor_loss: 0.2155 - val_loss: 3.5040 - val_gate_predictor_loss: 0.0000e+00 - val_ws_predictor_loss: 1.7520 - 11s/epoch - 74ms/step\n",
      "Epoch 121/700\n",
      "\n",
      "Epoch 121: val_ws_predictor_loss did not improve from 1.74856\n",
      "151/151 - 11s - loss: 0.4308 - gate_predictor_loss: 0.0000e+00 - ws_predictor_loss: 0.2154 - val_loss: 3.5067 - val_gate_predictor_loss: 0.0000e+00 - val_ws_predictor_loss: 1.7533 - 11s/epoch - 74ms/step\n",
      "Epoch 122/700\n",
      "\n",
      "Epoch 122: val_ws_predictor_loss did not improve from 1.74856\n",
      "151/151 - 11s - loss: 0.4308 - gate_predictor_loss: 0.0000e+00 - ws_predictor_loss: 0.2154 - val_loss: 3.5093 - val_gate_predictor_loss: 0.0000e+00 - val_ws_predictor_loss: 1.7547 - 11s/epoch - 74ms/step\n",
      "Epoch 123/700\n",
      "\n",
      "Epoch 123: val_ws_predictor_loss did not improve from 1.74856\n",
      "151/151 - 11s - loss: 0.4310 - gate_predictor_loss: 0.0000e+00 - ws_predictor_loss: 0.2155 - val_loss: 3.5064 - val_gate_predictor_loss: 0.0000e+00 - val_ws_predictor_loss: 1.7532 - 11s/epoch - 74ms/step\n",
      "Epoch 124/700\n",
      "\n",
      "Epoch 124: val_ws_predictor_loss did not improve from 1.74856\n",
      "151/151 - 11s - loss: 0.4308 - gate_predictor_loss: 0.0000e+00 - ws_predictor_loss: 0.2154 - val_loss: 3.5104 - val_gate_predictor_loss: 0.0000e+00 - val_ws_predictor_loss: 1.7552 - 11s/epoch - 74ms/step\n",
      "Epoch 125/700\n",
      "\n",
      "Epoch 125: val_ws_predictor_loss did not improve from 1.74856\n",
      "151/151 - 11s - loss: 0.4308 - gate_predictor_loss: 0.0000e+00 - ws_predictor_loss: 0.2154 - val_loss: 3.5066 - val_gate_predictor_loss: 0.0000e+00 - val_ws_predictor_loss: 1.7533 - 11s/epoch - 74ms/step\n",
      "Epoch 126/700\n",
      "\n",
      "Epoch 126: val_ws_predictor_loss did not improve from 1.74856\n",
      "151/151 - 11s - loss: 0.4309 - gate_predictor_loss: 0.0000e+00 - ws_predictor_loss: 0.2154 - val_loss: 3.5086 - val_gate_predictor_loss: 0.0000e+00 - val_ws_predictor_loss: 1.7543 - 11s/epoch - 74ms/step\n",
      "Epoch 126: early stopping\n"
     ]
    },
    {
     "data": {
      "image/png": "[encoded data removed]",
      "text/plain": [
       "<Figure size 800x600 with 1 Axes>"
      ]
     },
     "metadata": {},
     "output_type": "display_data"
    }
   ],
   "source": [
    "lr_schedule = keras.optimizers.schedules.ExponentialDecay(initial_learning_rate=learning_rate, \n",
    "                                                          decay_steps=decay_steps,\n",
    "                                                          decay_rate=decay_rate)\n",
    "\n",
    "filda.compile(optimizer=Adam(learning_rate=lr_schedule),\n",
    "             loss=[gate_loss, water_level_threshold], \n",
    "             loss_weights=[0.0, 2.0]\n",
    "            )\n",
    "\n",
    "\n",
    "es = EarlyStopping(monitor='val_loss', mode='min', verbose=2, patience=100)\n",
    "mc = ModelCheckpoint('../saved_models/transformer_gtnp_1.h5'.format(n_hours, K),\n",
    "                     monitor='val_ws_predictor_loss',\n",
    "                     mode='min',\n",
    "                     verbose=2, \n",
    "                     custom_objects={'gate_loss':gate_loss, 'water_level_threshold':water_level_threshold}, \n",
    "                     save_best_only=True)\n",
    "\n",
    "\n",
    "history = filda.fit([train_X_mask, train_tws_reshape, train_adj_mat], [train_gate_pump_y, train_ws_y],\n",
    "                   validation_data=([val_X_mask, val_tws_reshape, val_adj_mat], [val_gate_pump_y, val_ws_y]),\n",
    "                   batch_size=BATCH, \n",
    "                   epochs=EPOCHS, \n",
    "                   verbose=2, \n",
    "                   callbacks=[es, mc],\n",
    "                   shuffle=True,\n",
    "\n",
    "                  )\n",
    "\n",
    "\n",
    "plt.rcParams[\"figure.figsize\"] = (8, 6)\n",
    "plt.plot(history.history['ws_predictor_loss'], label='train')\n",
    "plt.plot(history.history['val_ws_predictor_loss'], label='val')\n",
    "plt.xticks(fontsize=14)\n",
    "plt.yticks(fontsize=14)\n",
    "plt.xlabel('Epoch', fontsize=16)\n",
    "plt.ylabel('Loss', fontsize=16)\n",
    "plt.legend(fontsize=14)\n",
    "plt.title(\"Training loss vs Testing loss\", fontsize=18)\n",
    "# plt.savefig('graph/rnn_loss.png', dpi=300)\n",
    "plt.show()"
   ]
  },
  {
   "cell_type": "markdown",
   "id": "274afc23",
   "metadata": {},
   "source": [
    "### Performance"
   ]
  },
  {
   "cell_type": "code",
   "execution_count": 12,
   "id": "c761507a",
   "metadata": {
    "scrolled": true
   },
   "outputs": [
    {
     "name": "stdout",
     "output_type": "stream",
     "text": [
      "WARNING:tensorflow:Layer LSTM will not use cuDNN kernels since it doesn't meet the criteria. It will use a generic GPU kernel as fallback when running on GPU.\n"
     ]
    }
   ],
   "source": [
    "saved_model = load_model('../saved_models/transformer_gtnp_1.h5',\n",
    "                         custom_objects={'gate_loss':gate_loss, \n",
    "                                         'water_level_threshold':water_level_threshold,\n",
    "                                         'GCNConv': GCNConv\n",
    "                                        }\n",
    "                        )"
   ]
  },
  {
   "cell_type": "code",
   "execution_count": 13,
   "id": "437232bc",
   "metadata": {},
   "outputs": [
    {
     "name": "stderr",
     "output_type": "stream",
     "text": [
      "2023-08-12 17:24:42.903369: I tensorflow/compiler/xla/stream_executor/cuda/cuda_dnn.cc:432] Loaded cuDNN version 8600\n"
     ]
    },
    {
     "name": "stdout",
     "output_type": "stream",
     "text": [
      "603/603 [==============================] - 5s 6ms/step\n",
      "(19268, 24, 7)\n",
      "(19268, 96)\n",
      "Usded time: 6.765011740848422 seconds\n"
     ]
    }
   ],
   "source": [
    "start_time = time.perf_counter()\n",
    "\n",
    "\n",
    "gate_pump_pred, ws_pred = saved_model.predict([test_X_mask, test_tws_reshape, test_adj_mat])\n",
    "\n",
    "print(gate_pump_pred.shape)\n",
    "print(ws_pred.shape)\n",
    "\n",
    "\n",
    "end_time = time.perf_counter()\n",
    "used_time = end_time - start_time\n",
    "print(f\"Usded time: {used_time} seconds\")"
   ]
  },
  {
   "cell_type": "markdown",
   "id": "37fd7424",
   "metadata": {},
   "source": [
    "#### ws pred, gate pred"
   ]
  },
  {
   "cell_type": "code",
   "execution_count": 15,
   "id": "73063d86",
   "metadata": {},
   "outputs": [
    {
     "data": {
      "text/plain": [
       "(19268, 24, 4)"
      ]
     },
     "execution_count": 15,
     "metadata": {},
     "output_type": "execute_result"
    }
   ],
   "source": [
    "ws_pred_gate_pred_inv = ws_scaler.inverse_transform(ws_pred)\n",
    "ws_pred_gate_pred_inv = ws_pred_gate_pred_inv.reshape((-1, K, 4))\n",
    "ws_pred_gate_pred_inv.shape"
   ]
  },
  {
   "cell_type": "markdown",
   "id": "181b7677",
   "metadata": {},
   "source": [
    "#### ws true, gate true"
   ]
  },
  {
   "cell_type": "code",
   "execution_count": 16,
   "id": "fc62a508",
   "metadata": {},
   "outputs": [
    {
     "data": {
      "text/plain": [
       "(19268, 24, 4)"
      ]
     },
     "execution_count": 16,
     "metadata": {},
     "output_type": "execute_result"
    }
   ],
   "source": [
    "ws_true_gate_true = test_ws_y\n",
    "ws_true_gate_true_inv = ws_scaler.inverse_transform(ws_true_gate_true)\n",
    "ws_true_gate_true_inv = ws_true_gate_true_inv.reshape((-1, K, 4))\n",
    "ws_true_gate_true_inv.shape"
   ]
  },
  {
   "cell_type": "markdown",
   "id": "ffa81cf7",
   "metadata": {},
   "source": [
    "#### ws pred, gate true"
   ]
  },
  {
   "cell_type": "code",
   "execution_count": 17,
   "id": "bb27e44e",
   "metadata": {},
   "outputs": [
    {
     "name": "stdout",
     "output_type": "stream",
     "text": [
      "WARNING:tensorflow:Layer LSTM will not use cuDNN kernels since it doesn't meet the criteria. It will use a generic GPU kernel as fallback when running on GPU.\n",
      "603/603 [==============================] - 2s 3ms/step\n"
     ]
    },
    {
     "data": {
      "text/plain": [
       "(19268, 24, 4)"
      ]
     },
     "execution_count": 17,
     "metadata": {},
     "output_type": "execute_result"
    }
   ],
   "source": [
    "ws_predictor = load_model('../saved_models/WaLeF_gtn_p.h5', custom_objects={'GCNConv': GCNConv})\n",
    "\n",
    "ws_pred_gate_true = ws_predictor.predict([test_cov, test_tws_reshape, test_adj_mat])\n",
    "ws_pred_gate_true_inv = ws_scaler.inverse_transform(ws_pred_gate_true)\n",
    "ws_pred_gate_true_inv = ws_pred_gate_true_inv.reshape((-1, 24, 4))\n",
    "ws_pred_gate_true_inv.shape"
   ]
  },
  {
   "cell_type": "markdown",
   "id": "ad36fbd5",
   "metadata": {},
   "source": [
    "### Upper threshould"
   ]
  },
  {
   "cell_type": "code",
   "execution_count": 18,
   "id": "db1fdbcb",
   "metadata": {},
   "outputs": [
    {
     "name": "stdout",
     "output_type": "stream",
     "text": [
      "S1, S25A, S25B, S26 time steps: 96, 96, 118, 117\n",
      "S1, S25A, S25B, S26 areas: 14.82, 15.22, 18, 20.13\n",
      "TOTAL time steps: 427; TOTAL areas: 68.61\n",
      "--------------------------------------------------\n",
      "S1, S25A, S25B, S26 time steps: 85, 85, 96, 108\n",
      "S1, S25A, S25B, S26 areas: 11.5466, 12.1773, 13, 17.2181\n",
      "TOTAL time steps: 374; TOTAL areas: 54.3063\n",
      "--------------------------------------------------\n",
      "S1, S25A, S25B, S26 time steps: 85, 85, 96, 108\n",
      "S1, S25A, S25B, S26 areas: 11.5466, 12.1773, 13, 17.2181\n",
      "TOTAL time steps: 374; TOTAL areas: 54.3063\n",
      "--------------------------------------------------\n"
     ]
    }
   ],
   "source": [
    "upper_threshold = 3.5\n",
    "t1 = 1\n",
    "\n",
    "flood_threshold_t1(ws_true_gate_true_inv, t1, upper_threshold)\n",
    "flood_threshold_t1(ws_pred_gate_true_inv, t1, upper_threshold)\n",
    "flood_threshold_t1(ws_pred_gate_pred_inv, t1, upper_threshold)"
   ]
  },
  {
   "cell_type": "code",
   "execution_count": 19,
   "id": "3a25590f",
   "metadata": {},
   "outputs": [
    {
     "name": "stdout",
     "output_type": "stream",
     "text": [
      "S1, S25A, S25B, S26 time steps: 6, 5, 6, 6\n",
      "S1, S25A, S25B, S26 areas: 0.84, 0.72, 1, 1.0\n",
      "TOTAL time steps: 23; TOTAL areas: 3.62\n",
      "--------------------------------------------------\n",
      "S1, S25A, S25B, S26 time steps: 6, 6, 5, 5\n",
      "S1, S25A, S25B, S26 areas: 0.6148, 0.6425, 1, 0.8663\n",
      "TOTAL time steps: 22; TOTAL areas: 3.0018\n",
      "--------------------------------------------------\n",
      "S1, S25A, S25B, S26 time steps: 6, 6, 5, 5\n",
      "S1, S25A, S25B, S26 areas: 0.6148, 0.6425, 1, 0.8663\n",
      "TOTAL time steps: 22; TOTAL areas: 3.0018\n",
      "--------------------------------------------------\n"
     ]
    }
   ],
   "source": [
    "flood_threshold_t1(ws_true_gate_true_inv[7640-23:7680-23], t1, upper_threshold)\n",
    "flood_threshold_t1(ws_pred_gate_true_inv[7640-23:7680-23], t1, upper_threshold)\n",
    "flood_threshold_t1(ws_pred_gate_pred_inv[7640-23:7680-23], t1, upper_threshold)"
   ]
  },
  {
   "cell_type": "code",
   "execution_count": 20,
   "id": "cae8935e",
   "metadata": {},
   "outputs": [
    {
     "name": "stdout",
     "output_type": "stream",
     "text": [
      "time steps: 10248, areas: 1646.6399002075195\n",
      "time steps: 12130, areas: 2088.0380942821503\n",
      "time steps: 12130, areas: 2088.0380942821503\n"
     ]
    }
   ],
   "source": [
    "flood_threshold(ws_true_gate_true_inv, upper_threshold)\n",
    "flood_threshold(ws_pred_gate_true_inv, upper_threshold)\n",
    "flood_threshold(ws_pred_gate_pred_inv, upper_threshold)"
   ]
  },
  {
   "cell_type": "markdown",
   "id": "5b5e11a6",
   "metadata": {},
   "source": [
    "### Lower threshold"
   ]
  },
  {
   "cell_type": "code",
   "execution_count": 21,
   "id": "51025b76",
   "metadata": {},
   "outputs": [
    {
     "name": "stdout",
     "output_type": "stream",
     "text": [
      "S1, S25A, S25B, S26 time steps: 1346, 1341, 1229, 1250\n",
      "S1, S25A, S25B, S26 areas: -385.8, -383.38, -345.08, -350.84:\n",
      "TOTAL time steps: 5166; TOTAL areas: -1465.1\n",
      "--------------------------------------------------\n",
      "S1, S25A, S25B, S26 time steps: 1390, 1427, 1282, 1476\n",
      "S1, S25A, S25B, S26 areas: -398.849, -392.0414, -350.2885, -429.5386:\n",
      "TOTAL time steps: 5575; TOTAL areas: -1570.7176\n",
      "--------------------------------------------------\n",
      "S1, S25A, S25B, S26 time steps: 1180, 1062, 937, 1199\n",
      "S1, S25A, S25B, S26 areas: -310.1655, -271.6843, -240.3643, -320.7746:\n",
      "TOTAL time steps: 4378; TOTAL areas: -1142.9887\n",
      "--------------------------------------------------\n"
     ]
    }
   ],
   "source": [
    "lower_threshold = 0\n",
    "t1 = 1\n",
    "\n",
    "drought_threshold_t1(ws_true_gate_true_inv, t1, lower_threshold)\n",
    "drought_threshold_t1(ws_pred_gate_true_inv, t1, lower_threshold)\n",
    "drought_threshold_t1(ws_pred_gate_pred_inv, t1, lower_threshold)"
   ]
  },
  {
   "cell_type": "code",
   "execution_count": 23,
   "id": "0344681a",
   "metadata": {},
   "outputs": [
    {
     "name": "stdout",
     "output_type": "stream",
     "text": [
      "S1, S25A, S25B, S26 time steps: 0, 0, 0, 0\n",
      "S1, S25A, S25B, S26 areas: 0, 0, 0, 0:\n",
      "TOTAL time steps: 0; TOTAL areas: 0\n",
      "--------------------------------------------------\n",
      "S1, S25A, S25B, S26 time steps: 0, 0, 0, 0\n",
      "S1, S25A, S25B, S26 areas: 0, 0, 0, 0:\n",
      "TOTAL time steps: 0; TOTAL areas: 0\n",
      "--------------------------------------------------\n",
      "S1, S25A, S25B, S26 time steps: 0, 0, 0, 0\n",
      "S1, S25A, S25B, S26 areas: 0, 0, 0, 0:\n",
      "TOTAL time steps: 0; TOTAL areas: 0\n",
      "--------------------------------------------------\n"
     ]
    }
   ],
   "source": [
    "drought_threshold_t1(ws_true_gate_true_inv[7640-23:7680-23], t1, lower_threshold)\n",
    "drought_threshold_t1(ws_pred_gate_true_inv[7640-23:7680-23], t1, lower_threshold)\n",
    "drought_threshold_t1(ws_pred_gate_pred_inv[7640-23:7680-23], t1, lower_threshold)"
   ]
  },
  {
   "cell_type": "code",
   "execution_count": 22,
   "id": "4ef4a0fd",
   "metadata": {},
   "outputs": [
    {
     "name": "stdout",
     "output_type": "stream",
     "text": [
      "time steps: 124148, areas: 35182.6098122485\n",
      "time steps: 127126, areas: 34960.07284716559\n",
      "time steps: 91815, areas: 23486.057383245246\n"
     ]
    }
   ],
   "source": [
    "lower_threshold = 0\n",
    "\n",
    "drought_threshold(ws_true_gate_true_inv, lower_threshold)\n",
    "drought_threshold(ws_pred_gate_true_inv, lower_threshold)\n",
    "drought_threshold(ws_pred_gate_pred_inv, lower_threshold)"
   ]
  },
  {
   "cell_type": "code",
   "execution_count": null,
   "id": "af96ad68",
   "metadata": {},
   "outputs": [],
   "source": []
  },
  {
   "cell_type": "code",
   "execution_count": null,
   "id": "f098eb21",
   "metadata": {},
   "outputs": [],
   "source": []
  },
  {
   "cell_type": "code",
   "execution_count": null,
   "id": "e0ccc1f2",
   "metadata": {},
   "outputs": [],
   "source": []
  }
 ],
 "metadata": {
  "kernelspec": {
   "display_name": "Python 3 (ipykernel)",
   "language": "python",
   "name": "python3"
  },
  "language_info": {
   "codemirror_mode": {
    "name": "ipython",
    "version": 3
   },
   "file_extension": ".py",
   "mimetype": "text/x-python",
   "name": "python",
   "nbconvert_exporter": "python",
   "pygments_lexer": "ipython3",
   "version": "3.10.12"
  }
 },
 "nbformat": 4,
 "nbformat_minor": 5
}
