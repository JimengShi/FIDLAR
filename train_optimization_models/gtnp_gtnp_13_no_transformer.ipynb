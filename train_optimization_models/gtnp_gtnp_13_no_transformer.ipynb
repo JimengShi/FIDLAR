{
 "cells": [
  {
   "cell_type": "code",
   "execution_count": 1,
   "id": "efa98cb4",
   "metadata": {},
   "outputs": [
    {
     "name": "stderr",
     "output_type": "stream",
     "text": [
      "2023-08-12 14:49:37.136849: I tensorflow/core/platform/cpu_feature_guard.cc:182] This TensorFlow binary is optimized to use available CPU instructions in performance-critical operations.\n",
      "To enable the following instructions: AVX2 FMA, in other operations, rebuild TensorFlow with the appropriate compiler flags.\n",
      "2023-08-12 14:49:38.404927: W tensorflow/compiler/tf2tensorrt/utils/py_utils.cc:38] TF-TRT Warning: Could not find TensorRT\n"
     ]
    },
    {
     "name": "stdout",
     "output_type": "stream",
     "text": [
      "0.5714025946899135\n"
     ]
    }
   ],
   "source": [
    "import sys\n",
    "import os\n",
    "\n",
    "current_directory = os.getcwd()        \n",
    "parent_directory = os.path.dirname(current_directory)\n",
    "sys.path.append(parent_directory)\n",
    "\n",
    "\n",
    "from preprocess.graph import graph_topology_5\n",
    "from preprocess.GraphTransformerPrerocess import graph_water_transformer_cov_process_for_gate_predictor\n",
    "from models.graph_water_transformer_cov_no_transformer import graph_water_transformer_cov_gate_predictor_no_transformer\n",
    "\n",
    "from losses.loss import gate_loss, water_level_threshold\n",
    "from tensorflow.keras.models import load_model\n",
    "from tensorflow import keras\n",
    "from tensorflow.keras import Input, Model\n",
    "from tensorflow.keras import layers\n",
    "from tensorflow.keras.optimizers import Adam\n",
    "from tensorflow.keras.callbacks import EarlyStopping\n",
    "from tensorflow.keras.callbacks import ModelCheckpoint\n",
    "\n",
    "import matplotlib.pyplot as plt\n",
    "import pandas as pd\n",
    "import numpy as np\n",
    "\n",
    "from postprocess.threshold import flood_threshold, drought_threshold, flood_threshold_t1, drought_threshold_t1\n",
    "\n",
    "\n",
    "import random\n",
    "\n",
    "random.seed(10)\n",
    "print(random.random())"
   ]
  },
  {
   "cell_type": "code",
   "execution_count": 2,
   "id": "0092be29",
   "metadata": {},
   "outputs": [],
   "source": [
    "os.environ[\"CUDA_VISIBLE_DEVICES\"] = \"1\""
   ]
  },
  {
   "cell_type": "code",
   "execution_count": 3,
   "id": "04b8077a",
   "metadata": {},
   "outputs": [],
   "source": [
    "n_hours = 72\n",
    "K = 24 \n",
    "masked_value = 1e-10\n",
    "split_1 = 0.8\n",
    "split_2 = 0.9\n",
    "sigma2 = 0.1\n",
    "epsilon = 0.5"
   ]
  },
  {
   "cell_type": "code",
   "execution_count": 4,
   "id": "d43bd0cd",
   "metadata": {},
   "outputs": [
    {
     "name": "stdout",
     "output_type": "stream",
     "text": [
      "Index(['WS_S1', 'WS_S4', 'FLOW_S25A', 'GATE_S25A', 'HWS_S25A', 'TWS_S25A',\n",
      "       'FLOW_S25B', 'GATE_S25B', 'GATE_S25B2', 'HWS_S25B', 'TWS_S25B',\n",
      "       'PUMP_S25B', 'FLOW_S26', 'GATE_S26_1', 'GATE_S26_2', 'HWS_S26',\n",
      "       'TWS_S26', 'PUMP_S26', 'MEAN_RAIN'],\n",
      "      dtype='object')\n",
      "train_tws/val_tws/test_tws: (77069, 5, 72) (9634, 5, 72) (19268, 5, 72) \n",
      " train_cov/val_cov/test_cov: (77069, 96, 12) (9634, 96, 12) (19268, 96, 12) \n",
      " train_ws_y/val_ws_y/test_ws_y: (77069, 96) (9634, 96) (19268, 96) \n",
      "  train_gate_pump_y/val_gate_pump_y/test_gate_pump_y: (77069, 24, 7) (9634, 24, 7) (19268, 24, 7)\n"
     ]
    }
   ],
   "source": [
    "train_cov, val_cov, test_cov, \\\n",
    "train_tws_reshape, val_tws_reshape, test_tws_reshape, \\\n",
    "train_gate_pump_y, val_gate_pump_y, test_gate_pump_y, \\\n",
    "train_ws_y, val_ws_y, test_ws_y, \\\n",
    "scaler, ws_scaler, gate_scalar = graph_water_transformer_cov_process_for_gate_predictor(n_hours, K, masked_value, split_1, split_2)"
   ]
  },
  {
   "cell_type": "markdown",
   "id": "265ed7ff",
   "metadata": {},
   "source": [
    "### Graph topology"
   ]
  },
  {
   "cell_type": "code",
   "execution_count": 5,
   "id": "98e803d1",
   "metadata": {},
   "outputs": [
    {
     "name": "stdout",
     "output_type": "stream",
     "text": [
      "node_indices: [0 0 0 0 1 1 2 2 3 3 4 4] \n",
      "neighbor_indices: [1 2 3 4 0 2 0 1 0 4 0 3]\n",
      "number of nodes: 5, number of edges: 12\n"
     ]
    }
   ],
   "source": [
    "train_adj_mat, val_adj_mat, test_adj_mat = graph_topology_5(n_hours, K, sigma2, epsilon, len(train_ws_y), len(val_ws_y), len(test_ws_y))"
   ]
  },
  {
   "cell_type": "markdown",
   "id": "8003a2dc",
   "metadata": {},
   "source": [
    "### Model"
   ]
  },
  {
   "cell_type": "markdown",
   "id": "4861afcd",
   "metadata": {},
   "source": [
    "#### Gate & pump predictor"
   ]
  },
  {
   "cell_type": "code",
   "execution_count": 84,
   "id": "cdfb0ee5",
   "metadata": {},
   "outputs": [],
   "source": [
    "# ===== model parameters ======\n",
    "cnn_unit1 = 32\n",
    "dropout = 0.3\n",
    "l1_reg = 1e-5\n",
    "l2_reg = 1e-5\n",
    "gcn_unit1 = 32\n",
    "gcn_unit2 = 16\n",
    "lstm_units = 32\n",
    "gate_min = 0.0\n",
    "gate_max = 1.0\n",
    "\n",
    "learning_rate = 3e-3\n",
    "decay_steps = 10000\n",
    "decay_rate = 0.95\n",
    "PATIENCE = 100\n",
    "EPOCHS = 700\n",
    "BATCH = 512"
   ]
  },
  {
   "cell_type": "code",
   "execution_count": 85,
   "id": "9ace5898",
   "metadata": {},
   "outputs": [],
   "source": [
    "input_shape = train_cov.shape[1:]"
   ]
  },
  {
   "cell_type": "code",
   "execution_count": 86,
   "id": "109abeeb",
   "metadata": {
    "scrolled": false
   },
   "outputs": [
    {
     "name": "stdout",
     "output_type": "stream",
     "text": [
      "WARNING:tensorflow:Layer LSTM will not use cuDNN kernels since it doesn't meet the criteria. It will use a generic GPU kernel as fallback when running on GPU.\n",
      "Model: \"gate_predictor\"\n",
      "__________________________________________________________________________________________________\n",
      " Layer (type)                Output Shape                 Param #   Connected to                  \n",
      "==================================================================================================\n",
      " cov_inputs (InputLayer)     [(None, 96, 12)]             0         []                            \n",
      "                                                                                                  \n",
      " masking_4 (Masking)         (None, 96, 12)               0         ['cov_inputs[0][0]']          \n",
      "                                                                                                  \n",
      " conv1d_8 (Conv1D)           (None, 96, 32)               800       ['masking_4[0][0]']           \n",
      "                                                                                                  \n",
      " dropout_18 (Dropout)        (None, 96, 32)               0         ['conv1d_8[0][0]']            \n",
      "                                                                                                  \n",
      " conv1d_9 (Conv1D)           (None, 96, 12)               780       ['dropout_18[0][0]']          \n",
      "                                                                                                  \n",
      " inp_seq (InputLayer)        [(None, 5, 72)]              0         []                            \n",
      "                                                                                                  \n",
      " inp_lap (InputLayer)        [(None, 5, 5)]               0         []                            \n",
      "                                                                                                  \n",
      " dense_12 (Dense)            (None, 96, 5)                65        ['conv1d_9[0][0]']            \n",
      "                                                                                                  \n",
      " GCNConv1 (GCNConv)          (None, 5, 32)                2336      ['inp_seq[0][0]',             \n",
      "                                                                     'inp_lap[0][0]']             \n",
      "                                                                                                  \n",
      " cov_reshape (Reshape)       (None, 5, 96)                0         ['dense_12[0][0]']            \n",
      "                                                                                                  \n",
      " GCNConv2 (GCNConv)          (None, 5, 16)                528       ['GCNConv1[0][0]',            \n",
      "                                                                     'inp_lap[0][0]']             \n",
      "                                                                                                  \n",
      " LSTM (LSTM)                 (None, 5, 32)                13440     ['inp_seq[0][0]']             \n",
      "                                                                                                  \n",
      " concate (Concatenate)       (None, 5, 144)               0         ['cov_reshape[0][0]',         \n",
      "                                                                     'GCNConv2[0][0]',            \n",
      "                                                                     'LSTM[0][0]']                \n",
      "                                                                                                  \n",
      " attention (Attention)       (None, 5, 144)               0         ['concate[0][0]',             \n",
      "                                                                     'concate[0][0]']             \n",
      "                                                                                                  \n",
      " flatten_4 (Flatten)         (None, 720)                  0         ['attention[0][0]']           \n",
      "                                                                                                  \n",
      " dense_13 (Dense)            (None, 384)                  276864    ['flatten_4[0][0]']           \n",
      "                                                                                                  \n",
      " reshape_4 (Reshape)         (None, 24, 16)               0         ['dense_13[0][0]']            \n",
      "                                                                                                  \n",
      " dense_14 (Dense)            (None, 24, 7)                119       ['reshape_4[0][0]']           \n",
      "                                                                                                  \n",
      " tf.math.maximum_4 (TFOpLam  (None, 24, 7)                0         ['dense_14[0][0]']            \n",
      " bda)                                                                                             \n",
      "                                                                                                  \n",
      " tf.math.minimum_4 (TFOpLam  (None, 24, 7)                0         ['tf.math.maximum_4[0][0]']   \n",
      " bda)                                                                                             \n",
      "                                                                                                  \n",
      "==================================================================================================\n",
      "Total params: 294932 (1.13 MB)\n",
      "Trainable params: 294932 (1.13 MB)\n",
      "Non-trainable params: 0 (0.00 Byte)\n",
      "__________________________________________________________________________________________________\n"
     ]
    }
   ],
   "source": [
    "gate_predictor, GCNConv = graph_water_transformer_cov_gate_predictor_no_transformer(input_shape=input_shape,\n",
    "                                                                                    gcn1=gcn_unit1,\n",
    "                                                                                    gcn2=gcn_unit2,\n",
    "                                                                                    lstm_unit=lstm_units, \n",
    "                                                                                    cnn_unit1=cnn_unit1, \n",
    "                                                                                    l1_reg=l1_reg, \n",
    "                                                                                    l2_reg=l2_reg, \n",
    "                                                                                    dropout=dropout,\n",
    "                                                                                    masked_value=masked_value,\n",
    "                                                                                    gate_min=gate_min,\n",
    "                                                                                    gate_max=gate_max\n",
    "                                                                                   )\n",
    "gate_predictor._name = \"gate_predictor\"\n",
    "gate_predictor.summary()"
   ]
  },
  {
   "cell_type": "code",
   "execution_count": 87,
   "id": "7023c4a6",
   "metadata": {},
   "outputs": [],
   "source": [
    "gate_predictor.compile(optimizer='adam', loss='mse')"
   ]
  },
  {
   "cell_type": "markdown",
   "id": "1fab7c93",
   "metadata": {},
   "source": [
    "#### water stage predictor"
   ]
  },
  {
   "cell_type": "code",
   "execution_count": 88,
   "id": "c8002ff9",
   "metadata": {
    "scrolled": true
   },
   "outputs": [
    {
     "name": "stdout",
     "output_type": "stream",
     "text": [
      "WARNING:tensorflow:Layer LSTM will not use cuDNN kernels since it doesn't meet the criteria. It will use a generic GPU kernel as fallback when running on GPU.\n"
     ]
    }
   ],
   "source": [
    "ws_predictor = load_model('../saved_models/WaLeF_gtn_p.h5', custom_objects={'GCNConv': GCNConv})\n",
    "\n",
    "for layer in ws_predictor.layers:\n",
    "    layer.trainable = False\n",
    "\n",
    "ws_predictor._name = 'ws_predictor'    \n",
    "# ws_predictor.summary()"
   ]
  },
  {
   "cell_type": "markdown",
   "id": "733bce1a",
   "metadata": {},
   "source": [
    "#### Combine gate_predictor and trained ws_predictor"
   ]
  },
  {
   "cell_type": "code",
   "execution_count": 89,
   "id": "850a59ca",
   "metadata": {
    "scrolled": false
   },
   "outputs": [],
   "source": [
    "inputs_cov = Input(shape=(96, 12), name='input_cov')\n",
    "inputs_tws = Input(shape=(5, 72), name='input_tws')\n",
    "inputs_adj = Input(shape=(5, 5), name='input_adj')\n",
    "\n",
    "# ================ gate_predictor ================\n",
    "gate_predictor_output = gate_predictor([inputs_cov, inputs_tws, inputs_adj])  # 24*7\n",
    "\n",
    "\n",
    "# ============  future inputs with replaced gate & pump prediction ============\n",
    "replaced_future_gate_pump = layers.Concatenate(axis=-1)([inputs_cov[:, n_hours:, :2], \n",
    "                                                         gate_predictor_output, \n",
    "                                                         inputs_cov[:, n_hours:, 9:]\n",
    "                                                        ]\n",
    "                                                       )\n",
    "\n",
    "# ============ original past inputs + future inputs with replaced gate & pump prediction ============\n",
    "merged_inputs_cov = layers.Concatenate(axis=1)([inputs_cov[:, :n_hours, :], replaced_future_gate_pump])\n",
    "\n",
    "ws_predictor_output = ws_predictor([merged_inputs_cov, inputs_tws, inputs_adj])\n",
    "\n",
    "filda = Model(inputs=[inputs_cov, inputs_tws, inputs_adj], outputs=[gate_predictor_output, ws_predictor_output], name='filda')\n",
    "# filda.summary()"
   ]
  },
  {
   "cell_type": "code",
   "execution_count": 90,
   "id": "cf907f2c",
   "metadata": {
    "scrolled": true
   },
   "outputs": [
    {
     "name": "stdout",
     "output_type": "stream",
     "text": [
      "Epoch 1/700\n",
      "\n",
      "Epoch 1: val_ws_predictor_loss improved from inf to 2.91657, saving model to ../saved_models/gtnp_gtnp_13_no_transformer.h5\n",
      "151/151 - 17s - loss: 0.5086 - gate_predictor_loss: 0.0000e+00 - ws_predictor_loss: 0.2535 - val_loss: 5.8343 - val_gate_predictor_loss: 0.0000e+00 - val_ws_predictor_loss: 2.9166 - 17s/epoch - 112ms/step\n",
      "Epoch 2/700\n"
     ]
    },
    {
     "name": "stderr",
     "output_type": "stream",
     "text": [
      "/aul/homes/jshi008/miniconda3/envs/tf213/lib/python3.10/site-packages/keras/src/engine/training.py:3000: UserWarning: You are saving your model as an HDF5 file via `model.save()`. This file format is considered legacy. We recommend using instead the native Keras format, e.g. `model.save('my_model.keras')`.\n",
      "  saving_api.save_model(\n"
     ]
    },
    {
     "name": "stdout",
     "output_type": "stream",
     "text": [
      "\n",
      "Epoch 2: val_ws_predictor_loss improved from 2.91657 to 2.67952, saving model to ../saved_models/gtnp_gtnp_13_no_transformer.h5\n",
      "151/151 - 8s - loss: 0.4797 - gate_predictor_loss: 0.0000e+00 - ws_predictor_loss: 0.2393 - val_loss: 5.3601 - val_gate_predictor_loss: 0.0000e+00 - val_ws_predictor_loss: 2.6795 - 8s/epoch - 53ms/step\n",
      "Epoch 3/700\n",
      "\n",
      "Epoch 3: val_ws_predictor_loss improved from 2.67952 to 2.65575, saving model to ../saved_models/gtnp_gtnp_13_no_transformer.h5\n",
      "151/151 - 8s - loss: 0.4728 - gate_predictor_loss: 0.0000e+00 - ws_predictor_loss: 0.2359 - val_loss: 5.3124 - val_gate_predictor_loss: 0.0000e+00 - val_ws_predictor_loss: 2.6557 - 8s/epoch - 53ms/step\n",
      "Epoch 4/700\n",
      "\n",
      "Epoch 4: val_ws_predictor_loss improved from 2.65575 to 2.48922, saving model to ../saved_models/gtnp_gtnp_13_no_transformer.h5\n",
      "151/151 - 8s - loss: 0.4691 - gate_predictor_loss: 0.0000e+00 - ws_predictor_loss: 0.2341 - val_loss: 4.9793 - val_gate_predictor_loss: 0.0000e+00 - val_ws_predictor_loss: 2.4892 - 8s/epoch - 53ms/step\n",
      "Epoch 5/700\n",
      "\n",
      "Epoch 5: val_ws_predictor_loss improved from 2.48922 to 1.70490, saving model to ../saved_models/gtnp_gtnp_13_no_transformer.h5\n",
      "151/151 - 8s - loss: 0.4352 - gate_predictor_loss: 0.0000e+00 - ws_predictor_loss: 0.2171 - val_loss: 3.4107 - val_gate_predictor_loss: 0.0000e+00 - val_ws_predictor_loss: 1.7049 - 8s/epoch - 53ms/step\n",
      "Epoch 6/700\n",
      "\n",
      "Epoch 6: val_ws_predictor_loss improved from 1.70490 to 1.63312, saving model to ../saved_models/gtnp_gtnp_13_no_transformer.h5\n",
      "151/151 - 8s - loss: 0.4064 - gate_predictor_loss: 0.0000e+00 - ws_predictor_loss: 0.2027 - val_loss: 3.2671 - val_gate_predictor_loss: 0.0000e+00 - val_ws_predictor_loss: 1.6331 - 8s/epoch - 53ms/step\n",
      "Epoch 7/700\n",
      "\n",
      "Epoch 7: val_ws_predictor_loss improved from 1.63312 to 1.60598, saving model to ../saved_models/gtnp_gtnp_13_no_transformer.h5\n",
      "151/151 - 8s - loss: 0.4035 - gate_predictor_loss: 0.0000e+00 - ws_predictor_loss: 0.2013 - val_loss: 3.2127 - val_gate_predictor_loss: 0.0000e+00 - val_ws_predictor_loss: 1.6060 - 8s/epoch - 53ms/step\n",
      "Epoch 8/700\n",
      "\n",
      "Epoch 8: val_ws_predictor_loss improved from 1.60598 to 1.58216, saving model to ../saved_models/gtnp_gtnp_13_no_transformer.h5\n",
      "151/151 - 8s - loss: 0.4019 - gate_predictor_loss: 0.0000e+00 - ws_predictor_loss: 0.2006 - val_loss: 3.1650 - val_gate_predictor_loss: 0.0000e+00 - val_ws_predictor_loss: 1.5822 - 8s/epoch - 53ms/step\n",
      "Epoch 9/700\n",
      "\n",
      "Epoch 9: val_ws_predictor_loss improved from 1.58216 to 1.57371, saving model to ../saved_models/gtnp_gtnp_13_no_transformer.h5\n",
      "151/151 - 8s - loss: 0.4012 - gate_predictor_loss: 0.0000e+00 - ws_predictor_loss: 0.2003 - val_loss: 3.1481 - val_gate_predictor_loss: 0.0000e+00 - val_ws_predictor_loss: 1.5737 - 8s/epoch - 53ms/step\n",
      "Epoch 10/700\n",
      "\n",
      "Epoch 10: val_ws_predictor_loss did not improve from 1.57371\n",
      "151/151 - 8s - loss: 0.3984 - gate_predictor_loss: 0.0000e+00 - ws_predictor_loss: 0.1989 - val_loss: 3.1538 - val_gate_predictor_loss: 0.0000e+00 - val_ws_predictor_loss: 1.5766 - 8s/epoch - 52ms/step\n",
      "Epoch 11/700\n",
      "\n",
      "Epoch 11: val_ws_predictor_loss improved from 1.57371 to 1.55971, saving model to ../saved_models/gtnp_gtnp_13_no_transformer.h5\n",
      "151/151 - 8s - loss: 0.3980 - gate_predictor_loss: 0.0000e+00 - ws_predictor_loss: 0.1987 - val_loss: 3.1200 - val_gate_predictor_loss: 0.0000e+00 - val_ws_predictor_loss: 1.5597 - 8s/epoch - 53ms/step\n",
      "Epoch 12/700\n",
      "\n",
      "Epoch 12: val_ws_predictor_loss improved from 1.55971 to 1.55097, saving model to ../saved_models/gtnp_gtnp_13_no_transformer.h5\n",
      "151/151 - 8s - loss: 0.3977 - gate_predictor_loss: 0.0000e+00 - ws_predictor_loss: 0.1986 - val_loss: 3.1025 - val_gate_predictor_loss: 0.0000e+00 - val_ws_predictor_loss: 1.5510 - 8s/epoch - 53ms/step\n",
      "Epoch 13/700\n",
      "\n",
      "Epoch 13: val_ws_predictor_loss improved from 1.55097 to 1.54915, saving model to ../saved_models/gtnp_gtnp_13_no_transformer.h5\n",
      "151/151 - 8s - loss: 0.3974 - gate_predictor_loss: 0.0000e+00 - ws_predictor_loss: 0.1984 - val_loss: 3.0988 - val_gate_predictor_loss: 0.0000e+00 - val_ws_predictor_loss: 1.5491 - 8s/epoch - 53ms/step\n",
      "Epoch 14/700\n",
      "\n",
      "Epoch 14: val_ws_predictor_loss did not improve from 1.54915\n",
      "151/151 - 8s - loss: 0.3971 - gate_predictor_loss: 0.0000e+00 - ws_predictor_loss: 0.1983 - val_loss: 3.1074 - val_gate_predictor_loss: 0.0000e+00 - val_ws_predictor_loss: 1.5535 - 8s/epoch - 53ms/step\n",
      "Epoch 15/700\n",
      "\n",
      "Epoch 15: val_ws_predictor_loss improved from 1.54915 to 1.54335, saving model to ../saved_models/gtnp_gtnp_13_no_transformer.h5\n",
      "151/151 - 8s - loss: 0.3943 - gate_predictor_loss: 0.0000e+00 - ws_predictor_loss: 0.1969 - val_loss: 3.0872 - val_gate_predictor_loss: 0.0000e+00 - val_ws_predictor_loss: 1.5434 - 8s/epoch - 53ms/step\n",
      "Epoch 16/700\n",
      "\n",
      "Epoch 16: val_ws_predictor_loss improved from 1.54335 to 1.53193, saving model to ../saved_models/gtnp_gtnp_13_no_transformer.h5\n",
      "151/151 - 8s - loss: 0.3920 - gate_predictor_loss: 0.0000e+00 - ws_predictor_loss: 0.1957 - val_loss: 3.0643 - val_gate_predictor_loss: 0.0000e+00 - val_ws_predictor_loss: 1.5319 - 8s/epoch - 53ms/step\n",
      "Epoch 17/700\n",
      "\n",
      "Epoch 17: val_ws_predictor_loss improved from 1.53193 to 1.50346, saving model to ../saved_models/gtnp_gtnp_13_no_transformer.h5\n",
      "151/151 - 8s - loss: 0.3880 - gate_predictor_loss: 0.0000e+00 - ws_predictor_loss: 0.1938 - val_loss: 3.0074 - val_gate_predictor_loss: 0.0000e+00 - val_ws_predictor_loss: 1.5035 - 8s/epoch - 53ms/step\n",
      "Epoch 18/700\n",
      "\n",
      "Epoch 18: val_ws_predictor_loss improved from 1.50346 to 1.50175, saving model to ../saved_models/gtnp_gtnp_13_no_transformer.h5\n",
      "151/151 - 8s - loss: 0.3868 - gate_predictor_loss: 0.0000e+00 - ws_predictor_loss: 0.1932 - val_loss: 3.0039 - val_gate_predictor_loss: 0.0000e+00 - val_ws_predictor_loss: 1.5018 - 8s/epoch - 53ms/step\n",
      "Epoch 19/700\n",
      "\n",
      "Epoch 19: val_ws_predictor_loss did not improve from 1.50175\n",
      "151/151 - 8s - loss: 0.3868 - gate_predictor_loss: 0.0000e+00 - ws_predictor_loss: 0.1932 - val_loss: 3.0090 - val_gate_predictor_loss: 0.0000e+00 - val_ws_predictor_loss: 1.5043 - 8s/epoch - 53ms/step\n",
      "Epoch 20/700\n",
      "\n",
      "Epoch 20: val_ws_predictor_loss improved from 1.50175 to 1.49617, saving model to ../saved_models/gtnp_gtnp_13_no_transformer.h5\n",
      "151/151 - 8s - loss: 0.3866 - gate_predictor_loss: 0.0000e+00 - ws_predictor_loss: 0.1931 - val_loss: 2.9928 - val_gate_predictor_loss: 0.0000e+00 - val_ws_predictor_loss: 1.4962 - 8s/epoch - 53ms/step\n",
      "Epoch 21/700\n",
      "\n",
      "Epoch 21: val_ws_predictor_loss improved from 1.49617 to 1.49442, saving model to ../saved_models/gtnp_gtnp_13_no_transformer.h5\n",
      "151/151 - 8s - loss: 0.3865 - gate_predictor_loss: 0.0000e+00 - ws_predictor_loss: 0.1930 - val_loss: 2.9893 - val_gate_predictor_loss: 0.0000e+00 - val_ws_predictor_loss: 1.4944 - 8s/epoch - 53ms/step\n",
      "Epoch 22/700\n",
      "\n",
      "Epoch 22: val_ws_predictor_loss improved from 1.49442 to 1.48186, saving model to ../saved_models/gtnp_gtnp_13_no_transformer.h5\n",
      "151/151 - 8s - loss: 0.3863 - gate_predictor_loss: 0.0000e+00 - ws_predictor_loss: 0.1930 - val_loss: 2.9641 - val_gate_predictor_loss: 0.0000e+00 - val_ws_predictor_loss: 1.4819 - 8s/epoch - 53ms/step\n",
      "Epoch 23/700\n",
      "\n",
      "Epoch 23: val_ws_predictor_loss did not improve from 1.48186\n",
      "151/151 - 8s - loss: 0.3861 - gate_predictor_loss: 0.0000e+00 - ws_predictor_loss: 0.1929 - val_loss: 2.9724 - val_gate_predictor_loss: 0.0000e+00 - val_ws_predictor_loss: 1.4860 - 8s/epoch - 52ms/step\n",
      "Epoch 24/700\n",
      "\n",
      "Epoch 24: val_ws_predictor_loss improved from 1.48186 to 1.47919, saving model to ../saved_models/gtnp_gtnp_13_no_transformer.h5\n",
      "151/151 - 8s - loss: 0.3861 - gate_predictor_loss: 0.0000e+00 - ws_predictor_loss: 0.1928 - val_loss: 2.9588 - val_gate_predictor_loss: 0.0000e+00 - val_ws_predictor_loss: 1.4792 - 8s/epoch - 53ms/step\n",
      "Epoch 25/700\n",
      "\n",
      "Epoch 25: val_ws_predictor_loss improved from 1.47919 to 1.47600, saving model to ../saved_models/gtnp_gtnp_13_no_transformer.h5\n",
      "151/151 - 8s - loss: 0.3860 - gate_predictor_loss: 0.0000e+00 - ws_predictor_loss: 0.1928 - val_loss: 2.9524 - val_gate_predictor_loss: 0.0000e+00 - val_ws_predictor_loss: 1.4760 - 8s/epoch - 53ms/step\n",
      "Epoch 26/700\n",
      "\n",
      "Epoch 26: val_ws_predictor_loss did not improve from 1.47600\n",
      "151/151 - 8s - loss: 0.3860 - gate_predictor_loss: 0.0000e+00 - ws_predictor_loss: 0.1928 - val_loss: 2.9631 - val_gate_predictor_loss: 0.0000e+00 - val_ws_predictor_loss: 1.4814 - 8s/epoch - 52ms/step\n"
     ]
    },
    {
     "name": "stdout",
     "output_type": "stream",
     "text": [
      "Epoch 27/700\n",
      "\n",
      "Epoch 27: val_ws_predictor_loss improved from 1.47600 to 1.47491, saving model to ../saved_models/gtnp_gtnp_13_no_transformer.h5\n",
      "151/151 - 8s - loss: 0.3859 - gate_predictor_loss: 0.0000e+00 - ws_predictor_loss: 0.1928 - val_loss: 2.9502 - val_gate_predictor_loss: 0.0000e+00 - val_ws_predictor_loss: 1.4749 - 8s/epoch - 53ms/step\n",
      "Epoch 28/700\n",
      "\n",
      "Epoch 28: val_ws_predictor_loss improved from 1.47491 to 1.47240, saving model to ../saved_models/gtnp_gtnp_13_no_transformer.h5\n",
      "151/151 - 8s - loss: 0.3860 - gate_predictor_loss: 0.0000e+00 - ws_predictor_loss: 0.1928 - val_loss: 2.9452 - val_gate_predictor_loss: 0.0000e+00 - val_ws_predictor_loss: 1.4724 - 8s/epoch - 53ms/step\n",
      "Epoch 29/700\n",
      "\n",
      "Epoch 29: val_ws_predictor_loss did not improve from 1.47240\n",
      "151/151 - 8s - loss: 0.3858 - gate_predictor_loss: 0.0000e+00 - ws_predictor_loss: 0.1927 - val_loss: 2.9498 - val_gate_predictor_loss: 0.0000e+00 - val_ws_predictor_loss: 1.4747 - 8s/epoch - 52ms/step\n",
      "Epoch 30/700\n",
      "\n",
      "Epoch 30: val_ws_predictor_loss did not improve from 1.47240\n",
      "151/151 - 8s - loss: 0.3858 - gate_predictor_loss: 0.0000e+00 - ws_predictor_loss: 0.1927 - val_loss: 2.9631 - val_gate_predictor_loss: 0.0000e+00 - val_ws_predictor_loss: 1.4814 - 8s/epoch - 52ms/step\n",
      "Epoch 31/700\n",
      "\n",
      "Epoch 31: val_ws_predictor_loss improved from 1.47240 to 1.46882, saving model to ../saved_models/gtnp_gtnp_13_no_transformer.h5\n",
      "151/151 - 8s - loss: 0.3858 - gate_predictor_loss: 0.0000e+00 - ws_predictor_loss: 0.1927 - val_loss: 2.9380 - val_gate_predictor_loss: 0.0000e+00 - val_ws_predictor_loss: 1.4688 - 8s/epoch - 53ms/step\n",
      "Epoch 32/700\n",
      "\n",
      "Epoch 32: val_ws_predictor_loss improved from 1.46882 to 1.46572, saving model to ../saved_models/gtnp_gtnp_13_no_transformer.h5\n",
      "151/151 - 8s - loss: 0.3858 - gate_predictor_loss: 0.0000e+00 - ws_predictor_loss: 0.1927 - val_loss: 2.9318 - val_gate_predictor_loss: 0.0000e+00 - val_ws_predictor_loss: 1.4657 - 8s/epoch - 53ms/step\n",
      "Epoch 33/700\n",
      "\n",
      "Epoch 33: val_ws_predictor_loss did not improve from 1.46572\n",
      "151/151 - 8s - loss: 0.3857 - gate_predictor_loss: 0.0000e+00 - ws_predictor_loss: 0.1927 - val_loss: 2.9376 - val_gate_predictor_loss: 0.0000e+00 - val_ws_predictor_loss: 1.4686 - 8s/epoch - 52ms/step\n",
      "Epoch 34/700\n",
      "\n",
      "Epoch 34: val_ws_predictor_loss did not improve from 1.46572\n",
      "151/151 - 8s - loss: 0.3857 - gate_predictor_loss: 0.0000e+00 - ws_predictor_loss: 0.1927 - val_loss: 2.9408 - val_gate_predictor_loss: 0.0000e+00 - val_ws_predictor_loss: 1.4702 - 8s/epoch - 53ms/step\n",
      "Epoch 35/700\n",
      "\n",
      "Epoch 35: val_ws_predictor_loss improved from 1.46572 to 1.46312, saving model to ../saved_models/gtnp_gtnp_13_no_transformer.h5\n",
      "151/151 - 8s - loss: 0.3857 - gate_predictor_loss: 0.0000e+00 - ws_predictor_loss: 0.1927 - val_loss: 2.9266 - val_gate_predictor_loss: 0.0000e+00 - val_ws_predictor_loss: 1.4631 - 8s/epoch - 53ms/step\n",
      "Epoch 36/700\n",
      "\n",
      "Epoch 36: val_ws_predictor_loss did not improve from 1.46312\n",
      "151/151 - 8s - loss: 0.3856 - gate_predictor_loss: 0.0000e+00 - ws_predictor_loss: 0.1926 - val_loss: 2.9383 - val_gate_predictor_loss: 0.0000e+00 - val_ws_predictor_loss: 1.4690 - 8s/epoch - 52ms/step\n",
      "Epoch 37/700\n",
      "\n",
      "Epoch 37: val_ws_predictor_loss did not improve from 1.46312\n",
      "151/151 - 8s - loss: 0.3856 - gate_predictor_loss: 0.0000e+00 - ws_predictor_loss: 0.1926 - val_loss: 2.9329 - val_gate_predictor_loss: 0.0000e+00 - val_ws_predictor_loss: 1.4663 - 8s/epoch - 52ms/step\n",
      "Epoch 38/700\n",
      "\n",
      "Epoch 38: val_ws_predictor_loss did not improve from 1.46312\n",
      "151/151 - 8s - loss: 0.3856 - gate_predictor_loss: 0.0000e+00 - ws_predictor_loss: 0.1926 - val_loss: 2.9299 - val_gate_predictor_loss: 0.0000e+00 - val_ws_predictor_loss: 1.4648 - 8s/epoch - 52ms/step\n",
      "Epoch 39/700\n",
      "\n",
      "Epoch 39: val_ws_predictor_loss improved from 1.46312 to 1.45857, saving model to ../saved_models/gtnp_gtnp_13_no_transformer.h5\n",
      "151/151 - 8s - loss: 0.3855 - gate_predictor_loss: 0.0000e+00 - ws_predictor_loss: 0.1926 - val_loss: 2.9175 - val_gate_predictor_loss: 0.0000e+00 - val_ws_predictor_loss: 1.4586 - 8s/epoch - 53ms/step\n",
      "Epoch 40/700\n",
      "\n",
      "Epoch 40: val_ws_predictor_loss did not improve from 1.45857\n",
      "151/151 - 8s - loss: 0.3855 - gate_predictor_loss: 0.0000e+00 - ws_predictor_loss: 0.1926 - val_loss: 2.9289 - val_gate_predictor_loss: 0.0000e+00 - val_ws_predictor_loss: 1.4643 - 8s/epoch - 52ms/step\n",
      "Epoch 41/700\n",
      "\n",
      "Epoch 41: val_ws_predictor_loss improved from 1.45857 to 1.45715, saving model to ../saved_models/gtnp_gtnp_13_no_transformer.h5\n",
      "151/151 - 8s - loss: 0.3856 - gate_predictor_loss: 0.0000e+00 - ws_predictor_loss: 0.1926 - val_loss: 2.9146 - val_gate_predictor_loss: 0.0000e+00 - val_ws_predictor_loss: 1.4571 - 8s/epoch - 53ms/step\n",
      "Epoch 42/700\n",
      "\n",
      "Epoch 42: val_ws_predictor_loss did not improve from 1.45715\n",
      "151/151 - 8s - loss: 0.3854 - gate_predictor_loss: 0.0000e+00 - ws_predictor_loss: 0.1926 - val_loss: 2.9178 - val_gate_predictor_loss: 0.0000e+00 - val_ws_predictor_loss: 1.4587 - 8s/epoch - 52ms/step\n",
      "Epoch 43/700\n",
      "\n",
      "Epoch 43: val_ws_predictor_loss did not improve from 1.45715\n",
      "151/151 - 8s - loss: 0.3854 - gate_predictor_loss: 0.0000e+00 - ws_predictor_loss: 0.1926 - val_loss: 2.9211 - val_gate_predictor_loss: 0.0000e+00 - val_ws_predictor_loss: 1.4604 - 8s/epoch - 52ms/step\n",
      "Epoch 44/700\n",
      "\n",
      "Epoch 44: val_ws_predictor_loss improved from 1.45715 to 1.45597, saving model to ../saved_models/gtnp_gtnp_13_no_transformer.h5\n",
      "151/151 - 8s - loss: 0.3854 - gate_predictor_loss: 0.0000e+00 - ws_predictor_loss: 0.1925 - val_loss: 2.9123 - val_gate_predictor_loss: 0.0000e+00 - val_ws_predictor_loss: 1.4560 - 8s/epoch - 53ms/step\n",
      "Epoch 45/700\n",
      "\n",
      "Epoch 45: val_ws_predictor_loss did not improve from 1.45597\n",
      "151/151 - 8s - loss: 0.3854 - gate_predictor_loss: 0.0000e+00 - ws_predictor_loss: 0.1926 - val_loss: 2.9215 - val_gate_predictor_loss: 0.0000e+00 - val_ws_predictor_loss: 1.4606 - 8s/epoch - 52ms/step\n",
      "Epoch 46/700\n",
      "\n",
      "Epoch 46: val_ws_predictor_loss improved from 1.45597 to 1.45426, saving model to ../saved_models/gtnp_gtnp_13_no_transformer.h5\n",
      "151/151 - 8s - loss: 0.3854 - gate_predictor_loss: 0.0000e+00 - ws_predictor_loss: 0.1925 - val_loss: 2.9088 - val_gate_predictor_loss: 0.0000e+00 - val_ws_predictor_loss: 1.4543 - 8s/epoch - 53ms/step\n",
      "Epoch 47/700\n",
      "\n",
      "Epoch 47: val_ws_predictor_loss did not improve from 1.45426\n",
      "151/151 - 8s - loss: 0.3854 - gate_predictor_loss: 0.0000e+00 - ws_predictor_loss: 0.1925 - val_loss: 2.9108 - val_gate_predictor_loss: 0.0000e+00 - val_ws_predictor_loss: 1.4553 - 8s/epoch - 52ms/step\n",
      "Epoch 48/700\n",
      "\n",
      "Epoch 48: val_ws_predictor_loss improved from 1.45426 to 1.45167, saving model to ../saved_models/gtnp_gtnp_13_no_transformer.h5\n",
      "151/151 - 8s - loss: 0.3854 - gate_predictor_loss: 0.0000e+00 - ws_predictor_loss: 0.1925 - val_loss: 2.9037 - val_gate_predictor_loss: 0.0000e+00 - val_ws_predictor_loss: 1.4517 - 8s/epoch - 53ms/step\n",
      "Epoch 49/700\n",
      "\n",
      "Epoch 49: val_ws_predictor_loss did not improve from 1.45167\n",
      "151/151 - 8s - loss: 0.3854 - gate_predictor_loss: 0.0000e+00 - ws_predictor_loss: 0.1926 - val_loss: 2.9086 - val_gate_predictor_loss: 0.0000e+00 - val_ws_predictor_loss: 1.4541 - 8s/epoch - 53ms/step\n",
      "Epoch 50/700\n",
      "\n",
      "Epoch 50: val_ws_predictor_loss did not improve from 1.45167\n",
      "151/151 - 8s - loss: 0.3854 - gate_predictor_loss: 0.0000e+00 - ws_predictor_loss: 0.1925 - val_loss: 2.9090 - val_gate_predictor_loss: 0.0000e+00 - val_ws_predictor_loss: 1.4544 - 8s/epoch - 52ms/step\n",
      "Epoch 51/700\n",
      "\n",
      "Epoch 51: val_ws_predictor_loss improved from 1.45167 to 1.44980, saving model to ../saved_models/gtnp_gtnp_13_no_transformer.h5\n",
      "151/151 - 8s - loss: 0.3851 - gate_predictor_loss: 0.0000e+00 - ws_predictor_loss: 0.1924 - val_loss: 2.8999 - val_gate_predictor_loss: 0.0000e+00 - val_ws_predictor_loss: 1.4498 - 8s/epoch - 53ms/step\n",
      "Epoch 52/700\n",
      "\n",
      "Epoch 52: val_ws_predictor_loss did not improve from 1.44980\n",
      "151/151 - 8s - loss: 0.3849 - gate_predictor_loss: 0.0000e+00 - ws_predictor_loss: 0.1923 - val_loss: 2.9101 - val_gate_predictor_loss: 0.0000e+00 - val_ws_predictor_loss: 1.4549 - 8s/epoch - 53ms/step\n",
      "Epoch 53/700\n",
      "\n",
      "Epoch 53: val_ws_predictor_loss improved from 1.44980 to 1.44642, saving model to ../saved_models/gtnp_gtnp_13_no_transformer.h5\n",
      "151/151 - 8s - loss: 0.3849 - gate_predictor_loss: 0.0000e+00 - ws_predictor_loss: 0.1923 - val_loss: 2.8932 - val_gate_predictor_loss: 0.0000e+00 - val_ws_predictor_loss: 1.4464 - 8s/epoch - 53ms/step\n"
     ]
    },
    {
     "name": "stdout",
     "output_type": "stream",
     "text": [
      "Epoch 54/700\n",
      "\n",
      "Epoch 54: val_ws_predictor_loss did not improve from 1.44642\n",
      "151/151 - 8s - loss: 0.3849 - gate_predictor_loss: 0.0000e+00 - ws_predictor_loss: 0.1923 - val_loss: 2.8997 - val_gate_predictor_loss: 0.0000e+00 - val_ws_predictor_loss: 1.4497 - 8s/epoch - 52ms/step\n",
      "Epoch 55/700\n",
      "\n",
      "Epoch 55: val_ws_predictor_loss did not improve from 1.44642\n",
      "151/151 - 8s - loss: 0.3849 - gate_predictor_loss: 0.0000e+00 - ws_predictor_loss: 0.1923 - val_loss: 2.9029 - val_gate_predictor_loss: 0.0000e+00 - val_ws_predictor_loss: 1.4513 - 8s/epoch - 53ms/step\n",
      "Epoch 56/700\n",
      "\n",
      "Epoch 56: val_ws_predictor_loss did not improve from 1.44642\n",
      "151/151 - 8s - loss: 0.3849 - gate_predictor_loss: 0.0000e+00 - ws_predictor_loss: 0.1923 - val_loss: 2.9034 - val_gate_predictor_loss: 0.0000e+00 - val_ws_predictor_loss: 1.4515 - 8s/epoch - 53ms/step\n",
      "Epoch 57/700\n",
      "\n",
      "Epoch 57: val_ws_predictor_loss improved from 1.44642 to 1.44361, saving model to ../saved_models/gtnp_gtnp_13_no_transformer.h5\n",
      "151/151 - 8s - loss: 0.3849 - gate_predictor_loss: 0.0000e+00 - ws_predictor_loss: 0.1923 - val_loss: 2.8875 - val_gate_predictor_loss: 0.0000e+00 - val_ws_predictor_loss: 1.4436 - 8s/epoch - 53ms/step\n",
      "Epoch 58/700\n",
      "\n",
      "Epoch 58: val_ws_predictor_loss did not improve from 1.44361\n",
      "151/151 - 8s - loss: 0.3848 - gate_predictor_loss: 0.0000e+00 - ws_predictor_loss: 0.1922 - val_loss: 2.9001 - val_gate_predictor_loss: 0.0000e+00 - val_ws_predictor_loss: 1.4499 - 8s/epoch - 52ms/step\n",
      "Epoch 59/700\n",
      "\n",
      "Epoch 59: val_ws_predictor_loss did not improve from 1.44361\n",
      "151/151 - 8s - loss: 0.3848 - gate_predictor_loss: 0.0000e+00 - ws_predictor_loss: 0.1923 - val_loss: 2.8914 - val_gate_predictor_loss: 0.0000e+00 - val_ws_predictor_loss: 1.4455 - 8s/epoch - 52ms/step\n",
      "Epoch 60/700\n",
      "\n",
      "Epoch 60: val_ws_predictor_loss did not improve from 1.44361\n",
      "151/151 - 8s - loss: 0.3848 - gate_predictor_loss: 0.0000e+00 - ws_predictor_loss: 0.1922 - val_loss: 2.9022 - val_gate_predictor_loss: 0.0000e+00 - val_ws_predictor_loss: 1.4510 - 8s/epoch - 52ms/step\n",
      "Epoch 61/700\n",
      "\n",
      "Epoch 61: val_ws_predictor_loss did not improve from 1.44361\n",
      "151/151 - 8s - loss: 0.3849 - gate_predictor_loss: 0.0000e+00 - ws_predictor_loss: 0.1923 - val_loss: 2.8928 - val_gate_predictor_loss: 0.0000e+00 - val_ws_predictor_loss: 1.4463 - 8s/epoch - 53ms/step\n",
      "Epoch 62/700\n",
      "\n",
      "Epoch 62: val_ws_predictor_loss did not improve from 1.44361\n",
      "151/151 - 8s - loss: 0.3848 - gate_predictor_loss: 0.0000e+00 - ws_predictor_loss: 0.1923 - val_loss: 2.8934 - val_gate_predictor_loss: 0.0000e+00 - val_ws_predictor_loss: 1.4465 - 8s/epoch - 53ms/step\n",
      "Epoch 63/700\n",
      "\n",
      "Epoch 63: val_ws_predictor_loss did not improve from 1.44361\n",
      "151/151 - 8s - loss: 0.3847 - gate_predictor_loss: 0.0000e+00 - ws_predictor_loss: 0.1922 - val_loss: 2.8977 - val_gate_predictor_loss: 0.0000e+00 - val_ws_predictor_loss: 1.4487 - 8s/epoch - 52ms/step\n",
      "Epoch 64/700\n",
      "\n",
      "Epoch 64: val_ws_predictor_loss did not improve from 1.44361\n",
      "151/151 - 8s - loss: 0.3847 - gate_predictor_loss: 0.0000e+00 - ws_predictor_loss: 0.1922 - val_loss: 2.8926 - val_gate_predictor_loss: 0.0000e+00 - val_ws_predictor_loss: 1.4462 - 8s/epoch - 52ms/step\n",
      "Epoch 65/700\n",
      "\n",
      "Epoch 65: val_ws_predictor_loss did not improve from 1.44361\n",
      "151/151 - 8s - loss: 0.3847 - gate_predictor_loss: 0.0000e+00 - ws_predictor_loss: 0.1922 - val_loss: 2.9004 - val_gate_predictor_loss: 0.0000e+00 - val_ws_predictor_loss: 1.4501 - 8s/epoch - 52ms/step\n",
      "Epoch 66/700\n",
      "\n",
      "Epoch 66: val_ws_predictor_loss did not improve from 1.44361\n",
      "151/151 - 8s - loss: 0.3848 - gate_predictor_loss: 0.0000e+00 - ws_predictor_loss: 0.1922 - val_loss: 2.8923 - val_gate_predictor_loss: 0.0000e+00 - val_ws_predictor_loss: 1.4460 - 8s/epoch - 52ms/step\n",
      "Epoch 67/700\n",
      "\n",
      "Epoch 67: val_ws_predictor_loss did not improve from 1.44361\n",
      "151/151 - 8s - loss: 0.3848 - gate_predictor_loss: 0.0000e+00 - ws_predictor_loss: 0.1922 - val_loss: 2.8978 - val_gate_predictor_loss: 0.0000e+00 - val_ws_predictor_loss: 1.4488 - 8s/epoch - 52ms/step\n",
      "Epoch 68/700\n",
      "\n",
      "Epoch 68: val_ws_predictor_loss did not improve from 1.44361\n",
      "151/151 - 8s - loss: 0.3847 - gate_predictor_loss: 0.0000e+00 - ws_predictor_loss: 0.1922 - val_loss: 2.9107 - val_gate_predictor_loss: 0.0000e+00 - val_ws_predictor_loss: 1.4552 - 8s/epoch - 52ms/step\n",
      "Epoch 69/700\n",
      "\n",
      "Epoch 69: val_ws_predictor_loss improved from 1.44361 to 1.44270, saving model to ../saved_models/gtnp_gtnp_13_no_transformer.h5\n",
      "151/151 - 8s - loss: 0.3847 - gate_predictor_loss: 0.0000e+00 - ws_predictor_loss: 0.1922 - val_loss: 2.8857 - val_gate_predictor_loss: 0.0000e+00 - val_ws_predictor_loss: 1.4427 - 8s/epoch - 53ms/step\n",
      "Epoch 70/700\n",
      "\n",
      "Epoch 70: val_ws_predictor_loss did not improve from 1.44270\n",
      "151/151 - 8s - loss: 0.3847 - gate_predictor_loss: 0.0000e+00 - ws_predictor_loss: 0.1922 - val_loss: 2.8976 - val_gate_predictor_loss: 0.0000e+00 - val_ws_predictor_loss: 1.4486 - 8s/epoch - 52ms/step\n",
      "Epoch 71/700\n",
      "\n",
      "Epoch 71: val_ws_predictor_loss did not improve from 1.44270\n",
      "151/151 - 8s - loss: 0.3847 - gate_predictor_loss: 0.0000e+00 - ws_predictor_loss: 0.1922 - val_loss: 2.8980 - val_gate_predictor_loss: 0.0000e+00 - val_ws_predictor_loss: 1.4488 - 8s/epoch - 52ms/step\n",
      "Epoch 72/700\n",
      "\n",
      "Epoch 72: val_ws_predictor_loss did not improve from 1.44270\n",
      "151/151 - 8s - loss: 0.3846 - gate_predictor_loss: 0.0000e+00 - ws_predictor_loss: 0.1922 - val_loss: 2.8908 - val_gate_predictor_loss: 0.0000e+00 - val_ws_predictor_loss: 1.4452 - 8s/epoch - 52ms/step\n",
      "Epoch 73/700\n",
      "\n",
      "Epoch 73: val_ws_predictor_loss did not improve from 1.44270\n",
      "151/151 - 8s - loss: 0.3847 - gate_predictor_loss: 0.0000e+00 - ws_predictor_loss: 0.1922 - val_loss: 2.9106 - val_gate_predictor_loss: 0.0000e+00 - val_ws_predictor_loss: 1.4552 - 8s/epoch - 52ms/step\n",
      "Epoch 74/700\n",
      "\n",
      "Epoch 74: val_ws_predictor_loss did not improve from 1.44270\n",
      "151/151 - 8s - loss: 0.3846 - gate_predictor_loss: 0.0000e+00 - ws_predictor_loss: 0.1922 - val_loss: 2.9024 - val_gate_predictor_loss: 0.0000e+00 - val_ws_predictor_loss: 1.4510 - 8s/epoch - 52ms/step\n",
      "Epoch 75/700\n",
      "\n",
      "Epoch 75: val_ws_predictor_loss did not improve from 1.44270\n",
      "151/151 - 8s - loss: 0.3846 - gate_predictor_loss: 0.0000e+00 - ws_predictor_loss: 0.1921 - val_loss: 2.9099 - val_gate_predictor_loss: 0.0000e+00 - val_ws_predictor_loss: 1.4548 - 8s/epoch - 52ms/step\n",
      "Epoch 76/700\n",
      "\n",
      "Epoch 76: val_ws_predictor_loss did not improve from 1.44270\n",
      "151/151 - 8s - loss: 0.3846 - gate_predictor_loss: 0.0000e+00 - ws_predictor_loss: 0.1922 - val_loss: 2.8964 - val_gate_predictor_loss: 0.0000e+00 - val_ws_predictor_loss: 1.4480 - 8s/epoch - 52ms/step\n",
      "Epoch 77/700\n",
      "\n",
      "Epoch 77: val_ws_predictor_loss did not improve from 1.44270\n",
      "151/151 - 8s - loss: 0.3846 - gate_predictor_loss: 0.0000e+00 - ws_predictor_loss: 0.1922 - val_loss: 2.8938 - val_gate_predictor_loss: 0.0000e+00 - val_ws_predictor_loss: 1.4467 - 8s/epoch - 52ms/step\n",
      "Epoch 78/700\n",
      "\n",
      "Epoch 78: val_ws_predictor_loss did not improve from 1.44270\n",
      "151/151 - 8s - loss: 0.3846 - gate_predictor_loss: 0.0000e+00 - ws_predictor_loss: 0.1922 - val_loss: 2.8983 - val_gate_predictor_loss: 0.0000e+00 - val_ws_predictor_loss: 1.4490 - 8s/epoch - 53ms/step\n",
      "Epoch 79/700\n",
      "\n",
      "Epoch 79: val_ws_predictor_loss did not improve from 1.44270\n",
      "151/151 - 8s - loss: 0.3846 - gate_predictor_loss: 0.0000e+00 - ws_predictor_loss: 0.1921 - val_loss: 2.9102 - val_gate_predictor_loss: 0.0000e+00 - val_ws_predictor_loss: 1.4550 - 8s/epoch - 53ms/step\n",
      "Epoch 80/700\n",
      "\n",
      "Epoch 80: val_ws_predictor_loss did not improve from 1.44270\n",
      "151/151 - 8s - loss: 0.3846 - gate_predictor_loss: 0.0000e+00 - ws_predictor_loss: 0.1922 - val_loss: 2.9202 - val_gate_predictor_loss: 0.0000e+00 - val_ws_predictor_loss: 1.4599 - 8s/epoch - 53ms/step\n",
      "Epoch 81/700\n",
      "\n",
      "Epoch 81: val_ws_predictor_loss did not improve from 1.44270\n",
      "151/151 - 8s - loss: 0.3846 - gate_predictor_loss: 0.0000e+00 - ws_predictor_loss: 0.1921 - val_loss: 2.9029 - val_gate_predictor_loss: 0.0000e+00 - val_ws_predictor_loss: 1.4513 - 8s/epoch - 52ms/step\n",
      "Epoch 82/700\n",
      "\n",
      "Epoch 82: val_ws_predictor_loss did not improve from 1.44270\n",
      "151/151 - 8s - loss: 0.3845 - gate_predictor_loss: 0.0000e+00 - ws_predictor_loss: 0.1921 - val_loss: 2.8970 - val_gate_predictor_loss: 0.0000e+00 - val_ws_predictor_loss: 1.4484 - 8s/epoch - 52ms/step\n",
      "Epoch 83/700\n",
      "\n",
      "Epoch 83: val_ws_predictor_loss did not improve from 1.44270\n"
     ]
    },
    {
     "name": "stdout",
     "output_type": "stream",
     "text": [
      "151/151 - 8s - loss: 0.3846 - gate_predictor_loss: 0.0000e+00 - ws_predictor_loss: 0.1921 - val_loss: 2.9092 - val_gate_predictor_loss: 0.0000e+00 - val_ws_predictor_loss: 1.4545 - 8s/epoch - 52ms/step\n",
      "Epoch 84/700\n",
      "\n",
      "Epoch 84: val_ws_predictor_loss did not improve from 1.44270\n",
      "151/151 - 8s - loss: 0.3845 - gate_predictor_loss: 0.0000e+00 - ws_predictor_loss: 0.1921 - val_loss: 2.8978 - val_gate_predictor_loss: 0.0000e+00 - val_ws_predictor_loss: 1.4488 - 8s/epoch - 52ms/step\n",
      "Epoch 85/700\n",
      "\n",
      "Epoch 85: val_ws_predictor_loss did not improve from 1.44270\n",
      "151/151 - 8s - loss: 0.3845 - gate_predictor_loss: 0.0000e+00 - ws_predictor_loss: 0.1921 - val_loss: 2.9056 - val_gate_predictor_loss: 0.0000e+00 - val_ws_predictor_loss: 1.4526 - 8s/epoch - 52ms/step\n",
      "Epoch 86/700\n",
      "\n",
      "Epoch 86: val_ws_predictor_loss did not improve from 1.44270\n",
      "151/151 - 8s - loss: 0.3845 - gate_predictor_loss: 0.0000e+00 - ws_predictor_loss: 0.1921 - val_loss: 2.9031 - val_gate_predictor_loss: 0.0000e+00 - val_ws_predictor_loss: 1.4514 - 8s/epoch - 52ms/step\n",
      "Epoch 87/700\n",
      "\n",
      "Epoch 87: val_ws_predictor_loss did not improve from 1.44270\n",
      "151/151 - 8s - loss: 0.3845 - gate_predictor_loss: 0.0000e+00 - ws_predictor_loss: 0.1921 - val_loss: 2.9058 - val_gate_predictor_loss: 0.0000e+00 - val_ws_predictor_loss: 1.4528 - 8s/epoch - 52ms/step\n",
      "Epoch 88/700\n",
      "\n",
      "Epoch 88: val_ws_predictor_loss did not improve from 1.44270\n",
      "151/151 - 8s - loss: 0.3845 - gate_predictor_loss: 0.0000e+00 - ws_predictor_loss: 0.1921 - val_loss: 2.9085 - val_gate_predictor_loss: 0.0000e+00 - val_ws_predictor_loss: 1.4541 - 8s/epoch - 52ms/step\n",
      "Epoch 89/700\n",
      "\n",
      "Epoch 89: val_ws_predictor_loss did not improve from 1.44270\n",
      "151/151 - 8s - loss: 0.3846 - gate_predictor_loss: 0.0000e+00 - ws_predictor_loss: 0.1921 - val_loss: 2.9063 - val_gate_predictor_loss: 0.0000e+00 - val_ws_predictor_loss: 1.4530 - 8s/epoch - 52ms/step\n",
      "Epoch 90/700\n",
      "\n",
      "Epoch 90: val_ws_predictor_loss did not improve from 1.44270\n",
      "151/151 - 8s - loss: 0.3845 - gate_predictor_loss: 0.0000e+00 - ws_predictor_loss: 0.1921 - val_loss: 2.9125 - val_gate_predictor_loss: 0.0000e+00 - val_ws_predictor_loss: 1.4561 - 8s/epoch - 52ms/step\n",
      "Epoch 91/700\n",
      "\n",
      "Epoch 91: val_ws_predictor_loss did not improve from 1.44270\n",
      "151/151 - 8s - loss: 0.3845 - gate_predictor_loss: 0.0000e+00 - ws_predictor_loss: 0.1921 - val_loss: 2.9076 - val_gate_predictor_loss: 0.0000e+00 - val_ws_predictor_loss: 1.4536 - 8s/epoch - 53ms/step\n",
      "Epoch 92/700\n",
      "\n",
      "Epoch 92: val_ws_predictor_loss did not improve from 1.44270\n",
      "151/151 - 8s - loss: 0.3845 - gate_predictor_loss: 0.0000e+00 - ws_predictor_loss: 0.1921 - val_loss: 2.9071 - val_gate_predictor_loss: 0.0000e+00 - val_ws_predictor_loss: 1.4534 - 8s/epoch - 53ms/step\n",
      "Epoch 93/700\n",
      "\n",
      "Epoch 93: val_ws_predictor_loss did not improve from 1.44270\n",
      "151/151 - 8s - loss: 0.3845 - gate_predictor_loss: 0.0000e+00 - ws_predictor_loss: 0.1921 - val_loss: 2.9036 - val_gate_predictor_loss: 0.0000e+00 - val_ws_predictor_loss: 1.4517 - 8s/epoch - 53ms/step\n",
      "Epoch 94/700\n",
      "\n",
      "Epoch 94: val_ws_predictor_loss did not improve from 1.44270\n",
      "151/151 - 8s - loss: 0.3845 - gate_predictor_loss: 0.0000e+00 - ws_predictor_loss: 0.1921 - val_loss: 2.9000 - val_gate_predictor_loss: 0.0000e+00 - val_ws_predictor_loss: 1.4499 - 8s/epoch - 52ms/step\n",
      "Epoch 95/700\n",
      "\n",
      "Epoch 95: val_ws_predictor_loss did not improve from 1.44270\n",
      "151/151 - 8s - loss: 0.3845 - gate_predictor_loss: 0.0000e+00 - ws_predictor_loss: 0.1921 - val_loss: 2.8958 - val_gate_predictor_loss: 0.0000e+00 - val_ws_predictor_loss: 1.4478 - 8s/epoch - 52ms/step\n",
      "Epoch 96/700\n",
      "\n",
      "Epoch 96: val_ws_predictor_loss did not improve from 1.44270\n",
      "151/151 - 8s - loss: 0.3844 - gate_predictor_loss: 0.0000e+00 - ws_predictor_loss: 0.1921 - val_loss: 2.9176 - val_gate_predictor_loss: 0.0000e+00 - val_ws_predictor_loss: 1.4587 - 8s/epoch - 53ms/step\n",
      "Epoch 97/700\n",
      "\n",
      "Epoch 97: val_ws_predictor_loss did not improve from 1.44270\n",
      "151/151 - 8s - loss: 0.3844 - gate_predictor_loss: 0.0000e+00 - ws_predictor_loss: 0.1921 - val_loss: 2.9063 - val_gate_predictor_loss: 0.0000e+00 - val_ws_predictor_loss: 1.4530 - 8s/epoch - 52ms/step\n",
      "Epoch 98/700\n",
      "\n",
      "Epoch 98: val_ws_predictor_loss did not improve from 1.44270\n",
      "151/151 - 8s - loss: 0.3844 - gate_predictor_loss: 0.0000e+00 - ws_predictor_loss: 0.1921 - val_loss: 2.9132 - val_gate_predictor_loss: 0.0000e+00 - val_ws_predictor_loss: 1.4564 - 8s/epoch - 52ms/step\n",
      "Epoch 99/700\n",
      "\n",
      "Epoch 99: val_ws_predictor_loss did not improve from 1.44270\n",
      "151/151 - 8s - loss: 0.3844 - gate_predictor_loss: 0.0000e+00 - ws_predictor_loss: 0.1921 - val_loss: 2.9068 - val_gate_predictor_loss: 0.0000e+00 - val_ws_predictor_loss: 1.4533 - 8s/epoch - 52ms/step\n",
      "Epoch 100/700\n",
      "\n",
      "Epoch 100: val_ws_predictor_loss did not improve from 1.44270\n",
      "151/151 - 8s - loss: 0.3844 - gate_predictor_loss: 0.0000e+00 - ws_predictor_loss: 0.1921 - val_loss: 2.8953 - val_gate_predictor_loss: 0.0000e+00 - val_ws_predictor_loss: 1.4475 - 8s/epoch - 52ms/step\n",
      "Epoch 101/700\n",
      "\n",
      "Epoch 101: val_ws_predictor_loss did not improve from 1.44270\n",
      "151/151 - 8s - loss: 0.3845 - gate_predictor_loss: 0.0000e+00 - ws_predictor_loss: 0.1921 - val_loss: 2.9128 - val_gate_predictor_loss: 0.0000e+00 - val_ws_predictor_loss: 1.4563 - 8s/epoch - 53ms/step\n",
      "Epoch 102/700\n",
      "\n",
      "Epoch 102: val_ws_predictor_loss did not improve from 1.44270\n",
      "151/151 - 8s - loss: 0.3843 - gate_predictor_loss: 0.0000e+00 - ws_predictor_loss: 0.1920 - val_loss: 2.9081 - val_gate_predictor_loss: 0.0000e+00 - val_ws_predictor_loss: 1.4539 - 8s/epoch - 52ms/step\n",
      "Epoch 103/700\n",
      "\n",
      "Epoch 103: val_ws_predictor_loss did not improve from 1.44270\n",
      "151/151 - 8s - loss: 0.3844 - gate_predictor_loss: 0.0000e+00 - ws_predictor_loss: 0.1921 - val_loss: 2.8952 - val_gate_predictor_loss: 0.0000e+00 - val_ws_predictor_loss: 1.4475 - 8s/epoch - 52ms/step\n",
      "Epoch 104/700\n",
      "\n",
      "Epoch 104: val_ws_predictor_loss did not improve from 1.44270\n",
      "151/151 - 8s - loss: 0.3844 - gate_predictor_loss: 0.0000e+00 - ws_predictor_loss: 0.1920 - val_loss: 2.8966 - val_gate_predictor_loss: 0.0000e+00 - val_ws_predictor_loss: 1.4482 - 8s/epoch - 52ms/step\n",
      "Epoch 105/700\n",
      "\n",
      "Epoch 105: val_ws_predictor_loss did not improve from 1.44270\n",
      "151/151 - 8s - loss: 0.3844 - gate_predictor_loss: 0.0000e+00 - ws_predictor_loss: 0.1920 - val_loss: 2.9125 - val_gate_predictor_loss: 0.0000e+00 - val_ws_predictor_loss: 1.4561 - 8s/epoch - 52ms/step\n",
      "Epoch 106/700\n",
      "\n",
      "Epoch 106: val_ws_predictor_loss did not improve from 1.44270\n",
      "151/151 - 8s - loss: 0.3844 - gate_predictor_loss: 0.0000e+00 - ws_predictor_loss: 0.1920 - val_loss: 2.9101 - val_gate_predictor_loss: 0.0000e+00 - val_ws_predictor_loss: 1.4549 - 8s/epoch - 52ms/step\n",
      "Epoch 107/700\n",
      "\n",
      "Epoch 107: val_ws_predictor_loss did not improve from 1.44270\n",
      "151/151 - 8s - loss: 0.3844 - gate_predictor_loss: 0.0000e+00 - ws_predictor_loss: 0.1920 - val_loss: 2.8918 - val_gate_predictor_loss: 0.0000e+00 - val_ws_predictor_loss: 1.4458 - 8s/epoch - 53ms/step\n",
      "Epoch 108/700\n",
      "\n",
      "Epoch 108: val_ws_predictor_loss did not improve from 1.44270\n",
      "151/151 - 8s - loss: 0.3844 - gate_predictor_loss: 0.0000e+00 - ws_predictor_loss: 0.1920 - val_loss: 2.9185 - val_gate_predictor_loss: 0.0000e+00 - val_ws_predictor_loss: 1.4591 - 8s/epoch - 53ms/step\n",
      "Epoch 109/700\n",
      "\n",
      "Epoch 109: val_ws_predictor_loss did not improve from 1.44270\n",
      "151/151 - 8s - loss: 0.3843 - gate_predictor_loss: 0.0000e+00 - ws_predictor_loss: 0.1920 - val_loss: 2.9076 - val_gate_predictor_loss: 0.0000e+00 - val_ws_predictor_loss: 1.4537 - 8s/epoch - 53ms/step\n",
      "Epoch 110/700\n",
      "\n",
      "Epoch 110: val_ws_predictor_loss did not improve from 1.44270\n",
      "151/151 - 8s - loss: 0.3843 - gate_predictor_loss: 0.0000e+00 - ws_predictor_loss: 0.1920 - val_loss: 2.8977 - val_gate_predictor_loss: 0.0000e+00 - val_ws_predictor_loss: 1.4487 - 8s/epoch - 53ms/step\n",
      "Epoch 111/700\n",
      "\n",
      "Epoch 111: val_ws_predictor_loss did not improve from 1.44270\n",
      "151/151 - 8s - loss: 0.3843 - gate_predictor_loss: 0.0000e+00 - ws_predictor_loss: 0.1920 - val_loss: 2.9173 - val_gate_predictor_loss: 0.0000e+00 - val_ws_predictor_loss: 1.4585 - 8s/epoch - 52ms/step\n",
      "Epoch 112/700\n",
      "\n",
      "Epoch 112: val_ws_predictor_loss did not improve from 1.44270\n",
      "151/151 - 8s - loss: 0.3843 - gate_predictor_loss: 0.0000e+00 - ws_predictor_loss: 0.1920 - val_loss: 2.9065 - val_gate_predictor_loss: 0.0000e+00 - val_ws_predictor_loss: 1.4531 - 8s/epoch - 53ms/step\n"
     ]
    },
    {
     "name": "stdout",
     "output_type": "stream",
     "text": [
      "Epoch 113/700\n",
      "\n",
      "Epoch 113: val_ws_predictor_loss did not improve from 1.44270\n",
      "151/151 - 8s - loss: 0.3844 - gate_predictor_loss: 0.0000e+00 - ws_predictor_loss: 0.1920 - val_loss: 2.9204 - val_gate_predictor_loss: 0.0000e+00 - val_ws_predictor_loss: 1.4601 - 8s/epoch - 53ms/step\n",
      "Epoch 114/700\n",
      "\n",
      "Epoch 114: val_ws_predictor_loss did not improve from 1.44270\n",
      "151/151 - 8s - loss: 0.3843 - gate_predictor_loss: 0.0000e+00 - ws_predictor_loss: 0.1920 - val_loss: 2.8957 - val_gate_predictor_loss: 0.0000e+00 - val_ws_predictor_loss: 1.4477 - 8s/epoch - 53ms/step\n",
      "Epoch 115/700\n",
      "\n",
      "Epoch 115: val_ws_predictor_loss did not improve from 1.44270\n",
      "151/151 - 8s - loss: 0.3842 - gate_predictor_loss: 0.0000e+00 - ws_predictor_loss: 0.1920 - val_loss: 2.9046 - val_gate_predictor_loss: 0.0000e+00 - val_ws_predictor_loss: 1.4521 - 8s/epoch - 53ms/step\n",
      "Epoch 116/700\n",
      "\n",
      "Epoch 116: val_ws_predictor_loss did not improve from 1.44270\n",
      "151/151 - 8s - loss: 0.3842 - gate_predictor_loss: 0.0000e+00 - ws_predictor_loss: 0.1920 - val_loss: 2.9257 - val_gate_predictor_loss: 0.0000e+00 - val_ws_predictor_loss: 1.4627 - 8s/epoch - 53ms/step\n",
      "Epoch 117/700\n",
      "\n",
      "Epoch 117: val_ws_predictor_loss did not improve from 1.44270\n",
      "151/151 - 8s - loss: 0.3842 - gate_predictor_loss: 0.0000e+00 - ws_predictor_loss: 0.1919 - val_loss: 2.9226 - val_gate_predictor_loss: 0.0000e+00 - val_ws_predictor_loss: 1.4612 - 8s/epoch - 52ms/step\n",
      "Epoch 118/700\n",
      "\n",
      "Epoch 118: val_ws_predictor_loss did not improve from 1.44270\n",
      "151/151 - 8s - loss: 0.3841 - gate_predictor_loss: 0.0000e+00 - ws_predictor_loss: 0.1919 - val_loss: 2.9195 - val_gate_predictor_loss: 0.0000e+00 - val_ws_predictor_loss: 1.4596 - 8s/epoch - 53ms/step\n",
      "Epoch 119/700\n",
      "\n",
      "Epoch 119: val_ws_predictor_loss did not improve from 1.44270\n",
      "151/151 - 8s - loss: 0.3841 - gate_predictor_loss: 0.0000e+00 - ws_predictor_loss: 0.1919 - val_loss: 2.9284 - val_gate_predictor_loss: 0.0000e+00 - val_ws_predictor_loss: 1.4641 - 8s/epoch - 53ms/step\n",
      "Epoch 120/700\n",
      "\n",
      "Epoch 120: val_ws_predictor_loss did not improve from 1.44270\n",
      "151/151 - 8s - loss: 0.3841 - gate_predictor_loss: 0.0000e+00 - ws_predictor_loss: 0.1919 - val_loss: 2.9428 - val_gate_predictor_loss: 0.0000e+00 - val_ws_predictor_loss: 1.4713 - 8s/epoch - 53ms/step\n",
      "Epoch 121/700\n",
      "\n",
      "Epoch 121: val_ws_predictor_loss did not improve from 1.44270\n",
      "151/151 - 8s - loss: 0.3842 - gate_predictor_loss: 0.0000e+00 - ws_predictor_loss: 0.1919 - val_loss: 2.9408 - val_gate_predictor_loss: 0.0000e+00 - val_ws_predictor_loss: 1.4703 - 8s/epoch - 52ms/step\n",
      "Epoch 122/700\n",
      "\n",
      "Epoch 122: val_ws_predictor_loss did not improve from 1.44270\n",
      "151/151 - 8s - loss: 0.3841 - gate_predictor_loss: 0.0000e+00 - ws_predictor_loss: 0.1919 - val_loss: 2.9143 - val_gate_predictor_loss: 0.0000e+00 - val_ws_predictor_loss: 1.4570 - 8s/epoch - 52ms/step\n",
      "Epoch 123/700\n",
      "\n",
      "Epoch 123: val_ws_predictor_loss did not improve from 1.44270\n",
      "151/151 - 8s - loss: 0.3841 - gate_predictor_loss: 0.0000e+00 - ws_predictor_loss: 0.1919 - val_loss: 2.9159 - val_gate_predictor_loss: 0.0000e+00 - val_ws_predictor_loss: 1.4578 - 8s/epoch - 52ms/step\n",
      "Epoch 124/700\n",
      "\n",
      "Epoch 124: val_ws_predictor_loss did not improve from 1.44270\n",
      "151/151 - 8s - loss: 0.3843 - gate_predictor_loss: 0.0000e+00 - ws_predictor_loss: 0.1920 - val_loss: 2.9094 - val_gate_predictor_loss: 0.0000e+00 - val_ws_predictor_loss: 1.4545 - 8s/epoch - 52ms/step\n",
      "Epoch 125/700\n",
      "\n",
      "Epoch 125: val_ws_predictor_loss did not improve from 1.44270\n",
      "151/151 - 8s - loss: 0.3842 - gate_predictor_loss: 0.0000e+00 - ws_predictor_loss: 0.1920 - val_loss: 2.9216 - val_gate_predictor_loss: 0.0000e+00 - val_ws_predictor_loss: 1.4606 - 8s/epoch - 52ms/step\n",
      "Epoch 126/700\n",
      "\n",
      "Epoch 126: val_ws_predictor_loss did not improve from 1.44270\n",
      "151/151 - 8s - loss: 0.3840 - gate_predictor_loss: 0.0000e+00 - ws_predictor_loss: 0.1919 - val_loss: 2.9193 - val_gate_predictor_loss: 0.0000e+00 - val_ws_predictor_loss: 1.4595 - 8s/epoch - 52ms/step\n",
      "Epoch 127/700\n",
      "\n",
      "Epoch 127: val_ws_predictor_loss did not improve from 1.44270\n",
      "151/151 - 8s - loss: 0.3840 - gate_predictor_loss: 0.0000e+00 - ws_predictor_loss: 0.1919 - val_loss: 2.9109 - val_gate_predictor_loss: 0.0000e+00 - val_ws_predictor_loss: 1.4553 - 8s/epoch - 52ms/step\n",
      "Epoch 128/700\n",
      "\n",
      "Epoch 128: val_ws_predictor_loss did not improve from 1.44270\n",
      "151/151 - 8s - loss: 0.3840 - gate_predictor_loss: 0.0000e+00 - ws_predictor_loss: 0.1919 - val_loss: 2.9165 - val_gate_predictor_loss: 0.0000e+00 - val_ws_predictor_loss: 1.4581 - 8s/epoch - 52ms/step\n",
      "Epoch 129/700\n",
      "\n",
      "Epoch 129: val_ws_predictor_loss did not improve from 1.44270\n",
      "151/151 - 8s - loss: 0.3840 - gate_predictor_loss: 0.0000e+00 - ws_predictor_loss: 0.1919 - val_loss: 2.9297 - val_gate_predictor_loss: 0.0000e+00 - val_ws_predictor_loss: 1.4647 - 8s/epoch - 52ms/step\n",
      "Epoch 130/700\n",
      "\n",
      "Epoch 130: val_ws_predictor_loss did not improve from 1.44270\n",
      "151/151 - 8s - loss: 0.3840 - gate_predictor_loss: 0.0000e+00 - ws_predictor_loss: 0.1919 - val_loss: 2.9091 - val_gate_predictor_loss: 0.0000e+00 - val_ws_predictor_loss: 1.4544 - 8s/epoch - 52ms/step\n",
      "Epoch 131/700\n",
      "\n",
      "Epoch 131: val_ws_predictor_loss did not improve from 1.44270\n",
      "151/151 - 8s - loss: 0.3840 - gate_predictor_loss: 0.0000e+00 - ws_predictor_loss: 0.1919 - val_loss: 2.9119 - val_gate_predictor_loss: 0.0000e+00 - val_ws_predictor_loss: 1.4558 - 8s/epoch - 52ms/step\n",
      "Epoch 132/700\n",
      "\n",
      "Epoch 132: val_ws_predictor_loss did not improve from 1.44270\n",
      "151/151 - 8s - loss: 0.3840 - gate_predictor_loss: 0.0000e+00 - ws_predictor_loss: 0.1919 - val_loss: 2.9125 - val_gate_predictor_loss: 0.0000e+00 - val_ws_predictor_loss: 1.4561 - 8s/epoch - 52ms/step\n",
      "Epoch 133/700\n",
      "\n",
      "Epoch 133: val_ws_predictor_loss did not improve from 1.44270\n",
      "151/151 - 8s - loss: 0.3839 - gate_predictor_loss: 0.0000e+00 - ws_predictor_loss: 0.1918 - val_loss: 2.9260 - val_gate_predictor_loss: 0.0000e+00 - val_ws_predictor_loss: 1.4629 - 8s/epoch - 52ms/step\n",
      "Epoch 134/700\n",
      "\n",
      "Epoch 134: val_ws_predictor_loss did not improve from 1.44270\n",
      "151/151 - 8s - loss: 0.3840 - gate_predictor_loss: 0.0000e+00 - ws_predictor_loss: 0.1918 - val_loss: 2.9027 - val_gate_predictor_loss: 0.0000e+00 - val_ws_predictor_loss: 1.4512 - 8s/epoch - 52ms/step\n",
      "Epoch 135/700\n",
      "\n",
      "Epoch 135: val_ws_predictor_loss did not improve from 1.44270\n",
      "151/151 - 8s - loss: 0.3839 - gate_predictor_loss: 0.0000e+00 - ws_predictor_loss: 0.1918 - val_loss: 2.9161 - val_gate_predictor_loss: 0.0000e+00 - val_ws_predictor_loss: 1.4579 - 8s/epoch - 52ms/step\n",
      "Epoch 136/700\n",
      "\n",
      "Epoch 136: val_ws_predictor_loss did not improve from 1.44270\n",
      "151/151 - 8s - loss: 0.3839 - gate_predictor_loss: 0.0000e+00 - ws_predictor_loss: 0.1918 - val_loss: 2.9126 - val_gate_predictor_loss: 0.0000e+00 - val_ws_predictor_loss: 1.4562 - 8s/epoch - 52ms/step\n",
      "Epoch 137/700\n",
      "\n",
      "Epoch 137: val_ws_predictor_loss did not improve from 1.44270\n",
      "151/151 - 8s - loss: 0.3839 - gate_predictor_loss: 0.0000e+00 - ws_predictor_loss: 0.1918 - val_loss: 2.9195 - val_gate_predictor_loss: 0.0000e+00 - val_ws_predictor_loss: 1.4596 - 8s/epoch - 52ms/step\n",
      "Epoch 138/700\n",
      "\n",
      "Epoch 138: val_ws_predictor_loss did not improve from 1.44270\n",
      "151/151 - 8s - loss: 0.3839 - gate_predictor_loss: 0.0000e+00 - ws_predictor_loss: 0.1918 - val_loss: 2.9057 - val_gate_predictor_loss: 0.0000e+00 - val_ws_predictor_loss: 1.4527 - 8s/epoch - 53ms/step\n",
      "Epoch 139/700\n",
      "\n",
      "Epoch 139: val_ws_predictor_loss did not improve from 1.44270\n",
      "151/151 - 8s - loss: 0.3839 - gate_predictor_loss: 0.0000e+00 - ws_predictor_loss: 0.1918 - val_loss: 2.9415 - val_gate_predictor_loss: 0.0000e+00 - val_ws_predictor_loss: 1.4706 - 8s/epoch - 53ms/step\n",
      "Epoch 140/700\n",
      "\n",
      "Epoch 140: val_ws_predictor_loss did not improve from 1.44270\n",
      "151/151 - 8s - loss: 0.3838 - gate_predictor_loss: 0.0000e+00 - ws_predictor_loss: 0.1918 - val_loss: 2.9031 - val_gate_predictor_loss: 0.0000e+00 - val_ws_predictor_loss: 1.4514 - 8s/epoch - 53ms/step\n",
      "Epoch 141/700\n",
      "\n",
      "Epoch 141: val_ws_predictor_loss did not improve from 1.44270\n",
      "151/151 - 8s - loss: 0.3839 - gate_predictor_loss: 0.0000e+00 - ws_predictor_loss: 0.1918 - val_loss: 2.9182 - val_gate_predictor_loss: 0.0000e+00 - val_ws_predictor_loss: 1.4590 - 8s/epoch - 52ms/step\n",
      "Epoch 142/700\n",
      "\n",
      "Epoch 142: val_ws_predictor_loss did not improve from 1.44270\n",
      "151/151 - 8s - loss: 0.3838 - gate_predictor_loss: 0.0000e+00 - ws_predictor_loss: 0.1918 - val_loss: 2.9078 - val_gate_predictor_loss: 0.0000e+00 - val_ws_predictor_loss: 1.4538 - 8s/epoch - 52ms/step\n"
     ]
    },
    {
     "name": "stdout",
     "output_type": "stream",
     "text": [
      "Epoch 143/700\n"
     ]
    },
    {
     "ename": "KeyboardInterrupt",
     "evalue": "",
     "output_type": "error",
     "traceback": [
      "\u001b[0;31m---------------------------------------------------------------------------\u001b[0m",
      "\u001b[0;31mKeyboardInterrupt\u001b[0m                         Traceback (most recent call last)",
      "Cell \u001b[0;32mIn[90], line 20\u001b[0m\n\u001b[1;32m     11\u001b[0m es \u001b[38;5;241m=\u001b[39m EarlyStopping(monitor\u001b[38;5;241m=\u001b[39m\u001b[38;5;124m'\u001b[39m\u001b[38;5;124mval_loss\u001b[39m\u001b[38;5;124m'\u001b[39m, mode\u001b[38;5;241m=\u001b[39m\u001b[38;5;124m'\u001b[39m\u001b[38;5;124mmin\u001b[39m\u001b[38;5;124m'\u001b[39m, verbose\u001b[38;5;241m=\u001b[39m\u001b[38;5;241m2\u001b[39m, patience\u001b[38;5;241m=\u001b[39m\u001b[38;5;241m100\u001b[39m)\n\u001b[1;32m     12\u001b[0m mc \u001b[38;5;241m=\u001b[39m ModelCheckpoint(\u001b[38;5;124m'\u001b[39m\u001b[38;5;124m../saved_models/gtnp_gtnp_13_no_transformer.h5\u001b[39m\u001b[38;5;124m'\u001b[39m\u001b[38;5;241m.\u001b[39mformat(n_hours, K),\n\u001b[1;32m     13\u001b[0m                      monitor\u001b[38;5;241m=\u001b[39m\u001b[38;5;124m'\u001b[39m\u001b[38;5;124mval_ws_predictor_loss\u001b[39m\u001b[38;5;124m'\u001b[39m,\n\u001b[1;32m     14\u001b[0m                      mode\u001b[38;5;241m=\u001b[39m\u001b[38;5;124m'\u001b[39m\u001b[38;5;124mmin\u001b[39m\u001b[38;5;124m'\u001b[39m,\n\u001b[1;32m     15\u001b[0m                      verbose\u001b[38;5;241m=\u001b[39m\u001b[38;5;241m2\u001b[39m, \n\u001b[1;32m     16\u001b[0m                      custom_objects\u001b[38;5;241m=\u001b[39m{\u001b[38;5;124m'\u001b[39m\u001b[38;5;124mgate_loss\u001b[39m\u001b[38;5;124m'\u001b[39m:gate_loss, \u001b[38;5;124m'\u001b[39m\u001b[38;5;124mwater_level_threshold\u001b[39m\u001b[38;5;124m'\u001b[39m:water_level_threshold}, \n\u001b[1;32m     17\u001b[0m                      save_best_only\u001b[38;5;241m=\u001b[39m\u001b[38;5;28;01mTrue\u001b[39;00m)\n\u001b[0;32m---> 20\u001b[0m history \u001b[38;5;241m=\u001b[39m \u001b[43mfilda\u001b[49m\u001b[38;5;241;43m.\u001b[39;49m\u001b[43mfit\u001b[49m\u001b[43m(\u001b[49m\u001b[43m[\u001b[49m\u001b[43mtrain_cov\u001b[49m\u001b[43m,\u001b[49m\u001b[43m \u001b[49m\u001b[43mtrain_tws_reshape\u001b[49m\u001b[43m,\u001b[49m\u001b[43m \u001b[49m\u001b[43mtrain_adj_mat\u001b[49m\u001b[43m]\u001b[49m\u001b[43m,\u001b[49m\u001b[43m \u001b[49m\u001b[43m[\u001b[49m\u001b[43mtrain_gate_pump_y\u001b[49m\u001b[43m,\u001b[49m\u001b[43m \u001b[49m\u001b[43mtrain_ws_y\u001b[49m\u001b[43m]\u001b[49m\u001b[43m,\u001b[49m\n\u001b[1;32m     21\u001b[0m \u001b[43m                   \u001b[49m\u001b[43mvalidation_data\u001b[49m\u001b[38;5;241;43m=\u001b[39;49m\u001b[43m(\u001b[49m\u001b[43m[\u001b[49m\u001b[43mval_cov\u001b[49m\u001b[43m,\u001b[49m\u001b[43m \u001b[49m\u001b[43mval_tws_reshape\u001b[49m\u001b[43m,\u001b[49m\u001b[43m \u001b[49m\u001b[43mval_adj_mat\u001b[49m\u001b[43m]\u001b[49m\u001b[43m,\u001b[49m\u001b[43m \u001b[49m\u001b[43m[\u001b[49m\u001b[43mval_gate_pump_y\u001b[49m\u001b[43m,\u001b[49m\u001b[43m \u001b[49m\u001b[43mval_ws_y\u001b[49m\u001b[43m]\u001b[49m\u001b[43m)\u001b[49m\u001b[43m,\u001b[49m\n\u001b[1;32m     22\u001b[0m \u001b[43m                   \u001b[49m\u001b[43mbatch_size\u001b[49m\u001b[38;5;241;43m=\u001b[39;49m\u001b[43mBATCH\u001b[49m\u001b[43m,\u001b[49m\u001b[43m \u001b[49m\n\u001b[1;32m     23\u001b[0m \u001b[43m                   \u001b[49m\u001b[43mepochs\u001b[49m\u001b[38;5;241;43m=\u001b[39;49m\u001b[43mEPOCHS\u001b[49m\u001b[43m,\u001b[49m\u001b[43m \u001b[49m\n\u001b[1;32m     24\u001b[0m \u001b[43m                   \u001b[49m\u001b[43mverbose\u001b[49m\u001b[38;5;241;43m=\u001b[39;49m\u001b[38;5;241;43m2\u001b[39;49m\u001b[43m,\u001b[49m\u001b[43m \u001b[49m\n\u001b[1;32m     25\u001b[0m \u001b[43m                   \u001b[49m\u001b[43mcallbacks\u001b[49m\u001b[38;5;241;43m=\u001b[39;49m\u001b[43m[\u001b[49m\u001b[43mes\u001b[49m\u001b[43m,\u001b[49m\u001b[43m \u001b[49m\u001b[43mmc\u001b[49m\u001b[43m]\u001b[49m\u001b[43m,\u001b[49m\n\u001b[1;32m     26\u001b[0m \u001b[43m                   \u001b[49m\u001b[43mshuffle\u001b[49m\u001b[38;5;241;43m=\u001b[39;49m\u001b[38;5;28;43;01mTrue\u001b[39;49;00m\u001b[43m,\u001b[49m\n\u001b[1;32m     27\u001b[0m \u001b[43m                  \u001b[49m\u001b[43m)\u001b[49m\n\u001b[1;32m     30\u001b[0m plt\u001b[38;5;241m.\u001b[39mrcParams[\u001b[38;5;124m\"\u001b[39m\u001b[38;5;124mfigure.figsize\u001b[39m\u001b[38;5;124m\"\u001b[39m] \u001b[38;5;241m=\u001b[39m (\u001b[38;5;241m8\u001b[39m, \u001b[38;5;241m6\u001b[39m)\n\u001b[1;32m     31\u001b[0m plt\u001b[38;5;241m.\u001b[39mplot(history\u001b[38;5;241m.\u001b[39mhistory[\u001b[38;5;124m'\u001b[39m\u001b[38;5;124mloss\u001b[39m\u001b[38;5;124m'\u001b[39m], label\u001b[38;5;241m=\u001b[39m\u001b[38;5;124m'\u001b[39m\u001b[38;5;124mtrain\u001b[39m\u001b[38;5;124m'\u001b[39m)\n",
      "File \u001b[0;32m~/miniconda3/envs/tf213/lib/python3.10/site-packages/keras/src/utils/traceback_utils.py:65\u001b[0m, in \u001b[0;36mfilter_traceback.<locals>.error_handler\u001b[0;34m(*args, **kwargs)\u001b[0m\n\u001b[1;32m     63\u001b[0m filtered_tb \u001b[38;5;241m=\u001b[39m \u001b[38;5;28;01mNone\u001b[39;00m\n\u001b[1;32m     64\u001b[0m \u001b[38;5;28;01mtry\u001b[39;00m:\n\u001b[0;32m---> 65\u001b[0m     \u001b[38;5;28;01mreturn\u001b[39;00m \u001b[43mfn\u001b[49m\u001b[43m(\u001b[49m\u001b[38;5;241;43m*\u001b[39;49m\u001b[43margs\u001b[49m\u001b[43m,\u001b[49m\u001b[43m \u001b[49m\u001b[38;5;241;43m*\u001b[39;49m\u001b[38;5;241;43m*\u001b[39;49m\u001b[43mkwargs\u001b[49m\u001b[43m)\u001b[49m\n\u001b[1;32m     66\u001b[0m \u001b[38;5;28;01mexcept\u001b[39;00m \u001b[38;5;167;01mException\u001b[39;00m \u001b[38;5;28;01mas\u001b[39;00m e:\n\u001b[1;32m     67\u001b[0m     filtered_tb \u001b[38;5;241m=\u001b[39m _process_traceback_frames(e\u001b[38;5;241m.\u001b[39m__traceback__)\n",
      "File \u001b[0;32m~/miniconda3/envs/tf213/lib/python3.10/site-packages/keras/src/engine/training.py:1742\u001b[0m, in \u001b[0;36mModel.fit\u001b[0;34m(self, x, y, batch_size, epochs, verbose, callbacks, validation_split, validation_data, shuffle, class_weight, sample_weight, initial_epoch, steps_per_epoch, validation_steps, validation_batch_size, validation_freq, max_queue_size, workers, use_multiprocessing)\u001b[0m\n\u001b[1;32m   1734\u001b[0m \u001b[38;5;28;01mwith\u001b[39;00m tf\u001b[38;5;241m.\u001b[39mprofiler\u001b[38;5;241m.\u001b[39mexperimental\u001b[38;5;241m.\u001b[39mTrace(\n\u001b[1;32m   1735\u001b[0m     \u001b[38;5;124m\"\u001b[39m\u001b[38;5;124mtrain\u001b[39m\u001b[38;5;124m\"\u001b[39m,\n\u001b[1;32m   1736\u001b[0m     epoch_num\u001b[38;5;241m=\u001b[39mepoch,\n\u001b[0;32m   (...)\u001b[0m\n\u001b[1;32m   1739\u001b[0m     _r\u001b[38;5;241m=\u001b[39m\u001b[38;5;241m1\u001b[39m,\n\u001b[1;32m   1740\u001b[0m ):\n\u001b[1;32m   1741\u001b[0m     callbacks\u001b[38;5;241m.\u001b[39mon_train_batch_begin(step)\n\u001b[0;32m-> 1742\u001b[0m     tmp_logs \u001b[38;5;241m=\u001b[39m \u001b[38;5;28;43mself\u001b[39;49m\u001b[38;5;241;43m.\u001b[39;49m\u001b[43mtrain_function\u001b[49m\u001b[43m(\u001b[49m\u001b[43miterator\u001b[49m\u001b[43m)\u001b[49m\n\u001b[1;32m   1743\u001b[0m     \u001b[38;5;28;01mif\u001b[39;00m data_handler\u001b[38;5;241m.\u001b[39mshould_sync:\n\u001b[1;32m   1744\u001b[0m         context\u001b[38;5;241m.\u001b[39masync_wait()\n",
      "File \u001b[0;32m~/miniconda3/envs/tf213/lib/python3.10/site-packages/tensorflow/python/util/traceback_utils.py:150\u001b[0m, in \u001b[0;36mfilter_traceback.<locals>.error_handler\u001b[0;34m(*args, **kwargs)\u001b[0m\n\u001b[1;32m    148\u001b[0m filtered_tb \u001b[38;5;241m=\u001b[39m \u001b[38;5;28;01mNone\u001b[39;00m\n\u001b[1;32m    149\u001b[0m \u001b[38;5;28;01mtry\u001b[39;00m:\n\u001b[0;32m--> 150\u001b[0m   \u001b[38;5;28;01mreturn\u001b[39;00m \u001b[43mfn\u001b[49m\u001b[43m(\u001b[49m\u001b[38;5;241;43m*\u001b[39;49m\u001b[43margs\u001b[49m\u001b[43m,\u001b[49m\u001b[43m \u001b[49m\u001b[38;5;241;43m*\u001b[39;49m\u001b[38;5;241;43m*\u001b[39;49m\u001b[43mkwargs\u001b[49m\u001b[43m)\u001b[49m\n\u001b[1;32m    151\u001b[0m \u001b[38;5;28;01mexcept\u001b[39;00m \u001b[38;5;167;01mException\u001b[39;00m \u001b[38;5;28;01mas\u001b[39;00m e:\n\u001b[1;32m    152\u001b[0m   filtered_tb \u001b[38;5;241m=\u001b[39m _process_traceback_frames(e\u001b[38;5;241m.\u001b[39m__traceback__)\n",
      "File \u001b[0;32m~/miniconda3/envs/tf213/lib/python3.10/site-packages/tensorflow/python/eager/polymorphic_function/polymorphic_function.py:825\u001b[0m, in \u001b[0;36mFunction.__call__\u001b[0;34m(self, *args, **kwds)\u001b[0m\n\u001b[1;32m    822\u001b[0m compiler \u001b[38;5;241m=\u001b[39m \u001b[38;5;124m\"\u001b[39m\u001b[38;5;124mxla\u001b[39m\u001b[38;5;124m\"\u001b[39m \u001b[38;5;28;01mif\u001b[39;00m \u001b[38;5;28mself\u001b[39m\u001b[38;5;241m.\u001b[39m_jit_compile \u001b[38;5;28;01melse\u001b[39;00m \u001b[38;5;124m\"\u001b[39m\u001b[38;5;124mnonXla\u001b[39m\u001b[38;5;124m\"\u001b[39m\n\u001b[1;32m    824\u001b[0m \u001b[38;5;28;01mwith\u001b[39;00m OptionalXlaContext(\u001b[38;5;28mself\u001b[39m\u001b[38;5;241m.\u001b[39m_jit_compile):\n\u001b[0;32m--> 825\u001b[0m   result \u001b[38;5;241m=\u001b[39m \u001b[38;5;28;43mself\u001b[39;49m\u001b[38;5;241;43m.\u001b[39;49m\u001b[43m_call\u001b[49m\u001b[43m(\u001b[49m\u001b[38;5;241;43m*\u001b[39;49m\u001b[43margs\u001b[49m\u001b[43m,\u001b[49m\u001b[43m \u001b[49m\u001b[38;5;241;43m*\u001b[39;49m\u001b[38;5;241;43m*\u001b[39;49m\u001b[43mkwds\u001b[49m\u001b[43m)\u001b[49m\n\u001b[1;32m    827\u001b[0m new_tracing_count \u001b[38;5;241m=\u001b[39m \u001b[38;5;28mself\u001b[39m\u001b[38;5;241m.\u001b[39mexperimental_get_tracing_count()\n\u001b[1;32m    828\u001b[0m without_tracing \u001b[38;5;241m=\u001b[39m (tracing_count \u001b[38;5;241m==\u001b[39m new_tracing_count)\n",
      "File \u001b[0;32m~/miniconda3/envs/tf213/lib/python3.10/site-packages/tensorflow/python/eager/polymorphic_function/polymorphic_function.py:857\u001b[0m, in \u001b[0;36mFunction._call\u001b[0;34m(self, *args, **kwds)\u001b[0m\n\u001b[1;32m    854\u001b[0m   \u001b[38;5;28mself\u001b[39m\u001b[38;5;241m.\u001b[39m_lock\u001b[38;5;241m.\u001b[39mrelease()\n\u001b[1;32m    855\u001b[0m   \u001b[38;5;66;03m# In this case we have created variables on the first call, so we run the\u001b[39;00m\n\u001b[1;32m    856\u001b[0m   \u001b[38;5;66;03m# defunned version which is guaranteed to never create variables.\u001b[39;00m\n\u001b[0;32m--> 857\u001b[0m   \u001b[38;5;28;01mreturn\u001b[39;00m \u001b[38;5;28;43mself\u001b[39;49m\u001b[38;5;241;43m.\u001b[39;49m\u001b[43m_no_variable_creation_fn\u001b[49m\u001b[43m(\u001b[49m\u001b[38;5;241;43m*\u001b[39;49m\u001b[43margs\u001b[49m\u001b[43m,\u001b[49m\u001b[43m \u001b[49m\u001b[38;5;241;43m*\u001b[39;49m\u001b[38;5;241;43m*\u001b[39;49m\u001b[43mkwds\u001b[49m\u001b[43m)\u001b[49m  \u001b[38;5;66;03m# pylint: disable=not-callable\u001b[39;00m\n\u001b[1;32m    858\u001b[0m \u001b[38;5;28;01melif\u001b[39;00m \u001b[38;5;28mself\u001b[39m\u001b[38;5;241m.\u001b[39m_variable_creation_fn \u001b[38;5;129;01mis\u001b[39;00m \u001b[38;5;129;01mnot\u001b[39;00m \u001b[38;5;28;01mNone\u001b[39;00m:\n\u001b[1;32m    859\u001b[0m   \u001b[38;5;66;03m# Release the lock early so that multiple threads can perform the call\u001b[39;00m\n\u001b[1;32m    860\u001b[0m   \u001b[38;5;66;03m# in parallel.\u001b[39;00m\n\u001b[1;32m    861\u001b[0m   \u001b[38;5;28mself\u001b[39m\u001b[38;5;241m.\u001b[39m_lock\u001b[38;5;241m.\u001b[39mrelease()\n",
      "File \u001b[0;32m~/miniconda3/envs/tf213/lib/python3.10/site-packages/tensorflow/python/eager/polymorphic_function/tracing_compiler.py:148\u001b[0m, in \u001b[0;36mTracingCompiler.__call__\u001b[0;34m(self, *args, **kwargs)\u001b[0m\n\u001b[1;32m    145\u001b[0m \u001b[38;5;28;01mwith\u001b[39;00m \u001b[38;5;28mself\u001b[39m\u001b[38;5;241m.\u001b[39m_lock:\n\u001b[1;32m    146\u001b[0m   (concrete_function,\n\u001b[1;32m    147\u001b[0m    filtered_flat_args) \u001b[38;5;241m=\u001b[39m \u001b[38;5;28mself\u001b[39m\u001b[38;5;241m.\u001b[39m_maybe_define_function(args, kwargs)\n\u001b[0;32m--> 148\u001b[0m \u001b[38;5;28;01mreturn\u001b[39;00m \u001b[43mconcrete_function\u001b[49m\u001b[38;5;241;43m.\u001b[39;49m\u001b[43m_call_flat\u001b[49m\u001b[43m(\u001b[49m\n\u001b[1;32m    149\u001b[0m \u001b[43m    \u001b[49m\u001b[43mfiltered_flat_args\u001b[49m\u001b[43m,\u001b[49m\u001b[43m \u001b[49m\u001b[43mcaptured_inputs\u001b[49m\u001b[38;5;241;43m=\u001b[39;49m\u001b[43mconcrete_function\u001b[49m\u001b[38;5;241;43m.\u001b[39;49m\u001b[43mcaptured_inputs\u001b[49m\u001b[43m)\u001b[49m\n",
      "File \u001b[0;32m~/miniconda3/envs/tf213/lib/python3.10/site-packages/tensorflow/python/eager/polymorphic_function/monomorphic_function.py:1349\u001b[0m, in \u001b[0;36mConcreteFunction._call_flat\u001b[0;34m(self, args, captured_inputs)\u001b[0m\n\u001b[1;32m   1345\u001b[0m possible_gradient_type \u001b[38;5;241m=\u001b[39m gradients_util\u001b[38;5;241m.\u001b[39mPossibleTapeGradientTypes(args)\n\u001b[1;32m   1346\u001b[0m \u001b[38;5;28;01mif\u001b[39;00m (possible_gradient_type \u001b[38;5;241m==\u001b[39m gradients_util\u001b[38;5;241m.\u001b[39mPOSSIBLE_GRADIENT_TYPES_NONE\n\u001b[1;32m   1347\u001b[0m     \u001b[38;5;129;01mand\u001b[39;00m executing_eagerly):\n\u001b[1;32m   1348\u001b[0m   \u001b[38;5;66;03m# No tape is watching; skip to running the function.\u001b[39;00m\n\u001b[0;32m-> 1349\u001b[0m   \u001b[38;5;28;01mreturn\u001b[39;00m \u001b[38;5;28mself\u001b[39m\u001b[38;5;241m.\u001b[39m_build_call_outputs(\u001b[38;5;28;43mself\u001b[39;49m\u001b[38;5;241;43m.\u001b[39;49m\u001b[43m_inference_function\u001b[49m\u001b[43m(\u001b[49m\u001b[38;5;241;43m*\u001b[39;49m\u001b[43margs\u001b[49m\u001b[43m)\u001b[49m)\n\u001b[1;32m   1350\u001b[0m forward_backward \u001b[38;5;241m=\u001b[39m \u001b[38;5;28mself\u001b[39m\u001b[38;5;241m.\u001b[39m_select_forward_and_backward_functions(\n\u001b[1;32m   1351\u001b[0m     args,\n\u001b[1;32m   1352\u001b[0m     possible_gradient_type,\n\u001b[1;32m   1353\u001b[0m     executing_eagerly)\n\u001b[1;32m   1354\u001b[0m forward_function, args_with_tangents \u001b[38;5;241m=\u001b[39m forward_backward\u001b[38;5;241m.\u001b[39mforward()\n",
      "File \u001b[0;32m~/miniconda3/envs/tf213/lib/python3.10/site-packages/tensorflow/python/eager/polymorphic_function/atomic_function.py:196\u001b[0m, in \u001b[0;36mAtomicFunction.__call__\u001b[0;34m(self, *args)\u001b[0m\n\u001b[1;32m    194\u001b[0m \u001b[38;5;28;01mwith\u001b[39;00m record\u001b[38;5;241m.\u001b[39mstop_recording():\n\u001b[1;32m    195\u001b[0m   \u001b[38;5;28;01mif\u001b[39;00m \u001b[38;5;28mself\u001b[39m\u001b[38;5;241m.\u001b[39m_bound_context\u001b[38;5;241m.\u001b[39mexecuting_eagerly():\n\u001b[0;32m--> 196\u001b[0m     outputs \u001b[38;5;241m=\u001b[39m \u001b[38;5;28;43mself\u001b[39;49m\u001b[38;5;241;43m.\u001b[39;49m\u001b[43m_bound_context\u001b[49m\u001b[38;5;241;43m.\u001b[39;49m\u001b[43mcall_function\u001b[49m\u001b[43m(\u001b[49m\n\u001b[1;32m    197\u001b[0m \u001b[43m        \u001b[49m\u001b[38;5;28;43mself\u001b[39;49m\u001b[38;5;241;43m.\u001b[39;49m\u001b[43mname\u001b[49m\u001b[43m,\u001b[49m\n\u001b[1;32m    198\u001b[0m \u001b[43m        \u001b[49m\u001b[38;5;28;43mlist\u001b[39;49m\u001b[43m(\u001b[49m\u001b[43margs\u001b[49m\u001b[43m)\u001b[49m\u001b[43m,\u001b[49m\n\u001b[1;32m    199\u001b[0m \u001b[43m        \u001b[49m\u001b[38;5;28;43mlen\u001b[39;49m\u001b[43m(\u001b[49m\u001b[38;5;28;43mself\u001b[39;49m\u001b[38;5;241;43m.\u001b[39;49m\u001b[43mfunction_type\u001b[49m\u001b[38;5;241;43m.\u001b[39;49m\u001b[43mflat_outputs\u001b[49m\u001b[43m)\u001b[49m\u001b[43m,\u001b[49m\n\u001b[1;32m    200\u001b[0m \u001b[43m    \u001b[49m\u001b[43m)\u001b[49m\n\u001b[1;32m    201\u001b[0m   \u001b[38;5;28;01melse\u001b[39;00m:\n\u001b[1;32m    202\u001b[0m     outputs \u001b[38;5;241m=\u001b[39m make_call_op_in_graph(\u001b[38;5;28mself\u001b[39m, \u001b[38;5;28mlist\u001b[39m(args))\n",
      "File \u001b[0;32m~/miniconda3/envs/tf213/lib/python3.10/site-packages/tensorflow/python/eager/context.py:1457\u001b[0m, in \u001b[0;36mContext.call_function\u001b[0;34m(self, name, tensor_inputs, num_outputs)\u001b[0m\n\u001b[1;32m   1455\u001b[0m cancellation_context \u001b[38;5;241m=\u001b[39m cancellation\u001b[38;5;241m.\u001b[39mcontext()\n\u001b[1;32m   1456\u001b[0m \u001b[38;5;28;01mif\u001b[39;00m cancellation_context \u001b[38;5;129;01mis\u001b[39;00m \u001b[38;5;28;01mNone\u001b[39;00m:\n\u001b[0;32m-> 1457\u001b[0m   outputs \u001b[38;5;241m=\u001b[39m \u001b[43mexecute\u001b[49m\u001b[38;5;241;43m.\u001b[39;49m\u001b[43mexecute\u001b[49m\u001b[43m(\u001b[49m\n\u001b[1;32m   1458\u001b[0m \u001b[43m      \u001b[49m\u001b[43mname\u001b[49m\u001b[38;5;241;43m.\u001b[39;49m\u001b[43mdecode\u001b[49m\u001b[43m(\u001b[49m\u001b[38;5;124;43m\"\u001b[39;49m\u001b[38;5;124;43mutf-8\u001b[39;49m\u001b[38;5;124;43m\"\u001b[39;49m\u001b[43m)\u001b[49m\u001b[43m,\u001b[49m\n\u001b[1;32m   1459\u001b[0m \u001b[43m      \u001b[49m\u001b[43mnum_outputs\u001b[49m\u001b[38;5;241;43m=\u001b[39;49m\u001b[43mnum_outputs\u001b[49m\u001b[43m,\u001b[49m\n\u001b[1;32m   1460\u001b[0m \u001b[43m      \u001b[49m\u001b[43minputs\u001b[49m\u001b[38;5;241;43m=\u001b[39;49m\u001b[43mtensor_inputs\u001b[49m\u001b[43m,\u001b[49m\n\u001b[1;32m   1461\u001b[0m \u001b[43m      \u001b[49m\u001b[43mattrs\u001b[49m\u001b[38;5;241;43m=\u001b[39;49m\u001b[43mattrs\u001b[49m\u001b[43m,\u001b[49m\n\u001b[1;32m   1462\u001b[0m \u001b[43m      \u001b[49m\u001b[43mctx\u001b[49m\u001b[38;5;241;43m=\u001b[39;49m\u001b[38;5;28;43mself\u001b[39;49m\u001b[43m,\u001b[49m\n\u001b[1;32m   1463\u001b[0m \u001b[43m  \u001b[49m\u001b[43m)\u001b[49m\n\u001b[1;32m   1464\u001b[0m \u001b[38;5;28;01melse\u001b[39;00m:\n\u001b[1;32m   1465\u001b[0m   outputs \u001b[38;5;241m=\u001b[39m execute\u001b[38;5;241m.\u001b[39mexecute_with_cancellation(\n\u001b[1;32m   1466\u001b[0m       name\u001b[38;5;241m.\u001b[39mdecode(\u001b[38;5;124m\"\u001b[39m\u001b[38;5;124mutf-8\u001b[39m\u001b[38;5;124m\"\u001b[39m),\n\u001b[1;32m   1467\u001b[0m       num_outputs\u001b[38;5;241m=\u001b[39mnum_outputs,\n\u001b[0;32m   (...)\u001b[0m\n\u001b[1;32m   1471\u001b[0m       cancellation_manager\u001b[38;5;241m=\u001b[39mcancellation_context,\n\u001b[1;32m   1472\u001b[0m   )\n",
      "File \u001b[0;32m~/miniconda3/envs/tf213/lib/python3.10/site-packages/tensorflow/python/eager/execute.py:53\u001b[0m, in \u001b[0;36mquick_execute\u001b[0;34m(op_name, num_outputs, inputs, attrs, ctx, name)\u001b[0m\n\u001b[1;32m     51\u001b[0m \u001b[38;5;28;01mtry\u001b[39;00m:\n\u001b[1;32m     52\u001b[0m   ctx\u001b[38;5;241m.\u001b[39mensure_initialized()\n\u001b[0;32m---> 53\u001b[0m   tensors \u001b[38;5;241m=\u001b[39m \u001b[43mpywrap_tfe\u001b[49m\u001b[38;5;241;43m.\u001b[39;49m\u001b[43mTFE_Py_Execute\u001b[49m\u001b[43m(\u001b[49m\u001b[43mctx\u001b[49m\u001b[38;5;241;43m.\u001b[39;49m\u001b[43m_handle\u001b[49m\u001b[43m,\u001b[49m\u001b[43m \u001b[49m\u001b[43mdevice_name\u001b[49m\u001b[43m,\u001b[49m\u001b[43m \u001b[49m\u001b[43mop_name\u001b[49m\u001b[43m,\u001b[49m\n\u001b[1;32m     54\u001b[0m \u001b[43m                                      \u001b[49m\u001b[43minputs\u001b[49m\u001b[43m,\u001b[49m\u001b[43m \u001b[49m\u001b[43mattrs\u001b[49m\u001b[43m,\u001b[49m\u001b[43m \u001b[49m\u001b[43mnum_outputs\u001b[49m\u001b[43m)\u001b[49m\n\u001b[1;32m     55\u001b[0m \u001b[38;5;28;01mexcept\u001b[39;00m core\u001b[38;5;241m.\u001b[39m_NotOkStatusException \u001b[38;5;28;01mas\u001b[39;00m e:\n\u001b[1;32m     56\u001b[0m   \u001b[38;5;28;01mif\u001b[39;00m name \u001b[38;5;129;01mis\u001b[39;00m \u001b[38;5;129;01mnot\u001b[39;00m \u001b[38;5;28;01mNone\u001b[39;00m:\n",
      "\u001b[0;31mKeyboardInterrupt\u001b[0m: "
     ]
    }
   ],
   "source": [
    "lr_schedule = keras.optimizers.schedules.ExponentialDecay(initial_learning_rate=learning_rate, \n",
    "                                                          decay_steps=decay_steps,\n",
    "                                                          decay_rate=decay_rate)\n",
    "\n",
    "filda.compile(optimizer=Adam(learning_rate=lr_schedule),\n",
    "             loss=[gate_loss, water_level_threshold], \n",
    "             loss_weights=[0.0, 2.0]\n",
    "            )\n",
    "\n",
    "\n",
    "es = EarlyStopping(monitor='val_loss', mode='min', verbose=2, patience=100)\n",
    "mc = ModelCheckpoint('../saved_models/gtnp_gtnp_13_no_transformer.h5'.format(n_hours, K),\n",
    "                     monitor='val_ws_predictor_loss',\n",
    "                     mode='min',\n",
    "                     verbose=2, \n",
    "                     custom_objects={'gate_loss':gate_loss, 'water_level_threshold':water_level_threshold}, \n",
    "                     save_best_only=True)\n",
    "\n",
    "\n",
    "history = filda.fit([train_cov, train_tws_reshape, train_adj_mat], [train_gate_pump_y, train_ws_y],\n",
    "                   validation_data=([val_cov, val_tws_reshape, val_adj_mat], [val_gate_pump_y, val_ws_y]),\n",
    "                   batch_size=BATCH, \n",
    "                   epochs=EPOCHS, \n",
    "                   verbose=2, \n",
    "                   callbacks=[es, mc],\n",
    "                   shuffle=True,\n",
    "                  )\n",
    "\n",
    "\n",
    "plt.rcParams[\"figure.figsize\"] = (8, 6)\n",
    "plt.plot(history.history['loss'], label='train')\n",
    "plt.plot(history.history['val_loss'], label='val')\n",
    "plt.xticks(fontsize=14)\n",
    "plt.yticks(fontsize=14)\n",
    "plt.xlabel('Epoch', fontsize=16)\n",
    "plt.ylabel('Loss', fontsize=16)\n",
    "plt.legend(fontsize=14)\n",
    "plt.title(\"Training loss vs Testing loss\", fontsize=18)\n",
    "# plt.savefig('graph/rnn_loss.png', dpi=300)\n",
    "plt.show()"
   ]
  },
  {
   "cell_type": "markdown",
   "id": "274afc23",
   "metadata": {},
   "source": [
    "### Performance"
   ]
  },
  {
   "cell_type": "code",
   "execution_count": 91,
   "id": "c761507a",
   "metadata": {
    "scrolled": true
   },
   "outputs": [
    {
     "name": "stdout",
     "output_type": "stream",
     "text": [
      "WARNING:tensorflow:Layer LSTM will not use cuDNN kernels since it doesn't meet the criteria. It will use a generic GPU kernel as fallback when running on GPU.\n",
      "WARNING:tensorflow:Layer LSTM will not use cuDNN kernels since it doesn't meet the criteria. It will use a generic GPU kernel as fallback when running on GPU.\n"
     ]
    }
   ],
   "source": [
    "saved_model = load_model('../saved_models/gtnp_gtnp_13_no_transformer.h5',\n",
    "                         custom_objects={'gate_loss':gate_loss, \n",
    "                                         'water_level_threshold':water_level_threshold,\n",
    "                                         'GCNConv': GCNConv\n",
    "                                        }\n",
    "                        )"
   ]
  },
  {
   "cell_type": "code",
   "execution_count": 92,
   "id": "437232bc",
   "metadata": {},
   "outputs": [
    {
     "name": "stdout",
     "output_type": "stream",
     "text": [
      "603/603 [==============================] - 5s 6ms/step\n",
      "(19268, 24, 7)\n",
      "(19268, 96)\n"
     ]
    }
   ],
   "source": [
    "gate_pump_pred, ws_pred = saved_model.predict([test_cov, test_tws_reshape, test_adj_mat])\n",
    "\n",
    "print(gate_pump_pred.shape)\n",
    "print(ws_pred.shape)"
   ]
  },
  {
   "cell_type": "markdown",
   "id": "37fd7424",
   "metadata": {},
   "source": [
    "#### ws pred, gate pred"
   ]
  },
  {
   "cell_type": "code",
   "execution_count": 93,
   "id": "73063d86",
   "metadata": {},
   "outputs": [
    {
     "data": {
      "text/plain": [
       "(19268, 24, 4)"
      ]
     },
     "execution_count": 93,
     "metadata": {},
     "output_type": "execute_result"
    }
   ],
   "source": [
    "ws_pred_gate_pred_inv = ws_scaler.inverse_transform(ws_pred)\n",
    "ws_pred_gate_pred_inv = ws_pred_gate_pred_inv.reshape((-1, K, 4))\n",
    "ws_pred_gate_pred_inv.shape"
   ]
  },
  {
   "cell_type": "markdown",
   "id": "181b7677",
   "metadata": {},
   "source": [
    "#### ws true, gate true"
   ]
  },
  {
   "cell_type": "code",
   "execution_count": 94,
   "id": "fc62a508",
   "metadata": {},
   "outputs": [
    {
     "data": {
      "text/plain": [
       "(19268, 24, 4)"
      ]
     },
     "execution_count": 94,
     "metadata": {},
     "output_type": "execute_result"
    }
   ],
   "source": [
    "ws_true_gate_true = test_ws_y\n",
    "ws_true_gate_true_inv = ws_scaler.inverse_transform(ws_true_gate_true)\n",
    "ws_true_gate_true_inv = ws_true_gate_true_inv.reshape((-1, K, 4))\n",
    "ws_true_gate_true_inv.shape"
   ]
  },
  {
   "cell_type": "markdown",
   "id": "ffa81cf7",
   "metadata": {},
   "source": [
    "#### ws pred, gate true"
   ]
  },
  {
   "cell_type": "code",
   "execution_count": 95,
   "id": "bb27e44e",
   "metadata": {},
   "outputs": [
    {
     "name": "stdout",
     "output_type": "stream",
     "text": [
      "WARNING:tensorflow:Layer LSTM will not use cuDNN kernels since it doesn't meet the criteria. It will use a generic GPU kernel as fallback when running on GPU.\n",
      "603/603 [==============================] - 2s 3ms/step\n"
     ]
    },
    {
     "data": {
      "text/plain": [
       "(19268, 24, 4)"
      ]
     },
     "execution_count": 95,
     "metadata": {},
     "output_type": "execute_result"
    }
   ],
   "source": [
    "ws_predictor = load_model('../saved_models/WaLeF_gtn_p.h5', custom_objects={'GCNConv': GCNConv})\n",
    "\n",
    "ws_pred_gate_true = ws_predictor.predict([test_cov, test_tws_reshape, test_adj_mat])\n",
    "ws_pred_gate_true_inv = ws_scaler.inverse_transform(ws_pred_gate_true)\n",
    "ws_pred_gate_true_inv = ws_pred_gate_true_inv.reshape((-1, 24, 4))\n",
    "ws_pred_gate_true_inv.shape"
   ]
  },
  {
   "cell_type": "markdown",
   "id": "ad36fbd5",
   "metadata": {},
   "source": [
    "### Upper threshould"
   ]
  },
  {
   "cell_type": "code",
   "execution_count": 96,
   "id": "056279a8",
   "metadata": {},
   "outputs": [
    {
     "name": "stdout",
     "output_type": "stream",
     "text": [
      "S1, S25A, S25B, S26 time steps: 96, 96, 118, 117\n",
      "S1, S25A, S25B, S26 areas: 14.82, 15.22, 18, 20.13\n",
      "TOTAL time steps: 427; TOTAL areas: 68.61\n",
      "--------------------------------------------------\n",
      "S1, S25A, S25B, S26 time steps: 85, 85, 96, 108\n",
      "S1, S25A, S25B, S26 areas: 11.5466, 12.1773, 13, 17.2181\n",
      "TOTAL time steps: 374; TOTAL areas: 54.3063\n",
      "--------------------------------------------------\n",
      "S1, S25A, S25B, S26 time steps: 32, 34, 48, 73\n",
      "S1, S25A, S25B, S26 areas: 3.5727, 4.0552, 5, 9.9538\n",
      "TOTAL time steps: 187; TOTAL areas: 23.0799\n",
      "--------------------------------------------------\n"
     ]
    }
   ],
   "source": [
    "upper_threshold = 3.5\n",
    "t1 = 1\n",
    "\n",
    "flood_threshold_t1(ws_true_gate_true_inv, t1, upper_threshold)\n",
    "flood_threshold_t1(ws_pred_gate_true_inv, t1, upper_threshold)\n",
    "flood_threshold_t1(ws_pred_gate_pred_inv, t1, upper_threshold)"
   ]
  },
  {
   "cell_type": "code",
   "execution_count": 97,
   "id": "9c7bbcf1",
   "metadata": {},
   "outputs": [
    {
     "name": "stdout",
     "output_type": "stream",
     "text": [
      "S1, S25A, S25B, S26 time steps: 6, 5, 6, 6\n",
      "S1, S25A, S25B, S26 areas: 0.84, 0.72, 1, 1.0\n",
      "TOTAL time steps: 23; TOTAL areas: 3.62\n",
      "--------------------------------------------------\n",
      "S1, S25A, S25B, S26 time steps: 6, 6, 5, 5\n",
      "S1, S25A, S25B, S26 areas: 0.6148, 0.6425, 1, 0.8663\n",
      "TOTAL time steps: 22; TOTAL areas: 3.0018\n",
      "--------------------------------------------------\n",
      "S1, S25A, S25B, S26 time steps: 2, 1, 4, 5\n",
      "S1, S25A, S25B, S26 areas: 0.1184, 0.0973, 0, 0.4127\n",
      "TOTAL time steps: 12; TOTAL areas: 0.9474\n",
      "--------------------------------------------------\n"
     ]
    }
   ],
   "source": [
    "flood_threshold_t1(ws_true_gate_true_inv[7640-23:7680-23], t1, upper_threshold)\n",
    "flood_threshold_t1(ws_pred_gate_true_inv[7640-23:7680-23], t1, upper_threshold)\n",
    "flood_threshold_t1(ws_pred_gate_pred_inv[7640-23:7680-23], t1, upper_threshold)"
   ]
  },
  {
   "cell_type": "code",
   "execution_count": 98,
   "id": "b8b3581c",
   "metadata": {},
   "outputs": [
    {
     "name": "stdout",
     "output_type": "stream",
     "text": [
      "time steps: 10248, areas: 1646.6399002075195\n",
      "time steps: 12130, areas: 2088.0380942821503\n",
      "time steps: 8052, areas: 1290.745621919632\n"
     ]
    }
   ],
   "source": [
    "flood_threshold(ws_true_gate_true_inv, upper_threshold)\n",
    "flood_threshold(ws_pred_gate_true_inv, upper_threshold)\n",
    "flood_threshold(ws_pred_gate_pred_inv, upper_threshold)"
   ]
  },
  {
   "cell_type": "markdown",
   "id": "5b5e11a6",
   "metadata": {},
   "source": [
    "### Lower threshold"
   ]
  },
  {
   "cell_type": "code",
   "execution_count": 99,
   "id": "e9c7d7f2",
   "metadata": {},
   "outputs": [
    {
     "name": "stdout",
     "output_type": "stream",
     "text": [
      "S1, S25A, S25B, S26 time steps: 1346, 1341, 1229, 1250\n",
      "S1, S25A, S25B, S26 areas: -385.8, -383.38, -345.08, -350.84:\n",
      "TOTAL time steps: 5166; TOTAL areas: -1465.1\n",
      "--------------------------------------------------\n",
      "S1, S25A, S25B, S26 time steps: 1390, 1427, 1282, 1476\n",
      "S1, S25A, S25B, S26 areas: -398.849, -392.0414, -350.2885, -429.5386:\n",
      "TOTAL time steps: 5575; TOTAL areas: -1570.7176\n",
      "--------------------------------------------------\n",
      "S1, S25A, S25B, S26 time steps: 325, 168, 39, 136\n",
      "S1, S25A, S25B, S26 areas: -57.428, -26.389, -4.3684, -20.865:\n",
      "TOTAL time steps: 668; TOTAL areas: -109.0503\n",
      "--------------------------------------------------\n"
     ]
    }
   ],
   "source": [
    "lower_threshold = 0\n",
    "t1 = 1\n",
    "\n",
    "drought_threshold_t1(ws_true_gate_true_inv, t1, lower_threshold)\n",
    "drought_threshold_t1(ws_pred_gate_true_inv, t1, lower_threshold)\n",
    "drought_threshold_t1(ws_pred_gate_pred_inv, t1, lower_threshold)"
   ]
  },
  {
   "cell_type": "code",
   "execution_count": 100,
   "id": "9d114156",
   "metadata": {},
   "outputs": [
    {
     "name": "stdout",
     "output_type": "stream",
     "text": [
      "S1, S25A, S25B, S26 time steps: 0, 0, 0, 0\n",
      "S1, S25A, S25B, S26 areas: 0, 0, 0, 0:\n",
      "TOTAL time steps: 0; TOTAL areas: 0\n",
      "--------------------------------------------------\n",
      "S1, S25A, S25B, S26 time steps: 0, 0, 0, 0\n",
      "S1, S25A, S25B, S26 areas: 0, 0, 0, 0:\n",
      "TOTAL time steps: 0; TOTAL areas: 0\n",
      "--------------------------------------------------\n",
      "S1, S25A, S25B, S26 time steps: 0, 0, 0, 0\n",
      "S1, S25A, S25B, S26 areas: 0, 0, 0, 0:\n",
      "TOTAL time steps: 0; TOTAL areas: 0\n",
      "--------------------------------------------------\n"
     ]
    }
   ],
   "source": [
    "drought_threshold_t1(ws_true_gate_true_inv[7640-23:7680-23], t1, lower_threshold)\n",
    "drought_threshold_t1(ws_pred_gate_true_inv[7640-23:7680-23], t1, lower_threshold)\n",
    "drought_threshold_t1(ws_pred_gate_pred_inv[7640-23:7680-23], t1, lower_threshold)"
   ]
  },
  {
   "cell_type": "code",
   "execution_count": 101,
   "id": "880f11bf",
   "metadata": {},
   "outputs": [
    {
     "name": "stdout",
     "output_type": "stream",
     "text": [
      "time steps: 124148, areas: 35182.6098122485\n",
      "time steps: 127126, areas: 34960.07284716559\n",
      "time steps: 13940, areas: 2383.3390639442914\n"
     ]
    }
   ],
   "source": [
    "drought_threshold(ws_true_gate_true_inv, lower_threshold)\n",
    "drought_threshold(ws_pred_gate_true_inv, lower_threshold)\n",
    "drought_threshold(ws_pred_gate_pred_inv, lower_threshold)"
   ]
  },
  {
   "cell_type": "code",
   "execution_count": null,
   "id": "89bdb658",
   "metadata": {},
   "outputs": [],
   "source": []
  },
  {
   "cell_type": "code",
   "execution_count": null,
   "id": "c3c8c2f3",
   "metadata": {},
   "outputs": [],
   "source": []
  },
  {
   "cell_type": "code",
   "execution_count": null,
   "id": "a4048d9f",
   "metadata": {},
   "outputs": [],
   "source": []
  }
 ],
 "metadata": {
  "kernelspec": {
   "display_name": "Python 3 (ipykernel)",
   "language": "python",
   "name": "python3"
  },
  "language_info": {
   "codemirror_mode": {
    "name": "ipython",
    "version": 3
   },
   "file_extension": ".py",
   "mimetype": "text/x-python",
   "name": "python",
   "nbconvert_exporter": "python",
   "pygments_lexer": "ipython3",
   "version": "3.10.12"
  }
 },
 "nbformat": 4,
 "nbformat_minor": 5
}
