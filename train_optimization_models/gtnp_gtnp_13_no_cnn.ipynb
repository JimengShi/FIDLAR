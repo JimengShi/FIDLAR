{
 "cells": [
  {
   "cell_type": "code",
   "execution_count": 2,
   "id": "efa98cb4",
   "metadata": {},
   "outputs": [
    {
     "name": "stdout",
     "output_type": "stream",
     "text": [
      "0.5714025946899135\n"
     ]
    }
   ],
   "source": [
    "import sys\n",
    "import os\n",
    "\n",
    "current_directory = os.getcwd()        \n",
    "parent_directory = os.path.dirname(current_directory)\n",
    "sys.path.append(parent_directory)\n",
    "\n",
    "\n",
    "from preprocess.graph import graph_topology_5\n",
    "from preprocess.GraphTransformerPrerocess import graph_water_transformer_cov_process_for_gate_predictor\n",
    "from models.graph_water_transformer_cov_no_cnn import graph_water_transformer_cov_gate_predictor_no_cnn\n",
    "\n",
    "from losses.loss import gate_loss, water_level_threshold\n",
    "from tensorflow.keras.models import load_model\n",
    "from tensorflow import keras\n",
    "from tensorflow.keras import Input, Model\n",
    "from tensorflow.keras import layers\n",
    "from tensorflow.keras.optimizers import Adam\n",
    "from tensorflow.keras.callbacks import EarlyStopping\n",
    "from tensorflow.keras.callbacks import ModelCheckpoint\n",
    "\n",
    "import matplotlib.pyplot as plt\n",
    "import pandas as pd\n",
    "import numpy as np\n",
    "\n",
    "from postprocess.threshold import flood_threshold, drought_threshold, flood_threshold_t1, drought_threshold_t1\n",
    "\n",
    "\n",
    "import random\n",
    "\n",
    "random.seed(10)\n",
    "print(random.random())"
   ]
  },
  {
   "cell_type": "code",
   "execution_count": 3,
   "id": "0092be29",
   "metadata": {},
   "outputs": [],
   "source": [
    "os.environ[\"CUDA_VISIBLE_DEVICES\"] = \"0\""
   ]
  },
  {
   "cell_type": "code",
   "execution_count": 4,
   "id": "04b8077a",
   "metadata": {},
   "outputs": [],
   "source": [
    "n_hours = 72\n",
    "K = 24 \n",
    "masked_value = 1e-10\n",
    "split_1 = 0.8\n",
    "split_2 = 0.9\n",
    "sigma2 = 0.1\n",
    "epsilon = 0.5"
   ]
  },
  {
   "cell_type": "code",
   "execution_count": 5,
   "id": "d43bd0cd",
   "metadata": {},
   "outputs": [
    {
     "name": "stdout",
     "output_type": "stream",
     "text": [
      "Index(['WS_S1', 'WS_S4', 'FLOW_S25A', 'GATE_S25A', 'HWS_S25A', 'TWS_S25A',\n",
      "       'FLOW_S25B', 'GATE_S25B', 'GATE_S25B2', 'HWS_S25B', 'TWS_S25B',\n",
      "       'PUMP_S25B', 'FLOW_S26', 'GATE_S26_1', 'GATE_S26_2', 'HWS_S26',\n",
      "       'TWS_S26', 'PUMP_S26', 'MEAN_RAIN'],\n",
      "      dtype='object')\n",
      "train_tws/val_tws/test_tws: (77069, 5, 72) (9634, 5, 72) (19268, 5, 72) \n",
      " train_cov/val_cov/test_cov: (77069, 96, 12) (9634, 96, 12) (19268, 96, 12) \n",
      " train_ws_y/val_ws_y/test_ws_y: (77069, 96) (9634, 96) (19268, 96) \n",
      "  train_gate_pump_y/val_gate_pump_y/test_gate_pump_y: (77069, 24, 7) (9634, 24, 7) (19268, 24, 7)\n"
     ]
    }
   ],
   "source": [
    "train_cov, val_cov, test_cov, \\\n",
    "train_tws_reshape, val_tws_reshape, test_tws_reshape, \\\n",
    "train_gate_pump_y, val_gate_pump_y, test_gate_pump_y, \\\n",
    "train_ws_y, val_ws_y, test_ws_y, \\\n",
    "scaler, ws_scaler, gate_scalar = graph_water_transformer_cov_process_for_gate_predictor(n_hours, K, masked_value, split_1, split_2)"
   ]
  },
  {
   "cell_type": "markdown",
   "id": "265ed7ff",
   "metadata": {},
   "source": [
    "### Graph topology"
   ]
  },
  {
   "cell_type": "code",
   "execution_count": 6,
   "id": "98e803d1",
   "metadata": {},
   "outputs": [
    {
     "name": "stdout",
     "output_type": "stream",
     "text": [
      "node_indices: [0 0 0 0 1 1 2 2 3 3 4 4] \n",
      "neighbor_indices: [1 2 3 4 0 2 0 1 0 4 0 3]\n",
      "number of nodes: 5, number of edges: 12\n"
     ]
    }
   ],
   "source": [
    "train_adj_mat, val_adj_mat, test_adj_mat = graph_topology_5(n_hours, K, sigma2, epsilon, len(train_ws_y), len(val_ws_y), len(test_ws_y))"
   ]
  },
  {
   "cell_type": "markdown",
   "id": "8003a2dc",
   "metadata": {},
   "source": [
    "### Model"
   ]
  },
  {
   "cell_type": "markdown",
   "id": "4861afcd",
   "metadata": {},
   "source": [
    "#### Gate & pump predictor"
   ]
  },
  {
   "cell_type": "code",
   "execution_count": 7,
   "id": "cdfb0ee5",
   "metadata": {},
   "outputs": [],
   "source": [
    "# ===== model parameters ======\n",
    "head_size = 96*2\n",
    "num_heads = 3\n",
    "ff_dim = 96\n",
    "num_transformer_blocks = 1\n",
    "dropout = 0.5\n",
    "atte_reg = 1e-2\n",
    "l1_reg = 1e-5\n",
    "l2_reg = 1e-5\n",
    "gcn_unit1 = 32\n",
    "gcn_unit2 = 16\n",
    "lstm_units = 32\n",
    "gate_min = 0.0\n",
    "gate_max = 1.0\n",
    "\n",
    "learning_rate = 3e-3\n",
    "decay_steps = 10000\n",
    "decay_rate = 0.95\n",
    "PATIENCE = 100\n",
    "EPOCHS = 700\n",
    "BATCH = 512"
   ]
  },
  {
   "cell_type": "code",
   "execution_count": 8,
   "id": "9ace5898",
   "metadata": {},
   "outputs": [],
   "source": [
    "input_shape = train_cov.shape[1:]"
   ]
  },
  {
   "cell_type": "code",
   "execution_count": 10,
   "id": "109abeeb",
   "metadata": {
    "scrolled": false
   },
   "outputs": [
    {
     "name": "stderr",
     "output_type": "stream",
     "text": [
      "2023-08-12 11:42:07.907499: I tensorflow/core/common_runtime/gpu/gpu_device.cc:1639] Created device /job:localhost/replica:0/task:0/device:GPU:0 with 10402 MB memory:  -> device: 0, name: NVIDIA GeForce GTX 1080 Ti, pci bus id: 0000:04:00.0, compute capability: 6.1\n"
     ]
    },
    {
     "name": "stdout",
     "output_type": "stream",
     "text": [
      "WARNING:tensorflow:Layer LSTM will not use cuDNN kernels since it doesn't meet the criteria. It will use a generic GPU kernel as fallback when running on GPU.\n"
     ]
    }
   ],
   "source": [
    "gate_predictor, GCNConv = graph_water_transformer_cov_gate_predictor_no_cnn(input_shape=input_shape,\n",
    "                                                                           gcn1=gcn_unit1,\n",
    "                                                                           gcn2=gcn_unit2,\n",
    "                                                                           lstm_unit=lstm_units, \n",
    "                                                                           num_transformer_blocks=num_transformer_blocks,\n",
    "                                                                           head_size=head_size,\n",
    "                                                                           num_heads=num_heads,\n",
    "                                                                           ff_dim=ff_dim, \n",
    "                                                                           atte_reg=atte_reg, \n",
    "                                                                           l1_reg=l1_reg, \n",
    "                                                                           l2_reg=l2_reg, \n",
    "                                                                           dropout=dropout,\n",
    "                                                                           masked_value=masked_value,\n",
    "                                                                           gate_min=gate_min,\n",
    "                                                                           gate_max=gate_max\n",
    "                                                                          )\n",
    "gate_predictor._name = \"gate_predictor\"\n",
    "# gate_predictor.summary()"
   ]
  },
  {
   "cell_type": "code",
   "execution_count": 11,
   "id": "7023c4a6",
   "metadata": {},
   "outputs": [],
   "source": [
    "gate_predictor.compile(optimizer='adam', loss='mse')"
   ]
  },
  {
   "cell_type": "markdown",
   "id": "1fab7c93",
   "metadata": {},
   "source": [
    "#### water stage predictor"
   ]
  },
  {
   "cell_type": "code",
   "execution_count": 12,
   "id": "c8002ff9",
   "metadata": {
    "scrolled": true
   },
   "outputs": [
    {
     "name": "stdout",
     "output_type": "stream",
     "text": [
      "WARNING:tensorflow:Layer LSTM will not use cuDNN kernels since it doesn't meet the criteria. It will use a generic GPU kernel as fallback when running on GPU.\n"
     ]
    }
   ],
   "source": [
    "ws_predictor = load_model('../saved_models/WaLeF_gtn_p.h5', custom_objects={'GCNConv': GCNConv})\n",
    "\n",
    "for layer in ws_predictor.layers:\n",
    "    layer.trainable = False\n",
    "\n",
    "ws_predictor._name = 'ws_predictor'    \n",
    "# ws_predictor.summary()"
   ]
  },
  {
   "cell_type": "markdown",
   "id": "733bce1a",
   "metadata": {},
   "source": [
    "#### Combine gate_predictor and trained ws_predictor"
   ]
  },
  {
   "cell_type": "code",
   "execution_count": 13,
   "id": "850a59ca",
   "metadata": {
    "scrolled": false
   },
   "outputs": [],
   "source": [
    "inputs_cov = Input(shape=(96, 12), name='input_cov')\n",
    "inputs_tws = Input(shape=(5, 72), name='input_tws')\n",
    "inputs_adj = Input(shape=(5, 5), name='input_adj')\n",
    "\n",
    "# ================ gate_predictor ================\n",
    "gate_predictor_output = gate_predictor([inputs_cov, inputs_tws, inputs_adj])  # 24*7\n",
    "\n",
    "\n",
    "# ============  future inputs with replaced gate & pump prediction ============\n",
    "replaced_future_gate_pump = layers.Concatenate(axis=-1)([inputs_cov[:, n_hours:, :2], \n",
    "                                                         gate_predictor_output, \n",
    "                                                         inputs_cov[:, n_hours:, 9:]\n",
    "                                                        ]\n",
    "                                                       )\n",
    "\n",
    "# ============ original past inputs + future inputs with replaced gate & pump prediction ============\n",
    "merged_inputs_cov = layers.Concatenate(axis=1)([inputs_cov[:, :n_hours, :], replaced_future_gate_pump])\n",
    "\n",
    "ws_predictor_output = ws_predictor([merged_inputs_cov, inputs_tws, inputs_adj])\n",
    "\n",
    "filda = Model(inputs=[inputs_cov, inputs_tws, inputs_adj], outputs=[gate_predictor_output, ws_predictor_output], name='filda')\n",
    "# filda.summary()"
   ]
  },
  {
   "cell_type": "code",
   "execution_count": 14,
   "id": "cf907f2c",
   "metadata": {
    "scrolled": true
   },
   "outputs": [
    {
     "name": "stdout",
     "output_type": "stream",
     "text": [
      "Epoch 1/700\n"
     ]
    },
    {
     "name": "stderr",
     "output_type": "stream",
     "text": [
      "2023-08-12 11:42:30.841370: I tensorflow/compiler/xla/stream_executor/cuda/cuda_dnn.cc:432] Loaded cuDNN version 8600\n",
      "2023-08-12 11:42:32.168216: I tensorflow/compiler/xla/service/service.cc:168] XLA service 0x7f7342ba3660 initialized for platform CUDA (this does not guarantee that XLA will be used). Devices:\n",
      "2023-08-12 11:42:32.168283: I tensorflow/compiler/xla/service/service.cc:176]   StreamExecutor device (0): NVIDIA GeForce GTX 1080 Ti, Compute Capability 6.1\n",
      "2023-08-12 11:42:32.178077: I tensorflow/compiler/mlir/tensorflow/utils/dump_mlir_util.cc:255] disabling MLIR crash reproducer, set env var `MLIR_CRASH_REPRODUCER_DIRECTORY` to enable.\n",
      "2023-08-12 11:42:32.561440: I ./tensorflow/compiler/jit/device_compiler.h:186] Compiled cluster using XLA!  This line is logged at most once for the lifetime of the process.\n"
     ]
    },
    {
     "name": "stdout",
     "output_type": "stream",
     "text": [
      "\n",
      "Epoch 1: val_ws_predictor_loss improved from inf to 2.73842, saving model to ../saved_models/gtnp_gtnp_13_no_cnn.h5\n",
      "151/151 - 27s - loss: 0.4903 - gate_predictor_loss: 0.0000e+00 - ws_predictor_loss: 0.2343 - val_loss: 5.4776 - val_gate_predictor_loss: 0.0000e+00 - val_ws_predictor_loss: 2.7384 - 27s/epoch - 178ms/step\n",
      "Epoch 2/700\n"
     ]
    },
    {
     "name": "stderr",
     "output_type": "stream",
     "text": [
      "/aul/homes/jshi008/miniconda3/envs/tf213/lib/python3.10/site-packages/keras/src/engine/training.py:3000: UserWarning: You are saving your model as an HDF5 file via `model.save()`. This file format is considered legacy. We recommend using instead the native Keras format, e.g. `model.save('my_model.keras')`.\n",
      "  saving_api.save_model(\n"
     ]
    },
    {
     "name": "stdout",
     "output_type": "stream",
     "text": [
      "\n",
      "Epoch 2: val_ws_predictor_loss improved from 2.73842 to 2.59043, saving model to ../saved_models/gtnp_gtnp_13_no_cnn.h5\n",
      "151/151 - 13s - loss: 0.4501 - gate_predictor_loss: 0.0000e+00 - ws_predictor_loss: 0.2249 - val_loss: 5.1809 - val_gate_predictor_loss: 0.0000e+00 - val_ws_predictor_loss: 2.5904 - 13s/epoch - 84ms/step\n",
      "Epoch 3/700\n",
      "\n",
      "Epoch 3: val_ws_predictor_loss did not improve from 2.59043\n",
      "151/151 - 12s - loss: 0.4406 - gate_predictor_loss: 0.0000e+00 - ws_predictor_loss: 0.2203 - val_loss: 5.2862 - val_gate_predictor_loss: 0.0000e+00 - val_ws_predictor_loss: 2.6431 - 12s/epoch - 83ms/step\n",
      "Epoch 4/700\n",
      "\n",
      "Epoch 4: val_ws_predictor_loss improved from 2.59043 to 2.50914, saving model to ../saved_models/gtnp_gtnp_13_no_cnn.h5\n",
      "151/151 - 13s - loss: 0.4349 - gate_predictor_loss: 0.0000e+00 - ws_predictor_loss: 0.2174 - val_loss: 5.0183 - val_gate_predictor_loss: 0.0000e+00 - val_ws_predictor_loss: 2.5091 - 13s/epoch - 84ms/step\n",
      "Epoch 5/700\n",
      "\n",
      "Epoch 5: val_ws_predictor_loss improved from 2.50914 to 2.38664, saving model to ../saved_models/gtnp_gtnp_13_no_cnn.h5\n",
      "151/151 - 13s - loss: 0.4281 - gate_predictor_loss: 0.0000e+00 - ws_predictor_loss: 0.2140 - val_loss: 4.7733 - val_gate_predictor_loss: 0.0000e+00 - val_ws_predictor_loss: 2.3866 - 13s/epoch - 84ms/step\n",
      "Epoch 6/700\n",
      "\n",
      "Epoch 6: val_ws_predictor_loss improved from 2.38664 to 2.34147, saving model to ../saved_models/gtnp_gtnp_13_no_cnn.h5\n",
      "151/151 - 13s - loss: 0.4237 - gate_predictor_loss: 0.0000e+00 - ws_predictor_loss: 0.2118 - val_loss: 4.6831 - val_gate_predictor_loss: 0.0000e+00 - val_ws_predictor_loss: 2.3415 - 13s/epoch - 84ms/step\n",
      "Epoch 7/700\n",
      "\n",
      "Epoch 7: val_ws_predictor_loss improved from 2.34147 to 2.26090, saving model to ../saved_models/gtnp_gtnp_13_no_cnn.h5\n",
      "151/151 - 13s - loss: 0.4196 - gate_predictor_loss: 0.0000e+00 - ws_predictor_loss: 0.2098 - val_loss: 4.5220 - val_gate_predictor_loss: 0.0000e+00 - val_ws_predictor_loss: 2.2609 - 13s/epoch - 84ms/step\n",
      "Epoch 8/700\n",
      "\n",
      "Epoch 8: val_ws_predictor_loss improved from 2.26090 to 2.12948, saving model to ../saved_models/gtnp_gtnp_13_no_cnn.h5\n",
      "151/151 - 13s - loss: 0.4152 - gate_predictor_loss: 0.0000e+00 - ws_predictor_loss: 0.2075 - val_loss: 4.2590 - val_gate_predictor_loss: 0.0000e+00 - val_ws_predictor_loss: 2.1295 - 13s/epoch - 83ms/step\n",
      "Epoch 9/700\n",
      "\n",
      "Epoch 9: val_ws_predictor_loss improved from 2.12948 to 2.00080, saving model to ../saved_models/gtnp_gtnp_13_no_cnn.h5\n",
      "151/151 - 13s - loss: 0.4093 - gate_predictor_loss: 0.0000e+00 - ws_predictor_loss: 0.2046 - val_loss: 4.0016 - val_gate_predictor_loss: 0.0000e+00 - val_ws_predictor_loss: 2.0008 - 13s/epoch - 84ms/step\n",
      "Epoch 10/700\n",
      "\n",
      "Epoch 10: val_ws_predictor_loss improved from 2.00080 to 1.95401, saving model to ../saved_models/gtnp_gtnp_13_no_cnn.h5\n",
      "151/151 - 13s - loss: 0.4062 - gate_predictor_loss: 0.0000e+00 - ws_predictor_loss: 0.2030 - val_loss: 3.9086 - val_gate_predictor_loss: 0.0000e+00 - val_ws_predictor_loss: 1.9540 - 13s/epoch - 83ms/step\n",
      "Epoch 11/700\n",
      "\n",
      "Epoch 11: val_ws_predictor_loss improved from 1.95401 to 1.79424, saving model to ../saved_models/gtnp_gtnp_13_no_cnn.h5\n",
      "151/151 - 13s - loss: 0.4027 - gate_predictor_loss: 0.0000e+00 - ws_predictor_loss: 0.2013 - val_loss: 3.5888 - val_gate_predictor_loss: 0.0000e+00 - val_ws_predictor_loss: 1.7942 - 13s/epoch - 84ms/step\n",
      "Epoch 12/700\n",
      "\n",
      "Epoch 12: val_ws_predictor_loss improved from 1.79424 to 1.78131, saving model to ../saved_models/gtnp_gtnp_13_no_cnn.h5\n",
      "151/151 - 13s - loss: 0.4008 - gate_predictor_loss: 0.0000e+00 - ws_predictor_loss: 0.2004 - val_loss: 3.5627 - val_gate_predictor_loss: 0.0000e+00 - val_ws_predictor_loss: 1.7813 - 13s/epoch - 83ms/step\n",
      "Epoch 13/700\n",
      "\n",
      "Epoch 13: val_ws_predictor_loss improved from 1.78131 to 1.74763, saving model to ../saved_models/gtnp_gtnp_13_no_cnn.h5\n",
      "151/151 - 13s - loss: 0.3997 - gate_predictor_loss: 0.0000e+00 - ws_predictor_loss: 0.1998 - val_loss: 3.4953 - val_gate_predictor_loss: 0.0000e+00 - val_ws_predictor_loss: 1.7476 - 13s/epoch - 84ms/step\n",
      "Epoch 14/700\n",
      "\n",
      "Epoch 14: val_ws_predictor_loss improved from 1.74763 to 1.73016, saving model to ../saved_models/gtnp_gtnp_13_no_cnn.h5\n",
      "151/151 - 13s - loss: 0.3979 - gate_predictor_loss: 0.0000e+00 - ws_predictor_loss: 0.1989 - val_loss: 3.4603 - val_gate_predictor_loss: 0.0000e+00 - val_ws_predictor_loss: 1.7302 - 13s/epoch - 84ms/step\n",
      "Epoch 15/700\n",
      "\n",
      "Epoch 15: val_ws_predictor_loss did not improve from 1.73016\n",
      "151/151 - 12s - loss: 0.3956 - gate_predictor_loss: 0.0000e+00 - ws_predictor_loss: 0.1978 - val_loss: 3.5447 - val_gate_predictor_loss: 0.0000e+00 - val_ws_predictor_loss: 1.7723 - 12s/epoch - 83ms/step\n",
      "Epoch 16/700\n",
      "\n",
      "Epoch 16: val_ws_predictor_loss did not improve from 1.73016\n",
      "151/151 - 13s - loss: 0.3948 - gate_predictor_loss: 0.0000e+00 - ws_predictor_loss: 0.1974 - val_loss: 3.5184 - val_gate_predictor_loss: 0.0000e+00 - val_ws_predictor_loss: 1.7592 - 13s/epoch - 83ms/step\n",
      "Epoch 17/700\n",
      "\n",
      "Epoch 17: val_ws_predictor_loss did not improve from 1.73016\n",
      "151/151 - 12s - loss: 0.3942 - gate_predictor_loss: 0.0000e+00 - ws_predictor_loss: 0.1971 - val_loss: 3.4757 - val_gate_predictor_loss: 0.0000e+00 - val_ws_predictor_loss: 1.7378 - 12s/epoch - 83ms/step\n",
      "Epoch 18/700\n",
      "\n",
      "Epoch 18: val_ws_predictor_loss improved from 1.73016 to 1.69002, saving model to ../saved_models/gtnp_gtnp_13_no_cnn.h5\n",
      "151/151 - 13s - loss: 0.3935 - gate_predictor_loss: 0.0000e+00 - ws_predictor_loss: 0.1967 - val_loss: 3.3801 - val_gate_predictor_loss: 0.0000e+00 - val_ws_predictor_loss: 1.6900 - 13s/epoch - 84ms/step\n",
      "Epoch 19/700\n",
      "\n",
      "Epoch 19: val_ws_predictor_loss did not improve from 1.69002\n",
      "151/151 - 13s - loss: 0.3929 - gate_predictor_loss: 0.0000e+00 - ws_predictor_loss: 0.1964 - val_loss: 3.4549 - val_gate_predictor_loss: 0.0000e+00 - val_ws_predictor_loss: 1.7274 - 13s/epoch - 83ms/step\n",
      "Epoch 20/700\n",
      "\n",
      "Epoch 20: val_ws_predictor_loss did not improve from 1.69002\n",
      "151/151 - 13s - loss: 0.3925 - gate_predictor_loss: 0.0000e+00 - ws_predictor_loss: 0.1962 - val_loss: 3.4255 - val_gate_predictor_loss: 0.0000e+00 - val_ws_predictor_loss: 1.7128 - 13s/epoch - 83ms/step\n",
      "Epoch 21/700\n",
      "\n",
      "Epoch 21: val_ws_predictor_loss did not improve from 1.69002\n",
      "151/151 - 13s - loss: 0.3919 - gate_predictor_loss: 0.0000e+00 - ws_predictor_loss: 0.1960 - val_loss: 3.4278 - val_gate_predictor_loss: 0.0000e+00 - val_ws_predictor_loss: 1.7139 - 13s/epoch - 83ms/step\n",
      "Epoch 22/700\n",
      "\n",
      "Epoch 22: val_ws_predictor_loss improved from 1.69002 to 1.67752, saving model to ../saved_models/gtnp_gtnp_13_no_cnn.h5\n",
      "151/151 - 13s - loss: 0.3915 - gate_predictor_loss: 0.0000e+00 - ws_predictor_loss: 0.1957 - val_loss: 3.3551 - val_gate_predictor_loss: 0.0000e+00 - val_ws_predictor_loss: 1.6775 - 13s/epoch - 84ms/step\n",
      "Epoch 23/700\n",
      "\n",
      "Epoch 23: val_ws_predictor_loss did not improve from 1.67752\n",
      "151/151 - 12s - loss: 0.3957 - gate_predictor_loss: 0.0000e+00 - ws_predictor_loss: 0.1975 - val_loss: 3.4552 - val_gate_predictor_loss: 0.0000e+00 - val_ws_predictor_loss: 1.7276 - 12s/epoch - 83ms/step\n",
      "Epoch 24/700\n",
      "\n",
      "Epoch 24: val_ws_predictor_loss did not improve from 1.67752\n",
      "151/151 - 12s - loss: 0.3914 - gate_predictor_loss: 0.0000e+00 - ws_predictor_loss: 0.1957 - val_loss: 3.3621 - val_gate_predictor_loss: 0.0000e+00 - val_ws_predictor_loss: 1.6811 - 12s/epoch - 83ms/step\n",
      "Epoch 25/700\n",
      "\n",
      "Epoch 25: val_ws_predictor_loss did not improve from 1.67752\n",
      "151/151 - 13s - loss: 0.3909 - gate_predictor_loss: 0.0000e+00 - ws_predictor_loss: 0.1954 - val_loss: 3.3890 - val_gate_predictor_loss: 0.0000e+00 - val_ws_predictor_loss: 1.6945 - 13s/epoch - 83ms/step\n",
      "Epoch 26/700\n",
      "\n",
      "Epoch 26: val_ws_predictor_loss improved from 1.67752 to 1.64787, saving model to ../saved_models/gtnp_gtnp_13_no_cnn.h5\n",
      "151/151 - 13s - loss: 0.3899 - gate_predictor_loss: 0.0000e+00 - ws_predictor_loss: 0.1949 - val_loss: 3.2958 - val_gate_predictor_loss: 0.0000e+00 - val_ws_predictor_loss: 1.6479 - 13s/epoch - 84ms/step\n",
      "Epoch 27/700\n",
      "\n",
      "Epoch 27: val_ws_predictor_loss did not improve from 1.64787\n",
      "151/151 - 13s - loss: 0.3878 - gate_predictor_loss: 0.0000e+00 - ws_predictor_loss: 0.1939 - val_loss: 3.2973 - val_gate_predictor_loss: 0.0000e+00 - val_ws_predictor_loss: 1.6486 - 13s/epoch - 83ms/step\n",
      "Epoch 28/700\n",
      "\n",
      "Epoch 28: val_ws_predictor_loss improved from 1.64787 to 1.64119, saving model to ../saved_models/gtnp_gtnp_13_no_cnn.h5\n"
     ]
    },
    {
     "name": "stdout",
     "output_type": "stream",
     "text": [
      "151/151 - 13s - loss: 0.3876 - gate_predictor_loss: 0.0000e+00 - ws_predictor_loss: 0.1938 - val_loss: 3.2826 - val_gate_predictor_loss: 0.0000e+00 - val_ws_predictor_loss: 1.6412 - 13s/epoch - 84ms/step\n",
      "Epoch 29/700\n",
      "\n",
      "Epoch 29: val_ws_predictor_loss improved from 1.64119 to 1.64081, saving model to ../saved_models/gtnp_gtnp_13_no_cnn.h5\n",
      "151/151 - 13s - loss: 0.3873 - gate_predictor_loss: 0.0000e+00 - ws_predictor_loss: 0.1936 - val_loss: 3.2817 - val_gate_predictor_loss: 0.0000e+00 - val_ws_predictor_loss: 1.6408 - 13s/epoch - 84ms/step\n",
      "Epoch 30/700\n",
      "\n",
      "Epoch 30: val_ws_predictor_loss improved from 1.64081 to 1.62578, saving model to ../saved_models/gtnp_gtnp_13_no_cnn.h5\n",
      "151/151 - 13s - loss: 0.3872 - gate_predictor_loss: 0.0000e+00 - ws_predictor_loss: 0.1936 - val_loss: 3.2517 - val_gate_predictor_loss: 0.0000e+00 - val_ws_predictor_loss: 1.6258 - 13s/epoch - 84ms/step\n",
      "Epoch 31/700\n",
      "\n",
      "Epoch 31: val_ws_predictor_loss improved from 1.62578 to 1.59722, saving model to ../saved_models/gtnp_gtnp_13_no_cnn.h5\n",
      "151/151 - 13s - loss: 0.3868 - gate_predictor_loss: 0.0000e+00 - ws_predictor_loss: 0.1934 - val_loss: 3.1944 - val_gate_predictor_loss: 0.0000e+00 - val_ws_predictor_loss: 1.5972 - 13s/epoch - 84ms/step\n",
      "Epoch 32/700\n",
      "\n",
      "Epoch 32: val_ws_predictor_loss did not improve from 1.59722\n",
      "151/151 - 13s - loss: 0.3868 - gate_predictor_loss: 0.0000e+00 - ws_predictor_loss: 0.1934 - val_loss: 3.2063 - val_gate_predictor_loss: 0.0000e+00 - val_ws_predictor_loss: 1.6030 - 13s/epoch - 83ms/step\n",
      "Epoch 33/700\n",
      "\n",
      "Epoch 33: val_ws_predictor_loss did not improve from 1.59722\n",
      "151/151 - 12s - loss: 0.3871 - gate_predictor_loss: 0.0000e+00 - ws_predictor_loss: 0.1935 - val_loss: 3.2173 - val_gate_predictor_loss: 0.0000e+00 - val_ws_predictor_loss: 1.6086 - 12s/epoch - 82ms/step\n",
      "Epoch 34/700\n",
      "\n",
      "Epoch 34: val_ws_predictor_loss improved from 1.59722 to 1.59399, saving model to ../saved_models/gtnp_gtnp_13_no_cnn.h5\n",
      "151/151 - 13s - loss: 0.3867 - gate_predictor_loss: 0.0000e+00 - ws_predictor_loss: 0.1933 - val_loss: 3.1880 - val_gate_predictor_loss: 0.0000e+00 - val_ws_predictor_loss: 1.5940 - 13s/epoch - 83ms/step\n",
      "Epoch 35/700\n",
      "\n",
      "Epoch 35: val_ws_predictor_loss did not improve from 1.59399\n",
      "151/151 - 12s - loss: 0.3862 - gate_predictor_loss: 0.0000e+00 - ws_predictor_loss: 0.1931 - val_loss: 3.1953 - val_gate_predictor_loss: 0.0000e+00 - val_ws_predictor_loss: 1.5976 - 12s/epoch - 83ms/step\n",
      "Epoch 36/700\n",
      "\n",
      "Epoch 36: val_ws_predictor_loss did not improve from 1.59399\n",
      "151/151 - 13s - loss: 0.3863 - gate_predictor_loss: 0.0000e+00 - ws_predictor_loss: 0.1931 - val_loss: 3.1899 - val_gate_predictor_loss: 0.0000e+00 - val_ws_predictor_loss: 1.5949 - 13s/epoch - 83ms/step\n",
      "Epoch 37/700\n",
      "\n",
      "Epoch 37: val_ws_predictor_loss improved from 1.59399 to 1.58749, saving model to ../saved_models/gtnp_gtnp_13_no_cnn.h5\n",
      "151/151 - 13s - loss: 0.3861 - gate_predictor_loss: 0.0000e+00 - ws_predictor_loss: 0.1930 - val_loss: 3.1750 - val_gate_predictor_loss: 0.0000e+00 - val_ws_predictor_loss: 1.5875 - 13s/epoch - 83ms/step\n",
      "Epoch 38/700\n",
      "\n",
      "Epoch 38: val_ws_predictor_loss improved from 1.58749 to 1.57519, saving model to ../saved_models/gtnp_gtnp_13_no_cnn.h5\n",
      "151/151 - 13s - loss: 0.3861 - gate_predictor_loss: 0.0000e+00 - ws_predictor_loss: 0.1930 - val_loss: 3.1504 - val_gate_predictor_loss: 0.0000e+00 - val_ws_predictor_loss: 1.5752 - 13s/epoch - 84ms/step\n",
      "Epoch 39/700\n",
      "\n",
      "Epoch 39: val_ws_predictor_loss did not improve from 1.57519\n",
      "151/151 - 12s - loss: 0.3861 - gate_predictor_loss: 0.0000e+00 - ws_predictor_loss: 0.1930 - val_loss: 3.1787 - val_gate_predictor_loss: 0.0000e+00 - val_ws_predictor_loss: 1.5893 - 12s/epoch - 83ms/step\n",
      "Epoch 40/700\n",
      "\n",
      "Epoch 40: val_ws_predictor_loss did not improve from 1.57519\n",
      "151/151 - 12s - loss: 0.3859 - gate_predictor_loss: 0.0000e+00 - ws_predictor_loss: 0.1929 - val_loss: 3.1783 - val_gate_predictor_loss: 0.0000e+00 - val_ws_predictor_loss: 1.5891 - 12s/epoch - 82ms/step\n",
      "Epoch 41/700\n",
      "\n",
      "Epoch 41: val_ws_predictor_loss did not improve from 1.57519\n",
      "151/151 - 12s - loss: 0.3858 - gate_predictor_loss: 0.0000e+00 - ws_predictor_loss: 0.1929 - val_loss: 3.1542 - val_gate_predictor_loss: 0.0000e+00 - val_ws_predictor_loss: 1.5771 - 12s/epoch - 83ms/step\n",
      "Epoch 42/700\n",
      "\n",
      "Epoch 42: val_ws_predictor_loss did not improve from 1.57519\n",
      "151/151 - 12s - loss: 0.3856 - gate_predictor_loss: 0.0000e+00 - ws_predictor_loss: 0.1928 - val_loss: 3.1592 - val_gate_predictor_loss: 0.0000e+00 - val_ws_predictor_loss: 1.5796 - 12s/epoch - 82ms/step\n",
      "Epoch 43/700\n",
      "\n",
      "Epoch 43: val_ws_predictor_loss did not improve from 1.57519\n",
      "151/151 - 12s - loss: 0.3855 - gate_predictor_loss: 0.0000e+00 - ws_predictor_loss: 0.1927 - val_loss: 3.1520 - val_gate_predictor_loss: 0.0000e+00 - val_ws_predictor_loss: 1.5760 - 12s/epoch - 83ms/step\n",
      "Epoch 44/700\n",
      "\n",
      "Epoch 44: val_ws_predictor_loss improved from 1.57519 to 1.57460, saving model to ../saved_models/gtnp_gtnp_13_no_cnn.h5\n",
      "151/151 - 13s - loss: 0.3853 - gate_predictor_loss: 0.0000e+00 - ws_predictor_loss: 0.1927 - val_loss: 3.1493 - val_gate_predictor_loss: 0.0000e+00 - val_ws_predictor_loss: 1.5746 - 13s/epoch - 83ms/step\n",
      "Epoch 45/700\n",
      "\n",
      "Epoch 45: val_ws_predictor_loss improved from 1.57460 to 1.57296, saving model to ../saved_models/gtnp_gtnp_13_no_cnn.h5\n",
      "151/151 - 13s - loss: 0.3853 - gate_predictor_loss: 0.0000e+00 - ws_predictor_loss: 0.1926 - val_loss: 3.1459 - val_gate_predictor_loss: 0.0000e+00 - val_ws_predictor_loss: 1.5730 - 13s/epoch - 83ms/step\n",
      "Epoch 46/700\n",
      "\n",
      "Epoch 46: val_ws_predictor_loss improved from 1.57296 to 1.57086, saving model to ../saved_models/gtnp_gtnp_13_no_cnn.h5\n",
      "151/151 - 13s - loss: 0.3854 - gate_predictor_loss: 0.0000e+00 - ws_predictor_loss: 0.1927 - val_loss: 3.1418 - val_gate_predictor_loss: 0.0000e+00 - val_ws_predictor_loss: 1.5709 - 13s/epoch - 83ms/step\n",
      "Epoch 47/700\n",
      "\n",
      "Epoch 47: val_ws_predictor_loss improved from 1.57086 to 1.56846, saving model to ../saved_models/gtnp_gtnp_13_no_cnn.h5\n",
      "151/151 - 13s - loss: 0.3852 - gate_predictor_loss: 0.0000e+00 - ws_predictor_loss: 0.1926 - val_loss: 3.1369 - val_gate_predictor_loss: 0.0000e+00 - val_ws_predictor_loss: 1.5685 - 13s/epoch - 83ms/step\n",
      "Epoch 48/700\n",
      "\n",
      "Epoch 48: val_ws_predictor_loss did not improve from 1.56846\n",
      "151/151 - 12s - loss: 0.3889 - gate_predictor_loss: 0.0000e+00 - ws_predictor_loss: 0.1941 - val_loss: 3.3924 - val_gate_predictor_loss: 0.0000e+00 - val_ws_predictor_loss: 1.6939 - 12s/epoch - 82ms/step\n",
      "Epoch 49/700\n",
      "\n",
      "Epoch 49: val_ws_predictor_loss did not improve from 1.56846\n",
      "151/151 - 12s - loss: 0.3881 - gate_predictor_loss: 0.0000e+00 - ws_predictor_loss: 0.1938 - val_loss: 3.1490 - val_gate_predictor_loss: 0.0000e+00 - val_ws_predictor_loss: 1.5745 - 12s/epoch - 82ms/step\n",
      "Epoch 50/700\n",
      "\n",
      "Epoch 50: val_ws_predictor_loss did not improve from 1.56846\n",
      "151/151 - 12s - loss: 0.3853 - gate_predictor_loss: 0.0000e+00 - ws_predictor_loss: 0.1926 - val_loss: 3.1400 - val_gate_predictor_loss: 0.0000e+00 - val_ws_predictor_loss: 1.5700 - 12s/epoch - 82ms/step\n",
      "Epoch 51/700\n",
      "\n",
      "Epoch 51: val_ws_predictor_loss did not improve from 1.56846\n",
      "151/151 - 12s - loss: 0.3849 - gate_predictor_loss: 0.0000e+00 - ws_predictor_loss: 0.1924 - val_loss: 3.1373 - val_gate_predictor_loss: 0.0000e+00 - val_ws_predictor_loss: 1.5686 - 12s/epoch - 83ms/step\n",
      "Epoch 52/700\n",
      "\n",
      "Epoch 52: val_ws_predictor_loss did not improve from 1.56846\n",
      "151/151 - 12s - loss: 0.3848 - gate_predictor_loss: 0.0000e+00 - ws_predictor_loss: 0.1924 - val_loss: 3.1580 - val_gate_predictor_loss: 0.0000e+00 - val_ws_predictor_loss: 1.5790 - 12s/epoch - 82ms/step\n",
      "Epoch 53/700\n",
      "\n",
      "Epoch 53: val_ws_predictor_loss did not improve from 1.56846\n",
      "151/151 - 12s - loss: 0.3873 - gate_predictor_loss: 0.0000e+00 - ws_predictor_loss: 0.1934 - val_loss: 3.1512 - val_gate_predictor_loss: 0.0000e+00 - val_ws_predictor_loss: 1.5756 - 12s/epoch - 83ms/step\n",
      "Epoch 54/700\n",
      "\n",
      "Epoch 54: val_ws_predictor_loss did not improve from 1.56846\n",
      "151/151 - 12s - loss: 0.3848 - gate_predictor_loss: 0.0000e+00 - ws_predictor_loss: 0.1924 - val_loss: 3.1491 - val_gate_predictor_loss: 0.0000e+00 - val_ws_predictor_loss: 1.5745 - 12s/epoch - 82ms/step\n",
      "Epoch 55/700\n",
      "\n",
      "Epoch 55: val_ws_predictor_loss did not improve from 1.56846\n",
      "151/151 - 12s - loss: 0.3849 - gate_predictor_loss: 0.0000e+00 - ws_predictor_loss: 0.1924 - val_loss: 3.1603 - val_gate_predictor_loss: 0.0000e+00 - val_ws_predictor_loss: 1.5802 - 12s/epoch - 82ms/step\n"
     ]
    },
    {
     "name": "stdout",
     "output_type": "stream",
     "text": [
      "Epoch 56/700\n",
      "\n",
      "Epoch 56: val_ws_predictor_loss did not improve from 1.56846\n",
      "151/151 - 12s - loss: 0.3844 - gate_predictor_loss: 0.0000e+00 - ws_predictor_loss: 0.1922 - val_loss: 3.1432 - val_gate_predictor_loss: 0.0000e+00 - val_ws_predictor_loss: 1.5716 - 12s/epoch - 82ms/step\n",
      "Epoch 57/700\n",
      "\n",
      "Epoch 57: val_ws_predictor_loss improved from 1.56846 to 1.56696, saving model to ../saved_models/gtnp_gtnp_13_no_cnn.h5\n",
      "151/151 - 13s - loss: 0.3840 - gate_predictor_loss: 0.0000e+00 - ws_predictor_loss: 0.1920 - val_loss: 3.1340 - val_gate_predictor_loss: 0.0000e+00 - val_ws_predictor_loss: 1.5670 - 13s/epoch - 83ms/step\n",
      "Epoch 58/700\n",
      "\n",
      "Epoch 58: val_ws_predictor_loss improved from 1.56696 to 1.56250, saving model to ../saved_models/gtnp_gtnp_13_no_cnn.h5\n",
      "151/151 - 13s - loss: 0.3838 - gate_predictor_loss: 0.0000e+00 - ws_predictor_loss: 0.1919 - val_loss: 3.1250 - val_gate_predictor_loss: 0.0000e+00 - val_ws_predictor_loss: 1.5625 - 13s/epoch - 83ms/step\n",
      "Epoch 59/700\n",
      "\n",
      "Epoch 59: val_ws_predictor_loss did not improve from 1.56250\n",
      "151/151 - 12s - loss: 0.3838 - gate_predictor_loss: 0.0000e+00 - ws_predictor_loss: 0.1919 - val_loss: 3.1257 - val_gate_predictor_loss: 0.0000e+00 - val_ws_predictor_loss: 1.5629 - 12s/epoch - 82ms/step\n",
      "Epoch 60/700\n",
      "\n",
      "Epoch 60: val_ws_predictor_loss did not improve from 1.56250\n",
      "151/151 - 12s - loss: 0.3837 - gate_predictor_loss: 0.0000e+00 - ws_predictor_loss: 0.1918 - val_loss: 3.1457 - val_gate_predictor_loss: 0.0000e+00 - val_ws_predictor_loss: 1.5729 - 12s/epoch - 82ms/step\n",
      "Epoch 61/700\n",
      "\n",
      "Epoch 61: val_ws_predictor_loss did not improve from 1.56250\n",
      "151/151 - 12s - loss: 0.3836 - gate_predictor_loss: 0.0000e+00 - ws_predictor_loss: 0.1918 - val_loss: 3.1309 - val_gate_predictor_loss: 0.0000e+00 - val_ws_predictor_loss: 1.5654 - 12s/epoch - 83ms/step\n",
      "Epoch 62/700\n",
      "\n",
      "Epoch 62: val_ws_predictor_loss did not improve from 1.56250\n",
      "151/151 - 12s - loss: 0.3836 - gate_predictor_loss: 0.0000e+00 - ws_predictor_loss: 0.1918 - val_loss: 3.1365 - val_gate_predictor_loss: 0.0000e+00 - val_ws_predictor_loss: 1.5682 - 12s/epoch - 83ms/step\n",
      "Epoch 63/700\n",
      "\n",
      "Epoch 63: val_ws_predictor_loss did not improve from 1.56250\n",
      "151/151 - 12s - loss: 0.3834 - gate_predictor_loss: 0.0000e+00 - ws_predictor_loss: 0.1917 - val_loss: 3.1372 - val_gate_predictor_loss: 0.0000e+00 - val_ws_predictor_loss: 1.5686 - 12s/epoch - 83ms/step\n",
      "Epoch 64/700\n",
      "\n",
      "Epoch 64: val_ws_predictor_loss did not improve from 1.56250\n",
      "151/151 - 12s - loss: 0.3869 - gate_predictor_loss: 0.0000e+00 - ws_predictor_loss: 0.1931 - val_loss: 3.5045 - val_gate_predictor_loss: 0.0000e+00 - val_ws_predictor_loss: 1.7452 - 12s/epoch - 83ms/step\n",
      "Epoch 65/700\n",
      "\n",
      "Epoch 65: val_ws_predictor_loss improved from 1.56250 to 1.55358, saving model to ../saved_models/gtnp_gtnp_13_no_cnn.h5\n",
      "151/151 - 13s - loss: 0.3892 - gate_predictor_loss: 0.0000e+00 - ws_predictor_loss: 0.1940 - val_loss: 3.1072 - val_gate_predictor_loss: 0.0000e+00 - val_ws_predictor_loss: 1.5536 - 13s/epoch - 83ms/step\n",
      "Epoch 66/700\n",
      "\n",
      "Epoch 66: val_ws_predictor_loss did not improve from 1.55358\n",
      "151/151 - 12s - loss: 0.3841 - gate_predictor_loss: 0.0000e+00 - ws_predictor_loss: 0.1920 - val_loss: 3.1160 - val_gate_predictor_loss: 0.0000e+00 - val_ws_predictor_loss: 1.5580 - 12s/epoch - 82ms/step\n",
      "Epoch 67/700\n",
      "\n",
      "Epoch 67: val_ws_predictor_loss improved from 1.55358 to 1.55010, saving model to ../saved_models/gtnp_gtnp_13_no_cnn.h5\n",
      "151/151 - 13s - loss: 0.3870 - gate_predictor_loss: 0.0000e+00 - ws_predictor_loss: 0.1932 - val_loss: 3.1006 - val_gate_predictor_loss: 0.0000e+00 - val_ws_predictor_loss: 1.5501 - 13s/epoch - 83ms/step\n",
      "Epoch 68/700\n",
      "\n",
      "Epoch 68: val_ws_predictor_loss did not improve from 1.55010\n",
      "151/151 - 12s - loss: 0.3840 - gate_predictor_loss: 0.0000e+00 - ws_predictor_loss: 0.1920 - val_loss: 3.1134 - val_gate_predictor_loss: 0.0000e+00 - val_ws_predictor_loss: 1.5567 - 12s/epoch - 82ms/step\n",
      "Epoch 69/700\n",
      "\n",
      "Epoch 69: val_ws_predictor_loss did not improve from 1.55010\n",
      "151/151 - 12s - loss: 0.3835 - gate_predictor_loss: 0.0000e+00 - ws_predictor_loss: 0.1918 - val_loss: 3.1223 - val_gate_predictor_loss: 0.0000e+00 - val_ws_predictor_loss: 1.5612 - 12s/epoch - 82ms/step\n",
      "Epoch 70/700\n",
      "\n",
      "Epoch 70: val_ws_predictor_loss did not improve from 1.55010\n",
      "151/151 - 12s - loss: 0.3834 - gate_predictor_loss: 0.0000e+00 - ws_predictor_loss: 0.1917 - val_loss: 3.1362 - val_gate_predictor_loss: 0.0000e+00 - val_ws_predictor_loss: 1.5681 - 12s/epoch - 82ms/step\n",
      "Epoch 71/700\n",
      "\n",
      "Epoch 71: val_ws_predictor_loss did not improve from 1.55010\n",
      "151/151 - 12s - loss: 0.3833 - gate_predictor_loss: 0.0000e+00 - ws_predictor_loss: 0.1917 - val_loss: 3.1318 - val_gate_predictor_loss: 0.0000e+00 - val_ws_predictor_loss: 1.5659 - 12s/epoch - 83ms/step\n",
      "Epoch 72/700\n",
      "\n",
      "Epoch 72: val_ws_predictor_loss did not improve from 1.55010\n",
      "151/151 - 12s - loss: 0.3832 - gate_predictor_loss: 0.0000e+00 - ws_predictor_loss: 0.1916 - val_loss: 3.1510 - val_gate_predictor_loss: 0.0000e+00 - val_ws_predictor_loss: 1.5755 - 12s/epoch - 82ms/step\n",
      "Epoch 73/700\n",
      "\n",
      "Epoch 73: val_ws_predictor_loss did not improve from 1.55010\n",
      "151/151 - 12s - loss: 0.3832 - gate_predictor_loss: 0.0000e+00 - ws_predictor_loss: 0.1916 - val_loss: 3.1387 - val_gate_predictor_loss: 0.0000e+00 - val_ws_predictor_loss: 1.5693 - 12s/epoch - 83ms/step\n",
      "Epoch 74/700\n",
      "\n",
      "Epoch 74: val_ws_predictor_loss did not improve from 1.55010\n",
      "151/151 - 12s - loss: 0.3831 - gate_predictor_loss: 0.0000e+00 - ws_predictor_loss: 0.1916 - val_loss: 3.1340 - val_gate_predictor_loss: 0.0000e+00 - val_ws_predictor_loss: 1.5670 - 12s/epoch - 82ms/step\n",
      "Epoch 75/700\n",
      "\n",
      "Epoch 75: val_ws_predictor_loss did not improve from 1.55010\n",
      "151/151 - 12s - loss: 0.3832 - gate_predictor_loss: 0.0000e+00 - ws_predictor_loss: 0.1916 - val_loss: 3.1373 - val_gate_predictor_loss: 0.0000e+00 - val_ws_predictor_loss: 1.5686 - 12s/epoch - 82ms/step\n",
      "Epoch 76/700\n",
      "\n",
      "Epoch 76: val_ws_predictor_loss did not improve from 1.55010\n",
      "151/151 - 12s - loss: 0.3831 - gate_predictor_loss: 0.0000e+00 - ws_predictor_loss: 0.1916 - val_loss: 3.1358 - val_gate_predictor_loss: 0.0000e+00 - val_ws_predictor_loss: 1.5679 - 12s/epoch - 82ms/step\n",
      "Epoch 77/700\n",
      "\n",
      "Epoch 77: val_ws_predictor_loss did not improve from 1.55010\n",
      "151/151 - 12s - loss: 0.3833 - gate_predictor_loss: 0.0000e+00 - ws_predictor_loss: 0.1916 - val_loss: 3.1357 - val_gate_predictor_loss: 0.0000e+00 - val_ws_predictor_loss: 1.5678 - 12s/epoch - 82ms/step\n",
      "Epoch 78/700\n",
      "\n",
      "Epoch 78: val_ws_predictor_loss did not improve from 1.55010\n",
      "151/151 - 12s - loss: 0.3832 - gate_predictor_loss: 0.0000e+00 - ws_predictor_loss: 0.1916 - val_loss: 3.1582 - val_gate_predictor_loss: 0.0000e+00 - val_ws_predictor_loss: 1.5791 - 12s/epoch - 82ms/step\n",
      "Epoch 79/700\n",
      "\n",
      "Epoch 79: val_ws_predictor_loss did not improve from 1.55010\n",
      "151/151 - 12s - loss: 0.3831 - gate_predictor_loss: 0.0000e+00 - ws_predictor_loss: 0.1915 - val_loss: 3.1414 - val_gate_predictor_loss: 0.0000e+00 - val_ws_predictor_loss: 1.5707 - 12s/epoch - 82ms/step\n",
      "Epoch 80/700\n",
      "\n",
      "Epoch 80: val_ws_predictor_loss did not improve from 1.55010\n",
      "151/151 - 12s - loss: 0.3832 - gate_predictor_loss: 0.0000e+00 - ws_predictor_loss: 0.1916 - val_loss: 3.1497 - val_gate_predictor_loss: 0.0000e+00 - val_ws_predictor_loss: 1.5748 - 12s/epoch - 82ms/step\n",
      "Epoch 81/700\n",
      "\n",
      "Epoch 81: val_ws_predictor_loss did not improve from 1.55010\n",
      "151/151 - 12s - loss: 0.3830 - gate_predictor_loss: 0.0000e+00 - ws_predictor_loss: 0.1915 - val_loss: 3.1549 - val_gate_predictor_loss: 0.0000e+00 - val_ws_predictor_loss: 1.5774 - 12s/epoch - 82ms/step\n",
      "Epoch 82/700\n",
      "\n",
      "Epoch 82: val_ws_predictor_loss did not improve from 1.55010\n",
      "151/151 - 12s - loss: 0.3830 - gate_predictor_loss: 0.0000e+00 - ws_predictor_loss: 0.1915 - val_loss: 3.1337 - val_gate_predictor_loss: 0.0000e+00 - val_ws_predictor_loss: 1.5668 - 12s/epoch - 82ms/step\n",
      "Epoch 83/700\n",
      "\n",
      "Epoch 83: val_ws_predictor_loss did not improve from 1.55010\n",
      "151/151 - 12s - loss: 0.3830 - gate_predictor_loss: 0.0000e+00 - ws_predictor_loss: 0.1915 - val_loss: 3.1380 - val_gate_predictor_loss: 0.0000e+00 - val_ws_predictor_loss: 1.5690 - 12s/epoch - 82ms/step\n",
      "Epoch 84/700\n",
      "\n",
      "Epoch 84: val_ws_predictor_loss did not improve from 1.55010\n",
      "151/151 - 12s - loss: 0.3932 - gate_predictor_loss: 0.0000e+00 - ws_predictor_loss: 0.1956 - val_loss: 3.1152 - val_gate_predictor_loss: 0.0000e+00 - val_ws_predictor_loss: 1.5575 - 12s/epoch - 82ms/step\n"
     ]
    },
    {
     "name": "stdout",
     "output_type": "stream",
     "text": [
      "Epoch 85/700\n",
      "\n",
      "Epoch 85: val_ws_predictor_loss did not improve from 1.55010\n",
      "151/151 - 12s - loss: 0.3877 - gate_predictor_loss: 0.0000e+00 - ws_predictor_loss: 0.1934 - val_loss: 3.1221 - val_gate_predictor_loss: 0.0000e+00 - val_ws_predictor_loss: 1.5610 - 12s/epoch - 82ms/step\n",
      "Epoch 86/700\n",
      "\n",
      "Epoch 86: val_ws_predictor_loss did not improve from 1.55010\n",
      "151/151 - 12s - loss: 0.3833 - gate_predictor_loss: 0.0000e+00 - ws_predictor_loss: 0.1916 - val_loss: 3.1262 - val_gate_predictor_loss: 0.0000e+00 - val_ws_predictor_loss: 1.5631 - 12s/epoch - 82ms/step\n",
      "Epoch 87/700\n",
      "\n",
      "Epoch 87: val_ws_predictor_loss did not improve from 1.55010\n",
      "151/151 - 12s - loss: 0.3831 - gate_predictor_loss: 0.0000e+00 - ws_predictor_loss: 0.1915 - val_loss: 3.1370 - val_gate_predictor_loss: 0.0000e+00 - val_ws_predictor_loss: 1.5685 - 12s/epoch - 82ms/step\n",
      "Epoch 88/700\n",
      "\n",
      "Epoch 88: val_ws_predictor_loss did not improve from 1.55010\n",
      "151/151 - 12s - loss: 0.3829 - gate_predictor_loss: 0.0000e+00 - ws_predictor_loss: 0.1914 - val_loss: 3.1351 - val_gate_predictor_loss: 0.0000e+00 - val_ws_predictor_loss: 1.5675 - 12s/epoch - 82ms/step\n",
      "Epoch 89/700\n",
      "\n",
      "Epoch 89: val_ws_predictor_loss did not improve from 1.55010\n",
      "151/151 - 12s - loss: 0.3829 - gate_predictor_loss: 0.0000e+00 - ws_predictor_loss: 0.1915 - val_loss: 3.1283 - val_gate_predictor_loss: 0.0000e+00 - val_ws_predictor_loss: 1.5641 - 12s/epoch - 82ms/step\n",
      "Epoch 90/700\n",
      "\n",
      "Epoch 90: val_ws_predictor_loss did not improve from 1.55010\n",
      "151/151 - 12s - loss: 0.3829 - gate_predictor_loss: 0.0000e+00 - ws_predictor_loss: 0.1914 - val_loss: 3.1536 - val_gate_predictor_loss: 0.0000e+00 - val_ws_predictor_loss: 1.5768 - 12s/epoch - 82ms/step\n",
      "Epoch 91/700\n",
      "\n",
      "Epoch 91: val_ws_predictor_loss did not improve from 1.55010\n",
      "151/151 - 12s - loss: 0.3828 - gate_predictor_loss: 0.0000e+00 - ws_predictor_loss: 0.1914 - val_loss: 3.1592 - val_gate_predictor_loss: 0.0000e+00 - val_ws_predictor_loss: 1.5796 - 12s/epoch - 82ms/step\n",
      "Epoch 92/700\n",
      "\n",
      "Epoch 92: val_ws_predictor_loss did not improve from 1.55010\n",
      "151/151 - 12s - loss: 0.3828 - gate_predictor_loss: 0.0000e+00 - ws_predictor_loss: 0.1914 - val_loss: 3.1466 - val_gate_predictor_loss: 0.0000e+00 - val_ws_predictor_loss: 1.5733 - 12s/epoch - 82ms/step\n",
      "Epoch 93/700\n",
      "\n",
      "Epoch 93: val_ws_predictor_loss did not improve from 1.55010\n",
      "151/151 - 12s - loss: 0.3828 - gate_predictor_loss: 0.0000e+00 - ws_predictor_loss: 0.1914 - val_loss: 3.1373 - val_gate_predictor_loss: 0.0000e+00 - val_ws_predictor_loss: 1.5686 - 12s/epoch - 82ms/step\n",
      "Epoch 94/700\n",
      "\n",
      "Epoch 94: val_ws_predictor_loss did not improve from 1.55010\n",
      "151/151 - 12s - loss: 0.3829 - gate_predictor_loss: 0.0000e+00 - ws_predictor_loss: 0.1914 - val_loss: 3.1486 - val_gate_predictor_loss: 0.0000e+00 - val_ws_predictor_loss: 1.5743 - 12s/epoch - 82ms/step\n",
      "Epoch 95/700\n",
      "\n",
      "Epoch 95: val_ws_predictor_loss did not improve from 1.55010\n",
      "151/151 - 12s - loss: 0.3827 - gate_predictor_loss: 0.0000e+00 - ws_predictor_loss: 0.1913 - val_loss: 3.1477 - val_gate_predictor_loss: 0.0000e+00 - val_ws_predictor_loss: 1.5738 - 12s/epoch - 82ms/step\n",
      "Epoch 96/700\n",
      "\n",
      "Epoch 96: val_ws_predictor_loss did not improve from 1.55010\n",
      "151/151 - 12s - loss: 0.3827 - gate_predictor_loss: 0.0000e+00 - ws_predictor_loss: 0.1914 - val_loss: 3.1560 - val_gate_predictor_loss: 0.0000e+00 - val_ws_predictor_loss: 1.5780 - 12s/epoch - 82ms/step\n",
      "Epoch 97/700\n",
      "\n",
      "Epoch 97: val_ws_predictor_loss did not improve from 1.55010\n",
      "151/151 - 12s - loss: 0.3828 - gate_predictor_loss: 0.0000e+00 - ws_predictor_loss: 0.1914 - val_loss: 3.1497 - val_gate_predictor_loss: 0.0000e+00 - val_ws_predictor_loss: 1.5748 - 12s/epoch - 82ms/step\n",
      "Epoch 98/700\n",
      "\n",
      "Epoch 98: val_ws_predictor_loss did not improve from 1.55010\n",
      "151/151 - 12s - loss: 0.3827 - gate_predictor_loss: 0.0000e+00 - ws_predictor_loss: 0.1913 - val_loss: 3.1621 - val_gate_predictor_loss: 0.0000e+00 - val_ws_predictor_loss: 1.5810 - 12s/epoch - 82ms/step\n",
      "Epoch 99/700\n",
      "\n",
      "Epoch 99: val_ws_predictor_loss did not improve from 1.55010\n",
      "151/151 - 12s - loss: 0.3827 - gate_predictor_loss: 0.0000e+00 - ws_predictor_loss: 0.1913 - val_loss: 3.1498 - val_gate_predictor_loss: 0.0000e+00 - val_ws_predictor_loss: 1.5749 - 12s/epoch - 82ms/step\n",
      "Epoch 100/700\n",
      "\n",
      "Epoch 100: val_ws_predictor_loss did not improve from 1.55010\n",
      "151/151 - 12s - loss: 0.3835 - gate_predictor_loss: 0.0000e+00 - ws_predictor_loss: 0.1916 - val_loss: 3.1411 - val_gate_predictor_loss: 0.0000e+00 - val_ws_predictor_loss: 1.5704 - 12s/epoch - 82ms/step\n",
      "Epoch 101/700\n",
      "\n",
      "Epoch 101: val_ws_predictor_loss did not improve from 1.55010\n",
      "151/151 - 12s - loss: 0.3827 - gate_predictor_loss: 0.0000e+00 - ws_predictor_loss: 0.1913 - val_loss: 3.1548 - val_gate_predictor_loss: 0.0000e+00 - val_ws_predictor_loss: 1.5774 - 12s/epoch - 82ms/step\n",
      "Epoch 102/700\n",
      "\n",
      "Epoch 102: val_ws_predictor_loss did not improve from 1.55010\n",
      "151/151 - 12s - loss: 0.3828 - gate_predictor_loss: 0.0000e+00 - ws_predictor_loss: 0.1914 - val_loss: 3.1565 - val_gate_predictor_loss: 0.0000e+00 - val_ws_predictor_loss: 1.5782 - 12s/epoch - 82ms/step\n",
      "Epoch 103/700\n",
      "\n",
      "Epoch 103: val_ws_predictor_loss did not improve from 1.55010\n",
      "151/151 - 12s - loss: 0.3826 - gate_predictor_loss: 0.0000e+00 - ws_predictor_loss: 0.1913 - val_loss: 3.1575 - val_gate_predictor_loss: 0.0000e+00 - val_ws_predictor_loss: 1.5788 - 12s/epoch - 82ms/step\n",
      "Epoch 104/700\n",
      "\n",
      "Epoch 104: val_ws_predictor_loss did not improve from 1.55010\n",
      "151/151 - 13s - loss: 0.3826 - gate_predictor_loss: 0.0000e+00 - ws_predictor_loss: 0.1913 - val_loss: 3.1673 - val_gate_predictor_loss: 0.0000e+00 - val_ws_predictor_loss: 1.5837 - 13s/epoch - 83ms/step\n",
      "Epoch 105/700\n",
      "\n",
      "Epoch 105: val_ws_predictor_loss did not improve from 1.55010\n",
      "151/151 - 13s - loss: 0.3826 - gate_predictor_loss: 0.0000e+00 - ws_predictor_loss: 0.1913 - val_loss: 3.1519 - val_gate_predictor_loss: 0.0000e+00 - val_ws_predictor_loss: 1.5759 - 13s/epoch - 83ms/step\n",
      "Epoch 106/700\n",
      "\n",
      "Epoch 106: val_ws_predictor_loss did not improve from 1.55010\n",
      "151/151 - 12s - loss: 0.3825 - gate_predictor_loss: 0.0000e+00 - ws_predictor_loss: 0.1913 - val_loss: 3.1478 - val_gate_predictor_loss: 0.0000e+00 - val_ws_predictor_loss: 1.5739 - 12s/epoch - 82ms/step\n",
      "Epoch 107/700\n",
      "\n",
      "Epoch 107: val_ws_predictor_loss did not improve from 1.55010\n",
      "151/151 - 13s - loss: 0.3825 - gate_predictor_loss: 0.0000e+00 - ws_predictor_loss: 0.1913 - val_loss: 3.1511 - val_gate_predictor_loss: 0.0000e+00 - val_ws_predictor_loss: 1.5755 - 13s/epoch - 83ms/step\n",
      "Epoch 108/700\n",
      "\n",
      "Epoch 108: val_ws_predictor_loss did not improve from 1.55010\n",
      "151/151 - 13s - loss: 0.3826 - gate_predictor_loss: 0.0000e+00 - ws_predictor_loss: 0.1913 - val_loss: 3.1135 - val_gate_predictor_loss: 0.0000e+00 - val_ws_predictor_loss: 1.5561 - 13s/epoch - 83ms/step\n",
      "Epoch 109/700\n",
      "\n",
      "Epoch 109: val_ws_predictor_loss did not improve from 1.55010\n",
      "151/151 - 13s - loss: 0.3918 - gate_predictor_loss: 0.0000e+00 - ws_predictor_loss: 0.1948 - val_loss: 3.1444 - val_gate_predictor_loss: 0.0000e+00 - val_ws_predictor_loss: 1.5722 - 13s/epoch - 83ms/step\n",
      "Epoch 110/700\n",
      "\n",
      "Epoch 110: val_ws_predictor_loss did not improve from 1.55010\n",
      "151/151 - 12s - loss: 0.3830 - gate_predictor_loss: 0.0000e+00 - ws_predictor_loss: 0.1915 - val_loss: 3.1467 - val_gate_predictor_loss: 0.0000e+00 - val_ws_predictor_loss: 1.5733 - 12s/epoch - 83ms/step\n",
      "Epoch 111/700\n",
      "\n",
      "Epoch 111: val_ws_predictor_loss did not improve from 1.55010\n",
      "151/151 - 12s - loss: 0.3825 - gate_predictor_loss: 0.0000e+00 - ws_predictor_loss: 0.1913 - val_loss: 3.1541 - val_gate_predictor_loss: 0.0000e+00 - val_ws_predictor_loss: 1.5771 - 12s/epoch - 83ms/step\n",
      "Epoch 112/700\n",
      "\n",
      "Epoch 112: val_ws_predictor_loss did not improve from 1.55010\n",
      "151/151 - 12s - loss: 0.3827 - gate_predictor_loss: 0.0000e+00 - ws_predictor_loss: 0.1913 - val_loss: 3.1597 - val_gate_predictor_loss: 0.0000e+00 - val_ws_predictor_loss: 1.5798 - 12s/epoch - 82ms/step\n",
      "Epoch 113/700\n",
      "\n",
      "Epoch 113: val_ws_predictor_loss did not improve from 1.55010\n",
      "151/151 - 12s - loss: 0.3825 - gate_predictor_loss: 0.0000e+00 - ws_predictor_loss: 0.1912 - val_loss: 3.1476 - val_gate_predictor_loss: 0.0000e+00 - val_ws_predictor_loss: 1.5738 - 12s/epoch - 82ms/step\n",
      "Epoch 114/700\n",
      "\n",
      "Epoch 114: val_ws_predictor_loss did not improve from 1.55010\n"
     ]
    },
    {
     "name": "stdout",
     "output_type": "stream",
     "text": [
      "151/151 - 12s - loss: 0.3825 - gate_predictor_loss: 0.0000e+00 - ws_predictor_loss: 0.1912 - val_loss: 3.1654 - val_gate_predictor_loss: 0.0000e+00 - val_ws_predictor_loss: 1.5827 - 12s/epoch - 82ms/step\n",
      "Epoch 115/700\n",
      "\n",
      "Epoch 115: val_ws_predictor_loss did not improve from 1.55010\n",
      "151/151 - 12s - loss: 0.3825 - gate_predictor_loss: 0.0000e+00 - ws_predictor_loss: 0.1912 - val_loss: 3.1644 - val_gate_predictor_loss: 0.0000e+00 - val_ws_predictor_loss: 1.5822 - 12s/epoch - 82ms/step\n",
      "Epoch 116/700\n",
      "\n",
      "Epoch 116: val_ws_predictor_loss did not improve from 1.55010\n",
      "151/151 - 12s - loss: 0.3824 - gate_predictor_loss: 0.0000e+00 - ws_predictor_loss: 0.1912 - val_loss: 3.1605 - val_gate_predictor_loss: 0.0000e+00 - val_ws_predictor_loss: 1.5803 - 12s/epoch - 82ms/step\n",
      "Epoch 117/700\n",
      "\n",
      "Epoch 117: val_ws_predictor_loss did not improve from 1.55010\n",
      "151/151 - 13s - loss: 0.3824 - gate_predictor_loss: 0.0000e+00 - ws_predictor_loss: 0.1912 - val_loss: 3.1725 - val_gate_predictor_loss: 0.0000e+00 - val_ws_predictor_loss: 1.5862 - 13s/epoch - 83ms/step\n",
      "Epoch 118/700\n",
      "\n",
      "Epoch 118: val_ws_predictor_loss did not improve from 1.55010\n",
      "151/151 - 12s - loss: 0.3824 - gate_predictor_loss: 0.0000e+00 - ws_predictor_loss: 0.1912 - val_loss: 3.1523 - val_gate_predictor_loss: 0.0000e+00 - val_ws_predictor_loss: 1.5761 - 12s/epoch - 82ms/step\n",
      "Epoch 119/700\n",
      "\n",
      "Epoch 119: val_ws_predictor_loss did not improve from 1.55010\n",
      "151/151 - 12s - loss: 0.3824 - gate_predictor_loss: 0.0000e+00 - ws_predictor_loss: 0.1912 - val_loss: 3.1570 - val_gate_predictor_loss: 0.0000e+00 - val_ws_predictor_loss: 1.5785 - 12s/epoch - 82ms/step\n",
      "Epoch 120/700\n",
      "\n",
      "Epoch 120: val_ws_predictor_loss did not improve from 1.55010\n",
      "151/151 - 12s - loss: 0.3825 - gate_predictor_loss: 0.0000e+00 - ws_predictor_loss: 0.1913 - val_loss: 3.1686 - val_gate_predictor_loss: 0.0000e+00 - val_ws_predictor_loss: 1.5843 - 12s/epoch - 82ms/step\n",
      "Epoch 121/700\n",
      "\n",
      "Epoch 121: val_ws_predictor_loss did not improve from 1.55010\n",
      "151/151 - 12s - loss: 0.3823 - gate_predictor_loss: 0.0000e+00 - ws_predictor_loss: 0.1912 - val_loss: 3.1696 - val_gate_predictor_loss: 0.0000e+00 - val_ws_predictor_loss: 1.5848 - 12s/epoch - 82ms/step\n",
      "Epoch 122/700\n",
      "\n",
      "Epoch 122: val_ws_predictor_loss did not improve from 1.55010\n",
      "151/151 - 12s - loss: 0.3824 - gate_predictor_loss: 0.0000e+00 - ws_predictor_loss: 0.1912 - val_loss: 3.1789 - val_gate_predictor_loss: 0.0000e+00 - val_ws_predictor_loss: 1.5894 - 12s/epoch - 82ms/step\n",
      "Epoch 123/700\n",
      "\n",
      "Epoch 123: val_ws_predictor_loss did not improve from 1.55010\n",
      "151/151 - 12s - loss: 0.3824 - gate_predictor_loss: 0.0000e+00 - ws_predictor_loss: 0.1912 - val_loss: 3.1893 - val_gate_predictor_loss: 0.0000e+00 - val_ws_predictor_loss: 1.5947 - 12s/epoch - 82ms/step\n",
      "Epoch 124/700\n",
      "\n",
      "Epoch 124: val_ws_predictor_loss did not improve from 1.55010\n",
      "151/151 - 12s - loss: 0.3826 - gate_predictor_loss: 0.0000e+00 - ws_predictor_loss: 0.1913 - val_loss: 3.1870 - val_gate_predictor_loss: 0.0000e+00 - val_ws_predictor_loss: 1.5929 - 12s/epoch - 82ms/step\n",
      "Epoch 125/700\n",
      "\n",
      "Epoch 125: val_ws_predictor_loss did not improve from 1.55010\n",
      "151/151 - 12s - loss: 0.3941 - gate_predictor_loss: 0.0000e+00 - ws_predictor_loss: 0.1957 - val_loss: 3.1417 - val_gate_predictor_loss: 0.0000e+00 - val_ws_predictor_loss: 1.5708 - 12s/epoch - 82ms/step\n",
      "Epoch 126/700\n",
      "\n",
      "Epoch 126: val_ws_predictor_loss did not improve from 1.55010\n",
      "151/151 - 12s - loss: 0.3832 - gate_predictor_loss: 0.0000e+00 - ws_predictor_loss: 0.1915 - val_loss: 3.1393 - val_gate_predictor_loss: 0.0000e+00 - val_ws_predictor_loss: 1.5697 - 12s/epoch - 82ms/step\n",
      "Epoch 127/700\n",
      "\n",
      "Epoch 127: val_ws_predictor_loss did not improve from 1.55010\n",
      "151/151 - 12s - loss: 0.3851 - gate_predictor_loss: 0.0000e+00 - ws_predictor_loss: 0.1923 - val_loss: 3.1415 - val_gate_predictor_loss: 0.0000e+00 - val_ws_predictor_loss: 1.5708 - 12s/epoch - 82ms/step\n",
      "Epoch 128/700\n",
      "\n",
      "Epoch 128: val_ws_predictor_loss did not improve from 1.55010\n",
      "151/151 - 12s - loss: 0.3824 - gate_predictor_loss: 0.0000e+00 - ws_predictor_loss: 0.1912 - val_loss: 3.1530 - val_gate_predictor_loss: 0.0000e+00 - val_ws_predictor_loss: 1.5765 - 12s/epoch - 82ms/step\n",
      "Epoch 129/700\n",
      "\n",
      "Epoch 129: val_ws_predictor_loss did not improve from 1.55010\n",
      "151/151 - 12s - loss: 0.3823 - gate_predictor_loss: 0.0000e+00 - ws_predictor_loss: 0.1911 - val_loss: 3.1539 - val_gate_predictor_loss: 0.0000e+00 - val_ws_predictor_loss: 1.5770 - 12s/epoch - 82ms/step\n",
      "Epoch 130/700\n",
      "\n",
      "Epoch 130: val_ws_predictor_loss did not improve from 1.55010\n",
      "151/151 - 12s - loss: 0.3823 - gate_predictor_loss: 0.0000e+00 - ws_predictor_loss: 0.1911 - val_loss: 3.1712 - val_gate_predictor_loss: 0.0000e+00 - val_ws_predictor_loss: 1.5856 - 12s/epoch - 82ms/step\n",
      "Epoch 131/700\n",
      "\n",
      "Epoch 131: val_ws_predictor_loss did not improve from 1.55010\n",
      "151/151 - 12s - loss: 0.3823 - gate_predictor_loss: 0.0000e+00 - ws_predictor_loss: 0.1911 - val_loss: 3.1821 - val_gate_predictor_loss: 0.0000e+00 - val_ws_predictor_loss: 1.5910 - 12s/epoch - 82ms/step\n",
      "Epoch 132/700\n",
      "\n",
      "Epoch 132: val_ws_predictor_loss did not improve from 1.55010\n",
      "151/151 - 12s - loss: 0.3823 - gate_predictor_loss: 0.0000e+00 - ws_predictor_loss: 0.1911 - val_loss: 3.1911 - val_gate_predictor_loss: 0.0000e+00 - val_ws_predictor_loss: 1.5956 - 12s/epoch - 82ms/step\n",
      "Epoch 133/700\n",
      "\n",
      "Epoch 133: val_ws_predictor_loss did not improve from 1.55010\n",
      "151/151 - 12s - loss: 0.3823 - gate_predictor_loss: 0.0000e+00 - ws_predictor_loss: 0.1911 - val_loss: 3.1866 - val_gate_predictor_loss: 0.0000e+00 - val_ws_predictor_loss: 1.5933 - 12s/epoch - 82ms/step\n",
      "Epoch 134/700\n",
      "\n",
      "Epoch 134: val_ws_predictor_loss did not improve from 1.55010\n",
      "151/151 - 12s - loss: 0.3822 - gate_predictor_loss: 0.0000e+00 - ws_predictor_loss: 0.1911 - val_loss: 3.1881 - val_gate_predictor_loss: 0.0000e+00 - val_ws_predictor_loss: 1.5940 - 12s/epoch - 82ms/step\n",
      "Epoch 135/700\n",
      "\n",
      "Epoch 135: val_ws_predictor_loss did not improve from 1.55010\n",
      "151/151 - 12s - loss: 0.3860 - gate_predictor_loss: 0.0000e+00 - ws_predictor_loss: 0.1927 - val_loss: 3.1699 - val_gate_predictor_loss: 0.0000e+00 - val_ws_predictor_loss: 1.5850 - 12s/epoch - 82ms/step\n",
      "Epoch 136/700\n",
      "\n",
      "Epoch 136: val_ws_predictor_loss did not improve from 1.55010\n",
      "151/151 - 12s - loss: 0.3823 - gate_predictor_loss: 0.0000e+00 - ws_predictor_loss: 0.1912 - val_loss: 3.1890 - val_gate_predictor_loss: 0.0000e+00 - val_ws_predictor_loss: 1.5945 - 12s/epoch - 82ms/step\n",
      "Epoch 137/700\n",
      "\n",
      "Epoch 137: val_ws_predictor_loss did not improve from 1.55010\n",
      "151/151 - 12s - loss: 0.3823 - gate_predictor_loss: 0.0000e+00 - ws_predictor_loss: 0.1911 - val_loss: 3.1748 - val_gate_predictor_loss: 0.0000e+00 - val_ws_predictor_loss: 1.5874 - 12s/epoch - 82ms/step\n",
      "Epoch 138/700\n",
      "\n",
      "Epoch 138: val_ws_predictor_loss did not improve from 1.55010\n",
      "151/151 - 12s - loss: 0.3822 - gate_predictor_loss: 0.0000e+00 - ws_predictor_loss: 0.1911 - val_loss: 3.1935 - val_gate_predictor_loss: 0.0000e+00 - val_ws_predictor_loss: 1.5967 - 12s/epoch - 82ms/step\n",
      "Epoch 139/700\n",
      "\n",
      "Epoch 139: val_ws_predictor_loss did not improve from 1.55010\n",
      "151/151 - 13s - loss: 0.3821 - gate_predictor_loss: 0.0000e+00 - ws_predictor_loss: 0.1910 - val_loss: 3.2100 - val_gate_predictor_loss: 0.0000e+00 - val_ws_predictor_loss: 1.6050 - 13s/epoch - 83ms/step\n",
      "Epoch 140/700\n",
      "\n",
      "Epoch 140: val_ws_predictor_loss did not improve from 1.55010\n",
      "151/151 - 12s - loss: 0.3822 - gate_predictor_loss: 0.0000e+00 - ws_predictor_loss: 0.1911 - val_loss: 3.1954 - val_gate_predictor_loss: 0.0000e+00 - val_ws_predictor_loss: 1.5977 - 12s/epoch - 82ms/step\n",
      "Epoch 141/700\n",
      "\n",
      "Epoch 141: val_ws_predictor_loss did not improve from 1.55010\n",
      "151/151 - 12s - loss: 0.3822 - gate_predictor_loss: 0.0000e+00 - ws_predictor_loss: 0.1911 - val_loss: 3.2130 - val_gate_predictor_loss: 0.0000e+00 - val_ws_predictor_loss: 1.6065 - 12s/epoch - 82ms/step\n",
      "Epoch 142/700\n",
      "\n",
      "Epoch 142: val_ws_predictor_loss did not improve from 1.55010\n",
      "151/151 - 12s - loss: 0.3821 - gate_predictor_loss: 0.0000e+00 - ws_predictor_loss: 0.1911 - val_loss: 3.2035 - val_gate_predictor_loss: 0.0000e+00 - val_ws_predictor_loss: 1.6017 - 12s/epoch - 82ms/step\n",
      "Epoch 143/700\n",
      "\n",
      "Epoch 143: val_ws_predictor_loss did not improve from 1.55010\n",
      "151/151 - 12s - loss: 0.3822 - gate_predictor_loss: 0.0000e+00 - ws_predictor_loss: 0.1911 - val_loss: 3.1955 - val_gate_predictor_loss: 0.0000e+00 - val_ws_predictor_loss: 1.5978 - 12s/epoch - 82ms/step\n"
     ]
    },
    {
     "name": "stdout",
     "output_type": "stream",
     "text": [
      "Epoch 144/700\n",
      "\n",
      "Epoch 144: val_ws_predictor_loss did not improve from 1.55010\n",
      "151/151 - 12s - loss: 0.3821 - gate_predictor_loss: 0.0000e+00 - ws_predictor_loss: 0.1910 - val_loss: 3.1976 - val_gate_predictor_loss: 0.0000e+00 - val_ws_predictor_loss: 1.5988 - 12s/epoch - 82ms/step\n",
      "Epoch 145/700\n",
      "\n",
      "Epoch 145: val_ws_predictor_loss did not improve from 1.55010\n",
      "151/151 - 12s - loss: 0.3821 - gate_predictor_loss: 0.0000e+00 - ws_predictor_loss: 0.1911 - val_loss: 3.2130 - val_gate_predictor_loss: 0.0000e+00 - val_ws_predictor_loss: 1.6065 - 12s/epoch - 82ms/step\n",
      "Epoch 146/700\n",
      "\n",
      "Epoch 146: val_ws_predictor_loss did not improve from 1.55010\n",
      "151/151 - 12s - loss: 0.3821 - gate_predictor_loss: 0.0000e+00 - ws_predictor_loss: 0.1911 - val_loss: 3.1972 - val_gate_predictor_loss: 0.0000e+00 - val_ws_predictor_loss: 1.5986 - 12s/epoch - 82ms/step\n",
      "Epoch 147/700\n",
      "\n",
      "Epoch 147: val_ws_predictor_loss did not improve from 1.55010\n",
      "151/151 - 12s - loss: 0.3930 - gate_predictor_loss: 0.0000e+00 - ws_predictor_loss: 0.1951 - val_loss: 3.1325 - val_gate_predictor_loss: 0.0000e+00 - val_ws_predictor_loss: 1.5660 - 12s/epoch - 82ms/step\n",
      "Epoch 148/700\n",
      "\n",
      "Epoch 148: val_ws_predictor_loss did not improve from 1.55010\n",
      "151/151 - 12s - loss: 0.3830 - gate_predictor_loss: 0.0000e+00 - ws_predictor_loss: 0.1915 - val_loss: 3.2016 - val_gate_predictor_loss: 0.0000e+00 - val_ws_predictor_loss: 1.6008 - 12s/epoch - 82ms/step\n",
      "Epoch 149/700\n",
      "\n",
      "Epoch 149: val_ws_predictor_loss did not improve from 1.55010\n",
      "151/151 - 12s - loss: 0.3823 - gate_predictor_loss: 0.0000e+00 - ws_predictor_loss: 0.1911 - val_loss: 3.2215 - val_gate_predictor_loss: 0.0000e+00 - val_ws_predictor_loss: 1.6107 - 12s/epoch - 83ms/step\n",
      "Epoch 150/700\n",
      "\n",
      "Epoch 150: val_ws_predictor_loss did not improve from 1.55010\n",
      "151/151 - 12s - loss: 0.3822 - gate_predictor_loss: 0.0000e+00 - ws_predictor_loss: 0.1911 - val_loss: 3.2312 - val_gate_predictor_loss: 0.0000e+00 - val_ws_predictor_loss: 1.6156 - 12s/epoch - 82ms/step\n",
      "Epoch 151/700\n",
      "\n",
      "Epoch 151: val_ws_predictor_loss did not improve from 1.55010\n",
      "151/151 - 13s - loss: 0.3821 - gate_predictor_loss: 0.0000e+00 - ws_predictor_loss: 0.1911 - val_loss: 3.2339 - val_gate_predictor_loss: 0.0000e+00 - val_ws_predictor_loss: 1.6169 - 13s/epoch - 83ms/step\n",
      "Epoch 152/700\n",
      "\n",
      "Epoch 152: val_ws_predictor_loss did not improve from 1.55010\n",
      "151/151 - 12s - loss: 0.3834 - gate_predictor_loss: 0.0000e+00 - ws_predictor_loss: 0.1915 - val_loss: 3.2310 - val_gate_predictor_loss: 0.0000e+00 - val_ws_predictor_loss: 1.6155 - 12s/epoch - 82ms/step\n",
      "Epoch 153/700\n",
      "\n",
      "Epoch 153: val_ws_predictor_loss did not improve from 1.55010\n",
      "151/151 - 12s - loss: 0.3821 - gate_predictor_loss: 0.0000e+00 - ws_predictor_loss: 0.1910 - val_loss: 3.2390 - val_gate_predictor_loss: 0.0000e+00 - val_ws_predictor_loss: 1.6195 - 12s/epoch - 82ms/step\n",
      "Epoch 154/700\n",
      "\n",
      "Epoch 154: val_ws_predictor_loss did not improve from 1.55010\n",
      "151/151 - 12s - loss: 0.3820 - gate_predictor_loss: 0.0000e+00 - ws_predictor_loss: 0.1910 - val_loss: 3.2395 - val_gate_predictor_loss: 0.0000e+00 - val_ws_predictor_loss: 1.6198 - 12s/epoch - 82ms/step\n",
      "Epoch 155/700\n",
      "\n",
      "Epoch 155: val_ws_predictor_loss did not improve from 1.55010\n",
      "151/151 - 12s - loss: 0.3820 - gate_predictor_loss: 0.0000e+00 - ws_predictor_loss: 0.1910 - val_loss: 3.2596 - val_gate_predictor_loss: 0.0000e+00 - val_ws_predictor_loss: 1.6298 - 12s/epoch - 82ms/step\n",
      "Epoch 156/700\n",
      "\n",
      "Epoch 156: val_ws_predictor_loss did not improve from 1.55010\n",
      "151/151 - 12s - loss: 0.3820 - gate_predictor_loss: 0.0000e+00 - ws_predictor_loss: 0.1910 - val_loss: 3.2496 - val_gate_predictor_loss: 0.0000e+00 - val_ws_predictor_loss: 1.6248 - 12s/epoch - 82ms/step\n",
      "Epoch 157/700\n",
      "\n",
      "Epoch 157: val_ws_predictor_loss did not improve from 1.55010\n",
      "151/151 - 12s - loss: 0.3820 - gate_predictor_loss: 0.0000e+00 - ws_predictor_loss: 0.1910 - val_loss: 3.2736 - val_gate_predictor_loss: 0.0000e+00 - val_ws_predictor_loss: 1.6368 - 12s/epoch - 82ms/step\n",
      "Epoch 158/700\n",
      "\n",
      "Epoch 158: val_ws_predictor_loss did not improve from 1.55010\n",
      "151/151 - 12s - loss: 0.3820 - gate_predictor_loss: 0.0000e+00 - ws_predictor_loss: 0.1910 - val_loss: 3.2645 - val_gate_predictor_loss: 0.0000e+00 - val_ws_predictor_loss: 1.6322 - 12s/epoch - 82ms/step\n",
      "Epoch 159/700\n",
      "\n",
      "Epoch 159: val_ws_predictor_loss did not improve from 1.55010\n",
      "151/151 - 12s - loss: 0.3820 - gate_predictor_loss: 0.0000e+00 - ws_predictor_loss: 0.1910 - val_loss: 3.2860 - val_gate_predictor_loss: 0.0000e+00 - val_ws_predictor_loss: 1.6430 - 12s/epoch - 82ms/step\n",
      "Epoch 160/700\n",
      "\n",
      "Epoch 160: val_ws_predictor_loss did not improve from 1.55010\n",
      "151/151 - 12s - loss: 0.3820 - gate_predictor_loss: 0.0000e+00 - ws_predictor_loss: 0.1910 - val_loss: 3.2408 - val_gate_predictor_loss: 0.0000e+00 - val_ws_predictor_loss: 1.6204 - 12s/epoch - 82ms/step\n",
      "Epoch 161/700\n",
      "\n",
      "Epoch 161: val_ws_predictor_loss did not improve from 1.55010\n",
      "151/151 - 12s - loss: 0.3820 - gate_predictor_loss: 0.0000e+00 - ws_predictor_loss: 0.1910 - val_loss: 3.2573 - val_gate_predictor_loss: 0.0000e+00 - val_ws_predictor_loss: 1.6287 - 12s/epoch - 82ms/step\n",
      "Epoch 162/700\n",
      "\n",
      "Epoch 162: val_ws_predictor_loss did not improve from 1.55010\n",
      "151/151 - 12s - loss: 0.3820 - gate_predictor_loss: 0.0000e+00 - ws_predictor_loss: 0.1910 - val_loss: 3.2836 - val_gate_predictor_loss: 0.0000e+00 - val_ws_predictor_loss: 1.6418 - 12s/epoch - 82ms/step\n",
      "Epoch 163/700\n",
      "\n",
      "Epoch 163: val_ws_predictor_loss did not improve from 1.55010\n",
      "151/151 - 12s - loss: 0.3820 - gate_predictor_loss: 0.0000e+00 - ws_predictor_loss: 0.1910 - val_loss: 3.2780 - val_gate_predictor_loss: 0.0000e+00 - val_ws_predictor_loss: 1.6390 - 12s/epoch - 82ms/step\n",
      "Epoch 164/700\n",
      "\n",
      "Epoch 164: val_ws_predictor_loss did not improve from 1.55010\n",
      "151/151 - 12s - loss: 0.3820 - gate_predictor_loss: 0.0000e+00 - ws_predictor_loss: 0.1910 - val_loss: 3.2732 - val_gate_predictor_loss: 0.0000e+00 - val_ws_predictor_loss: 1.6366 - 12s/epoch - 82ms/step\n",
      "Epoch 165/700\n",
      "\n",
      "Epoch 165: val_ws_predictor_loss did not improve from 1.55010\n",
      "151/151 - 12s - loss: 0.3820 - gate_predictor_loss: 0.0000e+00 - ws_predictor_loss: 0.1910 - val_loss: 3.2837 - val_gate_predictor_loss: 0.0000e+00 - val_ws_predictor_loss: 1.6418 - 12s/epoch - 83ms/step\n",
      "Epoch 166/700\n",
      "\n",
      "Epoch 166: val_ws_predictor_loss did not improve from 1.55010\n",
      "151/151 - 12s - loss: 0.3820 - gate_predictor_loss: 0.0000e+00 - ws_predictor_loss: 0.1910 - val_loss: 3.2830 - val_gate_predictor_loss: 0.0000e+00 - val_ws_predictor_loss: 1.6415 - 12s/epoch - 82ms/step\n",
      "Epoch 167/700\n",
      "\n",
      "Epoch 167: val_ws_predictor_loss did not improve from 1.55010\n",
      "151/151 - 12s - loss: 0.3820 - gate_predictor_loss: 0.0000e+00 - ws_predictor_loss: 0.1910 - val_loss: 3.2840 - val_gate_predictor_loss: 0.0000e+00 - val_ws_predictor_loss: 1.6420 - 12s/epoch - 83ms/step\n",
      "Epoch 167: early stopping\n"
     ]
    },
    {
     "data": {
      "image/png": "[encoded data removed]",
      "text/plain": [
       "<Figure size 800x600 with 1 Axes>"
      ]
     },
     "metadata": {},
     "output_type": "display_data"
    }
   ],
   "source": [
    "lr_schedule = keras.optimizers.schedules.ExponentialDecay(initial_learning_rate=learning_rate, \n",
    "                                                          decay_steps=decay_steps,\n",
    "                                                          decay_rate=decay_rate)\n",
    "\n",
    "filda.compile(optimizer=Adam(learning_rate=lr_schedule),\n",
    "             loss=[gate_loss, water_level_threshold], \n",
    "             loss_weights=[0.0, 2.0]\n",
    "            )\n",
    "\n",
    "\n",
    "es = EarlyStopping(monitor='val_loss', mode='min', verbose=2, patience=100)\n",
    "mc = ModelCheckpoint('../saved_models/gtnp_gtnp_13_no_cnn.h5'.format(n_hours, K),\n",
    "                     monitor='val_ws_predictor_loss',\n",
    "                     mode='min',\n",
    "                     verbose=2, \n",
    "                     custom_objects={'gate_loss':gate_loss, 'water_level_threshold':water_level_threshold}, \n",
    "                     save_best_only=True)\n",
    "\n",
    "\n",
    "history = filda.fit([train_cov, train_tws_reshape, train_adj_mat], [train_gate_pump_y, train_ws_y],\n",
    "                   validation_data=([val_cov, val_tws_reshape, val_adj_mat], [val_gate_pump_y, val_ws_y]),\n",
    "                   batch_size=BATCH, \n",
    "                   epochs=EPOCHS, \n",
    "                   verbose=2, \n",
    "                   callbacks=[es, mc],\n",
    "                   shuffle=True,\n",
    "                  )\n",
    "\n",
    "\n",
    "plt.rcParams[\"figure.figsize\"] = (8, 6)\n",
    "plt.plot(history.history['loss'], label='train')\n",
    "plt.plot(history.history['val_loss'], label='val')\n",
    "plt.xticks(fontsize=14)\n",
    "plt.yticks(fontsize=14)\n",
    "plt.xlabel('Epoch', fontsize=16)\n",
    "plt.ylabel('Loss', fontsize=16)\n",
    "plt.legend(fontsize=14)\n",
    "plt.title(\"Training loss vs Testing loss\", fontsize=18)\n",
    "# plt.savefig('graph/rnn_loss.png', dpi=300)\n",
    "plt.show()"
   ]
  },
  {
   "cell_type": "markdown",
   "id": "274afc23",
   "metadata": {},
   "source": [
    "### Performance"
   ]
  },
  {
   "cell_type": "code",
   "execution_count": 15,
   "id": "c761507a",
   "metadata": {
    "scrolled": true
   },
   "outputs": [
    {
     "name": "stdout",
     "output_type": "stream",
     "text": [
      "WARNING:tensorflow:Layer LSTM will not use cuDNN kernels since it doesn't meet the criteria. It will use a generic GPU kernel as fallback when running on GPU.\n",
      "WARNING:tensorflow:Layer LSTM will not use cuDNN kernels since it doesn't meet the criteria. It will use a generic GPU kernel as fallback when running on GPU.\n"
     ]
    }
   ],
   "source": [
    "saved_model = load_model('../saved_models/gtnp_gtnp_13_no_cnn.h5',\n",
    "                         custom_objects={'gate_loss':gate_loss, \n",
    "                                         'water_level_threshold':water_level_threshold,\n",
    "                                         'GCNConv': GCNConv\n",
    "                                        }\n",
    "                        )"
   ]
  },
  {
   "cell_type": "code",
   "execution_count": 16,
   "id": "437232bc",
   "metadata": {},
   "outputs": [
    {
     "name": "stdout",
     "output_type": "stream",
     "text": [
      "603/603 [==============================] - 5s 6ms/step\n",
      "(19268, 24, 7)\n",
      "(19268, 96)\n"
     ]
    }
   ],
   "source": [
    "gate_pump_pred, ws_pred = saved_model.predict([test_cov, test_tws_reshape, test_adj_mat])\n",
    "\n",
    "print(gate_pump_pred.shape)\n",
    "print(ws_pred.shape)"
   ]
  },
  {
   "cell_type": "markdown",
   "id": "37fd7424",
   "metadata": {},
   "source": [
    "#### ws pred, gate pred"
   ]
  },
  {
   "cell_type": "code",
   "execution_count": 17,
   "id": "73063d86",
   "metadata": {},
   "outputs": [
    {
     "data": {
      "text/plain": [
       "(19268, 24, 4)"
      ]
     },
     "execution_count": 17,
     "metadata": {},
     "output_type": "execute_result"
    }
   ],
   "source": [
    "ws_pred_gate_pred_inv = ws_scaler.inverse_transform(ws_pred)\n",
    "ws_pred_gate_pred_inv = ws_pred_gate_pred_inv.reshape((-1, K, 4))\n",
    "ws_pred_gate_pred_inv.shape"
   ]
  },
  {
   "cell_type": "markdown",
   "id": "181b7677",
   "metadata": {},
   "source": [
    "#### ws true, gate true"
   ]
  },
  {
   "cell_type": "code",
   "execution_count": 18,
   "id": "fc62a508",
   "metadata": {},
   "outputs": [
    {
     "data": {
      "text/plain": [
       "(19268, 24, 4)"
      ]
     },
     "execution_count": 18,
     "metadata": {},
     "output_type": "execute_result"
    }
   ],
   "source": [
    "ws_true_gate_true = test_ws_y\n",
    "ws_true_gate_true_inv = ws_scaler.inverse_transform(ws_true_gate_true)\n",
    "ws_true_gate_true_inv = ws_true_gate_true_inv.reshape((-1, K, 4))\n",
    "ws_true_gate_true_inv.shape"
   ]
  },
  {
   "cell_type": "markdown",
   "id": "ffa81cf7",
   "metadata": {},
   "source": [
    "#### ws pred, gate true"
   ]
  },
  {
   "cell_type": "code",
   "execution_count": 19,
   "id": "bb27e44e",
   "metadata": {},
   "outputs": [
    {
     "name": "stdout",
     "output_type": "stream",
     "text": [
      "WARNING:tensorflow:Layer LSTM will not use cuDNN kernels since it doesn't meet the criteria. It will use a generic GPU kernel as fallback when running on GPU.\n",
      "603/603 [==============================] - 2s 3ms/step\n"
     ]
    },
    {
     "data": {
      "text/plain": [
       "(19268, 24, 4)"
      ]
     },
     "execution_count": 19,
     "metadata": {},
     "output_type": "execute_result"
    }
   ],
   "source": [
    "ws_predictor = load_model('../saved_models/WaLeF_gtn_p.h5', custom_objects={'GCNConv': GCNConv})\n",
    "\n",
    "ws_pred_gate_true = ws_predictor.predict([test_cov, test_tws_reshape, test_adj_mat])\n",
    "ws_pred_gate_true_inv = ws_scaler.inverse_transform(ws_pred_gate_true)\n",
    "ws_pred_gate_true_inv = ws_pred_gate_true_inv.reshape((-1, 24, 4))\n",
    "ws_pred_gate_true_inv.shape"
   ]
  },
  {
   "cell_type": "markdown",
   "id": "ad36fbd5",
   "metadata": {},
   "source": [
    "### Upper threshould"
   ]
  },
  {
   "cell_type": "code",
   "execution_count": 20,
   "id": "056279a8",
   "metadata": {},
   "outputs": [
    {
     "name": "stdout",
     "output_type": "stream",
     "text": [
      "S1, S25A, S25B, S26 time steps: 96, 96, 118, 117\n",
      "S1, S25A, S25B, S26 areas: 14.82, 15.22, 18, 20.13\n",
      "TOTAL time steps: 427; TOTAL areas: 68.61\n",
      "--------------------------------------------------\n",
      "S1, S25A, S25B, S26 time steps: 85, 85, 96, 108\n",
      "S1, S25A, S25B, S26 areas: 11.5466, 12.1773, 13, 17.2181\n",
      "TOTAL time steps: 374; TOTAL areas: 54.3063\n",
      "--------------------------------------------------\n",
      "S1, S25A, S25B, S26 time steps: 37, 28, 61, 88\n",
      "S1, S25A, S25B, S26 areas: 4.3753, 3.3647, 8, 12.6965\n",
      "TOTAL time steps: 214; TOTAL areas: 28.0662\n",
      "--------------------------------------------------\n"
     ]
    }
   ],
   "source": [
    "upper_threshold = 3.5\n",
    "t1 = 1\n",
    "\n",
    "flood_threshold_t1(ws_true_gate_true_inv, t1, upper_threshold)\n",
    "flood_threshold_t1(ws_pred_gate_true_inv, t1, upper_threshold)\n",
    "flood_threshold_t1(ws_pred_gate_pred_inv, t1, upper_threshold)"
   ]
  },
  {
   "cell_type": "code",
   "execution_count": 21,
   "id": "9c7bbcf1",
   "metadata": {},
   "outputs": [
    {
     "name": "stdout",
     "output_type": "stream",
     "text": [
      "S1, S25A, S25B, S26 time steps: 6, 5, 6, 6\n",
      "S1, S25A, S25B, S26 areas: 0.84, 0.72, 1, 1.0\n",
      "TOTAL time steps: 23; TOTAL areas: 3.62\n",
      "--------------------------------------------------\n",
      "S1, S25A, S25B, S26 time steps: 6, 6, 5, 5\n",
      "S1, S25A, S25B, S26 areas: 0.6148, 0.6425, 1, 0.8663\n",
      "TOTAL time steps: 22; TOTAL areas: 3.0018\n",
      "--------------------------------------------------\n",
      "S1, S25A, S25B, S26 time steps: 2, 1, 3, 5\n",
      "S1, S25A, S25B, S26 areas: 0.1308, 0.0716, 0, 0.4375\n",
      "TOTAL time steps: 11; TOTAL areas: 0.9475\n",
      "--------------------------------------------------\n"
     ]
    }
   ],
   "source": [
    "flood_threshold_t1(ws_true_gate_true_inv[7640-23:7680-23], t1, upper_threshold)\n",
    "flood_threshold_t1(ws_pred_gate_true_inv[7640-23:7680-23], t1, upper_threshold)\n",
    "flood_threshold_t1(ws_pred_gate_pred_inv[7640-23:7680-23], t1, upper_threshold)"
   ]
  },
  {
   "cell_type": "code",
   "execution_count": 22,
   "id": "b8b3581c",
   "metadata": {},
   "outputs": [
    {
     "name": "stdout",
     "output_type": "stream",
     "text": [
      "time steps: 10248, areas: 1646.6399002075195\n",
      "time steps: 12130, areas: 2088.0380942821503\n",
      "time steps: 9721, areas: 1621.3607366085052\n"
     ]
    }
   ],
   "source": [
    "flood_threshold(ws_true_gate_true_inv, upper_threshold)\n",
    "flood_threshold(ws_pred_gate_true_inv, upper_threshold)\n",
    "flood_threshold(ws_pred_gate_pred_inv, upper_threshold)"
   ]
  },
  {
   "cell_type": "markdown",
   "id": "5b5e11a6",
   "metadata": {},
   "source": [
    "### Lower threshold"
   ]
  },
  {
   "cell_type": "code",
   "execution_count": 23,
   "id": "e9c7d7f2",
   "metadata": {},
   "outputs": [
    {
     "name": "stdout",
     "output_type": "stream",
     "text": [
      "S1, S25A, S25B, S26 time steps: 1346, 1341, 1229, 1250\n",
      "S1, S25A, S25B, S26 areas: -385.8, -383.38, -345.08, -350.84:\n",
      "TOTAL time steps: 5166; TOTAL areas: -1465.1\n",
      "--------------------------------------------------\n",
      "S1, S25A, S25B, S26 time steps: 1390, 1427, 1282, 1476\n",
      "S1, S25A, S25B, S26 areas: -398.849, -392.0414, -350.2885, -429.5386:\n",
      "TOTAL time steps: 5575; TOTAL areas: -1570.7176\n",
      "--------------------------------------------------\n",
      "S1, S25A, S25B, S26 time steps: 476, 212, 64, 208\n",
      "S1, S25A, S25B, S26 areas: -85.5442, -31.4694, -7.1267, -34.7308:\n",
      "TOTAL time steps: 960; TOTAL areas: -158.8711\n",
      "--------------------------------------------------\n"
     ]
    }
   ],
   "source": [
    "lower_threshold = 0\n",
    "t1 = 1\n",
    "\n",
    "drought_threshold_t1(ws_true_gate_true_inv, t1, lower_threshold)\n",
    "drought_threshold_t1(ws_pred_gate_true_inv, t1, lower_threshold)\n",
    "drought_threshold_t1(ws_pred_gate_pred_inv, t1, lower_threshold)"
   ]
  },
  {
   "cell_type": "code",
   "execution_count": 24,
   "id": "9d114156",
   "metadata": {},
   "outputs": [
    {
     "name": "stdout",
     "output_type": "stream",
     "text": [
      "S1, S25A, S25B, S26 time steps: 0, 0, 0, 0\n",
      "S1, S25A, S25B, S26 areas: 0, 0, 0, 0:\n",
      "TOTAL time steps: 0; TOTAL areas: 0\n",
      "--------------------------------------------------\n",
      "S1, S25A, S25B, S26 time steps: 0, 0, 0, 0\n",
      "S1, S25A, S25B, S26 areas: 0, 0, 0, 0:\n",
      "TOTAL time steps: 0; TOTAL areas: 0\n",
      "--------------------------------------------------\n",
      "S1, S25A, S25B, S26 time steps: 0, 0, 0, 0\n",
      "S1, S25A, S25B, S26 areas: 0, 0, 0, 0:\n",
      "TOTAL time steps: 0; TOTAL areas: 0\n",
      "--------------------------------------------------\n"
     ]
    }
   ],
   "source": [
    "drought_threshold_t1(ws_true_gate_true_inv[7640-23:7680-23], t1, lower_threshold)\n",
    "drought_threshold_t1(ws_pred_gate_true_inv[7640-23:7680-23], t1, lower_threshold)\n",
    "drought_threshold_t1(ws_pred_gate_pred_inv[7640-23:7680-23], t1, lower_threshold)"
   ]
  },
  {
   "cell_type": "code",
   "execution_count": 25,
   "id": "880f11bf",
   "metadata": {},
   "outputs": [
    {
     "name": "stdout",
     "output_type": "stream",
     "text": [
      "time steps: 124148, areas: 35182.6098122485\n",
      "time steps: 127126, areas: 34960.07284716559\n",
      "time steps: 17373, areas: 2880.945818277677\n"
     ]
    }
   ],
   "source": [
    "drought_threshold(ws_true_gate_true_inv, lower_threshold)\n",
    "drought_threshold(ws_pred_gate_true_inv, lower_threshold)\n",
    "drought_threshold(ws_pred_gate_pred_inv, lower_threshold)"
   ]
  },
  {
   "cell_type": "code",
   "execution_count": 26,
   "id": "f2c3007c",
   "metadata": {},
   "outputs": [
    {
     "name": "stdout",
     "output_type": "stream",
     "text": [
      "time steps: 5166, areas: 1465.099992136471\n",
      "time steps: 5575, areas: 1570.7175889443388\n",
      "time steps: 960, areas: 158.8710983694691\n"
     ]
    }
   ],
   "source": [
    "ws_true_gate_true_inv_24 = ws_true_gate_true_inv[:, t1, :]\n",
    "ws_pred_gate_true_inv_24 = ws_pred_gate_true_inv[:, t1, :]\n",
    "ws_pred_gate_pred_inv_24 = ws_pred_gate_pred_inv[:, t1, :]\n",
    "\n",
    "ws_true_gate_true_inv_24 = ws_true_gate_true_inv_24.reshape((-1, 1, 4))\n",
    "ws_pred_gate_true_inv_24 = ws_pred_gate_true_inv_24.reshape((-1, 1, 4))\n",
    "ws_pred_gate_pred_inv_24 = ws_pred_gate_pred_inv_24.reshape((-1, 1, 4))\n",
    "\n",
    "drought_threshold(ws_true_gate_true_inv_24, lower_threshold)\n",
    "drought_threshold(ws_pred_gate_true_inv_24, lower_threshold)\n",
    "drought_threshold(ws_pred_gate_pred_inv_24, lower_threshold)"
   ]
  },
  {
   "cell_type": "code",
   "execution_count": null,
   "id": "89bdb658",
   "metadata": {},
   "outputs": [],
   "source": []
  }
 ],
 "metadata": {
  "kernelspec": {
   "display_name": "Python 3 (ipykernel)",
   "language": "python",
   "name": "python3"
  },
  "language_info": {
   "codemirror_mode": {
    "name": "ipython",
    "version": 3
   },
   "file_extension": ".py",
   "mimetype": "text/x-python",
   "name": "python",
   "nbconvert_exporter": "python",
   "pygments_lexer": "ipython3",
   "version": "3.10.12"
  }
 },
 "nbformat": 4,
 "nbformat_minor": 5
}
