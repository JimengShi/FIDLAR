{
 "cells": [
  {
   "cell_type": "code",
   "execution_count": 1,
   "id": "efa98cb4",
   "metadata": {},
   "outputs": [
    {
     "name": "stderr",
     "output_type": "stream",
     "text": [
      "2023-08-12 12:30:50.996476: I tensorflow/core/platform/cpu_feature_guard.cc:182] This TensorFlow binary is optimized to use available CPU instructions in performance-critical operations.\n",
      "To enable the following instructions: AVX2 FMA, in other operations, rebuild TensorFlow with the appropriate compiler flags.\n",
      "2023-08-12 12:30:52.499595: W tensorflow/compiler/tf2tensorrt/utils/py_utils.cc:38] TF-TRT Warning: Could not find TensorRT\n"
     ]
    },
    {
     "name": "stdout",
     "output_type": "stream",
     "text": [
      "0.5714025946899135\n"
     ]
    }
   ],
   "source": [
    "import sys\n",
    "import os\n",
    "\n",
    "current_directory = os.getcwd()        \n",
    "parent_directory = os.path.dirname(current_directory)\n",
    "sys.path.append(parent_directory)\n",
    "\n",
    "\n",
    "from preprocess.graph import graph_topology_5\n",
    "from preprocess.GraphTransformerPrerocess import graph_water_transformer_cov_process_for_gate_predictor\n",
    "from models.graph_water_transformer_cov_no_gcn import graph_water_transformer_cov_gate_predictor_no_gcn\n",
    "\n",
    "from losses.loss import gate_loss, water_level_threshold\n",
    "from tensorflow.keras.models import load_model\n",
    "from tensorflow import keras\n",
    "from tensorflow.keras import Input, Model\n",
    "from tensorflow.keras import layers\n",
    "from tensorflow.keras.optimizers import Adam\n",
    "from tensorflow.keras.callbacks import EarlyStopping\n",
    "from tensorflow.keras.callbacks import ModelCheckpoint\n",
    "\n",
    "import matplotlib.pyplot as plt\n",
    "import pandas as pd\n",
    "import numpy as np\n",
    "\n",
    "from postprocess.threshold import flood_threshold, drought_threshold, flood_threshold_t1, drought_threshold_t1\n",
    "\n",
    "\n",
    "import random\n",
    "\n",
    "random.seed(10)\n",
    "print(random.random())"
   ]
  },
  {
   "cell_type": "code",
   "execution_count": 2,
   "id": "0092be29",
   "metadata": {},
   "outputs": [],
   "source": [
    "os.environ[\"CUDA_VISIBLE_DEVICES\"] = \"2\""
   ]
  },
  {
   "cell_type": "code",
   "execution_count": 3,
   "id": "04b8077a",
   "metadata": {},
   "outputs": [],
   "source": [
    "n_hours = 72\n",
    "K = 24 \n",
    "masked_value = 1e-10\n",
    "split_1 = 0.8\n",
    "split_2 = 0.9\n",
    "sigma2 = 0.1\n",
    "epsilon = 0.5"
   ]
  },
  {
   "cell_type": "code",
   "execution_count": 4,
   "id": "d43bd0cd",
   "metadata": {},
   "outputs": [
    {
     "name": "stdout",
     "output_type": "stream",
     "text": [
      "Index(['WS_S1', 'WS_S4', 'FLOW_S25A', 'GATE_S25A', 'HWS_S25A', 'TWS_S25A',\n",
      "       'FLOW_S25B', 'GATE_S25B', 'GATE_S25B2', 'HWS_S25B', 'TWS_S25B',\n",
      "       'PUMP_S25B', 'FLOW_S26', 'GATE_S26_1', 'GATE_S26_2', 'HWS_S26',\n",
      "       'TWS_S26', 'PUMP_S26', 'MEAN_RAIN'],\n",
      "      dtype='object')\n",
      "train_tws/val_tws/test_tws: (77069, 5, 72) (9634, 5, 72) (19268, 5, 72) \n",
      " train_cov/val_cov/test_cov: (77069, 96, 12) (9634, 96, 12) (19268, 96, 12) \n",
      " train_ws_y/val_ws_y/test_ws_y: (77069, 96) (9634, 96) (19268, 96) \n",
      "  train_gate_pump_y/val_gate_pump_y/test_gate_pump_y: (77069, 24, 7) (9634, 24, 7) (19268, 24, 7)\n"
     ]
    }
   ],
   "source": [
    "train_cov, val_cov, test_cov, \\\n",
    "train_tws_reshape, val_tws_reshape, test_tws_reshape, \\\n",
    "train_gate_pump_y, val_gate_pump_y, test_gate_pump_y, \\\n",
    "train_ws_y, val_ws_y, test_ws_y, \\\n",
    "scaler, ws_scaler, gate_scalar = graph_water_transformer_cov_process_for_gate_predictor(n_hours, K, masked_value, split_1, split_2)"
   ]
  },
  {
   "cell_type": "markdown",
   "id": "265ed7ff",
   "metadata": {},
   "source": [
    "### Graph topology"
   ]
  },
  {
   "cell_type": "code",
   "execution_count": 5,
   "id": "98e803d1",
   "metadata": {},
   "outputs": [
    {
     "name": "stdout",
     "output_type": "stream",
     "text": [
      "node_indices: [0 0 0 0 1 1 2 2 3 3 4 4] \n",
      "neighbor_indices: [1 2 3 4 0 2 0 1 0 4 0 3]\n",
      "number of nodes: 5, number of edges: 12\n"
     ]
    }
   ],
   "source": [
    "train_adj_mat, val_adj_mat, test_adj_mat = graph_topology_5(n_hours, K, sigma2, epsilon, len(train_ws_y), len(val_ws_y), len(test_ws_y))"
   ]
  },
  {
   "cell_type": "markdown",
   "id": "8003a2dc",
   "metadata": {},
   "source": [
    "### Model"
   ]
  },
  {
   "cell_type": "markdown",
   "id": "4861afcd",
   "metadata": {},
   "source": [
    "#### Gate & pump predictor"
   ]
  },
  {
   "cell_type": "code",
   "execution_count": 6,
   "id": "cdfb0ee5",
   "metadata": {},
   "outputs": [],
   "source": [
    "# ===== model parameters ======\n",
    "head_size = 96*2\n",
    "num_heads = 3\n",
    "ff_dim = 96\n",
    "num_transformer_blocks = 1\n",
    "dropout = 0.5\n",
    "atte_reg = 1e-2\n",
    "l1_reg = 1e-5\n",
    "l2_reg = 1e-5\n",
    "gcn_unit1 = 32\n",
    "gcn_unit2 = 16\n",
    "lstm_units = 32\n",
    "gate_min = 0.0\n",
    "gate_max = 1.0\n",
    "\n",
    "learning_rate = 3e-3\n",
    "decay_steps = 10000\n",
    "decay_rate = 0.95\n",
    "PATIENCE = 100\n",
    "EPOCHS = 700\n",
    "BATCH = 512"
   ]
  },
  {
   "cell_type": "code",
   "execution_count": 7,
   "id": "9ace5898",
   "metadata": {},
   "outputs": [],
   "source": [
    "input_shape = train_cov.shape[1:]"
   ]
  },
  {
   "cell_type": "code",
   "execution_count": 8,
   "id": "109abeeb",
   "metadata": {
    "scrolled": false
   },
   "outputs": [
    {
     "name": "stderr",
     "output_type": "stream",
     "text": [
      "2023-08-12 12:31:02.097666: I tensorflow/core/common_runtime/gpu/gpu_device.cc:1639] Created device /job:localhost/replica:0/task:0/device:GPU:0 with 10402 MB memory:  -> device: 0, name: NVIDIA GeForce GTX 1080 Ti, pci bus id: 0000:08:00.0, compute capability: 6.1\n"
     ]
    },
    {
     "name": "stdout",
     "output_type": "stream",
     "text": [
      "WARNING:tensorflow:Layer LSTM will not use cuDNN kernels since it doesn't meet the criteria. It will use a generic GPU kernel as fallback when running on GPU.\n",
      "Model: \"gate_predictor\"\n",
      "__________________________________________________________________________________________________\n",
      " Layer (type)                Output Shape                 Param #   Connected to                  \n",
      "==================================================================================================\n",
      " cov_inputs (InputLayer)     [(None, 96, 12)]             0         []                            \n",
      "                                                                                                  \n",
      " masking (Masking)           (None, 96, 12)               0         ['cov_inputs[0][0]']          \n",
      "                                                                                                  \n",
      " multi_head_attention (Mult  (None, 96, 12)               29388     ['masking[0][0]',             \n",
      " iHeadAttention)                                                     'masking[0][0]']             \n",
      "                                                                                                  \n",
      " dropout (Dropout)           (None, 96, 12)               0         ['multi_head_attention[0][0]']\n",
      "                                                                                                  \n",
      " tf.__operators__.add (TFOp  (None, 96, 12)               0         ['dropout[0][0]',             \n",
      " Lambda)                                                             'masking[0][0]']             \n",
      "                                                                                                  \n",
      " layer_normalization (Layer  (None, 96, 12)               24        ['tf.__operators__.add[0][0]']\n",
      " Normalization)                                                                                   \n",
      "                                                                                                  \n",
      " conv1d (Conv1D)             (None, 96, 96)               2400      ['layer_normalization[0][0]'] \n",
      "                                                                                                  \n",
      " dropout_1 (Dropout)         (None, 96, 96)               0         ['conv1d[0][0]']              \n",
      "                                                                                                  \n",
      " conv1d_1 (Conv1D)           (None, 96, 12)               2316      ['dropout_1[0][0]']           \n",
      "                                                                                                  \n",
      " layer_normalization_1 (Lay  (None, 96, 12)               24        ['conv1d_1[0][0]']            \n",
      " erNormalization)                                                                                 \n",
      "                                                                                                  \n",
      " inp_seq (InputLayer)        [(None, 5, 72)]              0         []                            \n",
      "                                                                                                  \n",
      " tf.__operators__.add_1 (TF  (None, 96, 12)               0         ['layer_normalization_1[0][0]'\n",
      " OpLambda)                                                          , 'tf.__operators__.add[0][0]'\n",
      "                                                                    ]                             \n",
      "                                                                                                  \n",
      " inp_seq_reshape (Reshape)   (None, 72, 5)                0         ['inp_seq[0][0]']             \n",
      "                                                                                                  \n",
      " dense (Dense)               (None, 96, 32)               416       ['tf.__operators__.add_1[0][0]\n",
      "                                                                    ']                            \n",
      "                                                                                                  \n",
      " LSTM (LSTM)                 (None, 72, 32)               4864      ['inp_seq_reshape[0][0]']     \n",
      "                                                                                                  \n",
      " pooling1 (MaxPooling1D)     (None, 48, 32)               0         ['dense[0][0]']               \n",
      "                                                                                                  \n",
      " pooling2 (MaxPooling1D)     (None, 36, 32)               0         ['LSTM[0][0]']                \n",
      "                                                                                                  \n",
      " concate (Concatenate)       (None, 84, 32)               0         ['pooling1[0][0]',            \n",
      "                                                                     'pooling2[0][0]']            \n",
      "                                                                                                  \n",
      " attention (Attention)       (None, 84, 32)               0         ['concate[0][0]',             \n",
      "                                                                     'concate[0][0]']             \n",
      "                                                                                                  \n",
      " dense_1 (Dense)             (None, 84, 7)                231       ['attention[0][0]']           \n",
      "                                                                                                  \n",
      " flatten (Flatten)           (None, 588)                  0         ['dense_1[0][0]']             \n",
      "                                                                                                  \n",
      " dense_2 (Dense)             (None, 168)                  98952     ['flatten[0][0]']             \n",
      "                                                                                                  \n",
      " reshape (Reshape)           (None, 24, 7)                0         ['dense_2[0][0]']             \n",
      "                                                                                                  \n",
      " tf.math.maximum (TFOpLambd  (None, 24, 7)                0         ['reshape[0][0]']             \n",
      " a)                                                                                               \n",
      "                                                                                                  \n",
      " tf.math.minimum (TFOpLambd  (None, 24, 7)                0         ['tf.math.maximum[0][0]']     \n",
      " a)                                                                                               \n",
      "                                                                                                  \n",
      "==================================================================================================\n",
      "Total params: 138615 (541.46 KB)\n",
      "Trainable params: 138615 (541.46 KB)\n",
      "Non-trainable params: 0 (0.00 Byte)\n",
      "__________________________________________________________________________________________________\n"
     ]
    }
   ],
   "source": [
    "gate_predictor, GCNConv = graph_water_transformer_cov_gate_predictor_no_gcn(input_shape=input_shape,\n",
    "                                                                            lstm_unit=lstm_units, \n",
    "                                                                            num_transformer_blocks=num_transformer_blocks, \n",
    "                                                                            head_size=head_size, \n",
    "                                                                            num_heads=num_heads, \n",
    "                                                                            ff_dim=ff_dim, \n",
    "                                                                            atte_reg=atte_reg, \n",
    "                                                                            l1_reg=l1_reg, \n",
    "                                                                            l2_reg=l2_reg, \n",
    "                                                                            dropout=dropout,\n",
    "                                                                            masked_value=masked_value,\n",
    "                                                                            gate_min=gate_min,\n",
    "                                                                            gate_max=gate_max,\n",
    "                                                                           )\n",
    "gate_predictor._name = \"gate_predictor\"\n",
    "gate_predictor.summary()"
   ]
  },
  {
   "cell_type": "code",
   "execution_count": 9,
   "id": "7023c4a6",
   "metadata": {},
   "outputs": [],
   "source": [
    "gate_predictor.compile(optimizer='adam', loss='mse')"
   ]
  },
  {
   "cell_type": "markdown",
   "id": "1fab7c93",
   "metadata": {},
   "source": [
    "#### water stage predictor"
   ]
  },
  {
   "cell_type": "code",
   "execution_count": 10,
   "id": "c8002ff9",
   "metadata": {
    "scrolled": true
   },
   "outputs": [
    {
     "name": "stdout",
     "output_type": "stream",
     "text": [
      "WARNING:tensorflow:Layer LSTM will not use cuDNN kernels since it doesn't meet the criteria. It will use a generic GPU kernel as fallback when running on GPU.\n"
     ]
    }
   ],
   "source": [
    "ws_predictor = load_model('../saved_models/WaLeF_gtn_p.h5', custom_objects={'GCNConv': GCNConv})\n",
    "\n",
    "for layer in ws_predictor.layers:\n",
    "    layer.trainable = False\n",
    "\n",
    "ws_predictor._name = 'ws_predictor'    \n",
    "# ws_predictor.summary()"
   ]
  },
  {
   "cell_type": "markdown",
   "id": "733bce1a",
   "metadata": {},
   "source": [
    "#### Combine gate_predictor and trained ws_predictor"
   ]
  },
  {
   "cell_type": "code",
   "execution_count": 11,
   "id": "850a59ca",
   "metadata": {
    "scrolled": false
   },
   "outputs": [],
   "source": [
    "inputs_cov = Input(shape=(96, 12), name='input_cov')\n",
    "inputs_tws = Input(shape=(5, 72), name='input_tws')\n",
    "inputs_adj = Input(shape=(5, 5), name='input_adj')\n",
    "\n",
    "# ================ gate_predictor ================\n",
    "gate_predictor_output = gate_predictor([inputs_cov, inputs_tws])  # 24*7\n",
    "\n",
    "\n",
    "# ============  future inputs with replaced gate & pump prediction ============\n",
    "replaced_future_gate_pump = layers.Concatenate(axis=-1)([inputs_cov[:, n_hours:, :2], \n",
    "                                                         gate_predictor_output, \n",
    "                                                         inputs_cov[:, n_hours:, 9:]\n",
    "                                                        ]\n",
    "                                                       )\n",
    "\n",
    "# ============ original past inputs + future inputs with replaced gate & pump prediction ============\n",
    "merged_inputs_cov = layers.Concatenate(axis=1)([inputs_cov[:, :n_hours, :], replaced_future_gate_pump])\n",
    "\n",
    "ws_predictor_output = ws_predictor([merged_inputs_cov, inputs_tws, inputs_adj])\n",
    "\n",
    "filda = Model(inputs=[inputs_cov, inputs_tws, inputs_adj], outputs=[gate_predictor_output, ws_predictor_output], name='filda')\n",
    "# filda.summary()"
   ]
  },
  {
   "cell_type": "code",
   "execution_count": 12,
   "id": "cf907f2c",
   "metadata": {
    "scrolled": true
   },
   "outputs": [
    {
     "name": "stdout",
     "output_type": "stream",
     "text": [
      "Epoch 1/700\n"
     ]
    },
    {
     "name": "stderr",
     "output_type": "stream",
     "text": [
      "2023-08-12 12:31:20.832168: I tensorflow/compiler/xla/stream_executor/cuda/cuda_dnn.cc:432] Loaded cuDNN version 8600\n",
      "2023-08-12 12:31:22.244215: I tensorflow/compiler/xla/service/service.cc:168] XLA service 0x7f2ed6027760 initialized for platform CUDA (this does not guarantee that XLA will be used). Devices:\n",
      "2023-08-12 12:31:22.244264: I tensorflow/compiler/xla/service/service.cc:176]   StreamExecutor device (0): NVIDIA GeForce GTX 1080 Ti, Compute Capability 6.1\n",
      "2023-08-12 12:31:22.253637: I tensorflow/compiler/mlir/tensorflow/utils/dump_mlir_util.cc:255] disabling MLIR crash reproducer, set env var `MLIR_CRASH_REPRODUCER_DIRECTORY` to enable.\n",
      "2023-08-12 12:31:22.669467: I ./tensorflow/compiler/jit/device_compiler.h:186] Compiled cluster using XLA!  This line is logged at most once for the lifetime of the process.\n"
     ]
    },
    {
     "name": "stdout",
     "output_type": "stream",
     "text": [
      "\n",
      "Epoch 1: val_ws_predictor_loss improved from inf to 3.05294, saving model to ../saved_models/gtnp_gtnp_13_no_gcn.h5\n",
      "151/151 - 38s - loss: 0.5016 - gate_predictor_loss: 0.0000e+00 - ws_predictor_loss: 0.2383 - val_loss: 6.1092 - val_gate_predictor_loss: 0.0000e+00 - val_ws_predictor_loss: 3.0529 - 38s/epoch - 253ms/step\n",
      "Epoch 2/700\n"
     ]
    },
    {
     "name": "stderr",
     "output_type": "stream",
     "text": [
      "/aul/homes/jshi008/miniconda3/envs/tf213/lib/python3.10/site-packages/keras/src/engine/training.py:3000: UserWarning: You are saving your model as an HDF5 file via `model.save()`. This file format is considered legacy. We recommend using instead the native Keras format, e.g. `model.save('my_model.keras')`.\n",
      "  saving_api.save_model(\n"
     ]
    },
    {
     "name": "stdout",
     "output_type": "stream",
     "text": [
      "\n",
      "Epoch 2: val_ws_predictor_loss did not improve from 3.05294\n",
      "151/151 - 21s - loss: 0.4791 - gate_predictor_loss: 0.0000e+00 - ws_predictor_loss: 0.2381 - val_loss: 6.4781 - val_gate_predictor_loss: 0.0000e+00 - val_ws_predictor_loss: 3.2379 - 21s/epoch - 141ms/step\n",
      "Epoch 3/700\n",
      "\n",
      "Epoch 3: val_ws_predictor_loss improved from 3.05294 to 1.83432, saving model to ../saved_models/gtnp_gtnp_13_no_gcn.h5\n",
      "151/151 - 21s - loss: 0.4620 - gate_predictor_loss: 0.0000e+00 - ws_predictor_loss: 0.2299 - val_loss: 3.6714 - val_gate_predictor_loss: 0.0000e+00 - val_ws_predictor_loss: 1.8343 - 21s/epoch - 142ms/step\n",
      "Epoch 4/700\n",
      "\n",
      "Epoch 4: val_ws_predictor_loss improved from 1.83432 to 1.60879, saving model to ../saved_models/gtnp_gtnp_13_no_gcn.h5\n",
      "151/151 - 21s - loss: 0.4032 - gate_predictor_loss: 0.0000e+00 - ws_predictor_loss: 0.2004 - val_loss: 3.2197 - val_gate_predictor_loss: 0.0000e+00 - val_ws_predictor_loss: 1.6088 - 21s/epoch - 140ms/step\n",
      "Epoch 5/700\n",
      "\n",
      "Epoch 5: val_ws_predictor_loss improved from 1.60879 to 1.59679, saving model to ../saved_models/gtnp_gtnp_13_no_gcn.h5\n",
      "151/151 - 21s - loss: 0.3968 - gate_predictor_loss: 0.0000e+00 - ws_predictor_loss: 0.1974 - val_loss: 3.1955 - val_gate_predictor_loss: 0.0000e+00 - val_ws_predictor_loss: 1.5968 - 21s/epoch - 140ms/step\n",
      "Epoch 6/700\n",
      "\n",
      "Epoch 6: val_ws_predictor_loss did not improve from 1.59679\n",
      "151/151 - 21s - loss: 0.3935 - gate_predictor_loss: 0.0000e+00 - ws_predictor_loss: 0.1958 - val_loss: 3.2362 - val_gate_predictor_loss: 0.0000e+00 - val_ws_predictor_loss: 1.6172 - 21s/epoch - 140ms/step\n",
      "Epoch 7/700\n",
      "\n",
      "Epoch 7: val_ws_predictor_loss did not improve from 1.59679\n",
      "151/151 - 21s - loss: 0.3940 - gate_predictor_loss: 0.0000e+00 - ws_predictor_loss: 0.1960 - val_loss: 3.3211 - val_gate_predictor_loss: 0.0000e+00 - val_ws_predictor_loss: 1.6565 - 21s/epoch - 139ms/step\n",
      "Epoch 8/700\n",
      "\n",
      "Epoch 8: val_ws_predictor_loss did not improve from 1.59679\n",
      "151/151 - 21s - loss: 0.3928 - gate_predictor_loss: 0.0000e+00 - ws_predictor_loss: 0.1953 - val_loss: 3.2582 - val_gate_predictor_loss: 0.0000e+00 - val_ws_predictor_loss: 1.6283 - 21s/epoch - 139ms/step\n",
      "Epoch 9/700\n",
      "\n",
      "Epoch 9: val_ws_predictor_loss did not improve from 1.59679\n",
      "151/151 - 21s - loss: 0.3896 - gate_predictor_loss: 0.0000e+00 - ws_predictor_loss: 0.1941 - val_loss: 3.2573 - val_gate_predictor_loss: 0.0000e+00 - val_ws_predictor_loss: 1.6279 - 21s/epoch - 140ms/step\n",
      "Epoch 10/700\n",
      "\n",
      "Epoch 10: val_ws_predictor_loss did not improve from 1.59679\n",
      "151/151 - 21s - loss: 0.3885 - gate_predictor_loss: 0.0000e+00 - ws_predictor_loss: 0.1935 - val_loss: 3.2533 - val_gate_predictor_loss: 0.0000e+00 - val_ws_predictor_loss: 1.6260 - 21s/epoch - 139ms/step\n",
      "Epoch 11/700\n",
      "\n",
      "Epoch 11: val_ws_predictor_loss did not improve from 1.59679\n",
      "151/151 - 21s - loss: 0.3880 - gate_predictor_loss: 0.0000e+00 - ws_predictor_loss: 0.1933 - val_loss: 3.2157 - val_gate_predictor_loss: 0.0000e+00 - val_ws_predictor_loss: 1.6072 - 21s/epoch - 142ms/step\n",
      "Epoch 12/700\n",
      "\n",
      "Epoch 12: val_ws_predictor_loss did not improve from 1.59679\n",
      "151/151 - 22s - loss: 0.3872 - gate_predictor_loss: 0.0000e+00 - ws_predictor_loss: 0.1930 - val_loss: 3.3090 - val_gate_predictor_loss: 0.0000e+00 - val_ws_predictor_loss: 1.6539 - 22s/epoch - 143ms/step\n",
      "Epoch 13/700\n",
      "\n",
      "Epoch 13: val_ws_predictor_loss did not improve from 1.59679\n",
      "151/151 - 22s - loss: 0.3866 - gate_predictor_loss: 0.0000e+00 - ws_predictor_loss: 0.1927 - val_loss: 3.2785 - val_gate_predictor_loss: 0.0000e+00 - val_ws_predictor_loss: 1.6386 - 22s/epoch - 143ms/step\n",
      "Epoch 14/700\n",
      "\n",
      "Epoch 14: val_ws_predictor_loss did not improve from 1.59679\n",
      "151/151 - 21s - loss: 0.3861 - gate_predictor_loss: 0.0000e+00 - ws_predictor_loss: 0.1925 - val_loss: 3.3182 - val_gate_predictor_loss: 0.0000e+00 - val_ws_predictor_loss: 1.6586 - 21s/epoch - 141ms/step\n",
      "Epoch 15/700\n",
      "\n",
      "Epoch 15: val_ws_predictor_loss did not improve from 1.59679\n",
      "151/151 - 21s - loss: 0.3857 - gate_predictor_loss: 0.0000e+00 - ws_predictor_loss: 0.1923 - val_loss: 3.4092 - val_gate_predictor_loss: 0.0000e+00 - val_ws_predictor_loss: 1.7041 - 21s/epoch - 140ms/step\n",
      "Epoch 16/700\n",
      "\n",
      "Epoch 16: val_ws_predictor_loss did not improve from 1.59679\n",
      "151/151 - 21s - loss: 0.3910 - gate_predictor_loss: 0.0000e+00 - ws_predictor_loss: 0.1945 - val_loss: 3.4123 - val_gate_predictor_loss: 0.0000e+00 - val_ws_predictor_loss: 1.7051 - 21s/epoch - 142ms/step\n",
      "Epoch 17/700\n",
      "\n",
      "Epoch 17: val_ws_predictor_loss did not improve from 1.59679\n",
      "151/151 - 21s - loss: 0.3867 - gate_predictor_loss: 0.0000e+00 - ws_predictor_loss: 0.1927 - val_loss: 3.4493 - val_gate_predictor_loss: 0.0000e+00 - val_ws_predictor_loss: 1.7242 - 21s/epoch - 141ms/step\n",
      "Epoch 18/700\n",
      "\n",
      "Epoch 18: val_ws_predictor_loss did not improve from 1.59679\n",
      "151/151 - 21s - loss: 0.3851 - gate_predictor_loss: 0.0000e+00 - ws_predictor_loss: 0.1921 - val_loss: 3.3451 - val_gate_predictor_loss: 0.0000e+00 - val_ws_predictor_loss: 1.6720 - 21s/epoch - 141ms/step\n",
      "Epoch 19/700\n",
      "\n",
      "Epoch 19: val_ws_predictor_loss did not improve from 1.59679\n",
      "151/151 - 21s - loss: 0.3845 - gate_predictor_loss: 0.0000e+00 - ws_predictor_loss: 0.1918 - val_loss: 3.4551 - val_gate_predictor_loss: 0.0000e+00 - val_ws_predictor_loss: 1.7271 - 21s/epoch - 140ms/step\n",
      "Epoch 20/700\n",
      "\n",
      "Epoch 20: val_ws_predictor_loss did not improve from 1.59679\n",
      "151/151 - 21s - loss: 0.3872 - gate_predictor_loss: 0.0000e+00 - ws_predictor_loss: 0.1930 - val_loss: 3.4349 - val_gate_predictor_loss: 0.0000e+00 - val_ws_predictor_loss: 1.7157 - 21s/epoch - 141ms/step\n",
      "Epoch 21/700\n",
      "\n",
      "Epoch 21: val_ws_predictor_loss did not improve from 1.59679\n",
      "151/151 - 21s - loss: 0.3859 - gate_predictor_loss: 0.0000e+00 - ws_predictor_loss: 0.1923 - val_loss: 3.4750 - val_gate_predictor_loss: 0.0000e+00 - val_ws_predictor_loss: 1.7370 - 21s/epoch - 141ms/step\n",
      "Epoch 22/700\n",
      "\n",
      "Epoch 22: val_ws_predictor_loss did not improve from 1.59679\n",
      "151/151 - 21s - loss: 0.3839 - gate_predictor_loss: 0.0000e+00 - ws_predictor_loss: 0.1915 - val_loss: 3.3997 - val_gate_predictor_loss: 0.0000e+00 - val_ws_predictor_loss: 1.6994 - 21s/epoch - 141ms/step\n",
      "Epoch 23/700\n",
      "\n",
      "Epoch 23: val_ws_predictor_loss did not improve from 1.59679\n",
      "151/151 - 21s - loss: 0.3836 - gate_predictor_loss: 0.0000e+00 - ws_predictor_loss: 0.1914 - val_loss: 3.5079 - val_gate_predictor_loss: 0.0000e+00 - val_ws_predictor_loss: 1.7536 - 21s/epoch - 140ms/step\n",
      "Epoch 24/700\n",
      "\n",
      "Epoch 24: val_ws_predictor_loss did not improve from 1.59679\n",
      "151/151 - 21s - loss: 0.3833 - gate_predictor_loss: 0.0000e+00 - ws_predictor_loss: 0.1912 - val_loss: 3.4212 - val_gate_predictor_loss: 0.0000e+00 - val_ws_predictor_loss: 1.7102 - 21s/epoch - 142ms/step\n",
      "Epoch 25/700\n",
      "\n",
      "Epoch 25: val_ws_predictor_loss did not improve from 1.59679\n",
      "151/151 - 21s - loss: 0.3863 - gate_predictor_loss: 0.0000e+00 - ws_predictor_loss: 0.1926 - val_loss: 3.4221 - val_gate_predictor_loss: 0.0000e+00 - val_ws_predictor_loss: 1.7104 - 21s/epoch - 142ms/step\n",
      "Epoch 26/700\n",
      "\n",
      "Epoch 26: val_ws_predictor_loss did not improve from 1.59679\n",
      "151/151 - 21s - loss: 0.3843 - gate_predictor_loss: 0.0000e+00 - ws_predictor_loss: 0.1917 - val_loss: 3.5058 - val_gate_predictor_loss: 0.0000e+00 - val_ws_predictor_loss: 1.7524 - 21s/epoch - 141ms/step\n",
      "Epoch 27/700\n",
      "\n",
      "Epoch 27: val_ws_predictor_loss did not improve from 1.59679\n",
      "151/151 - 21s - loss: 0.3831 - gate_predictor_loss: 0.0000e+00 - ws_predictor_loss: 0.1912 - val_loss: 3.4551 - val_gate_predictor_loss: 0.0000e+00 - val_ws_predictor_loss: 1.7272 - 21s/epoch - 141ms/step\n",
      "Epoch 28/700\n",
      "\n",
      "Epoch 28: val_ws_predictor_loss did not improve from 1.59679\n",
      "151/151 - 21s - loss: 0.3829 - gate_predictor_loss: 0.0000e+00 - ws_predictor_loss: 0.1911 - val_loss: 3.4670 - val_gate_predictor_loss: 0.0000e+00 - val_ws_predictor_loss: 1.7331 - 21s/epoch - 141ms/step\n",
      "Epoch 29/700\n",
      "\n",
      "Epoch 29: val_ws_predictor_loss did not improve from 1.59679\n",
      "151/151 - 21s - loss: 0.3829 - gate_predictor_loss: 0.0000e+00 - ws_predictor_loss: 0.1911 - val_loss: 3.4596 - val_gate_predictor_loss: 0.0000e+00 - val_ws_predictor_loss: 1.7295 - 21s/epoch - 141ms/step\n",
      "Epoch 30/700\n",
      "\n",
      "Epoch 30: val_ws_predictor_loss did not improve from 1.59679\n",
      "151/151 - 21s - loss: 0.3879 - gate_predictor_loss: 0.0000e+00 - ws_predictor_loss: 0.1932 - val_loss: 3.4699 - val_gate_predictor_loss: 0.0000e+00 - val_ws_predictor_loss: 1.7344 - 21s/epoch - 139ms/step\n"
     ]
    },
    {
     "name": "stdout",
     "output_type": "stream",
     "text": [
      "Epoch 31/700\n",
      "\n",
      "Epoch 31: val_ws_predictor_loss did not improve from 1.59679\n",
      "151/151 - 21s - loss: 0.3836 - gate_predictor_loss: 0.0000e+00 - ws_predictor_loss: 0.1914 - val_loss: 3.5488 - val_gate_predictor_loss: 0.0000e+00 - val_ws_predictor_loss: 1.7740 - 21s/epoch - 142ms/step\n",
      "Epoch 32/700\n",
      "\n",
      "Epoch 32: val_ws_predictor_loss did not improve from 1.59679\n",
      "151/151 - 21s - loss: 0.3828 - gate_predictor_loss: 0.0000e+00 - ws_predictor_loss: 0.1910 - val_loss: 3.4680 - val_gate_predictor_loss: 0.0000e+00 - val_ws_predictor_loss: 1.7336 - 21s/epoch - 140ms/step\n",
      "Epoch 33/700\n",
      "\n",
      "Epoch 33: val_ws_predictor_loss did not improve from 1.59679\n",
      "151/151 - 21s - loss: 0.3827 - gate_predictor_loss: 0.0000e+00 - ws_predictor_loss: 0.1910 - val_loss: 3.5211 - val_gate_predictor_loss: 0.0000e+00 - val_ws_predictor_loss: 1.7602 - 21s/epoch - 140ms/step\n",
      "Epoch 34/700\n",
      "\n",
      "Epoch 34: val_ws_predictor_loss did not improve from 1.59679\n",
      "151/151 - 21s - loss: 0.3825 - gate_predictor_loss: 0.0000e+00 - ws_predictor_loss: 0.1909 - val_loss: 3.4962 - val_gate_predictor_loss: 0.0000e+00 - val_ws_predictor_loss: 1.7478 - 21s/epoch - 139ms/step\n",
      "Epoch 35/700\n",
      "\n",
      "Epoch 35: val_ws_predictor_loss did not improve from 1.59679\n",
      "151/151 - 21s - loss: 0.3826 - gate_predictor_loss: 0.0000e+00 - ws_predictor_loss: 0.1909 - val_loss: 3.5166 - val_gate_predictor_loss: 0.0000e+00 - val_ws_predictor_loss: 1.7580 - 21s/epoch - 141ms/step\n",
      "Epoch 36/700\n",
      "\n",
      "Epoch 36: val_ws_predictor_loss did not improve from 1.59679\n",
      "151/151 - 21s - loss: 0.3917 - gate_predictor_loss: 0.0000e+00 - ws_predictor_loss: 0.1948 - val_loss: 3.6259 - val_gate_predictor_loss: 0.0000e+00 - val_ws_predictor_loss: 1.8104 - 21s/epoch - 141ms/step\n",
      "Epoch 37/700\n",
      "\n",
      "Epoch 37: val_ws_predictor_loss did not improve from 1.59679\n",
      "151/151 - 21s - loss: 0.3906 - gate_predictor_loss: 0.0000e+00 - ws_predictor_loss: 0.1942 - val_loss: 3.4041 - val_gate_predictor_loss: 0.0000e+00 - val_ws_predictor_loss: 1.7015 - 21s/epoch - 141ms/step\n",
      "Epoch 38/700\n",
      "\n",
      "Epoch 38: val_ws_predictor_loss did not improve from 1.59679\n",
      "151/151 - 21s - loss: 0.3846 - gate_predictor_loss: 0.0000e+00 - ws_predictor_loss: 0.1919 - val_loss: 3.3853 - val_gate_predictor_loss: 0.0000e+00 - val_ws_predictor_loss: 1.6922 - 21s/epoch - 141ms/step\n",
      "Epoch 39/700\n",
      "\n",
      "Epoch 39: val_ws_predictor_loss did not improve from 1.59679\n",
      "151/151 - 21s - loss: 0.3834 - gate_predictor_loss: 0.0000e+00 - ws_predictor_loss: 0.1913 - val_loss: 3.4137 - val_gate_predictor_loss: 0.0000e+00 - val_ws_predictor_loss: 1.7065 - 21s/epoch - 140ms/step\n",
      "Epoch 40/700\n",
      "\n",
      "Epoch 40: val_ws_predictor_loss did not improve from 1.59679\n",
      "151/151 - 21s - loss: 0.3830 - gate_predictor_loss: 0.0000e+00 - ws_predictor_loss: 0.1911 - val_loss: 3.4213 - val_gate_predictor_loss: 0.0000e+00 - val_ws_predictor_loss: 1.7103 - 21s/epoch - 140ms/step\n",
      "Epoch 41/700\n",
      "\n",
      "Epoch 41: val_ws_predictor_loss did not improve from 1.59679\n",
      "151/151 - 21s - loss: 0.3825 - gate_predictor_loss: 0.0000e+00 - ws_predictor_loss: 0.1909 - val_loss: 3.4225 - val_gate_predictor_loss: 0.0000e+00 - val_ws_predictor_loss: 1.7109 - 21s/epoch - 140ms/step\n",
      "Epoch 42/700\n",
      "\n",
      "Epoch 42: val_ws_predictor_loss did not improve from 1.59679\n",
      "151/151 - 21s - loss: 0.3825 - gate_predictor_loss: 0.0000e+00 - ws_predictor_loss: 0.1909 - val_loss: 3.4042 - val_gate_predictor_loss: 0.0000e+00 - val_ws_predictor_loss: 1.7018 - 21s/epoch - 142ms/step\n",
      "Epoch 43/700\n",
      "\n",
      "Epoch 43: val_ws_predictor_loss did not improve from 1.59679\n",
      "151/151 - 21s - loss: 0.3823 - gate_predictor_loss: 0.0000e+00 - ws_predictor_loss: 0.1908 - val_loss: 3.4056 - val_gate_predictor_loss: 0.0000e+00 - val_ws_predictor_loss: 1.7025 - 21s/epoch - 140ms/step\n",
      "Epoch 44/700\n",
      "\n",
      "Epoch 44: val_ws_predictor_loss did not improve from 1.59679\n",
      "151/151 - 21s - loss: 0.3824 - gate_predictor_loss: 0.0000e+00 - ws_predictor_loss: 0.1909 - val_loss: 3.3814 - val_gate_predictor_loss: 0.0000e+00 - val_ws_predictor_loss: 1.6904 - 21s/epoch - 139ms/step\n",
      "Epoch 45/700\n",
      "\n",
      "Epoch 45: val_ws_predictor_loss did not improve from 1.59679\n",
      "151/151 - 21s - loss: 0.3822 - gate_predictor_loss: 0.0000e+00 - ws_predictor_loss: 0.1908 - val_loss: 3.3905 - val_gate_predictor_loss: 0.0000e+00 - val_ws_predictor_loss: 1.6949 - 21s/epoch - 140ms/step\n",
      "Epoch 46/700\n",
      "\n",
      "Epoch 46: val_ws_predictor_loss did not improve from 1.59679\n",
      "151/151 - 21s - loss: 0.3825 - gate_predictor_loss: 0.0000e+00 - ws_predictor_loss: 0.1909 - val_loss: 3.3916 - val_gate_predictor_loss: 0.0000e+00 - val_ws_predictor_loss: 1.6955 - 21s/epoch - 141ms/step\n",
      "Epoch 47/700\n",
      "\n",
      "Epoch 47: val_ws_predictor_loss did not improve from 1.59679\n",
      "151/151 - 21s - loss: 0.3820 - gate_predictor_loss: 0.0000e+00 - ws_predictor_loss: 0.1907 - val_loss: 3.4044 - val_gate_predictor_loss: 0.0000e+00 - val_ws_predictor_loss: 1.7019 - 21s/epoch - 140ms/step\n",
      "Epoch 48/700\n",
      "\n",
      "Epoch 48: val_ws_predictor_loss did not improve from 1.59679\n",
      "151/151 - 21s - loss: 0.3821 - gate_predictor_loss: 0.0000e+00 - ws_predictor_loss: 0.1907 - val_loss: 3.4066 - val_gate_predictor_loss: 0.0000e+00 - val_ws_predictor_loss: 1.7030 - 21s/epoch - 141ms/step\n",
      "Epoch 49/700\n",
      "\n",
      "Epoch 49: val_ws_predictor_loss did not improve from 1.59679\n",
      "151/151 - 21s - loss: 0.3821 - gate_predictor_loss: 0.0000e+00 - ws_predictor_loss: 0.1908 - val_loss: 3.4121 - val_gate_predictor_loss: 0.0000e+00 - val_ws_predictor_loss: 1.7058 - 21s/epoch - 139ms/step\n",
      "Epoch 50/700\n",
      "\n",
      "Epoch 50: val_ws_predictor_loss did not improve from 1.59679\n",
      "151/151 - 21s - loss: 0.3837 - gate_predictor_loss: 0.0000e+00 - ws_predictor_loss: 0.1915 - val_loss: 3.3870 - val_gate_predictor_loss: 0.0000e+00 - val_ws_predictor_loss: 1.6921 - 21s/epoch - 140ms/step\n",
      "Epoch 51/700\n",
      "\n",
      "Epoch 51: val_ws_predictor_loss did not improve from 1.59679\n",
      "151/151 - 21s - loss: 0.3837 - gate_predictor_loss: 0.0000e+00 - ws_predictor_loss: 0.1914 - val_loss: 3.4179 - val_gate_predictor_loss: 0.0000e+00 - val_ws_predictor_loss: 1.7087 - 21s/epoch - 140ms/step\n",
      "Epoch 52/700\n",
      "\n",
      "Epoch 52: val_ws_predictor_loss did not improve from 1.59679\n",
      "151/151 - 21s - loss: 0.3819 - gate_predictor_loss: 0.0000e+00 - ws_predictor_loss: 0.1907 - val_loss: 3.4060 - val_gate_predictor_loss: 0.0000e+00 - val_ws_predictor_loss: 1.7027 - 21s/epoch - 141ms/step\n",
      "Epoch 53/700\n",
      "\n",
      "Epoch 53: val_ws_predictor_loss did not improve from 1.59679\n",
      "151/151 - 21s - loss: 0.3819 - gate_predictor_loss: 0.0000e+00 - ws_predictor_loss: 0.1906 - val_loss: 3.3913 - val_gate_predictor_loss: 0.0000e+00 - val_ws_predictor_loss: 1.6954 - 21s/epoch - 140ms/step\n",
      "Epoch 54/700\n",
      "\n",
      "Epoch 54: val_ws_predictor_loss did not improve from 1.59679\n",
      "151/151 - 21s - loss: 0.3818 - gate_predictor_loss: 0.0000e+00 - ws_predictor_loss: 0.1906 - val_loss: 3.4110 - val_gate_predictor_loss: 0.0000e+00 - val_ws_predictor_loss: 1.7052 - 21s/epoch - 138ms/step\n",
      "Epoch 55/700\n",
      "\n",
      "Epoch 55: val_ws_predictor_loss did not improve from 1.59679\n",
      "151/151 - 21s - loss: 0.3841 - gate_predictor_loss: 0.0000e+00 - ws_predictor_loss: 0.1915 - val_loss: 3.3931 - val_gate_predictor_loss: 0.0000e+00 - val_ws_predictor_loss: 1.6962 - 21s/epoch - 140ms/step\n",
      "Epoch 56/700\n",
      "\n",
      "Epoch 56: val_ws_predictor_loss did not improve from 1.59679\n",
      "151/151 - 21s - loss: 0.3820 - gate_predictor_loss: 0.0000e+00 - ws_predictor_loss: 0.1907 - val_loss: 3.4234 - val_gate_predictor_loss: 0.0000e+00 - val_ws_predictor_loss: 1.7114 - 21s/epoch - 140ms/step\n",
      "Epoch 57/700\n",
      "\n",
      "Epoch 57: val_ws_predictor_loss did not improve from 1.59679\n",
      "151/151 - 21s - loss: 0.3818 - gate_predictor_loss: 0.0000e+00 - ws_predictor_loss: 0.1906 - val_loss: 3.4194 - val_gate_predictor_loss: 0.0000e+00 - val_ws_predictor_loss: 1.7094 - 21s/epoch - 138ms/step\n",
      "Epoch 58/700\n",
      "\n",
      "Epoch 58: val_ws_predictor_loss did not improve from 1.59679\n",
      "151/151 - 21s - loss: 0.3817 - gate_predictor_loss: 0.0000e+00 - ws_predictor_loss: 0.1906 - val_loss: 3.3971 - val_gate_predictor_loss: 0.0000e+00 - val_ws_predictor_loss: 1.6983 - 21s/epoch - 140ms/step\n",
      "Epoch 59/700\n",
      "\n",
      "Epoch 59: val_ws_predictor_loss did not improve from 1.59679\n",
      "151/151 - 21s - loss: 0.3818 - gate_predictor_loss: 0.0000e+00 - ws_predictor_loss: 0.1906 - val_loss: 3.4084 - val_gate_predictor_loss: 0.0000e+00 - val_ws_predictor_loss: 1.7039 - 21s/epoch - 140ms/step\n",
      "Epoch 60/700\n",
      "\n",
      "Epoch 60: val_ws_predictor_loss did not improve from 1.59679\n"
     ]
    },
    {
     "name": "stdout",
     "output_type": "stream",
     "text": [
      "151/151 - 21s - loss: 0.3818 - gate_predictor_loss: 0.0000e+00 - ws_predictor_loss: 0.1906 - val_loss: 3.3972 - val_gate_predictor_loss: 0.0000e+00 - val_ws_predictor_loss: 1.6983 - 21s/epoch - 140ms/step\n",
      "Epoch 61/700\n",
      "\n",
      "Epoch 61: val_ws_predictor_loss did not improve from 1.59679\n",
      "151/151 - 21s - loss: 0.3821 - gate_predictor_loss: 0.0000e+00 - ws_predictor_loss: 0.1907 - val_loss: 3.4115 - val_gate_predictor_loss: 0.0000e+00 - val_ws_predictor_loss: 1.7055 - 21s/epoch - 139ms/step\n",
      "Epoch 62/700\n",
      "\n",
      "Epoch 62: val_ws_predictor_loss did not improve from 1.59679\n",
      "151/151 - 21s - loss: 0.3817 - gate_predictor_loss: 0.0000e+00 - ws_predictor_loss: 0.1906 - val_loss: 3.3899 - val_gate_predictor_loss: 0.0000e+00 - val_ws_predictor_loss: 1.6947 - 21s/epoch - 139ms/step\n",
      "Epoch 63/700\n",
      "\n",
      "Epoch 63: val_ws_predictor_loss did not improve from 1.59679\n",
      "151/151 - 21s - loss: 0.3817 - gate_predictor_loss: 0.0000e+00 - ws_predictor_loss: 0.1906 - val_loss: 3.3756 - val_gate_predictor_loss: 0.0000e+00 - val_ws_predictor_loss: 1.6875 - 21s/epoch - 139ms/step\n",
      "Epoch 64/700\n",
      "\n",
      "Epoch 64: val_ws_predictor_loss did not improve from 1.59679\n",
      "151/151 - 21s - loss: 0.3816 - gate_predictor_loss: 0.0000e+00 - ws_predictor_loss: 0.1905 - val_loss: 3.4001 - val_gate_predictor_loss: 0.0000e+00 - val_ws_predictor_loss: 1.6997 - 21s/epoch - 139ms/step\n",
      "Epoch 65/700\n",
      "\n",
      "Epoch 65: val_ws_predictor_loss did not improve from 1.59679\n",
      "151/151 - 21s - loss: 0.3816 - gate_predictor_loss: 0.0000e+00 - ws_predictor_loss: 0.1905 - val_loss: 3.4152 - val_gate_predictor_loss: 0.0000e+00 - val_ws_predictor_loss: 1.7073 - 21s/epoch - 140ms/step\n",
      "Epoch 66/700\n",
      "\n",
      "Epoch 66: val_ws_predictor_loss did not improve from 1.59679\n",
      "151/151 - 21s - loss: 0.3862 - gate_predictor_loss: 0.0000e+00 - ws_predictor_loss: 0.1925 - val_loss: 3.3410 - val_gate_predictor_loss: 0.0000e+00 - val_ws_predictor_loss: 1.6694 - 21s/epoch - 140ms/step\n",
      "Epoch 67/700\n",
      "\n",
      "Epoch 67: val_ws_predictor_loss did not improve from 1.59679\n",
      "151/151 - 21s - loss: 0.3835 - gate_predictor_loss: 0.0000e+00 - ws_predictor_loss: 0.1913 - val_loss: 3.4129 - val_gate_predictor_loss: 0.0000e+00 - val_ws_predictor_loss: 1.7061 - 21s/epoch - 141ms/step\n",
      "Epoch 68/700\n",
      "\n",
      "Epoch 68: val_ws_predictor_loss did not improve from 1.59679\n",
      "151/151 - 21s - loss: 0.3818 - gate_predictor_loss: 0.0000e+00 - ws_predictor_loss: 0.1906 - val_loss: 3.4076 - val_gate_predictor_loss: 0.0000e+00 - val_ws_predictor_loss: 1.7035 - 21s/epoch - 140ms/step\n",
      "Epoch 69/700\n",
      "\n",
      "Epoch 69: val_ws_predictor_loss did not improve from 1.59679\n",
      "151/151 - 21s - loss: 0.3816 - gate_predictor_loss: 0.0000e+00 - ws_predictor_loss: 0.1905 - val_loss: 3.4236 - val_gate_predictor_loss: 0.0000e+00 - val_ws_predictor_loss: 1.7115 - 21s/epoch - 139ms/step\n",
      "Epoch 70/700\n",
      "\n",
      "Epoch 70: val_ws_predictor_loss did not improve from 1.59679\n",
      "151/151 - 21s - loss: 0.3816 - gate_predictor_loss: 0.0000e+00 - ws_predictor_loss: 0.1905 - val_loss: 3.3760 - val_gate_predictor_loss: 0.0000e+00 - val_ws_predictor_loss: 1.6877 - 21s/epoch - 138ms/step\n",
      "Epoch 71/700\n",
      "\n",
      "Epoch 71: val_ws_predictor_loss did not improve from 1.59679\n",
      "151/151 - 21s - loss: 0.3815 - gate_predictor_loss: 0.0000e+00 - ws_predictor_loss: 0.1905 - val_loss: 3.3885 - val_gate_predictor_loss: 0.0000e+00 - val_ws_predictor_loss: 1.6940 - 21s/epoch - 138ms/step\n",
      "Epoch 72/700\n",
      "\n",
      "Epoch 72: val_ws_predictor_loss did not improve from 1.59679\n",
      "151/151 - 21s - loss: 0.3816 - gate_predictor_loss: 0.0000e+00 - ws_predictor_loss: 0.1905 - val_loss: 3.3926 - val_gate_predictor_loss: 0.0000e+00 - val_ws_predictor_loss: 1.6960 - 21s/epoch - 140ms/step\n",
      "Epoch 73/700\n",
      "\n",
      "Epoch 73: val_ws_predictor_loss did not improve from 1.59679\n",
      "151/151 - 21s - loss: 0.3815 - gate_predictor_loss: 0.0000e+00 - ws_predictor_loss: 0.1905 - val_loss: 3.3942 - val_gate_predictor_loss: 0.0000e+00 - val_ws_predictor_loss: 1.6968 - 21s/epoch - 141ms/step\n",
      "Epoch 74/700\n",
      "\n",
      "Epoch 74: val_ws_predictor_loss did not improve from 1.59679\n",
      "151/151 - 21s - loss: 0.3848 - gate_predictor_loss: 0.0000e+00 - ws_predictor_loss: 0.1918 - val_loss: 3.3702 - val_gate_predictor_loss: 0.0000e+00 - val_ws_predictor_loss: 1.6848 - 21s/epoch - 140ms/step\n",
      "Epoch 75/700\n",
      "\n",
      "Epoch 75: val_ws_predictor_loss did not improve from 1.59679\n",
      "151/151 - 21s - loss: 0.3816 - gate_predictor_loss: 0.0000e+00 - ws_predictor_loss: 0.1905 - val_loss: 3.3826 - val_gate_predictor_loss: 0.0000e+00 - val_ws_predictor_loss: 1.6910 - 21s/epoch - 139ms/step\n",
      "Epoch 76/700\n",
      "\n",
      "Epoch 76: val_ws_predictor_loss did not improve from 1.59679\n",
      "151/151 - 21s - loss: 0.3815 - gate_predictor_loss: 0.0000e+00 - ws_predictor_loss: 0.1905 - val_loss: 3.3857 - val_gate_predictor_loss: 0.0000e+00 - val_ws_predictor_loss: 1.6926 - 21s/epoch - 140ms/step\n",
      "Epoch 77/700\n",
      "\n",
      "Epoch 77: val_ws_predictor_loss did not improve from 1.59679\n",
      "151/151 - 21s - loss: 0.3814 - gate_predictor_loss: 0.0000e+00 - ws_predictor_loss: 0.1905 - val_loss: 3.3967 - val_gate_predictor_loss: 0.0000e+00 - val_ws_predictor_loss: 1.6981 - 21s/epoch - 140ms/step\n",
      "Epoch 78/700\n",
      "\n",
      "Epoch 78: val_ws_predictor_loss did not improve from 1.59679\n",
      "151/151 - 21s - loss: 0.3852 - gate_predictor_loss: 0.0000e+00 - ws_predictor_loss: 0.1921 - val_loss: 3.4487 - val_gate_predictor_loss: 0.0000e+00 - val_ws_predictor_loss: 1.7234 - 21s/epoch - 139ms/step\n",
      "Epoch 79/700\n",
      "\n",
      "Epoch 79: val_ws_predictor_loss did not improve from 1.59679\n",
      "151/151 - 21s - loss: 0.3857 - gate_predictor_loss: 0.0000e+00 - ws_predictor_loss: 0.1924 - val_loss: 3.4068 - val_gate_predictor_loss: 0.0000e+00 - val_ws_predictor_loss: 1.7030 - 21s/epoch - 139ms/step\n",
      "Epoch 80/700\n",
      "\n",
      "Epoch 80: val_ws_predictor_loss did not improve from 1.59679\n",
      "151/151 - 21s - loss: 0.3826 - gate_predictor_loss: 0.0000e+00 - ws_predictor_loss: 0.1909 - val_loss: 3.3729 - val_gate_predictor_loss: 0.0000e+00 - val_ws_predictor_loss: 1.6861 - 21s/epoch - 139ms/step\n",
      "Epoch 81/700\n",
      "\n",
      "Epoch 81: val_ws_predictor_loss did not improve from 1.59679\n",
      "151/151 - 21s - loss: 0.3820 - gate_predictor_loss: 0.0000e+00 - ws_predictor_loss: 0.1907 - val_loss: 3.3653 - val_gate_predictor_loss: 0.0000e+00 - val_ws_predictor_loss: 1.6823 - 21s/epoch - 140ms/step\n",
      "Epoch 82/700\n",
      "\n",
      "Epoch 82: val_ws_predictor_loss did not improve from 1.59679\n",
      "151/151 - 21s - loss: 0.3816 - gate_predictor_loss: 0.0000e+00 - ws_predictor_loss: 0.1905 - val_loss: 3.3880 - val_gate_predictor_loss: 0.0000e+00 - val_ws_predictor_loss: 1.6937 - 21s/epoch - 139ms/step\n",
      "Epoch 83/700\n",
      "\n",
      "Epoch 83: val_ws_predictor_loss did not improve from 1.59679\n",
      "151/151 - 21s - loss: 0.3815 - gate_predictor_loss: 0.0000e+00 - ws_predictor_loss: 0.1905 - val_loss: 3.4051 - val_gate_predictor_loss: 0.0000e+00 - val_ws_predictor_loss: 1.7023 - 21s/epoch - 139ms/step\n",
      "Epoch 84/700\n",
      "\n",
      "Epoch 84: val_ws_predictor_loss did not improve from 1.59679\n",
      "151/151 - 21s - loss: 0.3815 - gate_predictor_loss: 0.0000e+00 - ws_predictor_loss: 0.1905 - val_loss: 3.3840 - val_gate_predictor_loss: 0.0000e+00 - val_ws_predictor_loss: 1.6918 - 21s/epoch - 139ms/step\n",
      "Epoch 85/700\n",
      "\n",
      "Epoch 85: val_ws_predictor_loss did not improve from 1.59679\n",
      "151/151 - 21s - loss: 0.3814 - gate_predictor_loss: 0.0000e+00 - ws_predictor_loss: 0.1905 - val_loss: 3.3780 - val_gate_predictor_loss: 0.0000e+00 - val_ws_predictor_loss: 1.6887 - 21s/epoch - 141ms/step\n",
      "Epoch 86/700\n",
      "\n",
      "Epoch 86: val_ws_predictor_loss did not improve from 1.59679\n",
      "151/151 - 21s - loss: 0.3857 - gate_predictor_loss: 0.0000e+00 - ws_predictor_loss: 0.1923 - val_loss: 3.4562 - val_gate_predictor_loss: 0.0000e+00 - val_ws_predictor_loss: 1.7275 - 21s/epoch - 139ms/step\n",
      "Epoch 87/700\n",
      "\n",
      "Epoch 87: val_ws_predictor_loss did not improve from 1.59679\n",
      "151/151 - 21s - loss: 0.3851 - gate_predictor_loss: 0.0000e+00 - ws_predictor_loss: 0.1922 - val_loss: 3.4683 - val_gate_predictor_loss: 0.0000e+00 - val_ws_predictor_loss: 1.7337 - 21s/epoch - 139ms/step\n",
      "Epoch 88/700\n",
      "\n",
      "Epoch 88: val_ws_predictor_loss did not improve from 1.59679\n",
      "151/151 - 21s - loss: 0.3827 - gate_predictor_loss: 0.0000e+00 - ws_predictor_loss: 0.1910 - val_loss: 3.4293 - val_gate_predictor_loss: 0.0000e+00 - val_ws_predictor_loss: 1.7143 - 21s/epoch - 140ms/step\n",
      "Epoch 89/700\n",
      "\n",
      "Epoch 89: val_ws_predictor_loss did not improve from 1.59679\n",
      "151/151 - 21s - loss: 0.3820 - gate_predictor_loss: 0.0000e+00 - ws_predictor_loss: 0.1907 - val_loss: 3.4326 - val_gate_predictor_loss: 0.0000e+00 - val_ws_predictor_loss: 1.7160 - 21s/epoch - 138ms/step\n"
     ]
    },
    {
     "name": "stdout",
     "output_type": "stream",
     "text": [
      "Epoch 90/700\n",
      "\n",
      "Epoch 90: val_ws_predictor_loss did not improve from 1.59679\n",
      "151/151 - 21s - loss: 0.3818 - gate_predictor_loss: 0.0000e+00 - ws_predictor_loss: 0.1906 - val_loss: 3.3800 - val_gate_predictor_loss: 0.0000e+00 - val_ws_predictor_loss: 1.6897 - 21s/epoch - 139ms/step\n",
      "Epoch 91/700\n",
      "\n",
      "Epoch 91: val_ws_predictor_loss did not improve from 1.59679\n",
      "151/151 - 21s - loss: 0.3816 - gate_predictor_loss: 0.0000e+00 - ws_predictor_loss: 0.1905 - val_loss: 3.4057 - val_gate_predictor_loss: 0.0000e+00 - val_ws_predictor_loss: 1.7026 - 21s/epoch - 138ms/step\n",
      "Epoch 92/700\n",
      "\n",
      "Epoch 92: val_ws_predictor_loss did not improve from 1.59679\n",
      "151/151 - 21s - loss: 0.3815 - gate_predictor_loss: 0.0000e+00 - ws_predictor_loss: 0.1905 - val_loss: 3.3617 - val_gate_predictor_loss: 0.0000e+00 - val_ws_predictor_loss: 1.6806 - 21s/epoch - 138ms/step\n",
      "Epoch 93/700\n",
      "\n",
      "Epoch 93: val_ws_predictor_loss did not improve from 1.59679\n",
      "151/151 - 21s - loss: 0.3834 - gate_predictor_loss: 0.0000e+00 - ws_predictor_loss: 0.1913 - val_loss: 3.3883 - val_gate_predictor_loss: 0.0000e+00 - val_ws_predictor_loss: 1.6939 - 21s/epoch - 138ms/step\n",
      "Epoch 94/700\n",
      "\n",
      "Epoch 94: val_ws_predictor_loss did not improve from 1.59679\n",
      "151/151 - 21s - loss: 0.3815 - gate_predictor_loss: 0.0000e+00 - ws_predictor_loss: 0.1905 - val_loss: 3.4216 - val_gate_predictor_loss: 0.0000e+00 - val_ws_predictor_loss: 1.7105 - 21s/epoch - 138ms/step\n",
      "Epoch 95/700\n",
      "\n",
      "Epoch 95: val_ws_predictor_loss did not improve from 1.59679\n",
      "151/151 - 21s - loss: 0.3814 - gate_predictor_loss: 0.0000e+00 - ws_predictor_loss: 0.1904 - val_loss: 3.3992 - val_gate_predictor_loss: 0.0000e+00 - val_ws_predictor_loss: 1.6994 - 21s/epoch - 139ms/step\n",
      "Epoch 96/700\n",
      "\n",
      "Epoch 96: val_ws_predictor_loss did not improve from 1.59679\n",
      "151/151 - 21s - loss: 0.3814 - gate_predictor_loss: 0.0000e+00 - ws_predictor_loss: 0.1904 - val_loss: 3.3870 - val_gate_predictor_loss: 0.0000e+00 - val_ws_predictor_loss: 1.6933 - 21s/epoch - 138ms/step\n",
      "Epoch 97/700\n",
      "\n",
      "Epoch 97: val_ws_predictor_loss did not improve from 1.59679\n",
      "151/151 - 21s - loss: 0.3813 - gate_predictor_loss: 0.0000e+00 - ws_predictor_loss: 0.1904 - val_loss: 3.4179 - val_gate_predictor_loss: 0.0000e+00 - val_ws_predictor_loss: 1.7087 - 21s/epoch - 139ms/step\n",
      "Epoch 98/700\n",
      "\n",
      "Epoch 98: val_ws_predictor_loss did not improve from 1.59679\n",
      "151/151 - 21s - loss: 0.3842 - gate_predictor_loss: 0.0000e+00 - ws_predictor_loss: 0.1916 - val_loss: 3.3513 - val_gate_predictor_loss: 0.0000e+00 - val_ws_predictor_loss: 1.6751 - 21s/epoch - 140ms/step\n",
      "Epoch 99/700\n",
      "\n",
      "Epoch 99: val_ws_predictor_loss did not improve from 1.59679\n",
      "151/151 - 21s - loss: 0.3819 - gate_predictor_loss: 0.0000e+00 - ws_predictor_loss: 0.1907 - val_loss: 3.4295 - val_gate_predictor_loss: 0.0000e+00 - val_ws_predictor_loss: 1.7145 - 21s/epoch - 140ms/step\n",
      "Epoch 100/700\n",
      "\n",
      "Epoch 100: val_ws_predictor_loss did not improve from 1.59679\n",
      "151/151 - 21s - loss: 0.3814 - gate_predictor_loss: 0.0000e+00 - ws_predictor_loss: 0.1905 - val_loss: 3.4164 - val_gate_predictor_loss: 0.0000e+00 - val_ws_predictor_loss: 1.7079 - 21s/epoch - 138ms/step\n",
      "Epoch 101/700\n",
      "\n",
      "Epoch 101: val_ws_predictor_loss did not improve from 1.59679\n",
      "151/151 - 21s - loss: 0.3815 - gate_predictor_loss: 0.0000e+00 - ws_predictor_loss: 0.1905 - val_loss: 3.4024 - val_gate_predictor_loss: 0.0000e+00 - val_ws_predictor_loss: 1.7010 - 21s/epoch - 139ms/step\n",
      "Epoch 102/700\n",
      "\n",
      "Epoch 102: val_ws_predictor_loss did not improve from 1.59679\n",
      "151/151 - 21s - loss: 0.3813 - gate_predictor_loss: 0.0000e+00 - ws_predictor_loss: 0.1904 - val_loss: 3.4250 - val_gate_predictor_loss: 0.0000e+00 - val_ws_predictor_loss: 1.7122 - 21s/epoch - 139ms/step\n",
      "Epoch 103/700\n",
      "\n",
      "Epoch 103: val_ws_predictor_loss did not improve from 1.59679\n",
      "151/151 - 21s - loss: 0.3813 - gate_predictor_loss: 0.0000e+00 - ws_predictor_loss: 0.1904 - val_loss: 3.4273 - val_gate_predictor_loss: 0.0000e+00 - val_ws_predictor_loss: 1.7134 - 21s/epoch - 140ms/step\n",
      "Epoch 104/700\n",
      "\n",
      "Epoch 104: val_ws_predictor_loss did not improve from 1.59679\n",
      "151/151 - 21s - loss: 0.3813 - gate_predictor_loss: 0.0000e+00 - ws_predictor_loss: 0.1904 - val_loss: 3.4278 - val_gate_predictor_loss: 0.0000e+00 - val_ws_predictor_loss: 1.7136 - 21s/epoch - 141ms/step\n",
      "Epoch 105/700\n",
      "\n",
      "Epoch 105: val_ws_predictor_loss did not improve from 1.59679\n",
      "151/151 - 21s - loss: 0.3813 - gate_predictor_loss: 0.0000e+00 - ws_predictor_loss: 0.1904 - val_loss: 3.4084 - val_gate_predictor_loss: 0.0000e+00 - val_ws_predictor_loss: 1.7040 - 21s/epoch - 139ms/step\n",
      "Epoch 105: early stopping\n"
     ]
    },
    {
     "data": {
      "image/png": "[encoded data removed]",
      "text/plain": [
       "<Figure size 800x600 with 1 Axes>"
      ]
     },
     "metadata": {},
     "output_type": "display_data"
    }
   ],
   "source": [
    "lr_schedule = keras.optimizers.schedules.ExponentialDecay(initial_learning_rate=learning_rate, \n",
    "                                                          decay_steps=decay_steps,\n",
    "                                                          decay_rate=decay_rate)\n",
    "\n",
    "filda.compile(optimizer=Adam(learning_rate=lr_schedule),\n",
    "             loss=[gate_loss, water_level_threshold], \n",
    "             loss_weights=[0.0, 2.0]\n",
    "            )\n",
    "\n",
    "\n",
    "es = EarlyStopping(monitor='val_loss', mode='min', verbose=2, patience=100)\n",
    "mc = ModelCheckpoint('../saved_models/gtnp_gtnp_13_no_gcn.h5'.format(n_hours, K),\n",
    "                     monitor='val_ws_predictor_loss',\n",
    "                     mode='min',\n",
    "                     verbose=2, \n",
    "                     custom_objects={'gate_loss':gate_loss, 'water_level_threshold':water_level_threshold}, \n",
    "                     save_best_only=True)\n",
    "\n",
    "\n",
    "history = filda.fit([train_cov, train_tws_reshape, train_adj_mat], [train_gate_pump_y, train_ws_y],\n",
    "                   validation_data=([val_cov, val_tws_reshape, val_adj_mat], [val_gate_pump_y, val_ws_y]),\n",
    "                   batch_size=BATCH, \n",
    "                   epochs=EPOCHS, \n",
    "                   verbose=2, \n",
    "                   callbacks=[es, mc],\n",
    "                   shuffle=True,\n",
    "                  )\n",
    "\n",
    "\n",
    "plt.rcParams[\"figure.figsize\"] = (8, 6)\n",
    "plt.plot(history.history['loss'], label='train')\n",
    "plt.plot(history.history['val_loss'], label='val')\n",
    "plt.xticks(fontsize=14)\n",
    "plt.yticks(fontsize=14)\n",
    "plt.xlabel('Epoch', fontsize=16)\n",
    "plt.ylabel('Loss', fontsize=16)\n",
    "plt.legend(fontsize=14)\n",
    "plt.title(\"Training loss vs Testing loss\", fontsize=18)\n",
    "# plt.savefig('graph/rnn_loss.png', dpi=300)\n",
    "plt.show()"
   ]
  },
  {
   "cell_type": "markdown",
   "id": "274afc23",
   "metadata": {},
   "source": [
    "### Performance"
   ]
  },
  {
   "cell_type": "code",
   "execution_count": 13,
   "id": "c761507a",
   "metadata": {
    "scrolled": true
   },
   "outputs": [
    {
     "name": "stdout",
     "output_type": "stream",
     "text": [
      "WARNING:tensorflow:Layer LSTM will not use cuDNN kernels since it doesn't meet the criteria. It will use a generic GPU kernel as fallback when running on GPU.\n",
      "WARNING:tensorflow:Layer LSTM will not use cuDNN kernels since it doesn't meet the criteria. It will use a generic GPU kernel as fallback when running on GPU.\n"
     ]
    }
   ],
   "source": [
    "saved_model = load_model('../saved_models/gtnp_gtnp_13_no_gcn.h5',\n",
    "                         custom_objects={'gate_loss':gate_loss, \n",
    "                                         'water_level_threshold':water_level_threshold,\n",
    "                                         'GCNConv': GCNConv\n",
    "                                        }\n",
    "                        )"
   ]
  },
  {
   "cell_type": "code",
   "execution_count": 14,
   "id": "437232bc",
   "metadata": {},
   "outputs": [
    {
     "name": "stdout",
     "output_type": "stream",
     "text": [
      "603/603 [==============================] - 12s 18ms/step\n",
      "(19268, 24, 7)\n",
      "(19268, 96)\n"
     ]
    }
   ],
   "source": [
    "gate_pump_pred, ws_pred = saved_model.predict([test_cov, test_tws_reshape, test_adj_mat])\n",
    "\n",
    "print(gate_pump_pred.shape)\n",
    "print(ws_pred.shape)"
   ]
  },
  {
   "cell_type": "markdown",
   "id": "37fd7424",
   "metadata": {},
   "source": [
    "#### ws pred, gate pred"
   ]
  },
  {
   "cell_type": "code",
   "execution_count": 15,
   "id": "73063d86",
   "metadata": {},
   "outputs": [
    {
     "data": {
      "text/plain": [
       "(19268, 24, 4)"
      ]
     },
     "execution_count": 15,
     "metadata": {},
     "output_type": "execute_result"
    }
   ],
   "source": [
    "ws_pred_gate_pred_inv = ws_scaler.inverse_transform(ws_pred)\n",
    "ws_pred_gate_pred_inv = ws_pred_gate_pred_inv.reshape((-1, K, 4))\n",
    "ws_pred_gate_pred_inv.shape"
   ]
  },
  {
   "cell_type": "markdown",
   "id": "181b7677",
   "metadata": {},
   "source": [
    "#### ws true, gate true"
   ]
  },
  {
   "cell_type": "code",
   "execution_count": 16,
   "id": "fc62a508",
   "metadata": {},
   "outputs": [
    {
     "data": {
      "text/plain": [
       "(19268, 24, 4)"
      ]
     },
     "execution_count": 16,
     "metadata": {},
     "output_type": "execute_result"
    }
   ],
   "source": [
    "ws_true_gate_true = test_ws_y\n",
    "ws_true_gate_true_inv = ws_scaler.inverse_transform(ws_true_gate_true)\n",
    "ws_true_gate_true_inv = ws_true_gate_true_inv.reshape((-1, K, 4))\n",
    "ws_true_gate_true_inv.shape"
   ]
  },
  {
   "cell_type": "markdown",
   "id": "ffa81cf7",
   "metadata": {},
   "source": [
    "#### ws pred, gate true"
   ]
  },
  {
   "cell_type": "code",
   "execution_count": 17,
   "id": "bb27e44e",
   "metadata": {},
   "outputs": [
    {
     "name": "stdout",
     "output_type": "stream",
     "text": [
      "WARNING:tensorflow:Layer LSTM will not use cuDNN kernels since it doesn't meet the criteria. It will use a generic GPU kernel as fallback when running on GPU.\n",
      "603/603 [==============================] - 2s 3ms/step\n"
     ]
    },
    {
     "data": {
      "text/plain": [
       "(19268, 24, 4)"
      ]
     },
     "execution_count": 17,
     "metadata": {},
     "output_type": "execute_result"
    }
   ],
   "source": [
    "ws_predictor = load_model('../saved_models/WaLeF_gtn_p.h5', custom_objects={'GCNConv': GCNConv})\n",
    "\n",
    "ws_pred_gate_true = ws_predictor.predict([test_cov, test_tws_reshape, test_adj_mat])\n",
    "ws_pred_gate_true_inv = ws_scaler.inverse_transform(ws_pred_gate_true)\n",
    "ws_pred_gate_true_inv = ws_pred_gate_true_inv.reshape((-1, 24, 4))\n",
    "ws_pred_gate_true_inv.shape"
   ]
  },
  {
   "cell_type": "markdown",
   "id": "ad36fbd5",
   "metadata": {},
   "source": [
    "### Upper threshould"
   ]
  },
  {
   "cell_type": "code",
   "execution_count": 18,
   "id": "056279a8",
   "metadata": {},
   "outputs": [
    {
     "name": "stdout",
     "output_type": "stream",
     "text": [
      "S1, S25A, S25B, S26 time steps: 96, 96, 118, 117\n",
      "S1, S25A, S25B, S26 areas: 14.82, 15.22, 18, 20.13\n",
      "TOTAL time steps: 427; TOTAL areas: 68.61\n",
      "--------------------------------------------------\n",
      "S1, S25A, S25B, S26 time steps: 85, 85, 96, 108\n",
      "S1, S25A, S25B, S26 areas: 11.5466, 12.1773, 13, 17.2181\n",
      "TOTAL time steps: 374; TOTAL areas: 54.3063\n",
      "--------------------------------------------------\n",
      "S1, S25A, S25B, S26 time steps: 56, 46, 86, 89\n",
      "S1, S25A, S25B, S26 areas: 5.901, 4.839, 10, 12.3557\n",
      "TOTAL time steps: 277; TOTAL areas: 33.0337\n",
      "--------------------------------------------------\n"
     ]
    }
   ],
   "source": [
    "upper_threshold = 3.5\n",
    "t1 = 1\n",
    "\n",
    "flood_threshold_t1(ws_true_gate_true_inv, t1, upper_threshold)\n",
    "flood_threshold_t1(ws_pred_gate_true_inv, t1, upper_threshold)\n",
    "flood_threshold_t1(ws_pred_gate_pred_inv, t1, upper_threshold)"
   ]
  },
  {
   "cell_type": "code",
   "execution_count": 19,
   "id": "9c7bbcf1",
   "metadata": {},
   "outputs": [
    {
     "name": "stdout",
     "output_type": "stream",
     "text": [
      "S1, S25A, S25B, S26 time steps: 6, 5, 6, 6\n",
      "S1, S25A, S25B, S26 areas: 0.84, 0.72, 1, 1.0\n",
      "TOTAL time steps: 23; TOTAL areas: 3.62\n",
      "--------------------------------------------------\n",
      "S1, S25A, S25B, S26 time steps: 6, 6, 5, 5\n",
      "S1, S25A, S25B, S26 areas: 0.6148, 0.6425, 1, 0.8663\n",
      "TOTAL time steps: 22; TOTAL areas: 3.0018\n",
      "--------------------------------------------------\n",
      "S1, S25A, S25B, S26 time steps: 2, 2, 5, 3\n",
      "S1, S25A, S25B, S26 areas: 0.1469, 0.116, 0, 0.2798\n",
      "TOTAL time steps: 12; TOTAL areas: 0.8861\n",
      "--------------------------------------------------\n"
     ]
    }
   ],
   "source": [
    "flood_threshold_t1(ws_true_gate_true_inv[7640-23:7680-23], t1, upper_threshold)\n",
    "flood_threshold_t1(ws_pred_gate_true_inv[7640-23:7680-23], t1, upper_threshold)\n",
    "flood_threshold_t1(ws_pred_gate_pred_inv[7640-23:7680-23], t1, upper_threshold)"
   ]
  },
  {
   "cell_type": "code",
   "execution_count": 20,
   "id": "b8b3581c",
   "metadata": {},
   "outputs": [
    {
     "name": "stdout",
     "output_type": "stream",
     "text": [
      "time steps: 10248, areas: 1646.6399002075195\n",
      "time steps: 12130, areas: 2088.0380942821503\n",
      "time steps: 12884, areas: 2409.122174024582\n"
     ]
    }
   ],
   "source": [
    "flood_threshold(ws_true_gate_true_inv, upper_threshold)\n",
    "flood_threshold(ws_pred_gate_true_inv, upper_threshold)\n",
    "flood_threshold(ws_pred_gate_pred_inv, upper_threshold)"
   ]
  },
  {
   "cell_type": "markdown",
   "id": "5b5e11a6",
   "metadata": {},
   "source": [
    "### Lower threshold"
   ]
  },
  {
   "cell_type": "code",
   "execution_count": 21,
   "id": "e9c7d7f2",
   "metadata": {},
   "outputs": [
    {
     "name": "stdout",
     "output_type": "stream",
     "text": [
      "S1, S25A, S25B, S26 time steps: 1346, 1341, 1229, 1250\n",
      "S1, S25A, S25B, S26 areas: -385.8, -383.38, -345.08, -350.84:\n",
      "TOTAL time steps: 5166; TOTAL areas: -1465.1\n",
      "--------------------------------------------------\n",
      "S1, S25A, S25B, S26 time steps: 1390, 1427, 1282, 1476\n",
      "S1, S25A, S25B, S26 areas: -398.849, -392.0414, -350.2885, -429.5386:\n",
      "TOTAL time steps: 5575; TOTAL areas: -1570.7176\n",
      "--------------------------------------------------\n",
      "S1, S25A, S25B, S26 time steps: 479, 83, 45, 204\n",
      "S1, S25A, S25B, S26 areas: -86.2229, -8.5077, -5.0224, -32.8631:\n",
      "TOTAL time steps: 811; TOTAL areas: -132.6161\n",
      "--------------------------------------------------\n"
     ]
    }
   ],
   "source": [
    "lower_threshold = 0\n",
    "t1 = 1\n",
    "\n",
    "drought_threshold_t1(ws_true_gate_true_inv, t1, lower_threshold)\n",
    "drought_threshold_t1(ws_pred_gate_true_inv, t1, lower_threshold)\n",
    "drought_threshold_t1(ws_pred_gate_pred_inv, t1, lower_threshold)"
   ]
  },
  {
   "cell_type": "code",
   "execution_count": 22,
   "id": "9d114156",
   "metadata": {},
   "outputs": [
    {
     "name": "stdout",
     "output_type": "stream",
     "text": [
      "S1, S25A, S25B, S26 time steps: 0, 0, 0, 0\n",
      "S1, S25A, S25B, S26 areas: 0, 0, 0, 0:\n",
      "TOTAL time steps: 0; TOTAL areas: 0\n",
      "--------------------------------------------------\n",
      "S1, S25A, S25B, S26 time steps: 0, 0, 0, 0\n",
      "S1, S25A, S25B, S26 areas: 0, 0, 0, 0:\n",
      "TOTAL time steps: 0; TOTAL areas: 0\n",
      "--------------------------------------------------\n",
      "S1, S25A, S25B, S26 time steps: 0, 0, 0, 0\n",
      "S1, S25A, S25B, S26 areas: 0, 0, 0, 0:\n",
      "TOTAL time steps: 0; TOTAL areas: 0\n",
      "--------------------------------------------------\n"
     ]
    }
   ],
   "source": [
    "drought_threshold_t1(ws_true_gate_true_inv[7640-23:7680-23], t1, lower_threshold)\n",
    "drought_threshold_t1(ws_pred_gate_true_inv[7640-23:7680-23], t1, lower_threshold)\n",
    "drought_threshold_t1(ws_pred_gate_pred_inv[7640-23:7680-23], t1, lower_threshold)"
   ]
  },
  {
   "cell_type": "code",
   "execution_count": 23,
   "id": "880f11bf",
   "metadata": {},
   "outputs": [
    {
     "name": "stdout",
     "output_type": "stream",
     "text": [
      "time steps: 124148, areas: 35182.6098122485\n",
      "time steps: 127126, areas: 34960.07284716559\n",
      "time steps: 14954, areas: 2426.1538068996733\n"
     ]
    }
   ],
   "source": [
    "drought_threshold(ws_true_gate_true_inv, lower_threshold)\n",
    "drought_threshold(ws_pred_gate_true_inv, lower_threshold)\n",
    "drought_threshold(ws_pred_gate_pred_inv, lower_threshold)"
   ]
  },
  {
   "cell_type": "code",
   "execution_count": 24,
   "id": "f2c3007c",
   "metadata": {},
   "outputs": [
    {
     "name": "stdout",
     "output_type": "stream",
     "text": [
      "time steps: 5166, areas: 1465.099992136471\n",
      "time steps: 5575, areas: 1570.7175889443388\n",
      "time steps: 811, areas: 132.61614197987365\n"
     ]
    }
   ],
   "source": [
    "ws_true_gate_true_inv_24 = ws_true_gate_true_inv[:, t1, :]\n",
    "ws_pred_gate_true_inv_24 = ws_pred_gate_true_inv[:, t1, :]\n",
    "ws_pred_gate_pred_inv_24 = ws_pred_gate_pred_inv[:, t1, :]\n",
    "\n",
    "ws_true_gate_true_inv_24 = ws_true_gate_true_inv_24.reshape((-1, 1, 4))\n",
    "ws_pred_gate_true_inv_24 = ws_pred_gate_true_inv_24.reshape((-1, 1, 4))\n",
    "ws_pred_gate_pred_inv_24 = ws_pred_gate_pred_inv_24.reshape((-1, 1, 4))\n",
    "\n",
    "drought_threshold(ws_true_gate_true_inv_24, lower_threshold)\n",
    "drought_threshold(ws_pred_gate_true_inv_24, lower_threshold)\n",
    "drought_threshold(ws_pred_gate_pred_inv_24, lower_threshold)"
   ]
  },
  {
   "cell_type": "code",
   "execution_count": null,
   "id": "89bdb658",
   "metadata": {},
   "outputs": [],
   "source": []
  },
  {
   "cell_type": "code",
   "execution_count": null,
   "id": "16179f90",
   "metadata": {},
   "outputs": [],
   "source": []
  },
  {
   "cell_type": "code",
   "execution_count": null,
   "id": "f9d040d0",
   "metadata": {},
   "outputs": [],
   "source": []
  }
 ],
 "metadata": {
  "kernelspec": {
   "display_name": "Python 3 (ipykernel)",
   "language": "python",
   "name": "python3"
  },
  "language_info": {
   "codemirror_mode": {
    "name": "ipython",
    "version": 3
   },
   "file_extension": ".py",
   "mimetype": "text/x-python",
   "name": "python",
   "nbconvert_exporter": "python",
   "pygments_lexer": "ipython3",
   "version": "3.10.12"
  }
 },
 "nbformat": 4,
 "nbformat_minor": 5
}
