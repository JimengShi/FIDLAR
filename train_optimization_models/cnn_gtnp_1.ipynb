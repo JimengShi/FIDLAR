{
 "cells": [
  {
   "cell_type": "code",
   "execution_count": 2,
   "id": "efa98cb4",
   "metadata": {},
   "outputs": [
    {
     "name": "stderr",
     "output_type": "stream",
     "text": [
      "2023-08-12 17:16:53.799669: I tensorflow/core/platform/cpu_feature_guard.cc:182] This TensorFlow binary is optimized to use available CPU instructions in performance-critical operations.\n",
      "To enable the following instructions: AVX2 FMA, in other operations, rebuild TensorFlow with the appropriate compiler flags.\n",
      "2023-08-12 17:16:55.104243: W tensorflow/compiler/tf2tensorrt/utils/py_utils.cc:38] TF-TRT Warning: Could not find TensorRT\n"
     ]
    },
    {
     "name": "stdout",
     "output_type": "stream",
     "text": [
      "0.5714025946899135\n"
     ]
    }
   ],
   "source": [
    "import sys\n",
    "import os\n",
    "\n",
    "current_directory = os.getcwd()        \n",
    "parent_directory = os.path.dirname(current_directory)\n",
    "sys.path.append(parent_directory)\n",
    "\n",
    "\n",
    "from preprocess.graph import graph_topology_5\n",
    "from preprocess.BaselinePrerocess import baseline_process, baseline_process_for_gate_predictor\n",
    "from preprocess.GraphTransformerPrerocess import graph_water_transformer_cov_process_for_gate_predictor\n",
    "from baselines.cnn import cnn_gate_generator_1\n",
    "\n",
    "from losses.loss import gate_loss, gate_loss_2, water_level_threshold, water_level_threshold_1\n",
    "from tensorflow.keras.models import load_model\n",
    "from tensorflow import keras\n",
    "from tensorflow.keras import Input, Model\n",
    "from tensorflow.keras import layers\n",
    "from tensorflow.keras.optimizers import Adam\n",
    "from tensorflow.keras.callbacks import EarlyStopping\n",
    "from tensorflow.keras.callbacks import ModelCheckpoint\n",
    "\n",
    "import matplotlib.pyplot as plt\n",
    "import pandas as pd\n",
    "import numpy as np\n",
    "\n",
    "from postprocess.threshold import flood_threshold, drought_threshold, flood_threshold_t1, drought_threshold_t1\n",
    "from spektral.layers import GCNConv\n",
    "import time\n",
    "\n",
    "\n",
    "import random\n",
    "\n",
    "random.seed(10)\n",
    "print(random.random())"
   ]
  },
  {
   "cell_type": "code",
   "execution_count": 3,
   "id": "0092be29",
   "metadata": {},
   "outputs": [],
   "source": [
    "os.environ[\"CUDA_VISIBLE_DEVICES\"] = \"2\""
   ]
  },
  {
   "cell_type": "code",
   "execution_count": 4,
   "id": "04b8077a",
   "metadata": {},
   "outputs": [],
   "source": [
    "n_hours = 72\n",
    "K = 24 \n",
    "masked_value = 1e-10\n",
    "split_1 = 0.8\n",
    "split_2 = 0.9\n",
    "sigma2 = 0.1\n",
    "epsilon = 0.5"
   ]
  },
  {
   "cell_type": "code",
   "execution_count": 5,
   "id": "d8184307",
   "metadata": {},
   "outputs": [
    {
     "name": "stdout",
     "output_type": "stream",
     "text": [
      "Index(['WS_S1', 'WS_S4', 'FLOW_S25A', 'GATE_S25A', 'HWS_S25A', 'TWS_S25A',\n",
      "       'FLOW_S25B', 'GATE_S25B', 'GATE_S25B2', 'HWS_S25B', 'TWS_S25B',\n",
      "       'PUMP_S25B', 'FLOW_S26', 'GATE_S26_1', 'GATE_S26_2', 'HWS_S26',\n",
      "       'TWS_S26', 'PUMP_S26', 'MEAN_RAIN'],\n",
      "      dtype='object')\n"
     ]
    }
   ],
   "source": [
    "train_X_mask, val_X_mask, test_X_mask, \\\n",
    "train_ws_y, val_ws_y, test_ws_y, \\\n",
    "scaler, ws_scaler = baseline_process(n_hours, K, masked_value, split_1, split_2)"
   ]
  },
  {
   "cell_type": "code",
   "execution_count": 6,
   "id": "dd97ac81",
   "metadata": {},
   "outputs": [
    {
     "name": "stdout",
     "output_type": "stream",
     "text": [
      "Index(['WS_S1', 'WS_S4', 'FLOW_S25A', 'GATE_S25A', 'HWS_S25A', 'TWS_S25A',\n",
      "       'FLOW_S25B', 'GATE_S25B', 'GATE_S25B2', 'HWS_S25B', 'TWS_S25B',\n",
      "       'PUMP_S25B', 'FLOW_S26', 'GATE_S26_1', 'GATE_S26_2', 'HWS_S26',\n",
      "       'TWS_S26', 'PUMP_S26', 'MEAN_RAIN'],\n",
      "      dtype='object')\n",
      "train_tws/val_tws/test_tws: (77069, 5, 72) (9634, 5, 72) (19268, 5, 72) \n",
      " train_cov/val_cov/test_cov: (77069, 96, 12) (9634, 96, 12) (19268, 96, 12) \n",
      " train_ws_y/val_ws_y/test_ws_y: (77069, 96) (9634, 96) (19268, 96) \n",
      "  train_gate_pump_y/val_gate_pump_y/test_gate_pump_y: (77069, 24, 7) (9634, 24, 7) (19268, 24, 7)\n"
     ]
    }
   ],
   "source": [
    "train_cov, val_cov, test_cov, \\\n",
    "train_tws_reshape, val_tws_reshape, test_tws_reshape, \\\n",
    "train_gate_pump_y, val_gate_pump_y, test_gate_pump_y, \\\n",
    "train_ws_y, val_ws_y, test_ws_y, \\\n",
    "scaler, ws_scaler, gate_scalar = graph_water_transformer_cov_process_for_gate_predictor(n_hours, K, masked_value, split_1, split_2)"
   ]
  },
  {
   "cell_type": "code",
   "execution_count": 7,
   "id": "d27ae38b",
   "metadata": {
    "scrolled": true
   },
   "outputs": [],
   "source": [
    "# empty_set = set()\n",
    "\n",
    "# for i in range(len(train_ws_y)):\n",
    "#     for j in range(96):\n",
    "#         if train_ws_y[i][j] > 0.62:\n",
    "#             print(i)\n",
    "#             empty_set.add(i)\n",
    "            \n",
    "            "
   ]
  },
  {
   "cell_type": "code",
   "execution_count": 8,
   "id": "b1c2da52",
   "metadata": {},
   "outputs": [],
   "source": [
    "# empty_list = list(empty_set)\n",
    "# train_ws_y[empty_list].shape"
   ]
  },
  {
   "cell_type": "markdown",
   "id": "265ed7ff",
   "metadata": {},
   "source": [
    "### Graph topology"
   ]
  },
  {
   "cell_type": "code",
   "execution_count": 9,
   "id": "98e803d1",
   "metadata": {},
   "outputs": [
    {
     "name": "stdout",
     "output_type": "stream",
     "text": [
      "node_indices: [0 0 0 0 1 1 2 2 3 3 4 4] \n",
      "neighbor_indices: [1 2 3 4 0 2 0 1 0 4 0 3]\n",
      "number of nodes: 5, number of edges: 12\n"
     ]
    }
   ],
   "source": [
    "train_adj_mat, val_adj_mat, test_adj_mat = graph_topology_5(n_hours, K, sigma2, epsilon, len(train_ws_y), len(val_ws_y), len(test_ws_y))"
   ]
  },
  {
   "cell_type": "markdown",
   "id": "8003a2dc",
   "metadata": {},
   "source": [
    "### Model"
   ]
  },
  {
   "cell_type": "markdown",
   "id": "4861afcd",
   "metadata": {},
   "source": [
    "#### Gate & pump predictor"
   ]
  },
  {
   "cell_type": "code",
   "execution_count": 10,
   "id": "cdfb0ee5",
   "metadata": {},
   "outputs": [],
   "source": [
    "# ===== model parameters ======\n",
    "cnn_unit1 = 64\n",
    "cnn_unit2 = 32\n",
    "cnn_unit3 = 16\n",
    "cnn_unit4 = 7\n",
    "dropout = 0.0\n",
    "kernel_size = 2\n",
    "pool_size = 2\n",
    "gate_min = 0.0\n",
    "gate_max = 1.0\n",
    "\n",
    "learning_rate = 3e-3\n",
    "decay_steps = 10000\n",
    "decay_rate = 0.9\n",
    "PATIENCE = 100\n",
    "EPOCHS = 700\n",
    "BATCH = 512\n",
    "input_shape = train_X_mask.shape[1:]"
   ]
  },
  {
   "cell_type": "code",
   "execution_count": 11,
   "id": "109abeeb",
   "metadata": {
    "scrolled": false
   },
   "outputs": [
    {
     "name": "stdout",
     "output_type": "stream",
     "text": [
      "Model: \"gate_predictor\"\n",
      "_________________________________________________________________\n",
      " Layer (type)                Output Shape              Param #   \n",
      "=================================================================\n",
      " input_1 (InputLayer)        [(None, 96, 16)]          0         \n",
      "                                                                 \n",
      " masking (Masking)           (None, 96, 16)            0         \n",
      "                                                                 \n",
      " conv1d (Conv1D)             (None, 96, 64)            2112      \n",
      "                                                                 \n",
      " dropout (Dropout)           (None, 96, 64)            0         \n",
      "                                                                 \n",
      " conv1d_1 (Conv1D)           (None, 96, 32)            4128      \n",
      "                                                                 \n",
      " max_pooling1d (MaxPooling1  (None, 48, 32)            0         \n",
      " D)                                                              \n",
      "                                                                 \n",
      " dropout_1 (Dropout)         (None, 48, 32)            0         \n",
      "                                                                 \n",
      " conv1d_2 (Conv1D)           (None, 48, 16)            1040      \n",
      "                                                                 \n",
      " max_pooling1d_1 (MaxPoolin  (None, 24, 16)            0         \n",
      " g1D)                                                            \n",
      "                                                                 \n",
      " dropout_2 (Dropout)         (None, 24, 16)            0         \n",
      "                                                                 \n",
      " conv1d_3 (Conv1D)           (None, 24, 7)             231       \n",
      "                                                                 \n",
      " tf.math.maximum (TFOpLambd  (None, 24, 7)             0         \n",
      " a)                                                              \n",
      "                                                                 \n",
      " tf.math.minimum (TFOpLambd  (None, 24, 7)             0         \n",
      " a)                                                              \n",
      "                                                                 \n",
      "=================================================================\n",
      "Total params: 7511 (29.34 KB)\n",
      "Trainable params: 7511 (29.34 KB)\n",
      "Non-trainable params: 0 (0.00 Byte)\n",
      "_________________________________________________________________\n"
     ]
    },
    {
     "name": "stderr",
     "output_type": "stream",
     "text": [
      "2023-08-12 17:17:07.705011: I tensorflow/core/common_runtime/gpu/gpu_device.cc:1639] Created device /job:localhost/replica:0/task:0/device:GPU:0 with 10402 MB memory:  -> device: 0, name: NVIDIA GeForce GTX 1080 Ti, pci bus id: 0000:08:00.0, compute capability: 6.1\n"
     ]
    }
   ],
   "source": [
    "gate_predictor = cnn_gate_generator_1(input_shape=input_shape,\n",
    "                                      cnn_unit1=cnn_unit1,\n",
    "                                      cnn_unit2=cnn_unit2,\n",
    "                                      cnn_unit3=cnn_unit3,\n",
    "                                      cnn_unit4=cnn_unit4,\n",
    "                                      dropout=dropout,\n",
    "                                      kernel_size=kernel_size,\n",
    "                                      pool_size=pool_size,\n",
    "                                      masked_value=masked_value,\n",
    "                                      gate_min=gate_min,\n",
    "                                      gate_max=gate_max\n",
    "                                     )\n",
    "gate_predictor._name = \"gate_predictor\"\n",
    "gate_predictor.summary()"
   ]
  },
  {
   "cell_type": "code",
   "execution_count": 12,
   "id": "7023c4a6",
   "metadata": {},
   "outputs": [],
   "source": [
    "gate_predictor.compile(optimizer='adam', loss='mse')"
   ]
  },
  {
   "cell_type": "markdown",
   "id": "1fab7c93",
   "metadata": {},
   "source": [
    "#### water stage predictor"
   ]
  },
  {
   "cell_type": "code",
   "execution_count": 13,
   "id": "c8002ff9",
   "metadata": {
    "scrolled": false
   },
   "outputs": [
    {
     "name": "stdout",
     "output_type": "stream",
     "text": [
      "WARNING:tensorflow:Layer LSTM will not use cuDNN kernels since it doesn't meet the criteria. It will use a generic GPU kernel as fallback when running on GPU.\n"
     ]
    }
   ],
   "source": [
    "ws_predictor = load_model('../saved_models/WaLeF_gtn_p.h5', custom_objects={'GCNConv': GCNConv})\n",
    "\n",
    "for layer in ws_predictor.layers:\n",
    "    layer.trainable = False\n",
    "\n",
    "ws_predictor._name = 'ws_predictor'    \n",
    "# ws_predictor.summary()"
   ]
  },
  {
   "cell_type": "markdown",
   "id": "733bce1a",
   "metadata": {},
   "source": [
    "#### Combine gate_predictor and trained ws_predictor"
   ]
  },
  {
   "cell_type": "code",
   "execution_count": 14,
   "id": "850a59ca",
   "metadata": {
    "scrolled": false
   },
   "outputs": [],
   "source": [
    "inputs_feat = Input(shape=(96, 16), name='inputs_feat')\n",
    "inputs_tws = Input(shape=(5, 72), name='input_tws')\n",
    "inputs_adj = Input(shape=(5, 5), name='input_adj')\n",
    "\n",
    "# ================ gate_predictor ================\n",
    "gate_predictor_output = gate_predictor(inputs_feat)  # 24*7\n",
    "\n",
    "\n",
    "# ============  future inputs with replaced gate & pump prediction ============\n",
    "replaced_future_gate_pump = layers.Concatenate(axis=-1)([inputs_feat[:, n_hours:, :2], \n",
    "                                                         gate_predictor_output, \n",
    "                                                         inputs_feat[:, n_hours:, 9:]\n",
    "                                                        ]\n",
    "                                                       )\n",
    "\n",
    "# ============ original past inputs + future inputs with replaced gate & pump prediction ============\n",
    "merged_inputs = layers.Concatenate(axis=1)([inputs_feat[:, :n_hours, :], replaced_future_gate_pump])\n",
    "merged_inputs_cov = merged_inputs[:, :, :12]\n",
    "\n",
    "ws_predictor_output = ws_predictor([merged_inputs_cov, inputs_tws, inputs_adj])\n",
    "\n",
    "filda = Model(inputs=[inputs_feat, inputs_tws, inputs_adj], outputs=[gate_predictor_output, ws_predictor_output], name='filda')\n",
    "# filda.summary()"
   ]
  },
  {
   "cell_type": "code",
   "execution_count": 15,
   "id": "cf907f2c",
   "metadata": {
    "scrolled": true
   },
   "outputs": [
    {
     "name": "stdout",
     "output_type": "stream",
     "text": [
      "Epoch 1/700\n"
     ]
    },
    {
     "name": "stderr",
     "output_type": "stream",
     "text": [
      "2023-08-10 11:52:56.718086: I tensorflow/compiler/xla/stream_executor/cuda/cuda_dnn.cc:432] Loaded cuDNN version 8600\n",
      "2023-08-10 11:52:58.272007: I tensorflow/compiler/xla/service/service.cc:168] XLA service 0x7f12a0a046c0 initialized for platform CUDA (this does not guarantee that XLA will be used). Devices:\n",
      "2023-08-10 11:52:58.272088: I tensorflow/compiler/xla/service/service.cc:176]   StreamExecutor device (0): NVIDIA GeForce GTX 1080 Ti, Compute Capability 6.1\n",
      "2023-08-10 11:52:58.281608: I tensorflow/compiler/mlir/tensorflow/utils/dump_mlir_util.cc:255] disabling MLIR crash reproducer, set env var `MLIR_CRASH_REPRODUCER_DIRECTORY` to enable.\n",
      "2023-08-10 11:52:58.689925: I ./tensorflow/compiler/jit/device_compiler.h:186] Compiled cluster using XLA!  This line is logged at most once for the lifetime of the process.\n"
     ]
    },
    {
     "name": "stdout",
     "output_type": "stream",
     "text": [
      "\n",
      "Epoch 1: val_ws_predictor_loss improved from inf to 3.24095, saving model to ../saved_models/cnn_gtnp_1.h5\n",
      "151/151 - 18s - loss: 0.4965 - gate_predictor_loss: 0.0000e+00 - ws_predictor_loss: 0.2482 - val_loss: 6.4819 - val_gate_predictor_loss: 0.0000e+00 - val_ws_predictor_loss: 3.2409 - 18s/epoch - 119ms/step\n",
      "Epoch 2/700\n"
     ]
    },
    {
     "name": "stderr",
     "output_type": "stream",
     "text": [
      "/aul/homes/jshi008/miniconda3/envs/tf213/lib/python3.10/site-packages/keras/src/engine/training.py:3000: UserWarning: You are saving your model as an HDF5 file via `model.save()`. This file format is considered legacy. We recommend using instead the native Keras format, e.g. `model.save('my_model.keras')`.\n",
      "  saving_api.save_model(\n"
     ]
    },
    {
     "name": "stdout",
     "output_type": "stream",
     "text": [
      "\n",
      "Epoch 2: val_ws_predictor_loss improved from 3.24095 to 2.19247, saving model to ../saved_models/cnn_gtnp_1.h5\n",
      "151/151 - 7s - loss: 0.4665 - gate_predictor_loss: 0.0000e+00 - ws_predictor_loss: 0.2333 - val_loss: 4.3849 - val_gate_predictor_loss: 0.0000e+00 - val_ws_predictor_loss: 2.1925 - 7s/epoch - 46ms/step\n",
      "Epoch 3/700\n",
      "\n",
      "Epoch 3: val_ws_predictor_loss improved from 2.19247 to 1.88125, saving model to ../saved_models/cnn_gtnp_1.h5\n",
      "151/151 - 7s - loss: 0.4507 - gate_predictor_loss: 0.0000e+00 - ws_predictor_loss: 0.2254 - val_loss: 3.7625 - val_gate_predictor_loss: 0.0000e+00 - val_ws_predictor_loss: 1.8812 - 7s/epoch - 46ms/step\n",
      "Epoch 4/700\n",
      "\n",
      "Epoch 4: val_ws_predictor_loss did not improve from 1.88125\n",
      "151/151 - 7s - loss: 0.4474 - gate_predictor_loss: 0.0000e+00 - ws_predictor_loss: 0.2237 - val_loss: 3.8709 - val_gate_predictor_loss: 0.0000e+00 - val_ws_predictor_loss: 1.9354 - 7s/epoch - 46ms/step\n",
      "Epoch 5/700\n",
      "\n",
      "Epoch 5: val_ws_predictor_loss did not improve from 1.88125\n",
      "151/151 - 7s - loss: 0.4466 - gate_predictor_loss: 0.0000e+00 - ws_predictor_loss: 0.2233 - val_loss: 3.9122 - val_gate_predictor_loss: 0.0000e+00 - val_ws_predictor_loss: 1.9561 - 7s/epoch - 46ms/step\n",
      "Epoch 6/700\n",
      "\n",
      "Epoch 6: val_ws_predictor_loss did not improve from 1.88125\n",
      "151/151 - 7s - loss: 0.4455 - gate_predictor_loss: 0.0000e+00 - ws_predictor_loss: 0.2228 - val_loss: 3.8662 - val_gate_predictor_loss: 0.0000e+00 - val_ws_predictor_loss: 1.9331 - 7s/epoch - 46ms/step\n",
      "Epoch 7/700\n",
      "\n",
      "Epoch 7: val_ws_predictor_loss improved from 1.88125 to 1.87518, saving model to ../saved_models/cnn_gtnp_1.h5\n",
      "151/151 - 7s - loss: 0.4447 - gate_predictor_loss: 0.0000e+00 - ws_predictor_loss: 0.2224 - val_loss: 3.7504 - val_gate_predictor_loss: 0.0000e+00 - val_ws_predictor_loss: 1.8752 - 7s/epoch - 47ms/step\n",
      "Epoch 8/700\n",
      "\n",
      "Epoch 8: val_ws_predictor_loss improved from 1.87518 to 1.84818, saving model to ../saved_models/cnn_gtnp_1.h5\n",
      "151/151 - 7s - loss: 0.4438 - gate_predictor_loss: 0.0000e+00 - ws_predictor_loss: 0.2219 - val_loss: 3.6964 - val_gate_predictor_loss: 0.0000e+00 - val_ws_predictor_loss: 1.8482 - 7s/epoch - 47ms/step\n",
      "Epoch 9/700\n",
      "\n",
      "Epoch 9: val_ws_predictor_loss improved from 1.84818 to 1.84354, saving model to ../saved_models/cnn_gtnp_1.h5\n",
      "151/151 - 7s - loss: 0.4421 - gate_predictor_loss: 0.0000e+00 - ws_predictor_loss: 0.2211 - val_loss: 3.6871 - val_gate_predictor_loss: 0.0000e+00 - val_ws_predictor_loss: 1.8435 - 7s/epoch - 46ms/step\n",
      "Epoch 10/700\n",
      "\n",
      "Epoch 10: val_ws_predictor_loss improved from 1.84354 to 1.83677, saving model to ../saved_models/cnn_gtnp_1.h5\n",
      "151/151 - 7s - loss: 0.4414 - gate_predictor_loss: 0.0000e+00 - ws_predictor_loss: 0.2207 - val_loss: 3.6736 - val_gate_predictor_loss: 0.0000e+00 - val_ws_predictor_loss: 1.8368 - 7s/epoch - 46ms/step\n",
      "Epoch 11/700\n",
      "\n",
      "Epoch 11: val_ws_predictor_loss improved from 1.83677 to 1.75000, saving model to ../saved_models/cnn_gtnp_1.h5\n",
      "151/151 - 7s - loss: 0.4411 - gate_predictor_loss: 0.0000e+00 - ws_predictor_loss: 0.2206 - val_loss: 3.5000 - val_gate_predictor_loss: 0.0000e+00 - val_ws_predictor_loss: 1.7500 - 7s/epoch - 46ms/step\n",
      "Epoch 12/700\n",
      "\n",
      "Epoch 12: val_ws_predictor_loss did not improve from 1.75000\n",
      "151/151 - 7s - loss: 0.4406 - gate_predictor_loss: 0.0000e+00 - ws_predictor_loss: 0.2203 - val_loss: 3.6025 - val_gate_predictor_loss: 0.0000e+00 - val_ws_predictor_loss: 1.8012 - 7s/epoch - 46ms/step\n",
      "Epoch 13/700\n",
      "\n",
      "Epoch 13: val_ws_predictor_loss did not improve from 1.75000\n",
      "151/151 - 7s - loss: 0.4399 - gate_predictor_loss: 0.0000e+00 - ws_predictor_loss: 0.2199 - val_loss: 3.5739 - val_gate_predictor_loss: 0.0000e+00 - val_ws_predictor_loss: 1.7869 - 7s/epoch - 46ms/step\n",
      "Epoch 14/700\n",
      "\n",
      "Epoch 14: val_ws_predictor_loss improved from 1.75000 to 1.73097, saving model to ../saved_models/cnn_gtnp_1.h5\n",
      "151/151 - 7s - loss: 0.4399 - gate_predictor_loss: 0.0000e+00 - ws_predictor_loss: 0.2200 - val_loss: 3.4619 - val_gate_predictor_loss: 0.0000e+00 - val_ws_predictor_loss: 1.7310 - 7s/epoch - 46ms/step\n",
      "Epoch 15/700\n",
      "\n",
      "Epoch 15: val_ws_predictor_loss did not improve from 1.73097\n",
      "151/151 - 7s - loss: 0.4396 - gate_predictor_loss: 0.0000e+00 - ws_predictor_loss: 0.2198 - val_loss: 3.5337 - val_gate_predictor_loss: 0.0000e+00 - val_ws_predictor_loss: 1.7669 - 7s/epoch - 46ms/step\n",
      "Epoch 16/700\n",
      "\n",
      "Epoch 16: val_ws_predictor_loss did not improve from 1.73097\n",
      "151/151 - 7s - loss: 0.4396 - gate_predictor_loss: 0.0000e+00 - ws_predictor_loss: 0.2198 - val_loss: 3.4751 - val_gate_predictor_loss: 0.0000e+00 - val_ws_predictor_loss: 1.7375 - 7s/epoch - 46ms/step\n",
      "Epoch 17/700\n",
      "\n",
      "Epoch 17: val_ws_predictor_loss did not improve from 1.73097\n",
      "151/151 - 7s - loss: 0.4391 - gate_predictor_loss: 0.0000e+00 - ws_predictor_loss: 0.2196 - val_loss: 3.5155 - val_gate_predictor_loss: 0.0000e+00 - val_ws_predictor_loss: 1.7577 - 7s/epoch - 46ms/step\n",
      "Epoch 18/700\n",
      "\n",
      "Epoch 18: val_ws_predictor_loss did not improve from 1.73097\n",
      "151/151 - 7s - loss: 0.4394 - gate_predictor_loss: 0.0000e+00 - ws_predictor_loss: 0.2197 - val_loss: 3.4782 - val_gate_predictor_loss: 0.0000e+00 - val_ws_predictor_loss: 1.7391 - 7s/epoch - 46ms/step\n",
      "Epoch 19/700\n",
      "\n",
      "Epoch 19: val_ws_predictor_loss did not improve from 1.73097\n",
      "151/151 - 7s - loss: 0.4390 - gate_predictor_loss: 0.0000e+00 - ws_predictor_loss: 0.2195 - val_loss: 3.4832 - val_gate_predictor_loss: 0.0000e+00 - val_ws_predictor_loss: 1.7416 - 7s/epoch - 46ms/step\n",
      "Epoch 20/700\n",
      "\n",
      "Epoch 20: val_ws_predictor_loss improved from 1.73097 to 1.72517, saving model to ../saved_models/cnn_gtnp_1.h5\n",
      "151/151 - 7s - loss: 0.4387 - gate_predictor_loss: 0.0000e+00 - ws_predictor_loss: 0.2193 - val_loss: 3.4503 - val_gate_predictor_loss: 0.0000e+00 - val_ws_predictor_loss: 1.7252 - 7s/epoch - 46ms/step\n",
      "Epoch 21/700\n",
      "\n",
      "Epoch 21: val_ws_predictor_loss did not improve from 1.72517\n",
      "151/151 - 7s - loss: 0.4385 - gate_predictor_loss: 0.0000e+00 - ws_predictor_loss: 0.2193 - val_loss: 3.4539 - val_gate_predictor_loss: 0.0000e+00 - val_ws_predictor_loss: 1.7269 - 7s/epoch - 46ms/step\n",
      "Epoch 22/700\n",
      "\n",
      "Epoch 22: val_ws_predictor_loss did not improve from 1.72517\n",
      "151/151 - 7s - loss: 0.4384 - gate_predictor_loss: 0.0000e+00 - ws_predictor_loss: 0.2192 - val_loss: 3.4675 - val_gate_predictor_loss: 0.0000e+00 - val_ws_predictor_loss: 1.7338 - 7s/epoch - 46ms/step\n",
      "Epoch 23/700\n",
      "\n",
      "Epoch 23: val_ws_predictor_loss did not improve from 1.72517\n",
      "151/151 - 7s - loss: 0.4384 - gate_predictor_loss: 0.0000e+00 - ws_predictor_loss: 0.2192 - val_loss: 3.4611 - val_gate_predictor_loss: 0.0000e+00 - val_ws_predictor_loss: 1.7305 - 7s/epoch - 46ms/step\n",
      "Epoch 24/700\n",
      "\n",
      "Epoch 24: val_ws_predictor_loss improved from 1.72517 to 1.72393, saving model to ../saved_models/cnn_gtnp_1.h5\n",
      "151/151 - 7s - loss: 0.4382 - gate_predictor_loss: 0.0000e+00 - ws_predictor_loss: 0.2191 - val_loss: 3.4479 - val_gate_predictor_loss: 0.0000e+00 - val_ws_predictor_loss: 1.7239 - 7s/epoch - 48ms/step\n",
      "Epoch 25/700\n",
      "\n",
      "Epoch 25: val_ws_predictor_loss improved from 1.72393 to 1.72033, saving model to ../saved_models/cnn_gtnp_1.h5\n",
      "151/151 - 7s - loss: 0.4378 - gate_predictor_loss: 0.0000e+00 - ws_predictor_loss: 0.2189 - val_loss: 3.4407 - val_gate_predictor_loss: 0.0000e+00 - val_ws_predictor_loss: 1.7203 - 7s/epoch - 47ms/step\n",
      "Epoch 26/700\n",
      "\n",
      "Epoch 26: val_ws_predictor_loss did not improve from 1.72033\n",
      "151/151 - 7s - loss: 0.4376 - gate_predictor_loss: 0.0000e+00 - ws_predictor_loss: 0.2188 - val_loss: 3.4600 - val_gate_predictor_loss: 0.0000e+00 - val_ws_predictor_loss: 1.7300 - 7s/epoch - 46ms/step\n",
      "Epoch 27/700\n",
      "\n",
      "Epoch 27: val_ws_predictor_loss improved from 1.72033 to 1.71726, saving model to ../saved_models/cnn_gtnp_1.h5\n",
      "151/151 - 7s - loss: 0.4378 - gate_predictor_loss: 0.0000e+00 - ws_predictor_loss: 0.2189 - val_loss: 3.4345 - val_gate_predictor_loss: 0.0000e+00 - val_ws_predictor_loss: 1.7173 - 7s/epoch - 47ms/step\n",
      "Epoch 28/700\n",
      "\n",
      "Epoch 28: val_ws_predictor_loss did not improve from 1.71726\n",
      "151/151 - 7s - loss: 0.4374 - gate_predictor_loss: 0.0000e+00 - ws_predictor_loss: 0.2187 - val_loss: 3.4517 - val_gate_predictor_loss: 0.0000e+00 - val_ws_predictor_loss: 1.7259 - 7s/epoch - 46ms/step\n",
      "Epoch 29/700\n",
      "\n",
      "Epoch 29: val_ws_predictor_loss did not improve from 1.71726\n",
      "151/151 - 7s - loss: 0.4376 - gate_predictor_loss: 0.0000e+00 - ws_predictor_loss: 0.2188 - val_loss: 3.4578 - val_gate_predictor_loss: 0.0000e+00 - val_ws_predictor_loss: 1.7289 - 7s/epoch - 46ms/step\n"
     ]
    },
    {
     "name": "stdout",
     "output_type": "stream",
     "text": [
      "Epoch 30/700\n",
      "\n",
      "Epoch 30: val_ws_predictor_loss did not improve from 1.71726\n",
      "151/151 - 7s - loss: 0.4374 - gate_predictor_loss: 0.0000e+00 - ws_predictor_loss: 0.2187 - val_loss: 3.4791 - val_gate_predictor_loss: 0.0000e+00 - val_ws_predictor_loss: 1.7396 - 7s/epoch - 46ms/step\n",
      "Epoch 31/700\n",
      "\n",
      "Epoch 31: val_ws_predictor_loss did not improve from 1.71726\n",
      "151/151 - 7s - loss: 0.4371 - gate_predictor_loss: 0.0000e+00 - ws_predictor_loss: 0.2185 - val_loss: 3.4348 - val_gate_predictor_loss: 0.0000e+00 - val_ws_predictor_loss: 1.7174 - 7s/epoch - 46ms/step\n",
      "Epoch 32/700\n",
      "\n",
      "Epoch 32: val_ws_predictor_loss did not improve from 1.71726\n",
      "151/151 - 7s - loss: 0.4367 - gate_predictor_loss: 0.0000e+00 - ws_predictor_loss: 0.2184 - val_loss: 3.4855 - val_gate_predictor_loss: 0.0000e+00 - val_ws_predictor_loss: 1.7428 - 7s/epoch - 46ms/step\n",
      "Epoch 33/700\n",
      "\n",
      "Epoch 33: val_ws_predictor_loss did not improve from 1.71726\n",
      "151/151 - 7s - loss: 0.4369 - gate_predictor_loss: 0.0000e+00 - ws_predictor_loss: 0.2185 - val_loss: 3.4572 - val_gate_predictor_loss: 0.0000e+00 - val_ws_predictor_loss: 1.7286 - 7s/epoch - 46ms/step\n",
      "Epoch 34/700\n",
      "\n",
      "Epoch 34: val_ws_predictor_loss did not improve from 1.71726\n",
      "151/151 - 7s - loss: 0.4363 - gate_predictor_loss: 0.0000e+00 - ws_predictor_loss: 0.2182 - val_loss: 3.4606 - val_gate_predictor_loss: 0.0000e+00 - val_ws_predictor_loss: 1.7303 - 7s/epoch - 46ms/step\n",
      "Epoch 35/700\n",
      "\n",
      "Epoch 35: val_ws_predictor_loss did not improve from 1.71726\n",
      "151/151 - 7s - loss: 0.4363 - gate_predictor_loss: 0.0000e+00 - ws_predictor_loss: 0.2182 - val_loss: 3.4427 - val_gate_predictor_loss: 0.0000e+00 - val_ws_predictor_loss: 1.7213 - 7s/epoch - 46ms/step\n",
      "Epoch 36/700\n",
      "\n",
      "Epoch 36: val_ws_predictor_loss did not improve from 1.71726\n",
      "151/151 - 7s - loss: 0.4365 - gate_predictor_loss: 0.0000e+00 - ws_predictor_loss: 0.2182 - val_loss: 3.4425 - val_gate_predictor_loss: 0.0000e+00 - val_ws_predictor_loss: 1.7212 - 7s/epoch - 46ms/step\n",
      "Epoch 37/700\n",
      "\n",
      "Epoch 37: val_ws_predictor_loss did not improve from 1.71726\n",
      "151/151 - 7s - loss: 0.4361 - gate_predictor_loss: 0.0000e+00 - ws_predictor_loss: 0.2180 - val_loss: 3.4445 - val_gate_predictor_loss: 0.0000e+00 - val_ws_predictor_loss: 1.7222 - 7s/epoch - 46ms/step\n",
      "Epoch 38/700\n",
      "\n",
      "Epoch 38: val_ws_predictor_loss did not improve from 1.71726\n",
      "151/151 - 7s - loss: 0.4366 - gate_predictor_loss: 0.0000e+00 - ws_predictor_loss: 0.2183 - val_loss: 3.4494 - val_gate_predictor_loss: 0.0000e+00 - val_ws_predictor_loss: 1.7247 - 7s/epoch - 46ms/step\n",
      "Epoch 39/700\n",
      "\n",
      "Epoch 39: val_ws_predictor_loss did not improve from 1.71726\n",
      "151/151 - 7s - loss: 0.4361 - gate_predictor_loss: 0.0000e+00 - ws_predictor_loss: 0.2181 - val_loss: 3.4819 - val_gate_predictor_loss: 0.0000e+00 - val_ws_predictor_loss: 1.7409 - 7s/epoch - 46ms/step\n",
      "Epoch 40/700\n",
      "\n",
      "Epoch 40: val_ws_predictor_loss did not improve from 1.71726\n",
      "151/151 - 7s - loss: 0.4364 - gate_predictor_loss: 0.0000e+00 - ws_predictor_loss: 0.2182 - val_loss: 3.5053 - val_gate_predictor_loss: 0.0000e+00 - val_ws_predictor_loss: 1.7526 - 7s/epoch - 46ms/step\n",
      "Epoch 41/700\n",
      "\n",
      "Epoch 41: val_ws_predictor_loss did not improve from 1.71726\n",
      "151/151 - 7s - loss: 0.4361 - gate_predictor_loss: 0.0000e+00 - ws_predictor_loss: 0.2180 - val_loss: 3.4506 - val_gate_predictor_loss: 0.0000e+00 - val_ws_predictor_loss: 1.7253 - 7s/epoch - 46ms/step\n",
      "Epoch 42/700\n",
      "\n",
      "Epoch 42: val_ws_predictor_loss did not improve from 1.71726\n",
      "151/151 - 7s - loss: 0.4356 - gate_predictor_loss: 0.0000e+00 - ws_predictor_loss: 0.2178 - val_loss: 3.4562 - val_gate_predictor_loss: 0.0000e+00 - val_ws_predictor_loss: 1.7281 - 7s/epoch - 46ms/step\n",
      "Epoch 43/700\n",
      "\n",
      "Epoch 43: val_ws_predictor_loss did not improve from 1.71726\n",
      "151/151 - 7s - loss: 0.4357 - gate_predictor_loss: 0.0000e+00 - ws_predictor_loss: 0.2178 - val_loss: 3.4794 - val_gate_predictor_loss: 0.0000e+00 - val_ws_predictor_loss: 1.7397 - 7s/epoch - 46ms/step\n",
      "Epoch 44/700\n",
      "\n",
      "Epoch 44: val_ws_predictor_loss did not improve from 1.71726\n",
      "151/151 - 7s - loss: 0.4357 - gate_predictor_loss: 0.0000e+00 - ws_predictor_loss: 0.2179 - val_loss: 3.4830 - val_gate_predictor_loss: 0.0000e+00 - val_ws_predictor_loss: 1.7415 - 7s/epoch - 46ms/step\n",
      "Epoch 45/700\n",
      "\n",
      "Epoch 45: val_ws_predictor_loss did not improve from 1.71726\n",
      "151/151 - 7s - loss: 0.4354 - gate_predictor_loss: 0.0000e+00 - ws_predictor_loss: 0.2177 - val_loss: 3.4435 - val_gate_predictor_loss: 0.0000e+00 - val_ws_predictor_loss: 1.7217 - 7s/epoch - 46ms/step\n",
      "Epoch 46/700\n",
      "\n",
      "Epoch 46: val_ws_predictor_loss did not improve from 1.71726\n",
      "151/151 - 7s - loss: 0.4357 - gate_predictor_loss: 0.0000e+00 - ws_predictor_loss: 0.2178 - val_loss: 3.4405 - val_gate_predictor_loss: 0.0000e+00 - val_ws_predictor_loss: 1.7202 - 7s/epoch - 46ms/step\n",
      "Epoch 47/700\n",
      "\n",
      "Epoch 47: val_ws_predictor_loss did not improve from 1.71726\n",
      "151/151 - 7s - loss: 0.4353 - gate_predictor_loss: 0.0000e+00 - ws_predictor_loss: 0.2177 - val_loss: 3.4797 - val_gate_predictor_loss: 0.0000e+00 - val_ws_predictor_loss: 1.7399 - 7s/epoch - 46ms/step\n",
      "Epoch 48/700\n",
      "\n",
      "Epoch 48: val_ws_predictor_loss did not improve from 1.71726\n",
      "151/151 - 7s - loss: 0.4362 - gate_predictor_loss: 0.0000e+00 - ws_predictor_loss: 0.2181 - val_loss: 3.4464 - val_gate_predictor_loss: 0.0000e+00 - val_ws_predictor_loss: 1.7232 - 7s/epoch - 46ms/step\n",
      "Epoch 49/700\n",
      "\n",
      "Epoch 49: val_ws_predictor_loss improved from 1.71726 to 1.71717, saving model to ../saved_models/cnn_gtnp_1.h5\n",
      "151/151 - 7s - loss: 0.4351 - gate_predictor_loss: 0.0000e+00 - ws_predictor_loss: 0.2175 - val_loss: 3.4343 - val_gate_predictor_loss: 0.0000e+00 - val_ws_predictor_loss: 1.7172 - 7s/epoch - 46ms/step\n",
      "Epoch 50/700\n",
      "\n",
      "Epoch 50: val_ws_predictor_loss did not improve from 1.71717\n",
      "151/151 - 7s - loss: 0.4351 - gate_predictor_loss: 0.0000e+00 - ws_predictor_loss: 0.2175 - val_loss: 3.4447 - val_gate_predictor_loss: 0.0000e+00 - val_ws_predictor_loss: 1.7224 - 7s/epoch - 46ms/step\n",
      "Epoch 51/700\n",
      "\n",
      "Epoch 51: val_ws_predictor_loss did not improve from 1.71717\n",
      "151/151 - 7s - loss: 0.4351 - gate_predictor_loss: 0.0000e+00 - ws_predictor_loss: 0.2175 - val_loss: 3.4934 - val_gate_predictor_loss: 0.0000e+00 - val_ws_predictor_loss: 1.7467 - 7s/epoch - 46ms/step\n",
      "Epoch 52/700\n",
      "\n",
      "Epoch 52: val_ws_predictor_loss did not improve from 1.71717\n",
      "151/151 - 7s - loss: 0.4350 - gate_predictor_loss: 0.0000e+00 - ws_predictor_loss: 0.2175 - val_loss: 3.4756 - val_gate_predictor_loss: 0.0000e+00 - val_ws_predictor_loss: 1.7378 - 7s/epoch - 46ms/step\n",
      "Epoch 53/700\n",
      "\n",
      "Epoch 53: val_ws_predictor_loss did not improve from 1.71717\n",
      "151/151 - 7s - loss: 0.4353 - gate_predictor_loss: 0.0000e+00 - ws_predictor_loss: 0.2176 - val_loss: 3.4847 - val_gate_predictor_loss: 0.0000e+00 - val_ws_predictor_loss: 1.7424 - 7s/epoch - 46ms/step\n",
      "Epoch 54/700\n",
      "\n",
      "Epoch 54: val_ws_predictor_loss did not improve from 1.71717\n",
      "151/151 - 7s - loss: 0.4350 - gate_predictor_loss: 0.0000e+00 - ws_predictor_loss: 0.2175 - val_loss: 3.4748 - val_gate_predictor_loss: 0.0000e+00 - val_ws_predictor_loss: 1.7374 - 7s/epoch - 46ms/step\n",
      "Epoch 55/700\n",
      "\n",
      "Epoch 55: val_ws_predictor_loss did not improve from 1.71717\n",
      "151/151 - 7s - loss: 0.4347 - gate_predictor_loss: 0.0000e+00 - ws_predictor_loss: 0.2174 - val_loss: 3.4629 - val_gate_predictor_loss: 0.0000e+00 - val_ws_predictor_loss: 1.7315 - 7s/epoch - 46ms/step\n",
      "Epoch 56/700\n",
      "\n",
      "Epoch 56: val_ws_predictor_loss did not improve from 1.71717\n",
      "151/151 - 7s - loss: 0.4347 - gate_predictor_loss: 0.0000e+00 - ws_predictor_loss: 0.2173 - val_loss: 3.4498 - val_gate_predictor_loss: 0.0000e+00 - val_ws_predictor_loss: 1.7249 - 7s/epoch - 46ms/step\n",
      "Epoch 57/700\n",
      "\n",
      "Epoch 57: val_ws_predictor_loss did not improve from 1.71717\n",
      "151/151 - 7s - loss: 0.4349 - gate_predictor_loss: 0.0000e+00 - ws_predictor_loss: 0.2175 - val_loss: 3.4462 - val_gate_predictor_loss: 0.0000e+00 - val_ws_predictor_loss: 1.7231 - 7s/epoch - 46ms/step\n",
      "Epoch 58/700\n",
      "\n",
      "Epoch 58: val_ws_predictor_loss did not improve from 1.71717\n",
      "151/151 - 7s - loss: 0.4349 - gate_predictor_loss: 0.0000e+00 - ws_predictor_loss: 0.2174 - val_loss: 3.4759 - val_gate_predictor_loss: 0.0000e+00 - val_ws_predictor_loss: 1.7379 - 7s/epoch - 46ms/step\n",
      "Epoch 59/700\n",
      "\n",
      "Epoch 59: val_ws_predictor_loss did not improve from 1.71717\n",
      "151/151 - 7s - loss: 0.4346 - gate_predictor_loss: 0.0000e+00 - ws_predictor_loss: 0.2173 - val_loss: 3.4834 - val_gate_predictor_loss: 0.0000e+00 - val_ws_predictor_loss: 1.7417 - 7s/epoch - 46ms/step\n"
     ]
    },
    {
     "name": "stdout",
     "output_type": "stream",
     "text": [
      "Epoch 60/700\n",
      "\n",
      "Epoch 60: val_ws_predictor_loss did not improve from 1.71717\n",
      "151/151 - 7s - loss: 0.4348 - gate_predictor_loss: 0.0000e+00 - ws_predictor_loss: 0.2174 - val_loss: 3.4567 - val_gate_predictor_loss: 0.0000e+00 - val_ws_predictor_loss: 1.7284 - 7s/epoch - 46ms/step\n",
      "Epoch 61/700\n",
      "\n",
      "Epoch 61: val_ws_predictor_loss did not improve from 1.71717\n",
      "151/151 - 7s - loss: 0.4348 - gate_predictor_loss: 0.0000e+00 - ws_predictor_loss: 0.2174 - val_loss: 3.4511 - val_gate_predictor_loss: 0.0000e+00 - val_ws_predictor_loss: 1.7255 - 7s/epoch - 46ms/step\n",
      "Epoch 62/700\n",
      "\n",
      "Epoch 62: val_ws_predictor_loss did not improve from 1.71717\n",
      "151/151 - 7s - loss: 0.4347 - gate_predictor_loss: 0.0000e+00 - ws_predictor_loss: 0.2173 - val_loss: 3.4393 - val_gate_predictor_loss: 0.0000e+00 - val_ws_predictor_loss: 1.7196 - 7s/epoch - 46ms/step\n",
      "Epoch 63/700\n",
      "\n",
      "Epoch 63: val_ws_predictor_loss did not improve from 1.71717\n",
      "151/151 - 7s - loss: 0.4347 - gate_predictor_loss: 0.0000e+00 - ws_predictor_loss: 0.2174 - val_loss: 3.4389 - val_gate_predictor_loss: 0.0000e+00 - val_ws_predictor_loss: 1.7195 - 7s/epoch - 46ms/step\n",
      "Epoch 64/700\n",
      "\n",
      "Epoch 64: val_ws_predictor_loss did not improve from 1.71717\n",
      "151/151 - 7s - loss: 0.4346 - gate_predictor_loss: 0.0000e+00 - ws_predictor_loss: 0.2173 - val_loss: 3.4488 - val_gate_predictor_loss: 0.0000e+00 - val_ws_predictor_loss: 1.7244 - 7s/epoch - 46ms/step\n",
      "Epoch 65/700\n",
      "\n",
      "Epoch 65: val_ws_predictor_loss did not improve from 1.71717\n",
      "151/151 - 7s - loss: 0.4343 - gate_predictor_loss: 0.0000e+00 - ws_predictor_loss: 0.2171 - val_loss: 3.5098 - val_gate_predictor_loss: 0.0000e+00 - val_ws_predictor_loss: 1.7549 - 7s/epoch - 46ms/step\n",
      "Epoch 66/700\n",
      "\n",
      "Epoch 66: val_ws_predictor_loss did not improve from 1.71717\n",
      "151/151 - 7s - loss: 0.4344 - gate_predictor_loss: 0.0000e+00 - ws_predictor_loss: 0.2172 - val_loss: 3.4740 - val_gate_predictor_loss: 0.0000e+00 - val_ws_predictor_loss: 1.7370 - 7s/epoch - 46ms/step\n",
      "Epoch 67/700\n",
      "\n",
      "Epoch 67: val_ws_predictor_loss did not improve from 1.71717\n",
      "151/151 - 7s - loss: 0.4343 - gate_predictor_loss: 0.0000e+00 - ws_predictor_loss: 0.2172 - val_loss: 3.4471 - val_gate_predictor_loss: 0.0000e+00 - val_ws_predictor_loss: 1.7236 - 7s/epoch - 46ms/step\n",
      "Epoch 68/700\n",
      "\n",
      "Epoch 68: val_ws_predictor_loss did not improve from 1.71717\n",
      "151/151 - 7s - loss: 0.4343 - gate_predictor_loss: 0.0000e+00 - ws_predictor_loss: 0.2172 - val_loss: 3.4768 - val_gate_predictor_loss: 0.0000e+00 - val_ws_predictor_loss: 1.7384 - 7s/epoch - 46ms/step\n",
      "Epoch 69/700\n",
      "\n",
      "Epoch 69: val_ws_predictor_loss did not improve from 1.71717\n",
      "151/151 - 7s - loss: 0.4345 - gate_predictor_loss: 0.0000e+00 - ws_predictor_loss: 0.2172 - val_loss: 3.4571 - val_gate_predictor_loss: 0.0000e+00 - val_ws_predictor_loss: 1.7285 - 7s/epoch - 46ms/step\n",
      "Epoch 70/700\n",
      "\n",
      "Epoch 70: val_ws_predictor_loss did not improve from 1.71717\n",
      "151/151 - 7s - loss: 0.4344 - gate_predictor_loss: 0.0000e+00 - ws_predictor_loss: 0.2172 - val_loss: 3.4701 - val_gate_predictor_loss: 0.0000e+00 - val_ws_predictor_loss: 1.7350 - 7s/epoch - 46ms/step\n",
      "Epoch 71/700\n",
      "\n",
      "Epoch 71: val_ws_predictor_loss did not improve from 1.71717\n",
      "151/151 - 7s - loss: 0.4347 - gate_predictor_loss: 0.0000e+00 - ws_predictor_loss: 0.2174 - val_loss: 3.4710 - val_gate_predictor_loss: 0.0000e+00 - val_ws_predictor_loss: 1.7355 - 7s/epoch - 46ms/step\n",
      "Epoch 72/700\n",
      "\n",
      "Epoch 72: val_ws_predictor_loss did not improve from 1.71717\n",
      "151/151 - 7s - loss: 0.4347 - gate_predictor_loss: 0.0000e+00 - ws_predictor_loss: 0.2174 - val_loss: 3.4849 - val_gate_predictor_loss: 0.0000e+00 - val_ws_predictor_loss: 1.7425 - 7s/epoch - 46ms/step\n",
      "Epoch 73/700\n",
      "\n",
      "Epoch 73: val_ws_predictor_loss did not improve from 1.71717\n",
      "151/151 - 7s - loss: 0.4341 - gate_predictor_loss: 0.0000e+00 - ws_predictor_loss: 0.2171 - val_loss: 3.4345 - val_gate_predictor_loss: 0.0000e+00 - val_ws_predictor_loss: 1.7172 - 7s/epoch - 46ms/step\n",
      "Epoch 74/700\n",
      "\n",
      "Epoch 74: val_ws_predictor_loss did not improve from 1.71717\n",
      "151/151 - 7s - loss: 0.4345 - gate_predictor_loss: 0.0000e+00 - ws_predictor_loss: 0.2173 - val_loss: 3.4913 - val_gate_predictor_loss: 0.0000e+00 - val_ws_predictor_loss: 1.7457 - 7s/epoch - 46ms/step\n",
      "Epoch 75/700\n",
      "\n",
      "Epoch 75: val_ws_predictor_loss did not improve from 1.71717\n",
      "151/151 - 7s - loss: 0.4342 - gate_predictor_loss: 0.0000e+00 - ws_predictor_loss: 0.2171 - val_loss: 3.4714 - val_gate_predictor_loss: 0.0000e+00 - val_ws_predictor_loss: 1.7357 - 7s/epoch - 46ms/step\n",
      "Epoch 76/700\n",
      "\n",
      "Epoch 76: val_ws_predictor_loss did not improve from 1.71717\n",
      "151/151 - 7s - loss: 0.4340 - gate_predictor_loss: 0.0000e+00 - ws_predictor_loss: 0.2170 - val_loss: 3.4632 - val_gate_predictor_loss: 0.0000e+00 - val_ws_predictor_loss: 1.7316 - 7s/epoch - 46ms/step\n",
      "Epoch 77/700\n",
      "\n",
      "Epoch 77: val_ws_predictor_loss did not improve from 1.71717\n",
      "151/151 - 7s - loss: 0.4343 - gate_predictor_loss: 0.0000e+00 - ws_predictor_loss: 0.2171 - val_loss: 3.4362 - val_gate_predictor_loss: 0.0000e+00 - val_ws_predictor_loss: 1.7181 - 7s/epoch - 46ms/step\n",
      "Epoch 78/700\n",
      "\n",
      "Epoch 78: val_ws_predictor_loss did not improve from 1.71717\n",
      "151/151 - 7s - loss: 0.4342 - gate_predictor_loss: 0.0000e+00 - ws_predictor_loss: 0.2171 - val_loss: 3.4455 - val_gate_predictor_loss: 0.0000e+00 - val_ws_predictor_loss: 1.7227 - 7s/epoch - 46ms/step\n",
      "Epoch 79/700\n",
      "\n",
      "Epoch 79: val_ws_predictor_loss did not improve from 1.71717\n",
      "151/151 - 7s - loss: 0.4339 - gate_predictor_loss: 0.0000e+00 - ws_predictor_loss: 0.2170 - val_loss: 3.4832 - val_gate_predictor_loss: 0.0000e+00 - val_ws_predictor_loss: 1.7416 - 7s/epoch - 46ms/step\n",
      "Epoch 80/700\n",
      "\n",
      "Epoch 80: val_ws_predictor_loss did not improve from 1.71717\n",
      "151/151 - 7s - loss: 0.4340 - gate_predictor_loss: 0.0000e+00 - ws_predictor_loss: 0.2170 - val_loss: 3.4634 - val_gate_predictor_loss: 0.0000e+00 - val_ws_predictor_loss: 1.7317 - 7s/epoch - 46ms/step\n",
      "Epoch 81/700\n",
      "\n",
      "Epoch 81: val_ws_predictor_loss did not improve from 1.71717\n",
      "151/151 - 7s - loss: 0.4339 - gate_predictor_loss: 0.0000e+00 - ws_predictor_loss: 0.2170 - val_loss: 3.4699 - val_gate_predictor_loss: 0.0000e+00 - val_ws_predictor_loss: 1.7349 - 7s/epoch - 46ms/step\n",
      "Epoch 82/700\n",
      "\n",
      "Epoch 82: val_ws_predictor_loss did not improve from 1.71717\n",
      "151/151 - 7s - loss: 0.4337 - gate_predictor_loss: 0.0000e+00 - ws_predictor_loss: 0.2169 - val_loss: 3.4832 - val_gate_predictor_loss: 0.0000e+00 - val_ws_predictor_loss: 1.7416 - 7s/epoch - 46ms/step\n",
      "Epoch 83/700\n",
      "\n",
      "Epoch 83: val_ws_predictor_loss did not improve from 1.71717\n",
      "151/151 - 7s - loss: 0.4339 - gate_predictor_loss: 0.0000e+00 - ws_predictor_loss: 0.2169 - val_loss: 3.4481 - val_gate_predictor_loss: 0.0000e+00 - val_ws_predictor_loss: 1.7240 - 7s/epoch - 46ms/step\n",
      "Epoch 84/700\n",
      "\n",
      "Epoch 84: val_ws_predictor_loss did not improve from 1.71717\n",
      "151/151 - 7s - loss: 0.4339 - gate_predictor_loss: 0.0000e+00 - ws_predictor_loss: 0.2170 - val_loss: 3.4779 - val_gate_predictor_loss: 0.0000e+00 - val_ws_predictor_loss: 1.7390 - 7s/epoch - 46ms/step\n",
      "Epoch 85/700\n",
      "\n",
      "Epoch 85: val_ws_predictor_loss did not improve from 1.71717\n",
      "151/151 - 7s - loss: 0.4300 - gate_predictor_loss: 0.0000e+00 - ws_predictor_loss: 0.2150 - val_loss: 3.4715 - val_gate_predictor_loss: 0.0000e+00 - val_ws_predictor_loss: 1.7358 - 7s/epoch - 47ms/step\n",
      "Epoch 86/700\n",
      "\n",
      "Epoch 86: val_ws_predictor_loss did not improve from 1.71717\n",
      "151/151 - 7s - loss: 0.4278 - gate_predictor_loss: 0.0000e+00 - ws_predictor_loss: 0.2139 - val_loss: 3.4680 - val_gate_predictor_loss: 0.0000e+00 - val_ws_predictor_loss: 1.7340 - 7s/epoch - 46ms/step\n",
      "Epoch 87/700\n",
      "\n",
      "Epoch 87: val_ws_predictor_loss did not improve from 1.71717\n",
      "151/151 - 7s - loss: 0.4275 - gate_predictor_loss: 0.0000e+00 - ws_predictor_loss: 0.2137 - val_loss: 3.4595 - val_gate_predictor_loss: 0.0000e+00 - val_ws_predictor_loss: 1.7297 - 7s/epoch - 46ms/step\n",
      "Epoch 88/700\n",
      "\n",
      "Epoch 88: val_ws_predictor_loss did not improve from 1.71717\n",
      "151/151 - 7s - loss: 0.4275 - gate_predictor_loss: 0.0000e+00 - ws_predictor_loss: 0.2137 - val_loss: 3.4561 - val_gate_predictor_loss: 0.0000e+00 - val_ws_predictor_loss: 1.7281 - 7s/epoch - 46ms/step\n",
      "Epoch 89/700\n",
      "\n",
      "Epoch 89: val_ws_predictor_loss did not improve from 1.71717\n",
      "151/151 - 7s - loss: 0.4275 - gate_predictor_loss: 0.0000e+00 - ws_predictor_loss: 0.2138 - val_loss: 3.4497 - val_gate_predictor_loss: 0.0000e+00 - val_ws_predictor_loss: 1.7249 - 7s/epoch - 46ms/step\n"
     ]
    },
    {
     "name": "stdout",
     "output_type": "stream",
     "text": [
      "Epoch 90/700\n",
      "\n",
      "Epoch 90: val_ws_predictor_loss did not improve from 1.71717\n",
      "151/151 - 7s - loss: 0.4275 - gate_predictor_loss: 0.0000e+00 - ws_predictor_loss: 0.2137 - val_loss: 3.4652 - val_gate_predictor_loss: 0.0000e+00 - val_ws_predictor_loss: 1.7326 - 7s/epoch - 46ms/step\n",
      "Epoch 91/700\n",
      "\n",
      "Epoch 91: val_ws_predictor_loss did not improve from 1.71717\n",
      "151/151 - 7s - loss: 0.4273 - gate_predictor_loss: 0.0000e+00 - ws_predictor_loss: 0.2137 - val_loss: 3.4629 - val_gate_predictor_loss: 0.0000e+00 - val_ws_predictor_loss: 1.7315 - 7s/epoch - 46ms/step\n",
      "Epoch 92/700\n",
      "\n",
      "Epoch 92: val_ws_predictor_loss did not improve from 1.71717\n",
      "151/151 - 7s - loss: 0.4272 - gate_predictor_loss: 0.0000e+00 - ws_predictor_loss: 0.2136 - val_loss: 3.4533 - val_gate_predictor_loss: 0.0000e+00 - val_ws_predictor_loss: 1.7267 - 7s/epoch - 46ms/step\n",
      "Epoch 93/700\n",
      "\n",
      "Epoch 93: val_ws_predictor_loss did not improve from 1.71717\n",
      "151/151 - 7s - loss: 0.4276 - gate_predictor_loss: 0.0000e+00 - ws_predictor_loss: 0.2138 - val_loss: 3.4461 - val_gate_predictor_loss: 0.0000e+00 - val_ws_predictor_loss: 1.7231 - 7s/epoch - 46ms/step\n",
      "Epoch 94/700\n",
      "\n",
      "Epoch 94: val_ws_predictor_loss did not improve from 1.71717\n",
      "151/151 - 7s - loss: 0.4271 - gate_predictor_loss: 0.0000e+00 - ws_predictor_loss: 0.2135 - val_loss: 3.4425 - val_gate_predictor_loss: 0.0000e+00 - val_ws_predictor_loss: 1.7213 - 7s/epoch - 46ms/step\n",
      "Epoch 95/700\n",
      "\n",
      "Epoch 95: val_ws_predictor_loss did not improve from 1.71717\n",
      "151/151 - 7s - loss: 0.4271 - gate_predictor_loss: 0.0000e+00 - ws_predictor_loss: 0.2136 - val_loss: 3.5002 - val_gate_predictor_loss: 0.0000e+00 - val_ws_predictor_loss: 1.7501 - 7s/epoch - 46ms/step\n",
      "Epoch 96/700\n",
      "\n",
      "Epoch 96: val_ws_predictor_loss did not improve from 1.71717\n",
      "151/151 - 7s - loss: 0.4271 - gate_predictor_loss: 0.0000e+00 - ws_predictor_loss: 0.2136 - val_loss: 3.4773 - val_gate_predictor_loss: 0.0000e+00 - val_ws_predictor_loss: 1.7387 - 7s/epoch - 46ms/step\n",
      "Epoch 97/700\n",
      "\n",
      "Epoch 97: val_ws_predictor_loss did not improve from 1.71717\n",
      "151/151 - 7s - loss: 0.4271 - gate_predictor_loss: 0.0000e+00 - ws_predictor_loss: 0.2135 - val_loss: 3.4599 - val_gate_predictor_loss: 0.0000e+00 - val_ws_predictor_loss: 1.7299 - 7s/epoch - 46ms/step\n",
      "Epoch 98/700\n",
      "\n",
      "Epoch 98: val_ws_predictor_loss did not improve from 1.71717\n",
      "151/151 - 7s - loss: 0.4272 - gate_predictor_loss: 0.0000e+00 - ws_predictor_loss: 0.2136 - val_loss: 3.4759 - val_gate_predictor_loss: 0.0000e+00 - val_ws_predictor_loss: 1.7380 - 7s/epoch - 46ms/step\n",
      "Epoch 99/700\n",
      "\n",
      "Epoch 99: val_ws_predictor_loss did not improve from 1.71717\n",
      "151/151 - 7s - loss: 0.4271 - gate_predictor_loss: 0.0000e+00 - ws_predictor_loss: 0.2136 - val_loss: 3.4375 - val_gate_predictor_loss: 0.0000e+00 - val_ws_predictor_loss: 1.7188 - 7s/epoch - 46ms/step\n",
      "Epoch 100/700\n",
      "\n",
      "Epoch 100: val_ws_predictor_loss did not improve from 1.71717\n",
      "151/151 - 7s - loss: 0.4271 - gate_predictor_loss: 0.0000e+00 - ws_predictor_loss: 0.2136 - val_loss: 3.4691 - val_gate_predictor_loss: 0.0000e+00 - val_ws_predictor_loss: 1.7345 - 7s/epoch - 46ms/step\n",
      "Epoch 101/700\n",
      "\n",
      "Epoch 101: val_ws_predictor_loss did not improve from 1.71717\n",
      "151/151 - 7s - loss: 0.4270 - gate_predictor_loss: 0.0000e+00 - ws_predictor_loss: 0.2135 - val_loss: 3.4530 - val_gate_predictor_loss: 0.0000e+00 - val_ws_predictor_loss: 1.7265 - 7s/epoch - 46ms/step\n",
      "Epoch 102/700\n",
      "\n",
      "Epoch 102: val_ws_predictor_loss did not improve from 1.71717\n",
      "151/151 - 7s - loss: 0.4270 - gate_predictor_loss: 0.0000e+00 - ws_predictor_loss: 0.2135 - val_loss: 3.4863 - val_gate_predictor_loss: 0.0000e+00 - val_ws_predictor_loss: 1.7431 - 7s/epoch - 46ms/step\n",
      "Epoch 103/700\n",
      "\n",
      "Epoch 103: val_ws_predictor_loss did not improve from 1.71717\n",
      "151/151 - 7s - loss: 0.4272 - gate_predictor_loss: 0.0000e+00 - ws_predictor_loss: 0.2136 - val_loss: 3.4519 - val_gate_predictor_loss: 0.0000e+00 - val_ws_predictor_loss: 1.7260 - 7s/epoch - 46ms/step\n",
      "Epoch 104/700\n",
      "\n",
      "Epoch 104: val_ws_predictor_loss did not improve from 1.71717\n",
      "151/151 - 7s - loss: 0.4268 - gate_predictor_loss: 0.0000e+00 - ws_predictor_loss: 0.2134 - val_loss: 3.4682 - val_gate_predictor_loss: 0.0000e+00 - val_ws_predictor_loss: 1.7341 - 7s/epoch - 47ms/step\n",
      "Epoch 105/700\n",
      "\n",
      "Epoch 105: val_ws_predictor_loss did not improve from 1.71717\n",
      "151/151 - 7s - loss: 0.4269 - gate_predictor_loss: 0.0000e+00 - ws_predictor_loss: 0.2134 - val_loss: 3.4672 - val_gate_predictor_loss: 0.0000e+00 - val_ws_predictor_loss: 1.7336 - 7s/epoch - 46ms/step\n",
      "Epoch 106/700\n",
      "\n",
      "Epoch 106: val_ws_predictor_loss did not improve from 1.71717\n",
      "151/151 - 7s - loss: 0.4267 - gate_predictor_loss: 0.0000e+00 - ws_predictor_loss: 0.2134 - val_loss: 3.4466 - val_gate_predictor_loss: 0.0000e+00 - val_ws_predictor_loss: 1.7233 - 7s/epoch - 46ms/step\n",
      "Epoch 107/700\n",
      "\n",
      "Epoch 107: val_ws_predictor_loss did not improve from 1.71717\n",
      "151/151 - 7s - loss: 0.4269 - gate_predictor_loss: 0.0000e+00 - ws_predictor_loss: 0.2135 - val_loss: 3.4463 - val_gate_predictor_loss: 0.0000e+00 - val_ws_predictor_loss: 1.7231 - 7s/epoch - 46ms/step\n",
      "Epoch 108/700\n",
      "\n",
      "Epoch 108: val_ws_predictor_loss did not improve from 1.71717\n",
      "151/151 - 7s - loss: 0.4267 - gate_predictor_loss: 0.0000e+00 - ws_predictor_loss: 0.2134 - val_loss: 3.4775 - val_gate_predictor_loss: 0.0000e+00 - val_ws_predictor_loss: 1.7387 - 7s/epoch - 47ms/step\n",
      "Epoch 109/700\n",
      "\n",
      "Epoch 109: val_ws_predictor_loss did not improve from 1.71717\n",
      "151/151 - 7s - loss: 0.4269 - gate_predictor_loss: 0.0000e+00 - ws_predictor_loss: 0.2135 - val_loss: 3.4607 - val_gate_predictor_loss: 0.0000e+00 - val_ws_predictor_loss: 1.7304 - 7s/epoch - 46ms/step\n",
      "Epoch 110/700\n",
      "\n",
      "Epoch 110: val_ws_predictor_loss did not improve from 1.71717\n",
      "151/151 - 7s - loss: 0.4268 - gate_predictor_loss: 0.0000e+00 - ws_predictor_loss: 0.2134 - val_loss: 3.4719 - val_gate_predictor_loss: 0.0000e+00 - val_ws_predictor_loss: 1.7360 - 7s/epoch - 46ms/step\n",
      "Epoch 111/700\n",
      "\n",
      "Epoch 111: val_ws_predictor_loss did not improve from 1.71717\n",
      "151/151 - 7s - loss: 0.4266 - gate_predictor_loss: 0.0000e+00 - ws_predictor_loss: 0.2133 - val_loss: 3.4554 - val_gate_predictor_loss: 0.0000e+00 - val_ws_predictor_loss: 1.7277 - 7s/epoch - 46ms/step\n",
      "Epoch 112/700\n",
      "\n",
      "Epoch 112: val_ws_predictor_loss did not improve from 1.71717\n",
      "151/151 - 7s - loss: 0.4270 - gate_predictor_loss: 0.0000e+00 - ws_predictor_loss: 0.2135 - val_loss: 3.4578 - val_gate_predictor_loss: 0.0000e+00 - val_ws_predictor_loss: 1.7289 - 7s/epoch - 47ms/step\n",
      "Epoch 113/700\n",
      "\n",
      "Epoch 113: val_ws_predictor_loss did not improve from 1.71717\n",
      "151/151 - 7s - loss: 0.4269 - gate_predictor_loss: 0.0000e+00 - ws_predictor_loss: 0.2134 - val_loss: 3.4662 - val_gate_predictor_loss: 0.0000e+00 - val_ws_predictor_loss: 1.7331 - 7s/epoch - 46ms/step\n",
      "Epoch 114/700\n",
      "\n",
      "Epoch 114: val_ws_predictor_loss did not improve from 1.71717\n",
      "151/151 - 7s - loss: 0.4267 - gate_predictor_loss: 0.0000e+00 - ws_predictor_loss: 0.2133 - val_loss: 3.4467 - val_gate_predictor_loss: 0.0000e+00 - val_ws_predictor_loss: 1.7233 - 7s/epoch - 47ms/step\n",
      "Epoch 115/700\n",
      "\n",
      "Epoch 115: val_ws_predictor_loss did not improve from 1.71717\n",
      "151/151 - 7s - loss: 0.4267 - gate_predictor_loss: 0.0000e+00 - ws_predictor_loss: 0.2133 - val_loss: 3.4609 - val_gate_predictor_loss: 0.0000e+00 - val_ws_predictor_loss: 1.7304 - 7s/epoch - 47ms/step\n",
      "Epoch 116/700\n",
      "\n",
      "Epoch 116: val_ws_predictor_loss did not improve from 1.71717\n",
      "151/151 - 7s - loss: 0.4265 - gate_predictor_loss: 0.0000e+00 - ws_predictor_loss: 0.2133 - val_loss: 3.4976 - val_gate_predictor_loss: 0.0000e+00 - val_ws_predictor_loss: 1.7488 - 7s/epoch - 46ms/step\n",
      "Epoch 117/700\n",
      "\n",
      "Epoch 117: val_ws_predictor_loss did not improve from 1.71717\n",
      "151/151 - 7s - loss: 0.4267 - gate_predictor_loss: 0.0000e+00 - ws_predictor_loss: 0.2133 - val_loss: 3.4658 - val_gate_predictor_loss: 0.0000e+00 - val_ws_predictor_loss: 1.7329 - 7s/epoch - 47ms/step\n",
      "Epoch 118/700\n",
      "\n",
      "Epoch 118: val_ws_predictor_loss did not improve from 1.71717\n",
      "151/151 - 7s - loss: 0.4268 - gate_predictor_loss: 0.0000e+00 - ws_predictor_loss: 0.2134 - val_loss: 3.4687 - val_gate_predictor_loss: 0.0000e+00 - val_ws_predictor_loss: 1.7344 - 7s/epoch - 46ms/step\n",
      "Epoch 119/700\n",
      "\n",
      "Epoch 119: val_ws_predictor_loss did not improve from 1.71717\n",
      "151/151 - 7s - loss: 0.4266 - gate_predictor_loss: 0.0000e+00 - ws_predictor_loss: 0.2133 - val_loss: 3.4707 - val_gate_predictor_loss: 0.0000e+00 - val_ws_predictor_loss: 1.7353 - 7s/epoch - 47ms/step\n"
     ]
    },
    {
     "name": "stdout",
     "output_type": "stream",
     "text": [
      "Epoch 120/700\n",
      "\n",
      "Epoch 120: val_ws_predictor_loss did not improve from 1.71717\n",
      "151/151 - 7s - loss: 0.4267 - gate_predictor_loss: 0.0000e+00 - ws_predictor_loss: 0.2133 - val_loss: 3.4860 - val_gate_predictor_loss: 0.0000e+00 - val_ws_predictor_loss: 1.7430 - 7s/epoch - 47ms/step\n",
      "Epoch 121/700\n",
      "\n",
      "Epoch 121: val_ws_predictor_loss did not improve from 1.71717\n",
      "151/151 - 7s - loss: 0.4265 - gate_predictor_loss: 0.0000e+00 - ws_predictor_loss: 0.2133 - val_loss: 3.4759 - val_gate_predictor_loss: 0.0000e+00 - val_ws_predictor_loss: 1.7380 - 7s/epoch - 47ms/step\n",
      "Epoch 122/700\n",
      "\n",
      "Epoch 122: val_ws_predictor_loss did not improve from 1.71717\n",
      "151/151 - 7s - loss: 0.4265 - gate_predictor_loss: 0.0000e+00 - ws_predictor_loss: 0.2132 - val_loss: 3.4681 - val_gate_predictor_loss: 0.0000e+00 - val_ws_predictor_loss: 1.7340 - 7s/epoch - 47ms/step\n",
      "Epoch 123/700\n",
      "\n",
      "Epoch 123: val_ws_predictor_loss did not improve from 1.71717\n",
      "151/151 - 7s - loss: 0.4265 - gate_predictor_loss: 0.0000e+00 - ws_predictor_loss: 0.2132 - val_loss: 3.4686 - val_gate_predictor_loss: 0.0000e+00 - val_ws_predictor_loss: 1.7343 - 7s/epoch - 47ms/step\n",
      "Epoch 124/700\n",
      "\n",
      "Epoch 124: val_ws_predictor_loss did not improve from 1.71717\n",
      "151/151 - 7s - loss: 0.4264 - gate_predictor_loss: 0.0000e+00 - ws_predictor_loss: 0.2132 - val_loss: 3.4668 - val_gate_predictor_loss: 0.0000e+00 - val_ws_predictor_loss: 1.7334 - 7s/epoch - 47ms/step\n",
      "Epoch 125/700\n",
      "\n",
      "Epoch 125: val_ws_predictor_loss did not improve from 1.71717\n",
      "151/151 - 7s - loss: 0.4264 - gate_predictor_loss: 0.0000e+00 - ws_predictor_loss: 0.2132 - val_loss: 3.4750 - val_gate_predictor_loss: 0.0000e+00 - val_ws_predictor_loss: 1.7375 - 7s/epoch - 47ms/step\n",
      "Epoch 126/700\n",
      "\n",
      "Epoch 126: val_ws_predictor_loss did not improve from 1.71717\n",
      "151/151 - 7s - loss: 0.4263 - gate_predictor_loss: 0.0000e+00 - ws_predictor_loss: 0.2132 - val_loss: 3.4685 - val_gate_predictor_loss: 0.0000e+00 - val_ws_predictor_loss: 1.7342 - 7s/epoch - 47ms/step\n",
      "Epoch 127/700\n",
      "\n",
      "Epoch 127: val_ws_predictor_loss did not improve from 1.71717\n",
      "151/151 - 7s - loss: 0.4264 - gate_predictor_loss: 0.0000e+00 - ws_predictor_loss: 0.2132 - val_loss: 3.4868 - val_gate_predictor_loss: 0.0000e+00 - val_ws_predictor_loss: 1.7434 - 7s/epoch - 47ms/step\n",
      "Epoch 128/700\n",
      "\n",
      "Epoch 128: val_ws_predictor_loss did not improve from 1.71717\n",
      "151/151 - 7s - loss: 0.4263 - gate_predictor_loss: 0.0000e+00 - ws_predictor_loss: 0.2132 - val_loss: 3.4769 - val_gate_predictor_loss: 0.0000e+00 - val_ws_predictor_loss: 1.7385 - 7s/epoch - 46ms/step\n",
      "Epoch 129/700\n",
      "\n",
      "Epoch 129: val_ws_predictor_loss did not improve from 1.71717\n",
      "151/151 - 7s - loss: 0.4264 - gate_predictor_loss: 0.0000e+00 - ws_predictor_loss: 0.2132 - val_loss: 3.4516 - val_gate_predictor_loss: 0.0000e+00 - val_ws_predictor_loss: 1.7258 - 7s/epoch - 47ms/step\n",
      "Epoch 130/700\n",
      "\n",
      "Epoch 130: val_ws_predictor_loss did not improve from 1.71717\n",
      "151/151 - 7s - loss: 0.4264 - gate_predictor_loss: 0.0000e+00 - ws_predictor_loss: 0.2132 - val_loss: 3.4620 - val_gate_predictor_loss: 0.0000e+00 - val_ws_predictor_loss: 1.7310 - 7s/epoch - 46ms/step\n",
      "Epoch 131/700\n",
      "\n",
      "Epoch 131: val_ws_predictor_loss did not improve from 1.71717\n",
      "151/151 - 7s - loss: 0.4265 - gate_predictor_loss: 0.0000e+00 - ws_predictor_loss: 0.2132 - val_loss: 3.4563 - val_gate_predictor_loss: 0.0000e+00 - val_ws_predictor_loss: 1.7282 - 7s/epoch - 47ms/step\n",
      "Epoch 132/700\n",
      "\n",
      "Epoch 132: val_ws_predictor_loss did not improve from 1.71717\n",
      "151/151 - 7s - loss: 0.4263 - gate_predictor_loss: 0.0000e+00 - ws_predictor_loss: 0.2132 - val_loss: 3.4786 - val_gate_predictor_loss: 0.0000e+00 - val_ws_predictor_loss: 1.7393 - 7s/epoch - 46ms/step\n",
      "Epoch 133/700\n",
      "\n",
      "Epoch 133: val_ws_predictor_loss did not improve from 1.71717\n",
      "151/151 - 7s - loss: 0.4264 - gate_predictor_loss: 0.0000e+00 - ws_predictor_loss: 0.2132 - val_loss: 3.4549 - val_gate_predictor_loss: 0.0000e+00 - val_ws_predictor_loss: 1.7275 - 7s/epoch - 46ms/step\n",
      "Epoch 134/700\n",
      "\n",
      "Epoch 134: val_ws_predictor_loss did not improve from 1.71717\n",
      "151/151 - 7s - loss: 0.4263 - gate_predictor_loss: 0.0000e+00 - ws_predictor_loss: 0.2131 - val_loss: 3.4716 - val_gate_predictor_loss: 0.0000e+00 - val_ws_predictor_loss: 1.7358 - 7s/epoch - 47ms/step\n",
      "Epoch 135/700\n",
      "\n",
      "Epoch 135: val_ws_predictor_loss did not improve from 1.71717\n",
      "151/151 - 7s - loss: 0.4263 - gate_predictor_loss: 0.0000e+00 - ws_predictor_loss: 0.2132 - val_loss: 3.4683 - val_gate_predictor_loss: 0.0000e+00 - val_ws_predictor_loss: 1.7342 - 7s/epoch - 47ms/step\n",
      "Epoch 136/700\n",
      "\n",
      "Epoch 136: val_ws_predictor_loss did not improve from 1.71717\n",
      "151/151 - 7s - loss: 0.4263 - gate_predictor_loss: 0.0000e+00 - ws_predictor_loss: 0.2132 - val_loss: 3.4564 - val_gate_predictor_loss: 0.0000e+00 - val_ws_predictor_loss: 1.7282 - 7s/epoch - 47ms/step\n",
      "Epoch 137/700\n",
      "\n",
      "Epoch 137: val_ws_predictor_loss did not improve from 1.71717\n",
      "151/151 - 7s - loss: 0.4264 - gate_predictor_loss: 0.0000e+00 - ws_predictor_loss: 0.2132 - val_loss: 3.4797 - val_gate_predictor_loss: 0.0000e+00 - val_ws_predictor_loss: 1.7399 - 7s/epoch - 47ms/step\n",
      "Epoch 138/700\n",
      "\n",
      "Epoch 138: val_ws_predictor_loss did not improve from 1.71717\n",
      "151/151 - 7s - loss: 0.4262 - gate_predictor_loss: 0.0000e+00 - ws_predictor_loss: 0.2131 - val_loss: 3.4709 - val_gate_predictor_loss: 0.0000e+00 - val_ws_predictor_loss: 1.7355 - 7s/epoch - 47ms/step\n",
      "Epoch 139/700\n",
      "\n",
      "Epoch 139: val_ws_predictor_loss did not improve from 1.71717\n",
      "151/151 - 7s - loss: 0.4263 - gate_predictor_loss: 0.0000e+00 - ws_predictor_loss: 0.2131 - val_loss: 3.4520 - val_gate_predictor_loss: 0.0000e+00 - val_ws_predictor_loss: 1.7260 - 7s/epoch - 46ms/step\n",
      "Epoch 140/700\n",
      "\n",
      "Epoch 140: val_ws_predictor_loss did not improve from 1.71717\n",
      "151/151 - 7s - loss: 0.4262 - gate_predictor_loss: 0.0000e+00 - ws_predictor_loss: 0.2131 - val_loss: 3.4829 - val_gate_predictor_loss: 0.0000e+00 - val_ws_predictor_loss: 1.7414 - 7s/epoch - 47ms/step\n",
      "Epoch 141/700\n",
      "\n",
      "Epoch 141: val_ws_predictor_loss did not improve from 1.71717\n",
      "151/151 - 7s - loss: 0.4262 - gate_predictor_loss: 0.0000e+00 - ws_predictor_loss: 0.2131 - val_loss: 3.4562 - val_gate_predictor_loss: 0.0000e+00 - val_ws_predictor_loss: 1.7281 - 7s/epoch - 47ms/step\n",
      "Epoch 142/700\n",
      "\n",
      "Epoch 142: val_ws_predictor_loss did not improve from 1.71717\n",
      "151/151 - 7s - loss: 0.4263 - gate_predictor_loss: 0.0000e+00 - ws_predictor_loss: 0.2131 - val_loss: 3.4565 - val_gate_predictor_loss: 0.0000e+00 - val_ws_predictor_loss: 1.7282 - 7s/epoch - 47ms/step\n",
      "Epoch 143/700\n",
      "\n",
      "Epoch 143: val_ws_predictor_loss did not improve from 1.71717\n",
      "151/151 - 7s - loss: 0.4262 - gate_predictor_loss: 0.0000e+00 - ws_predictor_loss: 0.2131 - val_loss: 3.4694 - val_gate_predictor_loss: 0.0000e+00 - val_ws_predictor_loss: 1.7347 - 7s/epoch - 47ms/step\n",
      "Epoch 144/700\n",
      "\n",
      "Epoch 144: val_ws_predictor_loss did not improve from 1.71717\n",
      "151/151 - 7s - loss: 0.4260 - gate_predictor_loss: 0.0000e+00 - ws_predictor_loss: 0.2130 - val_loss: 3.4558 - val_gate_predictor_loss: 0.0000e+00 - val_ws_predictor_loss: 1.7279 - 7s/epoch - 46ms/step\n",
      "Epoch 145/700\n",
      "\n",
      "Epoch 145: val_ws_predictor_loss did not improve from 1.71717\n",
      "151/151 - 7s - loss: 0.4261 - gate_predictor_loss: 0.0000e+00 - ws_predictor_loss: 0.2130 - val_loss: 3.4803 - val_gate_predictor_loss: 0.0000e+00 - val_ws_predictor_loss: 1.7401 - 7s/epoch - 47ms/step\n",
      "Epoch 146/700\n",
      "\n",
      "Epoch 146: val_ws_predictor_loss did not improve from 1.71717\n",
      "151/151 - 7s - loss: 0.4261 - gate_predictor_loss: 0.0000e+00 - ws_predictor_loss: 0.2131 - val_loss: 3.4756 - val_gate_predictor_loss: 0.0000e+00 - val_ws_predictor_loss: 1.7378 - 7s/epoch - 47ms/step\n",
      "Epoch 147/700\n",
      "\n",
      "Epoch 147: val_ws_predictor_loss did not improve from 1.71717\n",
      "151/151 - 7s - loss: 0.4259 - gate_predictor_loss: 0.0000e+00 - ws_predictor_loss: 0.2130 - val_loss: 3.4641 - val_gate_predictor_loss: 0.0000e+00 - val_ws_predictor_loss: 1.7320 - 7s/epoch - 47ms/step\n",
      "Epoch 148/700\n",
      "\n",
      "Epoch 148: val_ws_predictor_loss did not improve from 1.71717\n",
      "151/151 - 7s - loss: 0.4259 - gate_predictor_loss: 0.0000e+00 - ws_predictor_loss: 0.2130 - val_loss: 3.4603 - val_gate_predictor_loss: 0.0000e+00 - val_ws_predictor_loss: 1.7301 - 7s/epoch - 47ms/step\n",
      "Epoch 149/700\n",
      "\n",
      "Epoch 149: val_ws_predictor_loss did not improve from 1.71717\n",
      "151/151 - 7s - loss: 0.4260 - gate_predictor_loss: 0.0000e+00 - ws_predictor_loss: 0.2130 - val_loss: 3.4609 - val_gate_predictor_loss: 0.0000e+00 - val_ws_predictor_loss: 1.7304 - 7s/epoch - 46ms/step\n"
     ]
    },
    {
     "name": "stdout",
     "output_type": "stream",
     "text": [
      "Epoch 149: early stopping\n"
     ]
    },
    {
     "data": {
      "image/png": "[encoded data removed]",
      "text/plain": [
       "<Figure size 600x400 with 1 Axes>"
      ]
     },
     "metadata": {},
     "output_type": "display_data"
    }
   ],
   "source": [
    "lr_schedule = keras.optimizers.schedules.ExponentialDecay(initial_learning_rate=learning_rate, \n",
    "                                                          decay_steps=decay_steps,\n",
    "                                                          decay_rate=decay_rate)\n",
    "\n",
    "filda.compile(optimizer=Adam(learning_rate=lr_schedule),\n",
    "             loss=[gate_loss, water_level_threshold], \n",
    "             loss_weights=[0.0, 2.0]\n",
    "            )\n",
    "\n",
    "\n",
    "es = EarlyStopping(monitor='val_loss', mode='min', verbose=2, patience=100)\n",
    "mc = ModelCheckpoint('../saved_models/cnn_gtnp_1.h5'.format(n_hours, K),\n",
    "                     monitor='val_ws_predictor_loss',\n",
    "                     mode='min',\n",
    "                     verbose=2, \n",
    "                     custom_objects={'gate_loss':gate_loss, 'water_level_threshold':water_level_threshold}, \n",
    "                     save_best_only=True)\n",
    "\n",
    "\n",
    "history = filda.fit([train_X_mask, train_tws_reshape, train_adj_mat], [train_gate_pump_y, train_ws_y],\n",
    "                   validation_data=([val_X_mask, val_tws_reshape, val_adj_mat], [val_gate_pump_y, val_ws_y]),\n",
    "                   batch_size=BATCH, \n",
    "                   epochs=EPOCHS, \n",
    "                   verbose=2, \n",
    "                   callbacks=[es, mc],\n",
    "                   shuffle=True,\n",
    "                  )\n",
    "\n",
    "\n",
    "plt.rcParams[\"figure.figsize\"] = (6, 4)\n",
    "plt.plot(history.history['ws_predictor_loss'], label='train')\n",
    "plt.plot(history.history['val_ws_predictor_loss'], label='val')\n",
    "plt.xticks(fontsize=14)\n",
    "plt.yticks(fontsize=14)\n",
    "plt.xlabel('Epoch', fontsize=16)\n",
    "plt.ylabel('Loss', fontsize=16)\n",
    "plt.legend(fontsize=14)\n",
    "plt.title(\"Training loss vs Testing loss\", fontsize=18)\n",
    "# plt.savefig('graph/rnn_loss.png', dpi=300)\n",
    "plt.show()"
   ]
  },
  {
   "cell_type": "markdown",
   "id": "274afc23",
   "metadata": {},
   "source": [
    "### Performance"
   ]
  },
  {
   "cell_type": "code",
   "execution_count": 15,
   "id": "c761507a",
   "metadata": {
    "scrolled": true
   },
   "outputs": [
    {
     "name": "stdout",
     "output_type": "stream",
     "text": [
      "WARNING:tensorflow:Layer LSTM will not use cuDNN kernels since it doesn't meet the criteria. It will use a generic GPU kernel as fallback when running on GPU.\n"
     ]
    }
   ],
   "source": [
    "saved_model = load_model('../saved_models/cnn_gtnp_1.h5',\n",
    "                         custom_objects={'gate_loss':gate_loss, \n",
    "                                         'water_level_threshold':water_level_threshold,\n",
    "                                         'GCNConv': GCNConv\n",
    "                                        }\n",
    "                        )\n",
    "\n"
   ]
  },
  {
   "cell_type": "code",
   "execution_count": 16,
   "id": "437232bc",
   "metadata": {},
   "outputs": [
    {
     "name": "stderr",
     "output_type": "stream",
     "text": [
      "2023-08-12 17:17:11.751424: I tensorflow/compiler/xla/stream_executor/cuda/cuda_dnn.cc:432] Loaded cuDNN version 8600\n"
     ]
    },
    {
     "name": "stdout",
     "output_type": "stream",
     "text": [
      "603/603 [==============================] - 5s 5ms/step\n",
      "(19268, 24, 7)\n",
      "(19268, 96)\n",
      "Usded time: 5.840271363034844 seconds\n"
     ]
    }
   ],
   "source": [
    "start_time = time.perf_counter()\n",
    "\n",
    "gate_pump_pred, ws_pred = saved_model.predict([test_X_mask, test_tws_reshape, test_adj_mat])\n",
    "\n",
    "print(gate_pump_pred.shape)\n",
    "print(ws_pred.shape)\n",
    "\n",
    "end_time = time.perf_counter()\n",
    "used_time = end_time - start_time\n",
    "print(f\"Usded time: {used_time} seconds\")"
   ]
  },
  {
   "cell_type": "markdown",
   "id": "37fd7424",
   "metadata": {},
   "source": [
    "#### ws pred, gate pred"
   ]
  },
  {
   "cell_type": "code",
   "execution_count": 16,
   "id": "73063d86",
   "metadata": {},
   "outputs": [
    {
     "data": {
      "text/plain": [
       "(19268, 24, 4)"
      ]
     },
     "execution_count": 16,
     "metadata": {},
     "output_type": "execute_result"
    }
   ],
   "source": [
    "ws_pred_gate_pred_inv = ws_scaler.inverse_transform(ws_pred)\n",
    "ws_pred_gate_pred_inv = ws_pred_gate_pred_inv.reshape((-1, K, 4))\n",
    "ws_pred_gate_pred_inv.shape"
   ]
  },
  {
   "cell_type": "markdown",
   "id": "181b7677",
   "metadata": {},
   "source": [
    "#### ws true, gate true"
   ]
  },
  {
   "cell_type": "code",
   "execution_count": 17,
   "id": "fc62a508",
   "metadata": {},
   "outputs": [
    {
     "data": {
      "text/plain": [
       "(19268, 24, 4)"
      ]
     },
     "execution_count": 17,
     "metadata": {},
     "output_type": "execute_result"
    }
   ],
   "source": [
    "ws_true_gate_true = test_ws_y\n",
    "ws_true_gate_true_inv = ws_scaler.inverse_transform(ws_true_gate_true)\n",
    "ws_true_gate_true_inv = ws_true_gate_true_inv.reshape((-1, K, 4))\n",
    "ws_true_gate_true_inv.shape"
   ]
  },
  {
   "cell_type": "markdown",
   "id": "ffa81cf7",
   "metadata": {},
   "source": [
    "#### ws pred, gate true"
   ]
  },
  {
   "cell_type": "code",
   "execution_count": 18,
   "id": "bb27e44e",
   "metadata": {},
   "outputs": [
    {
     "name": "stdout",
     "output_type": "stream",
     "text": [
      "WARNING:tensorflow:Layer LSTM will not use cuDNN kernels since it doesn't meet the criteria. It will use a generic GPU kernel as fallback when running on GPU.\n",
      "603/603 [==============================] - 3s 3ms/step\n"
     ]
    },
    {
     "data": {
      "text/plain": [
       "(19268, 24, 4)"
      ]
     },
     "execution_count": 18,
     "metadata": {},
     "output_type": "execute_result"
    }
   ],
   "source": [
    "ws_predictor = load_model('../saved_models/WaLeF_gtn_p.h5', custom_objects={'GCNConv': GCNConv})\n",
    "\n",
    "ws_pred_gate_true = ws_predictor.predict([test_cov, test_tws_reshape, test_adj_mat])\n",
    "ws_pred_gate_true_inv = ws_scaler.inverse_transform(ws_pred_gate_true)\n",
    "ws_pred_gate_true_inv = ws_pred_gate_true_inv.reshape((-1, 24, 4))\n",
    "ws_pred_gate_true_inv.shape"
   ]
  },
  {
   "cell_type": "markdown",
   "id": "ad36fbd5",
   "metadata": {},
   "source": [
    "### Upper threshould"
   ]
  },
  {
   "cell_type": "code",
   "execution_count": 19,
   "id": "b4d5e765",
   "metadata": {},
   "outputs": [
    {
     "name": "stdout",
     "output_type": "stream",
     "text": [
      "S1, S25A, S25B, S26 time steps: 96, 96, 118, 117\n",
      "S1, S25A, S25B, S26 areas: 14.82, 15.22, 18, 20.13\n",
      "TOTAL time steps: 427; TOTAL areas: 68.61\n",
      "--------------------------------------------------\n",
      "S1, S25A, S25B, S26 time steps: 85, 85, 96, 108\n",
      "S1, S25A, S25B, S26 areas: 11.5466, 12.1773, 13, 17.2181\n",
      "TOTAL time steps: 374; TOTAL areas: 54.3063\n",
      "--------------------------------------------------\n",
      "S1, S25A, S25B, S26 time steps: 81, 87, 95, 109\n",
      "S1, S25A, S25B, S26 areas: 11.2268, 12.7764, 13, 17.3734\n",
      "TOTAL time steps: 372; TOTAL areas: 54.7249\n",
      "--------------------------------------------------\n"
     ]
    }
   ],
   "source": [
    "upper_threshold = 3.5\n",
    "t1 = 1    # t+1\n",
    "\n",
    "flood_threshold_t1(ws_true_gate_true_inv, t1, upper_threshold)\n",
    "flood_threshold_t1(ws_pred_gate_true_inv, t1, upper_threshold)\n",
    "flood_threshold_t1(ws_pred_gate_pred_inv, t1, upper_threshold)"
   ]
  },
  {
   "cell_type": "code",
   "execution_count": 20,
   "id": "d1fa8d07",
   "metadata": {},
   "outputs": [
    {
     "name": "stdout",
     "output_type": "stream",
     "text": [
      "S1, S25A, S25B, S26 time steps: 6, 5, 6, 6\n",
      "S1, S25A, S25B, S26 areas: 0.84, 0.72, 1, 1.0\n",
      "TOTAL time steps: 23; TOTAL areas: 3.62\n",
      "--------------------------------------------------\n",
      "S1, S25A, S25B, S26 time steps: 6, 6, 5, 5\n",
      "S1, S25A, S25B, S26 areas: 0.6148, 0.6425, 1, 0.8663\n",
      "TOTAL time steps: 22; TOTAL areas: 3.0018\n",
      "--------------------------------------------------\n",
      "S1, S25A, S25B, S26 time steps: 6, 5, 5, 5\n",
      "S1, S25A, S25B, S26 areas: 0.5925, 0.6136, 1, 0.8633\n",
      "TOTAL time steps: 21; TOTAL areas: 2.9284\n",
      "--------------------------------------------------\n"
     ]
    }
   ],
   "source": [
    "flood_threshold_t1(ws_true_gate_true_inv[7640-23:7680-23], t1, upper_threshold)\n",
    "flood_threshold_t1(ws_pred_gate_true_inv[7640-23:7680-23], t1, upper_threshold)\n",
    "flood_threshold_t1(ws_pred_gate_pred_inv[7640-23:7680-23], t1, upper_threshold)"
   ]
  },
  {
   "cell_type": "code",
   "execution_count": 21,
   "id": "cae8935e",
   "metadata": {},
   "outputs": [
    {
     "name": "stdout",
     "output_type": "stream",
     "text": [
      "time steps: 10248, areas: 1646.6399002075195\n",
      "time steps: 12130, areas: 2088.0380942821503\n",
      "time steps: 11653, areas: 1998.232922554016\n"
     ]
    }
   ],
   "source": [
    "flood_threshold(ws_true_gate_true_inv, upper_threshold)\n",
    "flood_threshold(ws_pred_gate_true_inv, upper_threshold)\n",
    "flood_threshold(ws_pred_gate_pred_inv, upper_threshold)"
   ]
  },
  {
   "cell_type": "markdown",
   "id": "5b5e11a6",
   "metadata": {},
   "source": [
    "### Lower threshold"
   ]
  },
  {
   "cell_type": "code",
   "execution_count": 22,
   "id": "f04529b2",
   "metadata": {},
   "outputs": [
    {
     "name": "stdout",
     "output_type": "stream",
     "text": [
      "S1, S25A, S25B, S26 time steps: 1346, 1341, 1229, 1250\n",
      "S1, S25A, S25B, S26 areas: -385.8, -383.38, -345.08, -350.84:\n",
      "TOTAL time steps: 5166; TOTAL areas: -1465.1\n",
      "--------------------------------------------------\n",
      "S1, S25A, S25B, S26 time steps: 1390, 1427, 1282, 1476\n",
      "S1, S25A, S25B, S26 areas: -398.849, -392.0414, -350.2885, -429.5386:\n",
      "TOTAL time steps: 5575; TOTAL areas: -1570.7176\n",
      "--------------------------------------------------\n",
      "S1, S25A, S25B, S26 time steps: 1163, 886, 827, 1093\n",
      "S1, S25A, S25B, S26 areas: -314.3741, -224.3194, -209.11, -296.911:\n",
      "TOTAL time steps: 3969; TOTAL areas: -1044.7145\n",
      "--------------------------------------------------\n"
     ]
    }
   ],
   "source": [
    "lower_threshold = 0\n",
    "t1 = 1\n",
    "\n",
    "drought_threshold_t1(ws_true_gate_true_inv, t1, lower_threshold)\n",
    "drought_threshold_t1(ws_pred_gate_true_inv, t1, lower_threshold)\n",
    "drought_threshold_t1(ws_pred_gate_pred_inv, t1, lower_threshold)"
   ]
  },
  {
   "cell_type": "code",
   "execution_count": 23,
   "id": "4ef4a0fd",
   "metadata": {},
   "outputs": [
    {
     "name": "stdout",
     "output_type": "stream",
     "text": [
      "time steps: 124148, areas: 35182.6098122485\n",
      "time steps: 127126, areas: 34960.07284716559\n",
      "time steps: 64915, areas: 15770.647003620836\n"
     ]
    }
   ],
   "source": [
    "lower_threshold = 0\n",
    "\n",
    "drought_threshold(ws_true_gate_true_inv, lower_threshold)\n",
    "drought_threshold(ws_pred_gate_true_inv, lower_threshold)\n",
    "drought_threshold(ws_pred_gate_pred_inv, lower_threshold)"
   ]
  },
  {
   "cell_type": "code",
   "execution_count": 24,
   "id": "68b11e85",
   "metadata": {},
   "outputs": [
    {
     "name": "stdout",
     "output_type": "stream",
     "text": [
      "time steps: 5166, areas: 1465.099992136471\n",
      "time steps: 5575, areas: 1570.7175889443388\n",
      "time steps: 3969, areas: 1044.7145004565537\n"
     ]
    }
   ],
   "source": [
    "ws_true_gate_true_inv_24 = ws_true_gate_true_inv[:, t1, :]\n",
    "ws_pred_gate_true_inv_24 = ws_pred_gate_true_inv[:, t1, :]\n",
    "ws_pred_gate_pred_inv_24 = ws_pred_gate_pred_inv[:, t1, :]\n",
    "\n",
    "ws_true_gate_true_inv_24 = ws_true_gate_true_inv_24.reshape((-1, 1, 4))\n",
    "ws_pred_gate_true_inv_24 = ws_pred_gate_true_inv_24.reshape((-1, 1, 4))\n",
    "ws_pred_gate_pred_inv_24 = ws_pred_gate_pred_inv_24.reshape((-1, 1, 4))\n",
    "\n",
    "drought_threshold(ws_true_gate_true_inv_24, lower_threshold)\n",
    "drought_threshold(ws_pred_gate_true_inv_24, lower_threshold)\n",
    "drought_threshold(ws_pred_gate_pred_inv_24, lower_threshold)"
   ]
  },
  {
   "cell_type": "code",
   "execution_count": null,
   "id": "e602f80d",
   "metadata": {},
   "outputs": [],
   "source": []
  },
  {
   "cell_type": "code",
   "execution_count": null,
   "id": "86247efa",
   "metadata": {},
   "outputs": [],
   "source": []
  },
  {
   "cell_type": "code",
   "execution_count": null,
   "id": "086c3bcd",
   "metadata": {},
   "outputs": [],
   "source": []
  }
 ],
 "metadata": {
  "kernelspec": {
   "display_name": "Python 3 (ipykernel)",
   "language": "python",
   "name": "python3"
  },
  "language_info": {
   "codemirror_mode": {
    "name": "ipython",
    "version": 3
   },
   "file_extension": ".py",
   "mimetype": "text/x-python",
   "name": "python",
   "nbconvert_exporter": "python",
   "pygments_lexer": "ipython3",
   "version": "3.8.16"
  }
 },
 "nbformat": 4,
 "nbformat_minor": 5
}
